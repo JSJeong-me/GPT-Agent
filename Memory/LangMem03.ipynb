{
  "nbformat": 4,
  "nbformat_minor": 0,
  "metadata": {
    "colab": {
      "provenance": [],
      "gpuType": "T4",
      "authorship_tag": "ABX9TyPwYJPBInFDJo+HGTNm33pZ",
      "include_colab_link": true
    },
    "kernelspec": {
      "name": "python3",
      "display_name": "Python 3"
    },
    "language_info": {
      "name": "python"
    },
    "accelerator": "GPU"
  },
  "cells": [
    {
      "cell_type": "markdown",
      "metadata": {
        "id": "view-in-github",
        "colab_type": "text"
      },
      "source": [
        "<a href=\"https://colab.research.google.com/github/JSJeong-me/GPT-Agent/blob/main/Memory/LangMem03.ipynb\" target=\"_parent\"><img src=\"https://colab.research.google.com/assets/colab-badge.svg\" alt=\"Open In Colab\"/></a>"
      ]
    },
    {
      "cell_type": "code",
      "execution_count": null,
      "metadata": {
        "id": "kHZnFkljAUqj"
      },
      "outputs": [],
      "source": [
        "!pip install -U langmem"
      ]
    },
    {
      "cell_type": "code",
      "source": [
        "from google.colab import userdata\n",
        "import os\n",
        "\n",
        "# 사용자에게 안전하게 API 키 입력 받기\n",
        "anthropic_api_key = userdata.get('ANTHROPIC_API_KEY')\n",
        "\n",
        "# 환경 변수로 설정\n",
        "os.environ[\"ANTHROPIC_API_KEY\"] = anthropic_api_key"
      ],
      "metadata": {
        "id": "k6_rXQVQCv1F"
      },
      "execution_count": 2,
      "outputs": []
    },
    {
      "cell_type": "code",
      "source": [
        "from google.colab import userdata\n",
        "import openai\n",
        "import os\n",
        "\n",
        "os.environ[\"OPENAI_API_KEY\"] = userdata.get('OPENAI_API_KEY')\n",
        "openai.api_key  = os.environ[\"OPENAI_API_KEY\"]"
      ],
      "metadata": {
        "id": "sp3gCBbnEpTa"
      },
      "execution_count": 4,
      "outputs": []
    },
    {
      "cell_type": "code",
      "source": [
        "from langchain.chat_models import init_chat_model\n",
        "from langgraph.func import entrypoint\n",
        "from langgraph.store.memory import InMemoryStore\n",
        "\n",
        "from langmem import ReflectionExecutor, create_memory_store_manager\n",
        "\n",
        "store = InMemoryStore(\n",
        "    index={\n",
        "        \"dims\": 1536,\n",
        "        \"embed\": \"openai:text-embedding-3-small\",\n",
        "    }\n",
        ")\n",
        "llm = init_chat_model(\"anthropic:claude-3-5-sonnet-latest\")\n",
        "\n",
        "# Create memory manager Runnable to extract memories from conversations\n",
        "memory_manager = create_memory_store_manager(\n",
        "    \"anthropic:claude-3-5-sonnet-latest\",\n",
        "    # Store memories in the \"memories\" namespace (aka directory)\n",
        "    namespace=(\"memories\",),\n",
        ")\n",
        "\n",
        "@entrypoint(store=store)  # Create a LangGraph workflow\n",
        "async def chat(message: str):\n",
        "    response = llm.invoke(message)\n",
        "\n",
        "    # memory_manager extracts memories from conversation history\n",
        "    # We'll provide it in OpenAI's message format\n",
        "    to_process = {\"messages\": [{\"role\": \"user\", \"content\": message}] + [response]}\n",
        "    await memory_manager.ainvoke(to_process)\n",
        "    return response.content\n",
        "# Run conversation as normal\n",
        "response = await chat.ainvoke(\n",
        "    \"I like dogs. My dog's name is Fido.\",\n",
        ")\n",
        "print(response)\n",
        "# Output: That's nice! Dogs make wonderful companions. Fido is a classic dog name. What kind of dog is Fido?"
      ],
      "metadata": {
        "colab": {
          "base_uri": "https://localhost:8080/"
        },
        "id": "Eln_ioQDIIIW",
        "outputId": "bcbb0a7e-234b-4f1b-bb0b-67fa1904d69b"
      },
      "execution_count": 5,
      "outputs": [
        {
          "output_type": "stream",
          "name": "stdout",
          "text": [
            "That's nice! Dogs make wonderful pets and companions. Fido is a classic dog name. What kind of dog is Fido?\n"
          ]
        }
      ]
    }
  ]
}