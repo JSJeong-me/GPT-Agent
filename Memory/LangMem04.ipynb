{
  "nbformat": 4,
  "nbformat_minor": 0,
  "metadata": {
    "colab": {
      "provenance": [],
      "gpuType": "T4",
      "authorship_tag": "ABX9TyPD+VCi2hv345cWe+YIg6pX",
      "include_colab_link": true
    },
    "kernelspec": {
      "name": "python3",
      "display_name": "Python 3"
    },
    "language_info": {
      "name": "python"
    },
    "accelerator": "GPU"
  },
  "cells": [
    {
      "cell_type": "markdown",
      "metadata": {
        "id": "view-in-github",
        "colab_type": "text"
      },
      "source": [
        "<a href=\"https://colab.research.google.com/github/JSJeong-me/GPT-Agent/blob/main/Memory/LangMem04.ipynb\" target=\"_parent\"><img src=\"https://colab.research.google.com/assets/colab-badge.svg\" alt=\"Open In Colab\"/></a>"
      ]
    },
    {
      "cell_type": "code",
      "execution_count": null,
      "metadata": {
        "id": "kHZnFkljAUqj"
      },
      "outputs": [],
      "source": [
        "!pip install -U langmem"
      ]
    },
    {
      "cell_type": "code",
      "source": [
        "from google.colab import userdata\n",
        "import os\n",
        "\n",
        "# 사용자에게 안전하게 API 키 입력 받기\n",
        "anthropic_api_key = userdata.get('ANTHROPIC_API_KEY')\n",
        "\n",
        "# 환경 변수로 설정\n",
        "os.environ[\"ANTHROPIC_API_KEY\"] = anthropic_api_key"
      ],
      "metadata": {
        "id": "k6_rXQVQCv1F"
      },
      "execution_count": 2,
      "outputs": []
    },
    {
      "cell_type": "code",
      "source": [
        "from google.colab import userdata\n",
        "import openai\n",
        "import os\n",
        "\n",
        "os.environ[\"OPENAI_API_KEY\"] = userdata.get('OPENAI_API_KEY')\n",
        "openai.api_key  = os.environ[\"OPENAI_API_KEY\"]"
      ],
      "metadata": {
        "id": "sp3gCBbnEpTa"
      },
      "execution_count": 3,
      "outputs": []
    },
    {
      "cell_type": "code",
      "source": [
        "from langgraph.store.memory import InMemoryStore\n",
        "from langgraph.prebuilt import create_react_agent\n",
        "from langmem import create_manage_memory_tool, create_search_memory_tool\n",
        "\n",
        "# Create tool with {user_id} template\n",
        "tool = create_manage_memory_tool(namespace=(\"memories\", \"{user_id}\"))\n",
        "# Agent just sees that it has memory. It doesn't know where it's stored.\n",
        "app = create_react_agent(\"anthropic:claude-3-5-sonnet-latest\", tools=[tool])\n",
        "# Use with different users\n",
        "app.invoke(\n",
        "    {\"messages\": [{\"role\": \"user\", \"content\": \"I like dolphins\"}]},\n",
        "    config={\"configurable\": {\"user_id\": \"user-123\"}}\n",
        ")  # Stores in (\"memories\", \"user-123\")"
      ],
      "metadata": {
        "id": "LcE8B_cPI5xL"
      },
      "execution_count": null,
      "outputs": []
    },
    {
      "cell_type": "code",
      "source": [
        "# Organization-level\n",
        "tool = create_manage_memory_tool(\n",
        "    namespace=(\"memories\", \"{org_id}\")\n",
        ")\n",
        "app = create_react_agent(\"anthropic:claude-3-5-sonnet-latest\", tools=[tool])\n",
        "app.invoke(\n",
        "    {\"messages\": [{\"role\": \"user\", \"content\": \"I'm questioning the new company health plan..\"}]},\n",
        "    config={\"configurable\": {\"org_id\": \"acme\"}}\n",
        ")\n",
        "\n",
        "# User within organization\n",
        "tool = create_manage_memory_tool(\n",
        "    namespace=(\"memories\", \"{org_id}\", \"{user_id}\")\n",
        ")\n",
        "# If you wanted to, you could let the agent\n",
        "# search over all users within an organization\n",
        "tool = create_search_memory_tool(\n",
        "    namespace=(\"memories\", \"{org_id}\")\n",
        ")\n",
        "app = create_react_agent(\"anthropic:claude-3-5-sonnet-latest\", tools=[tool])\n",
        "app.invoke(\n",
        "    {\"messages\": [{\"role\": \"user\", \"content\": \"What's our policy on dogs at work?\"}]},\n",
        "    config={\"configurable\": {\"org_id\": \"acme\", \"user_id\": \"alice\"}}\n",
        ")\n",
        "\n",
        "# You could also organize memories by type or category if you prefer\n",
        "tool = create_manage_memory_tool(\n",
        "    namespace=(\"agent_smith\", \"memories\", \"{user_id}\", \"preferences\")\n",
        ")\n",
        "app = create_react_agent(\"anthropic:claude-3-5-sonnet-latest\", tools=[tool])\n",
        "app.invoke(\n",
        "    {\"messages\": [{\"role\": \"user\", \"content\": \"I like dolphins\"}]},\n",
        "    config={\"configurable\": {\"user_id\": \"alice\"}}\n",
        ")"
      ],
      "metadata": {
        "id": "6Rq22xvyI-gl"
      },
      "execution_count": null,
      "outputs": []
    }
  ]
}