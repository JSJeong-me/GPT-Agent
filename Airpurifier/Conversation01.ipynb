{
  "nbformat": 4,
  "nbformat_minor": 0,
  "metadata": {
    "colab": {
      "provenance": [],
      "gpuType": "T4",
      "authorship_tag": "ABX9TyMooLMOQaUdu747QXTQia+M",
      "include_colab_link": true
    },
    "kernelspec": {
      "name": "python3",
      "display_name": "Python 3"
    },
    "language_info": {
      "name": "python"
    },
    "accelerator": "GPU"
  },
  "cells": [
    {
      "cell_type": "markdown",
      "metadata": {
        "id": "view-in-github",
        "colab_type": "text"
      },
      "source": [
        "<a href=\"https://colab.research.google.com/github/JSJeong-me/GPT-Agent/blob/main/Airpurifier/Conversation01.ipynb\" target=\"_parent\"><img src=\"https://colab.research.google.com/assets/colab-badge.svg\" alt=\"Open In Colab\"/></a>"
      ]
    },
    {
      "cell_type": "code",
      "source": [
        "!pip install openai"
      ],
      "metadata": {
        "id": "7wA62RQrWqLa"
      },
      "execution_count": null,
      "outputs": []
    },
    {
      "cell_type": "code",
      "source": [
        "from google.colab import userdata\n",
        "import openai\n",
        "import os\n",
        "\n",
        "os.environ[\"OPENAI_API_KEY\"] = userdata.get('OPENAI_API_KEY')\n",
        "openai.api_key  = os.environ[\"OPENAI_API_KEY\"]"
      ],
      "metadata": {
        "id": "TF0iLdShXTWF"
      },
      "execution_count": 2,
      "outputs": []
    },
    {
      "cell_type": "code",
      "execution_count": 3,
      "metadata": {
        "colab": {
          "base_uri": "https://localhost:8080/"
        },
        "id": "-U7aoiDrWlrb",
        "outputId": "6fd477a8-b615-454b-e317-fc84672a83ee"
      },
      "outputs": [
        {
          "output_type": "stream",
          "name": "stdout",
          "text": [
            "로봇 청소기: 청소를 시작하려고 합니다. 먼지가 날릴 수 있으니 공기 상태를 확인하고 준비해주세요.\n",
            "공기청정기: 알겠습니다! 공기 상태를 확인하기 위해 우선 공기 중의 미세먼지 농도와 대기 상태를 파악해야 합니다. 제가 감지한 결과를 바탕으로 수행할 수 있는 가장 효과적인 청소 방법을 사용하겠습니다. 미세먼지 농도와 대기 상태를 분석 중이니 잠시만 기다려 주세요.\n",
            "로봇 청소기: 네, 제가 미세먼지 농도와 대기 상태를 분석하고 효과적인 청소 방법을 제안해드리도록 하겠습니다. 분석 결과가 나오면 알려드리겠습니다. \n"
          ]
        }
      ],
      "source": [
        "from openai import OpenAI\n",
        "\n",
        "# Agent 정의\n",
        "class Agent:\n",
        "    def __init__(self, role, model=\"gpt-3.5-turbo\"):\n",
        "        self.client = OpenAI()\n",
        "        self.role = role\n",
        "        self.model = model\n",
        "\n",
        "    def talk(self, message):\n",
        "        response = self.client.chat.completions.create(\n",
        "            model=self.model,\n",
        "            messages=[\n",
        "                {\"role\": \"system\", \"content\": f\"You are a {self.role}.\"},\n",
        "                {\"role\": \"user\", \"content\": message},\n",
        "            ]\n",
        "        )\n",
        "        return response.choices[0].message.content\n",
        "\n",
        "# 로봇 청소기와 공기청정기 에이전트 생성\n",
        "robot_vacuum = Agent(role=\"로봇 청소기\")\n",
        "air_purifier = Agent(role=\"공기청정기\")\n",
        "\n",
        "# 로봇 청소기 청소 시작 시점에 대한 대화\n",
        "vacuum_message = \"청소를 시작하려고 합니다. 먼지가 날릴 수 있으니 공기 상태를 확인하고 준비해주세요.\"\n",
        "print(f\"로봇 청소기: {vacuum_message}\")\n",
        "\n",
        "# 공기청정기의 응답\n",
        "purifier_response = air_purifier.talk(vacuum_message)\n",
        "print(f\"공기청정기: {purifier_response}\")\n",
        "\n",
        "# 공기청정기의 응답에 대한 로봇 청소기의 반응\n",
        "robot_response = robot_vacuum.talk(purifier_response)\n",
        "print(f\"로봇 청소기: {robot_response}\")\n"
      ]
    }
  ]
}