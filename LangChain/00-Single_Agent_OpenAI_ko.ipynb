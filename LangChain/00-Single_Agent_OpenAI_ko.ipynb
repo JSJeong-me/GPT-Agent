{
  "cells": [
    {
      "cell_type": "markdown",
      "metadata": {
        "id": "view-in-github",
        "colab_type": "text"
      },
      "source": [
        "<a href=\"https://colab.research.google.com/github/JSJeong-me/GPT-Agent/blob/main/LangChain/00-Single_Agent_OpenAI_ko.ipynb\" target=\"_parent\"><img src=\"https://colab.research.google.com/assets/colab-badge.svg\" alt=\"Open In Colab\"/></a>"
      ]
    },
    {
      "cell_type": "markdown",
      "metadata": {
        "id": "_V090MQEiGiO"
      },
      "source": [
        "# LangChain의 Single Agent (OpenAI 버전 · Colab 실습)\n",
        "\n",
        "이 노트북은 LangChain의 `agents.ipynb` 튜토리얼을 **OpenAI 모델**로 실행하도록 구성한 한국어 실습 예제입니다.\n",
        "\n",
        "## 목표\n",
        "- OpenAI의 Chat 모델(`langchain-openai`)을 사용해 **ReAct 스타일 Single Agent**를 LangGraph 프리빌트로 구현\n",
        "- **Wikipedia**(무키)와 (선택) **Tavily** 검색 툴 연결\n",
        "- `MemorySaver`로 **세션 기억**을 유지하고, `.stream()`으로 단계별 실행 로그 관찰\n"
      ],
      "id": "_V090MQEiGiO"
    },
    {
      "cell_type": "code",
      "execution_count": null,
      "metadata": {
        "id": "Nj1sduQCiGiR"
      },
      "outputs": [],
      "source": [
        "# 0) 필수 라이브러리 설치\n",
        "!pip -q install langchain langgraph langchain-openai langchain-community wikipedia\n",
        "# (선택) Tavily 검색을 쓰려면 다음도 설치하세요\n",
        "!pip -q install langchain-tavily\n"
      ],
      "id": "Nj1sduQCiGiR"
    },
    {
      "cell_type": "code",
      "source": [
        "import langchain\n",
        "print(f\"LangChain version: {langchain.__version__}\")"
      ],
      "metadata": {
        "id": "UjR455vf1I2b"
      },
      "id": "UjR455vf1I2b",
      "execution_count": null,
      "outputs": []
    },
    {
      "cell_type": "markdown",
      "metadata": {
        "id": "QR-TNorQiGiS"
      },
      "source": [
        "## 1. 환경 변수 설정 (필수: OpenAI)\n",
        "- `OPENAI_API_KEY` 를 설정해야 실행됩니다.\n",
        "- (선택) `TAVILY_API_KEY` 를 설정하면 Tavily 검색 툴도 함께 사용합니다.\n"
      ],
      "id": "QR-TNorQiGiS"
    },
    {
      "cell_type": "code",
      "source": [
        "from google.colab import userdata\n",
        "import openai\n",
        "import os\n",
        "\n",
        "os.environ[\"OPENAI_API_KEY\"] = userdata.get('OPENAI_API_KEY')\n",
        "openai.api_key  = os.environ[\"OPENAI_API_KEY\"]"
      ],
      "metadata": {
        "id": "gGoakC8LiH3U"
      },
      "id": "gGoakC8LiH3U",
      "execution_count": null,
      "outputs": []
    },
    {
      "cell_type": "code",
      "source": [],
      "metadata": {
        "id": "0amfjvngiLqS"
      },
      "id": "0amfjvngiLqS",
      "execution_count": null,
      "outputs": []
    },
    {
      "cell_type": "code",
      "execution_count": null,
      "metadata": {
        "id": "r8fRhhyuiGiT"
      },
      "outputs": [],
      "source": [
        "# import os\n",
        "# # 여기에 키를 직접 입력하거나, Colab의 \"설정 > 환경변수\"에 추가하고 런타임을 재시작하세요.\n",
        "# # os.environ[\"OPENAI_API_KEY\"] = \"YOUR_OPENAI_API_KEY\"\n",
        "# # os.environ[\"TAVILY_API_KEY\"] = \"YOUR_TAVILY_API_KEY\"  # 선택\n",
        "\n",
        "# if not os.environ.get(\"OPENAI_API_KEY\"):\n",
        "#     raise RuntimeError(\"OPENAI_API_KEY 환경변수가 설정되어야 합니다.\")\n",
        "# print(\"✅ OPENAI_API_KEY 확인 완료\")\n"
      ],
      "id": "r8fRhhyuiGiT"
    },
    {
      "cell_type": "markdown",
      "metadata": {
        "id": "sZP3fpnviGiT"
      },
      "source": [
        "## 2. 모델 & 도구 준비 (OpenAI 전용)\n",
        "- OpenAI Chat 모델: `langchain-openai.ChatOpenAI`\n",
        "- 프리빌트 에이전트: `langgraph.prebuilt.create_react_agent`\n",
        "- 기본 도구: **Wikipedia** (키 불필요)\n",
        "- 선택 도구: **Tavily** (키 필요)\n"
      ],
      "id": "sZP3fpnviGiT"
    },
    {
      "cell_type": "code",
      "execution_count": null,
      "metadata": {
        "id": "cQc_k3vEiGiT"
      },
      "outputs": [],
      "source": [
        "from langgraph.prebuilt import create_react_agent\n",
        "from langgraph.checkpoint.memory import MemorySaver\n",
        "from langchain_openai import ChatOpenAI\n",
        "\n",
        "from langchain_community.utilities import WikipediaAPIWrapper\n",
        "from langchain_community.tools.wikipedia.tool import WikipediaQueryRun\n",
        "\n",
        "import uuid # Import the uuid module\n",
        "\n",
        "# OpenAI 모델 구성 (필요시 모델명 변경 가능: gpt-4o, gpt-4o-mini, gpt-4.1 등)\n",
        "model = ChatOpenAI(model=\"gpt-4o-mini\", temperature=0)\n",
        "\n",
        "# Wikipedia 툴 (무키)\n",
        "wiki = WikipediaQueryRun(api_wrapper=WikipediaAPIWrapper(lang=\"en\"))\n",
        "tools = [wiki]\n",
        "\n",
        "# (선택) Tavily 검색 툴\n",
        "try:\n",
        "    if os.environ.get(\"TAVILY_API_KEY\"):\n",
        "        from langchain_tavily import TavilySearch\n",
        "        tools.append(TavilySearch(max_results=2))\n",
        "except Exception as e:\n",
        "    print(\"Tavily 로드 생략:\", e)\n",
        "\n",
        "memory = MemorySaver()\n",
        "agent = create_react_agent(model, tools, checkpointer=memory)\n",
        "config = {\"configurable\": {\"thread_id\": \"openai-\" + uuid.uuid4().hex[:8]}}\n",
        "config"
      ],
      "id": "cQc_k3vEiGiT"
    },
    {
      "cell_type": "markdown",
      "metadata": {
        "id": "HYBKBUvEiGiU"
      },
      "source": [
        "## 3. 스트리밍 실행 (ReAct 프리빌트)\n",
        "아래 예시는 한국어 질의로 실행하며, 필요 시 도구 호출(위키/탐색)을 자동으로 수행합니다.\n",
        "\n",
        "> 팁: 스트리밍 중 출력은 에이전트의 추론/도구 호출 단계별 로그를 포함할 수 있습니다."
      ],
      "id": "HYBKBUvEiGiU"
    },
    {
      "cell_type": "code",
      "execution_count": null,
      "metadata": {
        "id": "1jEBGOCBiGiU"
      },
      "outputs": [],
      "source": [
        "prompt = \"샌프란시스코의 대표 관광지 3곳을 알려줘. 최신 정보가 필요하면 검색도 활용하고, 한국어로 답변해줘.\"\n",
        "\n",
        "for step in agent.stream({\"messages\": [{\"role\": \"user\", \"content\": prompt}]}, config, stream_mode=\"values\"):\n",
        "    msg = step[\"messages\"][-1]\n",
        "    content = msg.content if isinstance(msg.content, str) else str(msg.content)\n",
        "    print(content)\n"
      ],
      "id": "1jEBGOCBiGiU"
    },
    {
      "cell_type": "markdown",
      "metadata": {
        "id": "BwUWVzFDiGiU"
      },
      "source": [
        "## 4. 세션 기억 확인 (thread_id 고정)\n",
        "동일한 `config`(thread_id)를 유지하면 앞선 대화 맥락이 이어집니다."
      ],
      "id": "BwUWVzFDiGiU"
    },
    {
      "cell_type": "code",
      "execution_count": null,
      "metadata": {
        "id": "7vjkO9qCiGiU"
      },
      "outputs": [],
      "source": [
        "follow_up = \"가족 여행 기준으로 위 3곳 중 2곳만 추천하고, 추천 이유를 간단히 설명해줘.\"\n",
        "result = agent.invoke({\"messages\": [{\"role\": \"user\", \"content\": follow_up}]}, config)\n",
        "print(result[\"messages\"][-1].content)\n"
      ],
      "id": "7vjkO9qCiGiU"
    },
    {
      "cell_type": "markdown",
      "metadata": {
        "id": "LI-HRyXjiGiV"
      },
      "source": [
        "## 5. 실습 과제\n",
        "1) **커스텀 툴 추가**: 간단한 계산기 함수를 파이썬으로 만들고 LangChain 툴로 래핑하여 에이전트에 등록하세요.\n",
        "\n",
        "2) **프롬프트 가드레일**: \"위키 결과가 부족하면 Tavily 사용 → 그래도 부족하면 사과 후 중단\" 규칙을 시스템 프롬프트에 추가해보세요.\n",
        "\n",
        "3) **한국어 검색 품질 개선**: `WikipediaAPIWrapper(lang=\"ko\")`로 교체해보고 결과를 비교하세요.\n",
        "\n",
        "4) **LangSmith 트레이싱**(선택): 프롬프트/툴 호출 경로를 시각화해보세요.\n"
      ],
      "id": "LI-HRyXjiGiV"
    },
    {
      "cell_type": "markdown",
      "metadata": {
        "id": "7k0y5W5FiGiV"
      },
      "source": [
        "## 6. (예시) 커스텀 툴 등록 스니펫\n",
        "아래 예시를 실행하고 `tools.append(calc_tool)` 후, 에이전트를 재생성하여 활용하세요."
      ],
      "id": "7k0y5W5FiGiV"
    },
    {
      "cell_type": "code",
      "execution_count": null,
      "metadata": {
        "id": "SvHq5-uAiGiV"
      },
      "outputs": [],
      "source": [
        "from langchain.tools import tool\n",
        "\n",
        "@tool\n",
        "def add_two_numbers(a: int, b: int) -> int:\n",
        "    \"\"\"두 정수의 합을 반환합니다.\"\"\"\n",
        "    return a + b\n",
        "\n",
        "calc_tool = add_two_numbers\n",
        "print(calc_tool.name, \":\", calc_tool.description)\n"
      ],
      "id": "SvHq5-uAiGiV"
    },
    {
      "cell_type": "markdown",
      "metadata": {
        "id": "RCk7ALdIiGiV"
      },
      "source": [
        "## 참고\n",
        "- OpenAI Chat 모델: `langchain-openai.ChatOpenAI`\n",
        "- 프리빌트 ReAct 에이전트: `langgraph.prebuilt.create_react_agent`\n",
        "- Wikipedia 도구: `langchain_community.tools.wikipedia`\n",
        "- Tavily 검색: `langchain_tavily.TavilySearch`\n",
        "- MemorySaver: `langgraph.checkpoint.memory.MemorySaver`\n"
      ],
      "id": "RCk7ALdIiGiV"
    }
  ],
  "metadata": {
    "kernelspec": {
      "display_name": "Python 3",
      "language": "python",
      "name": "python3"
    },
    "language_info": {
      "name": "python",
      "version": "3.10"
    },
    "colab": {
      "provenance": [],
      "include_colab_link": true
    }
  },
  "nbformat": 4,
  "nbformat_minor": 5
}