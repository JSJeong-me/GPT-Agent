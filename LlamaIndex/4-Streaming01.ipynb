{
  "nbformat": 4,
  "nbformat_minor": 0,
  "metadata": {
    "colab": {
      "provenance": [],
      "gpuType": "T4",
      "authorship_tag": "ABX9TyPheBJnF4Ngng/ar2rg+/EW",
      "include_colab_link": true
    },
    "kernelspec": {
      "name": "python3",
      "display_name": "Python 3"
    },
    "language_info": {
      "name": "python"
    },
    "accelerator": "GPU"
  },
  "cells": [
    {
      "cell_type": "markdown",
      "metadata": {
        "id": "view-in-github",
        "colab_type": "text"
      },
      "source": [
        "<a href=\"https://colab.research.google.com/github/JSJeong-me/GPT-Agent/blob/main/LlamaIndex/4-Streaming01.ipynb\" target=\"_parent\"><img src=\"https://colab.research.google.com/assets/colab-badge.svg\" alt=\"Open In Colab\"/></a>"
      ]
    },
    {
      "cell_type": "code",
      "execution_count": null,
      "metadata": {
        "id": "YZbpWMjEU9G6"
      },
      "outputs": [],
      "source": [
        "# 패키지 설치\n",
        "!pip install llama-index-core llama-index-utils-workflow llama-index-llms-openai llama-parse llama-index-embeddings-openai llama-index-readers-whisper llama-index-tools-yahoo-finance\n",
        "!pip install llama-index-tools-tavily-research"
      ]
    },
    {
      "cell_type": "code",
      "source": [
        "# 패키지 Import\n",
        "from llama_index.llms.openai import OpenAI\n",
        "from llama_index.core.agent.workflow import AgentWorkflow\n",
        "from llama_index.tools.tavily_research import TavilyToolSpec\n",
        "from llama_index.core.agent.workflow import (\n",
        "    AgentInput,\n",
        "    AgentOutput,\n",
        "    ToolCallResult,\n",
        "    AgentStream,\n",
        ")\n",
        "import os\n",
        "import asyncio\n",
        "\n",
        "# # 환경변수 설정 (API 키를 여기에 직접 입력해주세요)\n",
        "# os.environ[\"OPENAI_API_KEY\"] = \"여기에_OPENAI_API_KEY_입력\"\n",
        "# os.environ[\"TAVILY_API_KEY\"] = \"여기에_TAVILY_API_KEY_입력\""
      ],
      "metadata": {
        "id": "KZDym2JRU_k2"
      },
      "execution_count": 4,
      "outputs": []
    },
    {
      "cell_type": "code",
      "source": [
        "from google.colab import userdata\n",
        "import openai\n",
        "import os\n",
        "\n",
        "os.environ[\"OPENAI_API_KEY\"] = userdata.get('OPENAI_API_KEY')\n",
        "openai.api_key  = os.environ[\"OPENAI_API_KEY\"]\n",
        "os.environ[\"TAVILY_API_KEY\"] = userdata.get('TAVILY_API_KEY')"
      ],
      "metadata": {
        "id": "b5Oha1ulVEsz"
      },
      "execution_count": 5,
      "outputs": []
    },
    {
      "cell_type": "code",
      "source": [
        "# 언어 모델 설정\n",
        "llm = OpenAI(model=\"gpt-4o-mini\")\n",
        "\n",
        "# Tavily 검색 도구 설정\n",
        "tavily_tool = TavilyToolSpec(api_key=os.getenv(\"TAVILY_API_KEY\"))\n",
        "\n",
        "# 워크플로우 에이전트 설정\n",
        "workflow = AgentWorkflow.from_tools_or_functions(\n",
        "    tavily_tool.to_tool_list(),\n",
        "    llm=llm,\n",
        "    system_prompt=\"You're a helpful assistant that can search the web for information.\"\n",
        ")"
      ],
      "metadata": {
        "id": "-pDsmfcnVDpk"
      },
      "execution_count": 6,
      "outputs": []
    },
    {
      "cell_type": "code",
      "source": [
        "# 비동기 실행 함수\n",
        "async def main():\n",
        "    handler = workflow.run(user_msg=\"What's the weather like in San Francisco?\")\n",
        "\n",
        "    # 스트리밍 결과 처리\n",
        "    async for event in handler.stream_events():\n",
        "        if isinstance(event, AgentStream):\n",
        "            print(event.delta, end=\"\", flush=True)\n",
        "        elif isinstance(event, AgentInput):\n",
        "            print(\"Agent input:\", event.input)\n",
        "            print(\"Agent name:\", event.current_agent_name)\n",
        "        elif isinstance(event, AgentOutput):\n",
        "            print(\"\\nAgent output:\", event.response)\n",
        "            print(\"Tool calls made:\", event.tool_calls)\n",
        "            print(\"Raw LLM response:\", event.raw)\n",
        "        elif isinstance(event, ToolCallResult):\n",
        "            print(\"\\nTool called:\", event.tool_name)\n",
        "            print(\"Arguments to the tool:\", event.tool_kwargs)\n",
        "            print(\"Tool output:\", event.tool_output)\n",
        "\n",
        "    # 최종 결과 출력\n",
        "    final_result = await handler\n",
        "    print(\"\\nFinal result:\", final_result)"
      ],
      "metadata": {
        "id": "3Jef4FKFVQIv"
      },
      "execution_count": 7,
      "outputs": []
    },
    {
      "cell_type": "code",
      "source": [
        "import nest_asyncio\n",
        "\n",
        "# Colab 환경에서 비동기 함수 실행\n",
        "nest_asyncio.apply()\n",
        "asyncio.run(main())"
      ],
      "metadata": {
        "colab": {
          "base_uri": "https://localhost:8080/"
        },
        "id": "lAOdvf3GV1Ii",
        "outputId": "c8f64fcd-19e2-4874-809d-09cb6988adf2"
      },
      "execution_count": 9,
      "outputs": [
        {
          "output_type": "stream",
          "name": "stdout",
          "text": [
            "Agent input: [ChatMessage(role=<MessageRole.SYSTEM: 'system'>, additional_kwargs={}, blocks=[TextBlock(block_type='text', text=\"You're a helpful assistant that can search the web for information.\")]), ChatMessage(role=<MessageRole.USER: 'user'>, additional_kwargs={}, blocks=[TextBlock(block_type='text', text=\"What's the weather like in San Francisco?\")])]\n",
            "Agent name: Agent\n",
            "\n",
            "Agent output: assistant: None\n",
            "Tool calls made: [ToolSelection(tool_id='call_3o6X795hj31in24uYNzCtNiZ', tool_name='search', tool_kwargs={'query': 'current weather in San Francisco'})]\n",
            "Raw LLM response: {'id': 'chatcmpl-B8Lhgq4yCdQucxD56sEFzBLIp6veK', 'choices': [{'delta': {'content': None, 'function_call': None, 'refusal': None, 'role': None, 'tool_calls': None}, 'finish_reason': 'tool_calls', 'index': 0, 'logprobs': None}], 'created': 1741329752, 'model': 'gpt-4o-mini-2024-07-18', 'object': 'chat.completion.chunk', 'service_tier': 'default', 'system_fingerprint': 'fp_06737a9306', 'usage': None}\n",
            "\n",
            "Tool called: search\n",
            "Arguments to the tool: {'query': 'current weather in San Francisco'}\n",
            "Tool output: [Document(id_='bb4a64cd-727e-479f-9f7f-79c32d921877', embedding=None, metadata={'url': 'https://www.weatherapi.com/'}, excluded_embed_metadata_keys=[], excluded_llm_metadata_keys=[], relationships={}, metadata_template='{key}: {value}', metadata_separator='\\n', text_resource=MediaResource(embeddings=None, data=None, text=\"{'location': {'name': 'San Francisco', 'region': 'California', 'country': 'United States of America', 'lat': 37.775, 'lon': -122.4183, 'tz_id': 'America/Los_Angeles', 'localtime_epoch': 1741328737, 'localtime': '2025-03-06 22:25'}, 'current': {'last_updated_epoch': 1741328100, 'last_updated': '2025-03-06 22:15', 'temp_c': 8.3, 'temp_f': 46.9, 'is_day': 0, 'condition': {'text': 'Partly cloudy', 'icon': '//cdn.weatherapi.com/weather/64x64/night/116.png', 'code': 1003}, 'wind_mph': 7.6, 'wind_kph': 12.2, 'wind_degree': 291, 'wind_dir': 'WNW', 'pressure_mb': 1016.0, 'pressure_in': 30.0, 'precip_mm': 0.0, 'precip_in': 0.0, 'humidity': 86, 'cloud': 25, 'feelslike_c': 6.2, 'feelslike_f': 43.2, 'windchill_c': 10.0, 'windchill_f': 50.0, 'heatindex_c': 10.7, 'heatindex_f': 51.2, 'dewpoint_c': 8.3, 'dewpoint_f': 46.9, 'vis_km': 16.0, 'vis_miles': 9.0, 'uv': 0.0, 'gust_mph': 12.1, 'gust_kph': 19.5}}\", path=None, url=None, mimetype=None), image_resource=None, audio_resource=None, video_resource=None, text_template='{metadata_str}\\n\\n{content}'), Document(id_='15f9ce46-721e-4e0a-bd62-d4f88c042820', embedding=None, metadata={'url': 'https://weather.com/weather/today/l/USCA0987:1:US'}, excluded_embed_metadata_keys=[], excluded_llm_metadata_keys=[], relationships={}, metadata_template='{key}: {value}', metadata_separator='\\n', text_resource=MediaResource(embeddings=None, data=None, text=\"Weather Forecast and Conditions for San Francisco, CA - The Weather Channel | Weather.com Weather Forecasts Today's Forecast for San Francisco, CA Weather Today in San Francisco, CA Northeast Snow Totals Likely To Surpass Past 2 Winters Combined ### Now 49° Chance of Rain2% ### 10 pm 48° Chance of Rain2% ### 11 pm 47° Chance of Rain2% ### 12 am 46° Chance of Rain2% Breathe Easier This Winter By Improving Indoor Air Quality Thank You Blithedale Canyon / Middle Ridge Neighbor 0d ago 9reactions6commentsMoreCoast cafe OPEN after our Winter Break!We are now back from our vacations and OPEN for our Winter Hours. Weather Data APIs We may use or share your data with our data vendors.\", path=None, url=None, mimetype=None), image_resource=None, audio_resource=None, video_resource=None, text_template='{metadata_str}\\n\\n{content}'), Document(id_='b2fe6751-afa9-4a5d-9be5-1b97cdbf29bf', embedding=None, metadata={'url': 'https://weather.com/weather/today/l/San+Francisco+CA+USCA0987:1:US'}, excluded_embed_metadata_keys=[], excluded_llm_metadata_keys=[], relationships={}, metadata_template='{key}: {value}', metadata_separator='\\n', text_resource=MediaResource(embeddings=None, data=None, text='Weather Forecast and Conditions for San Francisco, CA - The Weather Channel | Weather.com Weather Forecasts ### 2 pm 56° Chance of Rain2% ### 3 pm 57° Chance of Rain2% ### 4 pm 56° Chance of Rain2% ### 5 pm 55° Chance of Rain2% Blithedale Canyon / Middle Ridge Neighbor 2d ago 6reactions10commentsMoreGirl Scout Cookie sale: corner of Whole Foods on Miller / Evergreen.575 Ethel Ave. 2/15 Sat.10:30am- 12noon ~ come on out and get some sweet treats for yourself or gift / donate a box of cookies! ### Seasonal Allergies and Pollen Count Forecast Tree pollen is moderate in your area### Cold & Flu Forecast Flu risk is high in your area Weather Data APIs', path=None, url=None, mimetype=None), image_resource=None, audio_resource=None, video_resource=None, text_template='{metadata_str}\\n\\n{content}'), Document(id_='3df62e71-b763-49ad-b5c2-3af6d3ab53bb', embedding=None, metadata={'url': 'https://www.wunderground.com/hourly/us/ca/san-francisco'}, excluded_embed_metadata_keys=[], excluded_llm_metadata_keys=[], relationships={}, metadata_template='{key}: {value}', metadata_separator='\\n', text_resource=MediaResource(embeddings=None, data=None, text='San Francisco, CA Hourly Weather Forecast | Weather Underground San Francisco, CA Hourly Weather Forecast_star_rate__home_ 49\\xa0°F South of Market Station|Report Report Station You are about to report this weather station for bad data. Personal Weather Station Nearby Weather Stations Length of Visible Light Nearby Weather Stations Weather Data APIs The time period when the sun is no more than 6 degrees below the horizon at either sunrise or sunset. The horizon should be clearly defined and the brightest stars should be visible under good atmospheric conditions (i.e. no moonlight, or other lights). The sun does not contribute to the illumination of the sky before this time in the morning, or after this time in the evening.', path=None, url=None, mimetype=None), image_resource=None, audio_resource=None, video_resource=None, text_template='{metadata_str}\\n\\n{content}'), Document(id_='51723438-e7d9-45bf-b4d7-4c2abd30eaea', embedding=None, metadata={'url': 'https://www.accuweather.com/en/us/san-francisco/94103/weather-forecast/347629'}, excluded_embed_metadata_keys=[], excluded_llm_metadata_keys=[], relationships={}, metadata_template='{key}: {value}', metadata_separator='\\n', text_resource=MediaResource(embeddings=None, data=None, text='San Francisco, CA Weather Forecast | AccuWeather San Francisco, CA Weather San Francisco Weather Radar & Maps Live Blog Rare snow on Louisiana Cypress tree at sunset LATEST ENTRY Cypress tree with rare snow combines with brilliant sunset 1 day ago Weather News Biggest quake still to come on Greek tourist island, seismologist says 13 hours ago Health CDC reports gastrointestinal illness outbreak on cruise ship 12 hours ago Weather News Radar evidence suggests Black Hawk in DC disaster was flying too high 1 day ago Health 100,000 eggs were stolen from a trailer in Pennsylvania, police say 1 day ago  AccuWeather Ready Business Health Hurricane Leisure and Recreation Severe Weather Space and Astronomy Sports Travel Weather News Winter Center AccuWeather Ready Business Health Hurricane Leisure and Recreation Severe Weather Space and Astronomy Sports Travel Weather News Winter Center', path=None, url=None, mimetype=None), image_resource=None, audio_resource=None, video_resource=None, text_template='{metadata_str}\\n\\n{content}'), Document(id_='586d3e08-c9be-44f7-881d-254a51cf9952', embedding=None, metadata={'url': 'https://www.accuweather.com/en/us/san-francisco/94103/current-weather/347629'}, excluded_embed_metadata_keys=[], excluded_llm_metadata_keys=[], relationships={}, metadata_template='{key}: {value}', metadata_separator='\\n', text_resource=MediaResource(embeddings=None, data=None, text='San Francisco, CA Current Weather | AccuWeather San Francisco, CA Weather ### Hurricane Tracker### Severe Weather### Radar & Maps### News### Video### Winter Center For Business For Partners For Advertising AccuWeather APIs AccuWeather Connect RealFeel® and RealFeel Shade™ Personal Weather Stations AccuWeather Ready Business Health Hurricane Leisure and Recreation Severe Weather Space and Astronomy Sports Travel Weather News Winter Center For Business For Partners For Advertising AccuWeather APIs AccuWeather Connect RealFeel® and RealFeel Shade™ Personal Weather Stations AccuWeather Ready Business Health Hurricane Leisure and Recreation Severe Weather Space and Astronomy Sports Travel Weather News Winter Center', path=None, url=None, mimetype=None), image_resource=None, audio_resource=None, video_resource=None, text_template='{metadata_str}\\n\\n{content}')]\n",
            "Agent input: [ChatMessage(role=<MessageRole.SYSTEM: 'system'>, additional_kwargs={}, blocks=[TextBlock(block_type='text', text=\"You're a helpful assistant that can search the web for information.\")]), ChatMessage(role=<MessageRole.USER: 'user'>, additional_kwargs={}, blocks=[TextBlock(block_type='text', text=\"What's the weather like in San Francisco?\")]), ChatMessage(role=<MessageRole.ASSISTANT: 'assistant'>, additional_kwargs={'tool_calls': [ChoiceDeltaToolCall(index=0, id='call_3o6X795hj31in24uYNzCtNiZ', function=ChoiceDeltaToolCallFunction(arguments='{\"query\":\"current weather in San Francisco\"}', name='search'), type='function')]}, blocks=[TextBlock(block_type='text', text='')]), ChatMessage(role=<MessageRole.TOOL: 'tool'>, additional_kwargs={'tool_call_id': 'call_3o6X795hj31in24uYNzCtNiZ'}, blocks=[TextBlock(block_type='text', text='[Document(id_=\\'bb4a64cd-727e-479f-9f7f-79c32d921877\\', embedding=None, metadata={\\'url\\': \\'https://www.weatherapi.com/\\'}, excluded_embed_metadata_keys=[], excluded_llm_metadata_keys=[], relationships={}, metadata_template=\\'{key}: {value}\\', metadata_separator=\\'\\\\n\\', text_resource=MediaResource(embeddings=None, data=None, text=\"{\\'location\\': {\\'name\\': \\'San Francisco\\', \\'region\\': \\'California\\', \\'country\\': \\'United States of America\\', \\'lat\\': 37.775, \\'lon\\': -122.4183, \\'tz_id\\': \\'America/Los_Angeles\\', \\'localtime_epoch\\': 1741328737, \\'localtime\\': \\'2025-03-06 22:25\\'}, \\'current\\': {\\'last_updated_epoch\\': 1741328100, \\'last_updated\\': \\'2025-03-06 22:15\\', \\'temp_c\\': 8.3, \\'temp_f\\': 46.9, \\'is_day\\': 0, \\'condition\\': {\\'text\\': \\'Partly cloudy\\', \\'icon\\': \\'//cdn.weatherapi.com/weather/64x64/night/116.png\\', \\'code\\': 1003}, \\'wind_mph\\': 7.6, \\'wind_kph\\': 12.2, \\'wind_degree\\': 291, \\'wind_dir\\': \\'WNW\\', \\'pressure_mb\\': 1016.0, \\'pressure_in\\': 30.0, \\'precip_mm\\': 0.0, \\'precip_in\\': 0.0, \\'humidity\\': 86, \\'cloud\\': 25, \\'feelslike_c\\': 6.2, \\'feelslike_f\\': 43.2, \\'windchill_c\\': 10.0, \\'windchill_f\\': 50.0, \\'heatindex_c\\': 10.7, \\'heatindex_f\\': 51.2, \\'dewpoint_c\\': 8.3, \\'dewpoint_f\\': 46.9, \\'vis_km\\': 16.0, \\'vis_miles\\': 9.0, \\'uv\\': 0.0, \\'gust_mph\\': 12.1, \\'gust_kph\\': 19.5}}\", path=None, url=None, mimetype=None), image_resource=None, audio_resource=None, video_resource=None, text_template=\\'{metadata_str}\\\\n\\\\n{content}\\'), Document(id_=\\'15f9ce46-721e-4e0a-bd62-d4f88c042820\\', embedding=None, metadata={\\'url\\': \\'https://weather.com/weather/today/l/USCA0987:1:US\\'}, excluded_embed_metadata_keys=[], excluded_llm_metadata_keys=[], relationships={}, metadata_template=\\'{key}: {value}\\', metadata_separator=\\'\\\\n\\', text_resource=MediaResource(embeddings=None, data=None, text=\"Weather Forecast and Conditions for San Francisco, CA - The Weather Channel | Weather.com Weather Forecasts Today\\'s Forecast for San Francisco, CA Weather Today in San Francisco, CA Northeast Snow Totals Likely To Surpass Past 2 Winters Combined ### Now 49° Chance of Rain2% ### 10 pm 48° Chance of Rain2% ### 11 pm 47° Chance of Rain2% ### 12 am 46° Chance of Rain2% Breathe Easier This Winter By Improving Indoor Air Quality Thank You Blithedale Canyon / Middle Ridge Neighbor 0d ago 9reactions6commentsMoreCoast cafe OPEN after our Winter Break!We are now back from our vacations and OPEN for our Winter Hours. Weather Data APIs We may use or share your data with our data vendors.\", path=None, url=None, mimetype=None), image_resource=None, audio_resource=None, video_resource=None, text_template=\\'{metadata_str}\\\\n\\\\n{content}\\'), Document(id_=\\'b2fe6751-afa9-4a5d-9be5-1b97cdbf29bf\\', embedding=None, metadata={\\'url\\': \\'https://weather.com/weather/today/l/San+Francisco+CA+USCA0987:1:US\\'}, excluded_embed_metadata_keys=[], excluded_llm_metadata_keys=[], relationships={}, metadata_template=\\'{key}: {value}\\', metadata_separator=\\'\\\\n\\', text_resource=MediaResource(embeddings=None, data=None, text=\\'Weather Forecast and Conditions for San Francisco, CA - The Weather Channel | Weather.com Weather Forecasts ### 2 pm 56° Chance of Rain2% ### 3 pm 57° Chance of Rain2% ### 4 pm 56° Chance of Rain2% ### 5 pm 55° Chance of Rain2% Blithedale Canyon / Middle Ridge Neighbor 2d ago 6reactions10commentsMoreGirl Scout Cookie sale: corner of Whole Foods on Miller / Evergreen.575 Ethel Ave. 2/15 Sat.10:30am- 12noon ~ come on out and get some sweet treats for yourself or gift / donate a box of cookies! ### Seasonal Allergies and Pollen Count Forecast Tree pollen is moderate in your area### Cold & Flu Forecast Flu risk is high in your area Weather Data APIs\\', path=None, url=None, mimetype=None), image_resource=None, audio_resource=None, video_resource=None, text_template=\\'{metadata_str}\\\\n\\\\n{content}\\'), Document(id_=\\'3df62e71-b763-49ad-b5c2-3af6d3ab53bb\\', embedding=None, metadata={\\'url\\': \\'https://www.wunderground.com/hourly/us/ca/san-francisco\\'}, excluded_embed_metadata_keys=[], excluded_llm_metadata_keys=[], relationships={}, metadata_template=\\'{key}: {value}\\', metadata_separator=\\'\\\\n\\', text_resource=MediaResource(embeddings=None, data=None, text=\\'San Francisco, CA Hourly Weather Forecast | Weather Underground San Francisco, CA Hourly Weather Forecast_star_rate__home_ 49\\\\xa0°F South of Market Station|Report Report Station You are about to report this weather station for bad data. Personal Weather Station Nearby Weather Stations Length of Visible Light Nearby Weather Stations Weather Data APIs The time period when the sun is no more than 6 degrees below the horizon at either sunrise or sunset. The horizon should be clearly defined and the brightest stars should be visible under good atmospheric conditions (i.e. no moonlight, or other lights). The sun does not contribute to the illumination of the sky before this time in the morning, or after this time in the evening.\\', path=None, url=None, mimetype=None), image_resource=None, audio_resource=None, video_resource=None, text_template=\\'{metadata_str}\\\\n\\\\n{content}\\'), Document(id_=\\'51723438-e7d9-45bf-b4d7-4c2abd30eaea\\', embedding=None, metadata={\\'url\\': \\'https://www.accuweather.com/en/us/san-francisco/94103/weather-forecast/347629\\'}, excluded_embed_metadata_keys=[], excluded_llm_metadata_keys=[], relationships={}, metadata_template=\\'{key}: {value}\\', metadata_separator=\\'\\\\n\\', text_resource=MediaResource(embeddings=None, data=None, text=\\'San Francisco, CA Weather Forecast | AccuWeather San Francisco, CA Weather San Francisco Weather Radar & Maps Live Blog Rare snow on Louisiana Cypress tree at sunset LATEST ENTRY Cypress tree with rare snow combines with brilliant sunset 1 day ago Weather News Biggest quake still to come on Greek tourist island, seismologist says 13 hours ago Health CDC reports gastrointestinal illness outbreak on cruise ship 12 hours ago Weather News Radar evidence suggests Black Hawk in DC disaster was flying too high 1 day ago Health 100,000 eggs were stolen from a trailer in Pennsylvania, police say 1 day ago  AccuWeather Ready Business Health Hurricane Leisure and Recreation Severe Weather Space and Astronomy Sports Travel Weather News Winter Center AccuWeather Ready Business Health Hurricane Leisure and Recreation Severe Weather Space and Astronomy Sports Travel Weather News Winter Center\\', path=None, url=None, mimetype=None), image_resource=None, audio_resource=None, video_resource=None, text_template=\\'{metadata_str}\\\\n\\\\n{content}\\'), Document(id_=\\'586d3e08-c9be-44f7-881d-254a51cf9952\\', embedding=None, metadata={\\'url\\': \\'https://www.accuweather.com/en/us/san-francisco/94103/current-weather/347629\\'}, excluded_embed_metadata_keys=[], excluded_llm_metadata_keys=[], relationships={}, metadata_template=\\'{key}: {value}\\', metadata_separator=\\'\\\\n\\', text_resource=MediaResource(embeddings=None, data=None, text=\\'San Francisco, CA Current Weather | AccuWeather San Francisco, CA Weather ### Hurricane Tracker### Severe Weather### Radar & Maps### News### Video### Winter Center For Business For Partners For Advertising AccuWeather APIs AccuWeather Connect RealFeel® and RealFeel Shade™ Personal Weather Stations AccuWeather Ready Business Health Hurricane Leisure and Recreation Severe Weather Space and Astronomy Sports Travel Weather News Winter Center For Business For Partners For Advertising AccuWeather APIs AccuWeather Connect RealFeel® and RealFeel Shade™ Personal Weather Stations AccuWeather Ready Business Health Hurricane Leisure and Recreation Severe Weather Space and Astronomy Sports Travel Weather News Winter Center\\', path=None, url=None, mimetype=None), image_resource=None, audio_resource=None, video_resource=None, text_template=\\'{metadata_str}\\\\n\\\\n{content}\\')]')])]\n",
            "Agent name: Agent\n",
            "The current weather in San Francisco is as follows:\n",
            "\n",
            "- **Temperature**: 49°F (approximately 8.3°C)\n",
            "- **Condition**: Partly cloudy\n",
            "- **Wind**: 7.6 mph (12.2 kph) from the WNW\n",
            "- **Humidity**: 86%\n",
            "- **Visibility**: 9 miles\n",
            "- **Pressure**: 30.0 inHg\n",
            "\n",
            "The temperature feels like 43.2°F (6.2°C) due to wind chill. There is no precipitation expected at this time.\n",
            "\n",
            "For more details, you can check the full report on [Weather.com](https://weather.com/weather/today/l/USCA0987:1:US).\n",
            "Agent output: assistant: The current weather in San Francisco is as follows:\n",
            "\n",
            "- **Temperature**: 49°F (approximately 8.3°C)\n",
            "- **Condition**: Partly cloudy\n",
            "- **Wind**: 7.6 mph (12.2 kph) from the WNW\n",
            "- **Humidity**: 86%\n",
            "- **Visibility**: 9 miles\n",
            "- **Pressure**: 30.0 inHg\n",
            "\n",
            "The temperature feels like 43.2°F (6.2°C) due to wind chill. There is no precipitation expected at this time.\n",
            "\n",
            "For more details, you can check the full report on [Weather.com](https://weather.com/weather/today/l/USCA0987:1:US).\n",
            "Tool calls made: []\n",
            "Raw LLM response: {'id': 'chatcmpl-B8LhjFxa0WAdEYWO4m1waWCkvg4AL', 'choices': [{'delta': {'content': None, 'function_call': None, 'refusal': None, 'role': None, 'tool_calls': None}, 'finish_reason': 'stop', 'index': 0, 'logprobs': None}], 'created': 1741329755, 'model': 'gpt-4o-mini-2024-07-18', 'object': 'chat.completion.chunk', 'service_tier': 'default', 'system_fingerprint': 'fp_06737a9306', 'usage': None}\n",
            "\n",
            "Final result: The current weather in San Francisco is as follows:\n",
            "\n",
            "- **Temperature**: 49°F (approximately 8.3°C)\n",
            "- **Condition**: Partly cloudy\n",
            "- **Wind**: 7.6 mph (12.2 kph) from the WNW\n",
            "- **Humidity**: 86%\n",
            "- **Visibility**: 9 miles\n",
            "- **Pressure**: 30.0 inHg\n",
            "\n",
            "The temperature feels like 43.2°F (6.2°C) due to wind chill. There is no precipitation expected at this time.\n",
            "\n",
            "For more details, you can check the full report on [Weather.com](https://weather.com/weather/today/l/USCA0987:1:US).\n"
          ]
        }
      ]
    }
  ]
}