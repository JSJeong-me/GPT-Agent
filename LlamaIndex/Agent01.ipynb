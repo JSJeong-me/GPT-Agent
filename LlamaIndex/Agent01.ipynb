{
  "nbformat": 4,
  "nbformat_minor": 0,
  "metadata": {
    "colab": {
      "provenance": [],
      "gpuType": "T4",
      "authorship_tag": "ABX9TyMfYVPAsNFQkmqQ75aBaYHk",
      "include_colab_link": true
    },
    "kernelspec": {
      "name": "python3",
      "display_name": "Python 3"
    },
    "language_info": {
      "name": "python"
    },
    "accelerator": "GPU"
  },
  "cells": [
    {
      "cell_type": "markdown",
      "metadata": {
        "id": "view-in-github",
        "colab_type": "text"
      },
      "source": [
        "<a href=\"https://colab.research.google.com/github/JSJeong-me/GPT-Agent/blob/main/LlamaIndex/Agent01.ipynb\" target=\"_parent\"><img src=\"https://colab.research.google.com/assets/colab-badge.svg\" alt=\"Open In Colab\"/></a>"
      ]
    },
    {
      "cell_type": "code",
      "source": [
        "!pip install llama-index-core llama-index-utils-workflow llama-index-llms-openai llama-parse llama-index-embeddings-openai llama-index-readers-whisper"
      ],
      "metadata": {
        "id": "6jPOSmIyE_L4"
      },
      "execution_count": null,
      "outputs": []
    },
    {
      "cell_type": "code",
      "source": [
        "from llama_index.llms.openai import OpenAI\n",
        "from llama_index.core.agent.workflow import AgentWorkflow"
      ],
      "metadata": {
        "id": "QNMGXOFpFKax"
      },
      "execution_count": 2,
      "outputs": []
    },
    {
      "cell_type": "code",
      "source": [
        "from google.colab import userdata\n",
        "import openai\n",
        "import os\n",
        "\n",
        "os.environ[\"OPENAI_API_KEY\"] = userdata.get('OPENAI_API_KEY')\n",
        "openai.api_key  = os.environ[\"OPENAI_API_KEY\"]"
      ],
      "metadata": {
        "id": "ftSX8n6UFl_4"
      },
      "execution_count": 3,
      "outputs": []
    },
    {
      "cell_type": "code",
      "source": [
        "def multiply(a: float, b: float) -> float:\n",
        "    \"\"\"Multiply two numbers and returns the product\"\"\"\n",
        "    return a * b\n",
        "\n",
        "def add(a: float, b: float) -> float:\n",
        "    \"\"\"Add two numbers and returns the sum\"\"\"\n",
        "    return a + b"
      ],
      "metadata": {
        "id": "6KLkO7O8FZfy"
      },
      "execution_count": 4,
      "outputs": []
    },
    {
      "cell_type": "code",
      "source": [
        "llm = OpenAI(model=\"gpt-4o-mini\")"
      ],
      "metadata": {
        "id": "Oifgi7-VFpee"
      },
      "execution_count": 5,
      "outputs": []
    },
    {
      "cell_type": "code",
      "source": [
        "workflow = AgentWorkflow.from_tools_or_functions(\n",
        "    [multiply, add],\n",
        "    llm=llm,\n",
        "    system_prompt=\"You are an agent that can perform basic mathematical operations using tools.\"\n",
        ")"
      ],
      "metadata": {
        "id": "ZS0fdi2sF2He"
      },
      "execution_count": 6,
      "outputs": []
    },
    {
      "cell_type": "code",
      "source": [
        "response = await workflow.run(user_msg=\"What is 20+(2*4)?\")\n",
        "print(response)"
      ],
      "metadata": {
        "colab": {
          "base_uri": "https://localhost:8080/"
        },
        "id": "zaVER4aXGEC9",
        "outputId": "7d43e293-889b-49de-bc41-7962c6ec2c49"
      },
      "execution_count": 7,
      "outputs": [
        {
          "output_type": "stream",
          "name": "stdout",
          "text": [
            "The result of \\( 20 + (2 \\times 4) \\) is 28.\n"
          ]
        }
      ]
    },
    {
      "cell_type": "markdown",
      "source": [
        "async\n",
        "async 키워드는 파이썬에서 비동기 함수를 정의할 때 사용됩니다.\n",
        "async가 붙은 함수는 **코루틴(coroutine)**이라고 하며, 일반적인 함수와 달리 실행 도중에 중단되었다가 나중에 다시 재개될 수 있습니다.\n",
        "\n",
        "await\n",
        "await 키워드는 비동기 함수(async def) 내에서만 사용할 수 있습니다.\n",
        "다른 코루틴이나 비동기 작업이 끝날 때까지 현재 함수의 실행을 일시 중단하고 기다립니다.\n",
        "\n",
        "https://chatgpt.com/share/67ca86e6-c3cc-8006-bebe-64dccc1fdbd2"
      ],
      "metadata": {
        "id": "Fg8WZblBHIXJ"
      }
    },
    {
      "cell_type": "code",
      "source": [
        "async def main():\n",
        "    response = await workflow.run(user_msg=\"What is 20+(2*4)?\")\n",
        "    print(response)\n",
        "\n",
        "# Directly call main() within the existing event loop\n",
        "await main()"
      ],
      "metadata": {
        "id": "2tYuh6cqF4q-"
      },
      "execution_count": 9,
      "outputs": []
    }
  ]
}