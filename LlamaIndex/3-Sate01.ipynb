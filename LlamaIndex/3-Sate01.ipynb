{
  "nbformat": 4,
  "nbformat_minor": 0,
  "metadata": {
    "colab": {
      "provenance": [],
      "gpuType": "T4",
      "authorship_tag": "ABX9TyMMKkYV6a9ZbkodZMMozzW3",
      "include_colab_link": true
    },
    "kernelspec": {
      "name": "python3",
      "display_name": "Python 3"
    },
    "language_info": {
      "name": "python"
    },
    "accelerator": "GPU"
  },
  "cells": [
    {
      "cell_type": "markdown",
      "metadata": {
        "id": "view-in-github",
        "colab_type": "text"
      },
      "source": [
        "<a href=\"https://colab.research.google.com/github/JSJeong-me/GPT-Agent/blob/main/LlamaIndex/3-Sate01.ipynb\" target=\"_parent\"><img src=\"https://colab.research.google.com/assets/colab-badge.svg\" alt=\"Open In Colab\"/></a>"
      ]
    },
    {
      "cell_type": "code",
      "source": [
        "!pip install llama-index-core llama-index-utils-workflow llama-index-llms-openai llama-parse llama-index-embeddings-openai llama-index-readers-whisper llama-index-tools-yahoo-finance"
      ],
      "metadata": {
        "id": "6jPOSmIyE_L4"
      },
      "execution_count": null,
      "outputs": []
    },
    {
      "cell_type": "code",
      "source": [
        "from llama_index.llms.openai import OpenAI\n",
        "from llama_index.core.agent.workflow import AgentWorkflow\n",
        "from llama_index.tools.yahoo_finance import YahooFinanceToolSpec\n",
        "from llama_index.core.workflow import Context\n",
        "from llama_index.core.workflow import JsonPickleSerializer, JsonSerializer"
      ],
      "metadata": {
        "id": "QNMGXOFpFKax"
      },
      "execution_count": 3,
      "outputs": []
    },
    {
      "cell_type": "code",
      "source": [
        "from google.colab import userdata\n",
        "import openai\n",
        "import os\n",
        "\n",
        "os.environ[\"OPENAI_API_KEY\"] = userdata.get('OPENAI_API_KEY')\n",
        "openai.api_key  = os.environ[\"OPENAI_API_KEY\"]"
      ],
      "metadata": {
        "id": "ftSX8n6UFl_4"
      },
      "execution_count": 4,
      "outputs": []
    },
    {
      "cell_type": "code",
      "source": [
        "def multiply(a: float, b: float) -> float:\n",
        "    \"\"\"Multiply two numbers and returns the product\"\"\"\n",
        "    return a * b\n",
        "\n",
        "def add(a: float, b: float) -> float:\n",
        "    \"\"\"Add two numbers and returns the sum\"\"\"\n",
        "    return a + b\n",
        "\n",
        "llm = OpenAI(model=\"gpt-4o-mini\")\n",
        "\n",
        "finance_tools = YahooFinanceToolSpec().to_tool_list()\n",
        "finance_tools.extend([multiply, add])"
      ],
      "metadata": {
        "id": "r6Vu1pgZKkYq"
      },
      "execution_count": 5,
      "outputs": []
    },
    {
      "cell_type": "code",
      "source": [
        "type(finance_tools)"
      ],
      "metadata": {
        "id": "bcdA0rydLCdr"
      },
      "execution_count": null,
      "outputs": []
    },
    {
      "cell_type": "code",
      "source": [
        "# 리스트의 길이 출력\n",
        "print(\"리스트 길이:\", len(finance_tools))\n",
        "\n",
        "# 리스트의 각 항목 출력\n",
        "print(\"리스트 항목들:\")\n",
        "for tool in finance_tools:\n",
        "    print(\"-\", tool)"
      ],
      "metadata": {
        "id": "rO4sJxTVLTAj"
      },
      "execution_count": null,
      "outputs": []
    },
    {
      "cell_type": "code",
      "source": [
        "workflow = AgentWorkflow.from_tools_or_functions(\n",
        "    finance_tools,\n",
        "    llm=llm,\n",
        "    system_prompt=\"You are an agent that can perform basic mathematical operations using tools.\"\n",
        ")"
      ],
      "metadata": {
        "id": "bKguTjHaK4Oc"
      },
      "execution_count": 6,
      "outputs": []
    },
    {
      "cell_type": "code",
      "source": [
        "# configure a context to work with our workflow\n",
        "ctx = Context(workflow)"
      ],
      "metadata": {
        "id": "1auM7Zf6LtGb"
      },
      "execution_count": 7,
      "outputs": []
    },
    {
      "cell_type": "code",
      "source": [
        "type(ctx)"
      ],
      "metadata": {
        "id": "VIZKM5RULzso"
      },
      "execution_count": null,
      "outputs": []
    },
    {
      "cell_type": "code",
      "source": [
        "import asyncio\n",
        "\n",
        "response = await workflow.run(user_msg=\"Hi, my name is Laurie!\", ctx=ctx)\n",
        "print(response)"
      ],
      "metadata": {
        "colab": {
          "base_uri": "https://localhost:8080/"
        },
        "id": "pJw6ZJ8NMvy-",
        "outputId": "91ccef26-5997-458a-f743-724d000dfe38"
      },
      "execution_count": 8,
      "outputs": [
        {
          "output_type": "stream",
          "name": "stdout",
          "text": [
            "Hello Laurie! How can I assist you today?\n"
          ]
        }
      ]
    },
    {
      "cell_type": "code",
      "source": [
        "response2 = await workflow.run(user_msg=\"What's my name?\", ctx=ctx)\n",
        "print(response2)"
      ],
      "metadata": {
        "colab": {
          "base_uri": "https://localhost:8080/"
        },
        "id": "cXSBvJU7NDM9",
        "outputId": "1a49d860-2133-40b1-d0a6-6296b99a6b45"
      },
      "execution_count": 9,
      "outputs": [
        {
          "output_type": "stream",
          "name": "stdout",
          "text": [
            "Your name is Laurie! How can I help you today?\n"
          ]
        }
      ]
    },
    {
      "cell_type": "code",
      "source": [
        "# Context를 dictionary 객체로 변환\n",
        "ctx_dict = ctx.to_dict(serializer=JsonSerializer())\n",
        "\n",
        "# dictionary로부터 새로운 Context 생성\n",
        "restored_ctx = Context.from_dict(\n",
        "    workflow, ctx_dict, serializer=JsonSerializer()\n",
        ")\n",
        "\n",
        "response3 = await workflow.run(user_msg=\"What's my name?\", ctx=restored_ctx)\n",
        "print(response3)"
      ],
      "metadata": {
        "colab": {
          "base_uri": "https://localhost:8080/"
        },
        "id": "3pRtUiGpNEZl",
        "outputId": "c98d9467-b670-4d7c-acc8-4fbdad9bd7c6"
      },
      "execution_count": 10,
      "outputs": [
        {
          "output_type": "stream",
          "name": "stdout",
          "text": [
            "Your name is Laurie. How can I assist you further?\n"
          ]
        }
      ]
    },
    {
      "cell_type": "code",
      "source": [
        "# ctx_dict의 길이 출력\n",
        "print(\"ctx_dict의 길이:\", len(ctx_dict))\n",
        "\n",
        "# ctx_dict의 전체 내용 출력 (Key-Value 형태로 보기 좋게 출력)\n",
        "print(\"ctx_dict의 내용:\")\n",
        "for key, value in ctx_dict.items():\n",
        "    print(f\"{key}: {value}\")"
      ],
      "metadata": {
        "colab": {
          "base_uri": "https://localhost:8080/"
        },
        "id": "cLPL6tUENvYz",
        "outputId": "0fb934d4-6f21-4bfa-86c9-9cebdd70c3c5"
      },
      "execution_count": 14,
      "outputs": [
        {
          "output_type": "stream",
          "name": "stdout",
          "text": [
            "ctx_dict의 길이: 10\n",
            "ctx_dict의 내용:\n",
            "globals: {'memory': '{\"__is_component\": true, \"value\": {\"chat_store\": {\"store\": {\"chat_history\": [{\"role\": \"user\", \"additional_kwargs\": {}, \"blocks\": [{\"block_type\": \"text\", \"text\": \"Hi, my name is Laurie!\"}]}, {\"role\": \"assistant\", \"additional_kwargs\": {}, \"blocks\": [{\"block_type\": \"text\", \"text\": \"Hello Laurie! How can I assist you today?\"}]}, {\"role\": \"user\", \"additional_kwargs\": {}, \"blocks\": [{\"block_type\": \"text\", \"text\": \"What\\'s my name?\"}]}, {\"role\": \"assistant\", \"additional_kwargs\": {}, \"blocks\": [{\"block_type\": \"text\", \"text\": \"Your name is Laurie! How can I help you today?\"}]}]}, \"class_name\": \"SimpleChatStore\"}, \"chat_store_key\": \"chat_history\", \"token_limit\": 96000, \"class_name\": \"ChatMemoryBuffer\"}, \"qualified_name\": \"llama_index.core.memory.chat_memory_buffer.ChatMemoryBuffer\"}', 'agents': '[\"Agent\"]', 'state': '{}', 'current_agent_name': '\"Agent\"', 'handoff_output_prompt': '\"Agent {to_agent} is now handling the request due to the following reason: {reason}.\\\\nPlease continue with the current request.\"', 'user_msg_str': '\"What\\'s my name?\"', 'scratchpad': '[]', 'current_tool_calls': '[]'}\n",
            "streaming_queue: [\"{\\\"__is_pydantic\\\": true, \\\"value\\\": {\\\"input\\\": [{\\\"role\\\": \\\"system\\\", \\\"additional_kwargs\\\": {}, \\\"blocks\\\": [{\\\"block_type\\\": \\\"text\\\", \\\"text\\\": \\\"You are an agent that can perform basic mathematical operations using tools.\\\"}]}, {\\\"role\\\": \\\"user\\\", \\\"additional_kwargs\\\": {}, \\\"blocks\\\": [{\\\"block_type\\\": \\\"text\\\", \\\"text\\\": \\\"Hi, my name is Laurie!\\\"}]}], \\\"current_agent_name\\\": \\\"Agent\\\"}, \\\"qualified_name\\\": \\\"llama_index.core.agent.workflow.workflow_events.AgentInput\\\"}\", \"{\\\"__is_pydantic\\\": true, \\\"value\\\": {\\\"delta\\\": \\\"\\\", \\\"response\\\": \\\"\\\", \\\"current_agent_name\\\": \\\"Agent\\\", \\\"tool_calls\\\": [], \\\"raw\\\": {\\\"id\\\": \\\"chatcmpl-B8L84w9MlRce9A292jufI4ZnNBulB\\\", \\\"choices\\\": [{\\\"delta\\\": {\\\"content\\\": \\\"\\\", \\\"function_call\\\": null, \\\"refusal\\\": null, \\\"role\\\": \\\"assistant\\\", \\\"tool_calls\\\": null}, \\\"finish_reason\\\": null, \\\"index\\\": 0, \\\"logprobs\\\": null}], \\\"created\\\": 1741327544, \\\"model\\\": \\\"gpt-4o-mini-2024-07-18\\\", \\\"object\\\": \\\"chat.completion.chunk\\\", \\\"service_tier\\\": \\\"default\\\", \\\"system_fingerprint\\\": \\\"fp_06737a9306\\\", \\\"usage\\\": null}}, \\\"qualified_name\\\": \\\"llama_index.core.agent.workflow.workflow_events.AgentStream\\\"}\", \"{\\\"__is_pydantic\\\": true, \\\"value\\\": {\\\"delta\\\": \\\"Hello\\\", \\\"response\\\": \\\"Hello\\\", \\\"current_agent_name\\\": \\\"Agent\\\", \\\"tool_calls\\\": [], \\\"raw\\\": {\\\"id\\\": \\\"chatcmpl-B8L84w9MlRce9A292jufI4ZnNBulB\\\", \\\"choices\\\": [{\\\"delta\\\": {\\\"content\\\": \\\"Hello\\\", \\\"function_call\\\": null, \\\"refusal\\\": null, \\\"role\\\": null, \\\"tool_calls\\\": null}, \\\"finish_reason\\\": null, \\\"index\\\": 0, \\\"logprobs\\\": null}], \\\"created\\\": 1741327544, \\\"model\\\": \\\"gpt-4o-mini-2024-07-18\\\", \\\"object\\\": \\\"chat.completion.chunk\\\", \\\"service_tier\\\": \\\"default\\\", \\\"system_fingerprint\\\": \\\"fp_06737a9306\\\", \\\"usage\\\": null}}, \\\"qualified_name\\\": \\\"llama_index.core.agent.workflow.workflow_events.AgentStream\\\"}\", \"{\\\"__is_pydantic\\\": true, \\\"value\\\": {\\\"delta\\\": \\\" Laurie\\\", \\\"response\\\": \\\"Hello Laurie\\\", \\\"current_agent_name\\\": \\\"Agent\\\", \\\"tool_calls\\\": [], \\\"raw\\\": {\\\"id\\\": \\\"chatcmpl-B8L84w9MlRce9A292jufI4ZnNBulB\\\", \\\"choices\\\": [{\\\"delta\\\": {\\\"content\\\": \\\" Laurie\\\", \\\"function_call\\\": null, \\\"refusal\\\": null, \\\"role\\\": null, \\\"tool_calls\\\": null}, \\\"finish_reason\\\": null, \\\"index\\\": 0, \\\"logprobs\\\": null}], \\\"created\\\": 1741327544, \\\"model\\\": \\\"gpt-4o-mini-2024-07-18\\\", \\\"object\\\": \\\"chat.completion.chunk\\\", \\\"service_tier\\\": \\\"default\\\", \\\"system_fingerprint\\\": \\\"fp_06737a9306\\\", \\\"usage\\\": null}}, \\\"qualified_name\\\": \\\"llama_index.core.agent.workflow.workflow_events.AgentStream\\\"}\", \"{\\\"__is_pydantic\\\": true, \\\"value\\\": {\\\"delta\\\": \\\"!\\\", \\\"response\\\": \\\"Hello Laurie!\\\", \\\"current_agent_name\\\": \\\"Agent\\\", \\\"tool_calls\\\": [], \\\"raw\\\": {\\\"id\\\": \\\"chatcmpl-B8L84w9MlRce9A292jufI4ZnNBulB\\\", \\\"choices\\\": [{\\\"delta\\\": {\\\"content\\\": \\\"!\\\", \\\"function_call\\\": null, \\\"refusal\\\": null, \\\"role\\\": null, \\\"tool_calls\\\": null}, \\\"finish_reason\\\": null, \\\"index\\\": 0, \\\"logprobs\\\": null}], \\\"created\\\": 1741327544, \\\"model\\\": \\\"gpt-4o-mini-2024-07-18\\\", \\\"object\\\": \\\"chat.completion.chunk\\\", \\\"service_tier\\\": \\\"default\\\", \\\"system_fingerprint\\\": \\\"fp_06737a9306\\\", \\\"usage\\\": null}}, \\\"qualified_name\\\": \\\"llama_index.core.agent.workflow.workflow_events.AgentStream\\\"}\", \"{\\\"__is_pydantic\\\": true, \\\"value\\\": {\\\"delta\\\": \\\" How\\\", \\\"response\\\": \\\"Hello Laurie! How\\\", \\\"current_agent_name\\\": \\\"Agent\\\", \\\"tool_calls\\\": [], \\\"raw\\\": {\\\"id\\\": \\\"chatcmpl-B8L84w9MlRce9A292jufI4ZnNBulB\\\", \\\"choices\\\": [{\\\"delta\\\": {\\\"content\\\": \\\" How\\\", \\\"function_call\\\": null, \\\"refusal\\\": null, \\\"role\\\": null, \\\"tool_calls\\\": null}, \\\"finish_reason\\\": null, \\\"index\\\": 0, \\\"logprobs\\\": null}], \\\"created\\\": 1741327544, \\\"model\\\": \\\"gpt-4o-mini-2024-07-18\\\", \\\"object\\\": \\\"chat.completion.chunk\\\", \\\"service_tier\\\": \\\"default\\\", \\\"system_fingerprint\\\": \\\"fp_06737a9306\\\", \\\"usage\\\": null}}, \\\"qualified_name\\\": \\\"llama_index.core.agent.workflow.workflow_events.AgentStream\\\"}\", \"{\\\"__is_pydantic\\\": true, \\\"value\\\": {\\\"delta\\\": \\\" can\\\", \\\"response\\\": \\\"Hello Laurie! How can\\\", \\\"current_agent_name\\\": \\\"Agent\\\", \\\"tool_calls\\\": [], \\\"raw\\\": {\\\"id\\\": \\\"chatcmpl-B8L84w9MlRce9A292jufI4ZnNBulB\\\", \\\"choices\\\": [{\\\"delta\\\": {\\\"content\\\": \\\" can\\\", \\\"function_call\\\": null, \\\"refusal\\\": null, \\\"role\\\": null, \\\"tool_calls\\\": null}, \\\"finish_reason\\\": null, \\\"index\\\": 0, \\\"logprobs\\\": null}], \\\"created\\\": 1741327544, \\\"model\\\": \\\"gpt-4o-mini-2024-07-18\\\", \\\"object\\\": \\\"chat.completion.chunk\\\", \\\"service_tier\\\": \\\"default\\\", \\\"system_fingerprint\\\": \\\"fp_06737a9306\\\", \\\"usage\\\": null}}, \\\"qualified_name\\\": \\\"llama_index.core.agent.workflow.workflow_events.AgentStream\\\"}\", \"{\\\"__is_pydantic\\\": true, \\\"value\\\": {\\\"delta\\\": \\\" I\\\", \\\"response\\\": \\\"Hello Laurie! How can I\\\", \\\"current_agent_name\\\": \\\"Agent\\\", \\\"tool_calls\\\": [], \\\"raw\\\": {\\\"id\\\": \\\"chatcmpl-B8L84w9MlRce9A292jufI4ZnNBulB\\\", \\\"choices\\\": [{\\\"delta\\\": {\\\"content\\\": \\\" I\\\", \\\"function_call\\\": null, \\\"refusal\\\": null, \\\"role\\\": null, \\\"tool_calls\\\": null}, \\\"finish_reason\\\": null, \\\"index\\\": 0, \\\"logprobs\\\": null}], \\\"created\\\": 1741327544, \\\"model\\\": \\\"gpt-4o-mini-2024-07-18\\\", \\\"object\\\": \\\"chat.completion.chunk\\\", \\\"service_tier\\\": \\\"default\\\", \\\"system_fingerprint\\\": \\\"fp_06737a9306\\\", \\\"usage\\\": null}}, \\\"qualified_name\\\": \\\"llama_index.core.agent.workflow.workflow_events.AgentStream\\\"}\", \"{\\\"__is_pydantic\\\": true, \\\"value\\\": {\\\"delta\\\": \\\" assist\\\", \\\"response\\\": \\\"Hello Laurie! How can I assist\\\", \\\"current_agent_name\\\": \\\"Agent\\\", \\\"tool_calls\\\": [], \\\"raw\\\": {\\\"id\\\": \\\"chatcmpl-B8L84w9MlRce9A292jufI4ZnNBulB\\\", \\\"choices\\\": [{\\\"delta\\\": {\\\"content\\\": \\\" assist\\\", \\\"function_call\\\": null, \\\"refusal\\\": null, \\\"role\\\": null, \\\"tool_calls\\\": null}, \\\"finish_reason\\\": null, \\\"index\\\": 0, \\\"logprobs\\\": null}], \\\"created\\\": 1741327544, \\\"model\\\": \\\"gpt-4o-mini-2024-07-18\\\", \\\"object\\\": \\\"chat.completion.chunk\\\", \\\"service_tier\\\": \\\"default\\\", \\\"system_fingerprint\\\": \\\"fp_06737a9306\\\", \\\"usage\\\": null}}, \\\"qualified_name\\\": \\\"llama_index.core.agent.workflow.workflow_events.AgentStream\\\"}\", \"{\\\"__is_pydantic\\\": true, \\\"value\\\": {\\\"delta\\\": \\\" you\\\", \\\"response\\\": \\\"Hello Laurie! How can I assist you\\\", \\\"current_agent_name\\\": \\\"Agent\\\", \\\"tool_calls\\\": [], \\\"raw\\\": {\\\"id\\\": \\\"chatcmpl-B8L84w9MlRce9A292jufI4ZnNBulB\\\", \\\"choices\\\": [{\\\"delta\\\": {\\\"content\\\": \\\" you\\\", \\\"function_call\\\": null, \\\"refusal\\\": null, \\\"role\\\": null, \\\"tool_calls\\\": null}, \\\"finish_reason\\\": null, \\\"index\\\": 0, \\\"logprobs\\\": null}], \\\"created\\\": 1741327544, \\\"model\\\": \\\"gpt-4o-mini-2024-07-18\\\", \\\"object\\\": \\\"chat.completion.chunk\\\", \\\"service_tier\\\": \\\"default\\\", \\\"system_fingerprint\\\": \\\"fp_06737a9306\\\", \\\"usage\\\": null}}, \\\"qualified_name\\\": \\\"llama_index.core.agent.workflow.workflow_events.AgentStream\\\"}\", \"{\\\"__is_pydantic\\\": true, \\\"value\\\": {\\\"delta\\\": \\\" today\\\", \\\"response\\\": \\\"Hello Laurie! How can I assist you today\\\", \\\"current_agent_name\\\": \\\"Agent\\\", \\\"tool_calls\\\": [], \\\"raw\\\": {\\\"id\\\": \\\"chatcmpl-B8L84w9MlRce9A292jufI4ZnNBulB\\\", \\\"choices\\\": [{\\\"delta\\\": {\\\"content\\\": \\\" today\\\", \\\"function_call\\\": null, \\\"refusal\\\": null, \\\"role\\\": null, \\\"tool_calls\\\": null}, \\\"finish_reason\\\": null, \\\"index\\\": 0, \\\"logprobs\\\": null}], \\\"created\\\": 1741327544, \\\"model\\\": \\\"gpt-4o-mini-2024-07-18\\\", \\\"object\\\": \\\"chat.completion.chunk\\\", \\\"service_tier\\\": \\\"default\\\", \\\"system_fingerprint\\\": \\\"fp_06737a9306\\\", \\\"usage\\\": null}}, \\\"qualified_name\\\": \\\"llama_index.core.agent.workflow.workflow_events.AgentStream\\\"}\", \"{\\\"__is_pydantic\\\": true, \\\"value\\\": {\\\"delta\\\": \\\"?\\\", \\\"response\\\": \\\"Hello Laurie! How can I assist you today?\\\", \\\"current_agent_name\\\": \\\"Agent\\\", \\\"tool_calls\\\": [], \\\"raw\\\": {\\\"id\\\": \\\"chatcmpl-B8L84w9MlRce9A292jufI4ZnNBulB\\\", \\\"choices\\\": [{\\\"delta\\\": {\\\"content\\\": \\\"?\\\", \\\"function_call\\\": null, \\\"refusal\\\": null, \\\"role\\\": null, \\\"tool_calls\\\": null}, \\\"finish_reason\\\": null, \\\"index\\\": 0, \\\"logprobs\\\": null}], \\\"created\\\": 1741327544, \\\"model\\\": \\\"gpt-4o-mini-2024-07-18\\\", \\\"object\\\": \\\"chat.completion.chunk\\\", \\\"service_tier\\\": \\\"default\\\", \\\"system_fingerprint\\\": \\\"fp_06737a9306\\\", \\\"usage\\\": null}}, \\\"qualified_name\\\": \\\"llama_index.core.agent.workflow.workflow_events.AgentStream\\\"}\", \"{\\\"__is_pydantic\\\": true, \\\"value\\\": {\\\"delta\\\": \\\"\\\", \\\"response\\\": \\\"Hello Laurie! How can I assist you today?\\\", \\\"current_agent_name\\\": \\\"Agent\\\", \\\"tool_calls\\\": [], \\\"raw\\\": {\\\"id\\\": \\\"chatcmpl-B8L84w9MlRce9A292jufI4ZnNBulB\\\", \\\"choices\\\": [{\\\"delta\\\": {\\\"content\\\": null, \\\"function_call\\\": null, \\\"refusal\\\": null, \\\"role\\\": null, \\\"tool_calls\\\": null}, \\\"finish_reason\\\": \\\"stop\\\", \\\"index\\\": 0, \\\"logprobs\\\": null}], \\\"created\\\": 1741327544, \\\"model\\\": \\\"gpt-4o-mini-2024-07-18\\\", \\\"object\\\": \\\"chat.completion.chunk\\\", \\\"service_tier\\\": \\\"default\\\", \\\"system_fingerprint\\\": \\\"fp_06737a9306\\\", \\\"usage\\\": null}}, \\\"qualified_name\\\": \\\"llama_index.core.agent.workflow.workflow_events.AgentStream\\\"}\", \"{\\\"__is_pydantic\\\": true, \\\"value\\\": {\\\"response\\\": {\\\"role\\\": \\\"assistant\\\", \\\"additional_kwargs\\\": {}, \\\"blocks\\\": [{\\\"block_type\\\": \\\"text\\\", \\\"text\\\": \\\"Hello Laurie! How can I assist you today?\\\"}]}, \\\"tool_calls\\\": [], \\\"raw\\\": {\\\"id\\\": \\\"chatcmpl-B8L84w9MlRce9A292jufI4ZnNBulB\\\", \\\"choices\\\": [{\\\"delta\\\": {\\\"content\\\": null, \\\"function_call\\\": null, \\\"refusal\\\": null, \\\"role\\\": null, \\\"tool_calls\\\": null}, \\\"finish_reason\\\": \\\"stop\\\", \\\"index\\\": 0, \\\"logprobs\\\": null}], \\\"created\\\": 1741327544, \\\"model\\\": \\\"gpt-4o-mini-2024-07-18\\\", \\\"object\\\": \\\"chat.completion.chunk\\\", \\\"service_tier\\\": \\\"default\\\", \\\"system_fingerprint\\\": \\\"fp_06737a9306\\\", \\\"usage\\\": null}, \\\"current_agent_name\\\": \\\"Agent\\\"}, \\\"qualified_name\\\": \\\"llama_index.core.agent.workflow.workflow_events.AgentOutput\\\"}\", \"{\\\"__is_pydantic\\\": true, \\\"value\\\": {}, \\\"qualified_name\\\": \\\"llama_index.core.workflow.events.StopEvent\\\"}\", \"{\\\"__is_pydantic\\\": true, \\\"value\\\": {\\\"input\\\": [{\\\"role\\\": \\\"system\\\", \\\"additional_kwargs\\\": {}, \\\"blocks\\\": [{\\\"block_type\\\": \\\"text\\\", \\\"text\\\": \\\"You are an agent that can perform basic mathematical operations using tools.\\\"}]}, {\\\"role\\\": \\\"user\\\", \\\"additional_kwargs\\\": {}, \\\"blocks\\\": [{\\\"block_type\\\": \\\"text\\\", \\\"text\\\": \\\"Hi, my name is Laurie!\\\"}]}, {\\\"role\\\": \\\"assistant\\\", \\\"additional_kwargs\\\": {}, \\\"blocks\\\": [{\\\"block_type\\\": \\\"text\\\", \\\"text\\\": \\\"Hello Laurie! How can I assist you today?\\\"}]}, {\\\"role\\\": \\\"user\\\", \\\"additional_kwargs\\\": {}, \\\"blocks\\\": [{\\\"block_type\\\": \\\"text\\\", \\\"text\\\": \\\"What's my name?\\\"}]}], \\\"current_agent_name\\\": \\\"Agent\\\"}, \\\"qualified_name\\\": \\\"llama_index.core.agent.workflow.workflow_events.AgentInput\\\"}\", \"{\\\"__is_pydantic\\\": true, \\\"value\\\": {\\\"delta\\\": \\\"\\\", \\\"response\\\": \\\"\\\", \\\"current_agent_name\\\": \\\"Agent\\\", \\\"tool_calls\\\": [], \\\"raw\\\": {\\\"id\\\": \\\"chatcmpl-B8L8CJ5kv9x5GQVvO4ci8LEAqUEeS\\\", \\\"choices\\\": [{\\\"delta\\\": {\\\"content\\\": \\\"\\\", \\\"function_call\\\": null, \\\"refusal\\\": null, \\\"role\\\": \\\"assistant\\\", \\\"tool_calls\\\": null}, \\\"finish_reason\\\": null, \\\"index\\\": 0, \\\"logprobs\\\": null}], \\\"created\\\": 1741327552, \\\"model\\\": \\\"gpt-4o-mini-2024-07-18\\\", \\\"object\\\": \\\"chat.completion.chunk\\\", \\\"service_tier\\\": \\\"default\\\", \\\"system_fingerprint\\\": \\\"fp_06737a9306\\\", \\\"usage\\\": null}}, \\\"qualified_name\\\": \\\"llama_index.core.agent.workflow.workflow_events.AgentStream\\\"}\", \"{\\\"__is_pydantic\\\": true, \\\"value\\\": {\\\"delta\\\": \\\"Your\\\", \\\"response\\\": \\\"Your\\\", \\\"current_agent_name\\\": \\\"Agent\\\", \\\"tool_calls\\\": [], \\\"raw\\\": {\\\"id\\\": \\\"chatcmpl-B8L8CJ5kv9x5GQVvO4ci8LEAqUEeS\\\", \\\"choices\\\": [{\\\"delta\\\": {\\\"content\\\": \\\"Your\\\", \\\"function_call\\\": null, \\\"refusal\\\": null, \\\"role\\\": null, \\\"tool_calls\\\": null}, \\\"finish_reason\\\": null, \\\"index\\\": 0, \\\"logprobs\\\": null}], \\\"created\\\": 1741327552, \\\"model\\\": \\\"gpt-4o-mini-2024-07-18\\\", \\\"object\\\": \\\"chat.completion.chunk\\\", \\\"service_tier\\\": \\\"default\\\", \\\"system_fingerprint\\\": \\\"fp_06737a9306\\\", \\\"usage\\\": null}}, \\\"qualified_name\\\": \\\"llama_index.core.agent.workflow.workflow_events.AgentStream\\\"}\", \"{\\\"__is_pydantic\\\": true, \\\"value\\\": {\\\"delta\\\": \\\" name\\\", \\\"response\\\": \\\"Your name\\\", \\\"current_agent_name\\\": \\\"Agent\\\", \\\"tool_calls\\\": [], \\\"raw\\\": {\\\"id\\\": \\\"chatcmpl-B8L8CJ5kv9x5GQVvO4ci8LEAqUEeS\\\", \\\"choices\\\": [{\\\"delta\\\": {\\\"content\\\": \\\" name\\\", \\\"function_call\\\": null, \\\"refusal\\\": null, \\\"role\\\": null, \\\"tool_calls\\\": null}, \\\"finish_reason\\\": null, \\\"index\\\": 0, \\\"logprobs\\\": null}], \\\"created\\\": 1741327552, \\\"model\\\": \\\"gpt-4o-mini-2024-07-18\\\", \\\"object\\\": \\\"chat.completion.chunk\\\", \\\"service_tier\\\": \\\"default\\\", \\\"system_fingerprint\\\": \\\"fp_06737a9306\\\", \\\"usage\\\": null}}, \\\"qualified_name\\\": \\\"llama_index.core.agent.workflow.workflow_events.AgentStream\\\"}\", \"{\\\"__is_pydantic\\\": true, \\\"value\\\": {\\\"delta\\\": \\\" is\\\", \\\"response\\\": \\\"Your name is\\\", \\\"current_agent_name\\\": \\\"Agent\\\", \\\"tool_calls\\\": [], \\\"raw\\\": {\\\"id\\\": \\\"chatcmpl-B8L8CJ5kv9x5GQVvO4ci8LEAqUEeS\\\", \\\"choices\\\": [{\\\"delta\\\": {\\\"content\\\": \\\" is\\\", \\\"function_call\\\": null, \\\"refusal\\\": null, \\\"role\\\": null, \\\"tool_calls\\\": null}, \\\"finish_reason\\\": null, \\\"index\\\": 0, \\\"logprobs\\\": null}], \\\"created\\\": 1741327552, \\\"model\\\": \\\"gpt-4o-mini-2024-07-18\\\", \\\"object\\\": \\\"chat.completion.chunk\\\", \\\"service_tier\\\": \\\"default\\\", \\\"system_fingerprint\\\": \\\"fp_06737a9306\\\", \\\"usage\\\": null}}, \\\"qualified_name\\\": \\\"llama_index.core.agent.workflow.workflow_events.AgentStream\\\"}\", \"{\\\"__is_pydantic\\\": true, \\\"value\\\": {\\\"delta\\\": \\\" Laurie\\\", \\\"response\\\": \\\"Your name is Laurie\\\", \\\"current_agent_name\\\": \\\"Agent\\\", \\\"tool_calls\\\": [], \\\"raw\\\": {\\\"id\\\": \\\"chatcmpl-B8L8CJ5kv9x5GQVvO4ci8LEAqUEeS\\\", \\\"choices\\\": [{\\\"delta\\\": {\\\"content\\\": \\\" Laurie\\\", \\\"function_call\\\": null, \\\"refusal\\\": null, \\\"role\\\": null, \\\"tool_calls\\\": null}, \\\"finish_reason\\\": null, \\\"index\\\": 0, \\\"logprobs\\\": null}], \\\"created\\\": 1741327552, \\\"model\\\": \\\"gpt-4o-mini-2024-07-18\\\", \\\"object\\\": \\\"chat.completion.chunk\\\", \\\"service_tier\\\": \\\"default\\\", \\\"system_fingerprint\\\": \\\"fp_06737a9306\\\", \\\"usage\\\": null}}, \\\"qualified_name\\\": \\\"llama_index.core.agent.workflow.workflow_events.AgentStream\\\"}\", \"{\\\"__is_pydantic\\\": true, \\\"value\\\": {\\\"delta\\\": \\\"!\\\", \\\"response\\\": \\\"Your name is Laurie!\\\", \\\"current_agent_name\\\": \\\"Agent\\\", \\\"tool_calls\\\": [], \\\"raw\\\": {\\\"id\\\": \\\"chatcmpl-B8L8CJ5kv9x5GQVvO4ci8LEAqUEeS\\\", \\\"choices\\\": [{\\\"delta\\\": {\\\"content\\\": \\\"!\\\", \\\"function_call\\\": null, \\\"refusal\\\": null, \\\"role\\\": null, \\\"tool_calls\\\": null}, \\\"finish_reason\\\": null, \\\"index\\\": 0, \\\"logprobs\\\": null}], \\\"created\\\": 1741327552, \\\"model\\\": \\\"gpt-4o-mini-2024-07-18\\\", \\\"object\\\": \\\"chat.completion.chunk\\\", \\\"service_tier\\\": \\\"default\\\", \\\"system_fingerprint\\\": \\\"fp_06737a9306\\\", \\\"usage\\\": null}}, \\\"qualified_name\\\": \\\"llama_index.core.agent.workflow.workflow_events.AgentStream\\\"}\", \"{\\\"__is_pydantic\\\": true, \\\"value\\\": {\\\"delta\\\": \\\" How\\\", \\\"response\\\": \\\"Your name is Laurie! How\\\", \\\"current_agent_name\\\": \\\"Agent\\\", \\\"tool_calls\\\": [], \\\"raw\\\": {\\\"id\\\": \\\"chatcmpl-B8L8CJ5kv9x5GQVvO4ci8LEAqUEeS\\\", \\\"choices\\\": [{\\\"delta\\\": {\\\"content\\\": \\\" How\\\", \\\"function_call\\\": null, \\\"refusal\\\": null, \\\"role\\\": null, \\\"tool_calls\\\": null}, \\\"finish_reason\\\": null, \\\"index\\\": 0, \\\"logprobs\\\": null}], \\\"created\\\": 1741327552, \\\"model\\\": \\\"gpt-4o-mini-2024-07-18\\\", \\\"object\\\": \\\"chat.completion.chunk\\\", \\\"service_tier\\\": \\\"default\\\", \\\"system_fingerprint\\\": \\\"fp_06737a9306\\\", \\\"usage\\\": null}}, \\\"qualified_name\\\": \\\"llama_index.core.agent.workflow.workflow_events.AgentStream\\\"}\", \"{\\\"__is_pydantic\\\": true, \\\"value\\\": {\\\"delta\\\": \\\" can\\\", \\\"response\\\": \\\"Your name is Laurie! How can\\\", \\\"current_agent_name\\\": \\\"Agent\\\", \\\"tool_calls\\\": [], \\\"raw\\\": {\\\"id\\\": \\\"chatcmpl-B8L8CJ5kv9x5GQVvO4ci8LEAqUEeS\\\", \\\"choices\\\": [{\\\"delta\\\": {\\\"content\\\": \\\" can\\\", \\\"function_call\\\": null, \\\"refusal\\\": null, \\\"role\\\": null, \\\"tool_calls\\\": null}, \\\"finish_reason\\\": null, \\\"index\\\": 0, \\\"logprobs\\\": null}], \\\"created\\\": 1741327552, \\\"model\\\": \\\"gpt-4o-mini-2024-07-18\\\", \\\"object\\\": \\\"chat.completion.chunk\\\", \\\"service_tier\\\": \\\"default\\\", \\\"system_fingerprint\\\": \\\"fp_06737a9306\\\", \\\"usage\\\": null}}, \\\"qualified_name\\\": \\\"llama_index.core.agent.workflow.workflow_events.AgentStream\\\"}\", \"{\\\"__is_pydantic\\\": true, \\\"value\\\": {\\\"delta\\\": \\\" I\\\", \\\"response\\\": \\\"Your name is Laurie! How can I\\\", \\\"current_agent_name\\\": \\\"Agent\\\", \\\"tool_calls\\\": [], \\\"raw\\\": {\\\"id\\\": \\\"chatcmpl-B8L8CJ5kv9x5GQVvO4ci8LEAqUEeS\\\", \\\"choices\\\": [{\\\"delta\\\": {\\\"content\\\": \\\" I\\\", \\\"function_call\\\": null, \\\"refusal\\\": null, \\\"role\\\": null, \\\"tool_calls\\\": null}, \\\"finish_reason\\\": null, \\\"index\\\": 0, \\\"logprobs\\\": null}], \\\"created\\\": 1741327552, \\\"model\\\": \\\"gpt-4o-mini-2024-07-18\\\", \\\"object\\\": \\\"chat.completion.chunk\\\", \\\"service_tier\\\": \\\"default\\\", \\\"system_fingerprint\\\": \\\"fp_06737a9306\\\", \\\"usage\\\": null}}, \\\"qualified_name\\\": \\\"llama_index.core.agent.workflow.workflow_events.AgentStream\\\"}\", \"{\\\"__is_pydantic\\\": true, \\\"value\\\": {\\\"delta\\\": \\\" help\\\", \\\"response\\\": \\\"Your name is Laurie! How can I help\\\", \\\"current_agent_name\\\": \\\"Agent\\\", \\\"tool_calls\\\": [], \\\"raw\\\": {\\\"id\\\": \\\"chatcmpl-B8L8CJ5kv9x5GQVvO4ci8LEAqUEeS\\\", \\\"choices\\\": [{\\\"delta\\\": {\\\"content\\\": \\\" help\\\", \\\"function_call\\\": null, \\\"refusal\\\": null, \\\"role\\\": null, \\\"tool_calls\\\": null}, \\\"finish_reason\\\": null, \\\"index\\\": 0, \\\"logprobs\\\": null}], \\\"created\\\": 1741327552, \\\"model\\\": \\\"gpt-4o-mini-2024-07-18\\\", \\\"object\\\": \\\"chat.completion.chunk\\\", \\\"service_tier\\\": \\\"default\\\", \\\"system_fingerprint\\\": \\\"fp_06737a9306\\\", \\\"usage\\\": null}}, \\\"qualified_name\\\": \\\"llama_index.core.agent.workflow.workflow_events.AgentStream\\\"}\", \"{\\\"__is_pydantic\\\": true, \\\"value\\\": {\\\"delta\\\": \\\" you\\\", \\\"response\\\": \\\"Your name is Laurie! How can I help you\\\", \\\"current_agent_name\\\": \\\"Agent\\\", \\\"tool_calls\\\": [], \\\"raw\\\": {\\\"id\\\": \\\"chatcmpl-B8L8CJ5kv9x5GQVvO4ci8LEAqUEeS\\\", \\\"choices\\\": [{\\\"delta\\\": {\\\"content\\\": \\\" you\\\", \\\"function_call\\\": null, \\\"refusal\\\": null, \\\"role\\\": null, \\\"tool_calls\\\": null}, \\\"finish_reason\\\": null, \\\"index\\\": 0, \\\"logprobs\\\": null}], \\\"created\\\": 1741327552, \\\"model\\\": \\\"gpt-4o-mini-2024-07-18\\\", \\\"object\\\": \\\"chat.completion.chunk\\\", \\\"service_tier\\\": \\\"default\\\", \\\"system_fingerprint\\\": \\\"fp_06737a9306\\\", \\\"usage\\\": null}}, \\\"qualified_name\\\": \\\"llama_index.core.agent.workflow.workflow_events.AgentStream\\\"}\", \"{\\\"__is_pydantic\\\": true, \\\"value\\\": {\\\"delta\\\": \\\" today\\\", \\\"response\\\": \\\"Your name is Laurie! How can I help you today\\\", \\\"current_agent_name\\\": \\\"Agent\\\", \\\"tool_calls\\\": [], \\\"raw\\\": {\\\"id\\\": \\\"chatcmpl-B8L8CJ5kv9x5GQVvO4ci8LEAqUEeS\\\", \\\"choices\\\": [{\\\"delta\\\": {\\\"content\\\": \\\" today\\\", \\\"function_call\\\": null, \\\"refusal\\\": null, \\\"role\\\": null, \\\"tool_calls\\\": null}, \\\"finish_reason\\\": null, \\\"index\\\": 0, \\\"logprobs\\\": null}], \\\"created\\\": 1741327552, \\\"model\\\": \\\"gpt-4o-mini-2024-07-18\\\", \\\"object\\\": \\\"chat.completion.chunk\\\", \\\"service_tier\\\": \\\"default\\\", \\\"system_fingerprint\\\": \\\"fp_06737a9306\\\", \\\"usage\\\": null}}, \\\"qualified_name\\\": \\\"llama_index.core.agent.workflow.workflow_events.AgentStream\\\"}\", \"{\\\"__is_pydantic\\\": true, \\\"value\\\": {\\\"delta\\\": \\\"?\\\", \\\"response\\\": \\\"Your name is Laurie! How can I help you today?\\\", \\\"current_agent_name\\\": \\\"Agent\\\", \\\"tool_calls\\\": [], \\\"raw\\\": {\\\"id\\\": \\\"chatcmpl-B8L8CJ5kv9x5GQVvO4ci8LEAqUEeS\\\", \\\"choices\\\": [{\\\"delta\\\": {\\\"content\\\": \\\"?\\\", \\\"function_call\\\": null, \\\"refusal\\\": null, \\\"role\\\": null, \\\"tool_calls\\\": null}, \\\"finish_reason\\\": null, \\\"index\\\": 0, \\\"logprobs\\\": null}], \\\"created\\\": 1741327552, \\\"model\\\": \\\"gpt-4o-mini-2024-07-18\\\", \\\"object\\\": \\\"chat.completion.chunk\\\", \\\"service_tier\\\": \\\"default\\\", \\\"system_fingerprint\\\": \\\"fp_06737a9306\\\", \\\"usage\\\": null}}, \\\"qualified_name\\\": \\\"llama_index.core.agent.workflow.workflow_events.AgentStream\\\"}\", \"{\\\"__is_pydantic\\\": true, \\\"value\\\": {\\\"delta\\\": \\\"\\\", \\\"response\\\": \\\"Your name is Laurie! How can I help you today?\\\", \\\"current_agent_name\\\": \\\"Agent\\\", \\\"tool_calls\\\": [], \\\"raw\\\": {\\\"id\\\": \\\"chatcmpl-B8L8CJ5kv9x5GQVvO4ci8LEAqUEeS\\\", \\\"choices\\\": [{\\\"delta\\\": {\\\"content\\\": null, \\\"function_call\\\": null, \\\"refusal\\\": null, \\\"role\\\": null, \\\"tool_calls\\\": null}, \\\"finish_reason\\\": \\\"stop\\\", \\\"index\\\": 0, \\\"logprobs\\\": null}], \\\"created\\\": 1741327552, \\\"model\\\": \\\"gpt-4o-mini-2024-07-18\\\", \\\"object\\\": \\\"chat.completion.chunk\\\", \\\"service_tier\\\": \\\"default\\\", \\\"system_fingerprint\\\": \\\"fp_06737a9306\\\", \\\"usage\\\": null}}, \\\"qualified_name\\\": \\\"llama_index.core.agent.workflow.workflow_events.AgentStream\\\"}\", \"{\\\"__is_pydantic\\\": true, \\\"value\\\": {\\\"response\\\": {\\\"role\\\": \\\"assistant\\\", \\\"additional_kwargs\\\": {}, \\\"blocks\\\": [{\\\"block_type\\\": \\\"text\\\", \\\"text\\\": \\\"Your name is Laurie! How can I help you today?\\\"}]}, \\\"tool_calls\\\": [], \\\"raw\\\": {\\\"id\\\": \\\"chatcmpl-B8L8CJ5kv9x5GQVvO4ci8LEAqUEeS\\\", \\\"choices\\\": [{\\\"delta\\\": {\\\"content\\\": null, \\\"function_call\\\": null, \\\"refusal\\\": null, \\\"role\\\": null, \\\"tool_calls\\\": null}, \\\"finish_reason\\\": \\\"stop\\\", \\\"index\\\": 0, \\\"logprobs\\\": null}], \\\"created\\\": 1741327552, \\\"model\\\": \\\"gpt-4o-mini-2024-07-18\\\", \\\"object\\\": \\\"chat.completion.chunk\\\", \\\"service_tier\\\": \\\"default\\\", \\\"system_fingerprint\\\": \\\"fp_06737a9306\\\", \\\"usage\\\": null}, \\\"current_agent_name\\\": \\\"Agent\\\"}, \\\"qualified_name\\\": \\\"llama_index.core.agent.workflow.workflow_events.AgentOutput\\\"}\", \"{\\\"__is_pydantic\\\": true, \\\"value\\\": {}, \\\"qualified_name\\\": \\\"llama_index.core.workflow.events.StopEvent\\\"}\"]\n",
            "queues: {'ed54b8a2-7e27-4ee0-83e5-ee72bed96670': '[\"{\\\\\"__is_pydantic\\\\\": true, \\\\\"value\\\\\": {\\\\\"_data\\\\\": {\\\\\"user_msg\\\\\": \\\\\"Hi, my name is Laurie!\\\\\", \\\\\"chat_history\\\\\": null, \\\\\"memory\\\\\": null}}, \\\\\"qualified_name\\\\\": \\\\\"llama_index.core.workflow.events.StartEvent\\\\\"}\", \"{\\\\\"__is_pydantic\\\\\": true, \\\\\"value\\\\\": {\\\\\"input\\\\\": [{\\\\\"role\\\\\": \\\\\"user\\\\\", \\\\\"additional_kwargs\\\\\": {}, \\\\\"blocks\\\\\": [{\\\\\"block_type\\\\\": \\\\\"text\\\\\", \\\\\"text\\\\\": \\\\\"Hi, my name is Laurie!\\\\\"}]}], \\\\\"current_agent_name\\\\\": \\\\\"Agent\\\\\"}, \\\\\"qualified_name\\\\\": \\\\\"llama_index.core.agent.workflow.workflow_events.AgentInput\\\\\"}\", \"{\\\\\"__is_pydantic\\\\\": true, \\\\\"value\\\\\": {\\\\\"input\\\\\": [{\\\\\"role\\\\\": \\\\\"system\\\\\", \\\\\"additional_kwargs\\\\\": {}, \\\\\"blocks\\\\\": [{\\\\\"block_type\\\\\": \\\\\"text\\\\\", \\\\\"text\\\\\": \\\\\"You are an agent that can perform basic mathematical operations using tools.\\\\\"}]}, {\\\\\"role\\\\\": \\\\\"user\\\\\", \\\\\"additional_kwargs\\\\\": {}, \\\\\"blocks\\\\\": [{\\\\\"block_type\\\\\": \\\\\"text\\\\\", \\\\\"text\\\\\": \\\\\"Hi, my name is Laurie!\\\\\"}]}], \\\\\"current_agent_name\\\\\": \\\\\"Agent\\\\\"}, \\\\\"qualified_name\\\\\": \\\\\"llama_index.core.agent.workflow.workflow_events.AgentSetup\\\\\"}\", \"{\\\\\"__is_pydantic\\\\\": true, \\\\\"value\\\\\": {\\\\\"response\\\\\": {\\\\\"role\\\\\": \\\\\"assistant\\\\\", \\\\\"additional_kwargs\\\\\": {}, \\\\\"blocks\\\\\": [{\\\\\"block_type\\\\\": \\\\\"text\\\\\", \\\\\"text\\\\\": \\\\\"Hello Laurie! How can I assist you today?\\\\\"}]}, \\\\\"tool_calls\\\\\": [], \\\\\"raw\\\\\": {\\\\\"id\\\\\": \\\\\"chatcmpl-B8L84w9MlRce9A292jufI4ZnNBulB\\\\\", \\\\\"choices\\\\\": [{\\\\\"delta\\\\\": {\\\\\"content\\\\\": null, \\\\\"function_call\\\\\": null, \\\\\"refusal\\\\\": null, \\\\\"role\\\\\": null, \\\\\"tool_calls\\\\\": null}, \\\\\"finish_reason\\\\\": \\\\\"stop\\\\\", \\\\\"index\\\\\": 0, \\\\\"logprobs\\\\\": null}], \\\\\"created\\\\\": 1741327544, \\\\\"model\\\\\": \\\\\"gpt-4o-mini-2024-07-18\\\\\", \\\\\"object\\\\\": \\\\\"chat.completion.chunk\\\\\", \\\\\"service_tier\\\\\": \\\\\"default\\\\\", \\\\\"system_fingerprint\\\\\": \\\\\"fp_06737a9306\\\\\", \\\\\"usage\\\\\": null}, \\\\\"current_agent_name\\\\\": \\\\\"Agent\\\\\"}, \\\\\"qualified_name\\\\\": \\\\\"llama_index.core.agent.workflow.workflow_events.AgentOutput\\\\\"}\", \"{\\\\\"__is_pydantic\\\\\": true, \\\\\"value\\\\\": {}, \\\\\"qualified_name\\\\\": \\\\\"llama_index.core.workflow.events.StopEvent\\\\\"}\", \"{\\\\\"__is_pydantic\\\\\": true, \\\\\"value\\\\\": {\\\\\"_data\\\\\": {\\\\\"user_msg\\\\\": \\\\\"What\\'s my name?\\\\\", \\\\\"chat_history\\\\\": null, \\\\\"memory\\\\\": null}}, \\\\\"qualified_name\\\\\": \\\\\"llama_index.core.workflow.events.StartEvent\\\\\"}\", \"{\\\\\"__is_pydantic\\\\\": true, \\\\\"value\\\\\": {\\\\\"input\\\\\": [{\\\\\"role\\\\\": \\\\\"user\\\\\", \\\\\"additional_kwargs\\\\\": {}, \\\\\"blocks\\\\\": [{\\\\\"block_type\\\\\": \\\\\"text\\\\\", \\\\\"text\\\\\": \\\\\"Hi, my name is Laurie!\\\\\"}]}, {\\\\\"role\\\\\": \\\\\"assistant\\\\\", \\\\\"additional_kwargs\\\\\": {}, \\\\\"blocks\\\\\": [{\\\\\"block_type\\\\\": \\\\\"text\\\\\", \\\\\"text\\\\\": \\\\\"Hello Laurie! How can I assist you today?\\\\\"}]}, {\\\\\"role\\\\\": \\\\\"user\\\\\", \\\\\"additional_kwargs\\\\\": {}, \\\\\"blocks\\\\\": [{\\\\\"block_type\\\\\": \\\\\"text\\\\\", \\\\\"text\\\\\": \\\\\"What\\'s my name?\\\\\"}]}], \\\\\"current_agent_name\\\\\": \\\\\"Agent\\\\\"}, \\\\\"qualified_name\\\\\": \\\\\"llama_index.core.agent.workflow.workflow_events.AgentInput\\\\\"}\", \"{\\\\\"__is_pydantic\\\\\": true, \\\\\"value\\\\\": {\\\\\"input\\\\\": [{\\\\\"role\\\\\": \\\\\"system\\\\\", \\\\\"additional_kwargs\\\\\": {}, \\\\\"blocks\\\\\": [{\\\\\"block_type\\\\\": \\\\\"text\\\\\", \\\\\"text\\\\\": \\\\\"You are an agent that can perform basic mathematical operations using tools.\\\\\"}]}, {\\\\\"role\\\\\": \\\\\"user\\\\\", \\\\\"additional_kwargs\\\\\": {}, \\\\\"blocks\\\\\": [{\\\\\"block_type\\\\\": \\\\\"text\\\\\", \\\\\"text\\\\\": \\\\\"Hi, my name is Laurie!\\\\\"}]}, {\\\\\"role\\\\\": \\\\\"assistant\\\\\", \\\\\"additional_kwargs\\\\\": {}, \\\\\"blocks\\\\\": [{\\\\\"block_type\\\\\": \\\\\"text\\\\\", \\\\\"text\\\\\": \\\\\"Hello Laurie! How can I assist you today?\\\\\"}]}, {\\\\\"role\\\\\": \\\\\"user\\\\\", \\\\\"additional_kwargs\\\\\": {}, \\\\\"blocks\\\\\": [{\\\\\"block_type\\\\\": \\\\\"text\\\\\", \\\\\"text\\\\\": \\\\\"What\\'s my name?\\\\\"}]}], \\\\\"current_agent_name\\\\\": \\\\\"Agent\\\\\"}, \\\\\"qualified_name\\\\\": \\\\\"llama_index.core.agent.workflow.workflow_events.AgentSetup\\\\\"}\", \"{\\\\\"__is_pydantic\\\\\": true, \\\\\"value\\\\\": {\\\\\"response\\\\\": {\\\\\"role\\\\\": \\\\\"assistant\\\\\", \\\\\"additional_kwargs\\\\\": {}, \\\\\"blocks\\\\\": [{\\\\\"block_type\\\\\": \\\\\"text\\\\\", \\\\\"text\\\\\": \\\\\"Your name is Laurie! How can I help you today?\\\\\"}]}, \\\\\"tool_calls\\\\\": [], \\\\\"raw\\\\\": {\\\\\"id\\\\\": \\\\\"chatcmpl-B8L8CJ5kv9x5GQVvO4ci8LEAqUEeS\\\\\", \\\\\"choices\\\\\": [{\\\\\"delta\\\\\": {\\\\\"content\\\\\": null, \\\\\"function_call\\\\\": null, \\\\\"refusal\\\\\": null, \\\\\"role\\\\\": null, \\\\\"tool_calls\\\\\": null}, \\\\\"finish_reason\\\\\": \\\\\"stop\\\\\", \\\\\"index\\\\\": 0, \\\\\"logprobs\\\\\": null}], \\\\\"created\\\\\": 1741327552, \\\\\"model\\\\\": \\\\\"gpt-4o-mini-2024-07-18\\\\\", \\\\\"object\\\\\": \\\\\"chat.completion.chunk\\\\\", \\\\\"service_tier\\\\\": \\\\\"default\\\\\", \\\\\"system_fingerprint\\\\\": \\\\\"fp_06737a9306\\\\\", \\\\\"usage\\\\\": null}, \\\\\"current_agent_name\\\\\": \\\\\"Agent\\\\\"}, \\\\\"qualified_name\\\\\": \\\\\"llama_index.core.agent.workflow.workflow_events.AgentOutput\\\\\"}\", \"{\\\\\"__is_pydantic\\\\\": true, \\\\\"value\\\\\": {}, \\\\\"qualified_name\\\\\": \\\\\"llama_index.core.workflow.events.StopEvent\\\\\"}\"]', '_done': '[]', 'aggregate_tool_results': '[]', 'call_tool': '[]', 'init_run': '[]', 'parse_agent_output': '[]', 'run_agent_step': '[]', 'setup_agent': '[]'}\n",
            "stepwise: False\n",
            "events_buffer: {}\n",
            "in_progress: {'init_run': [], 'setup_agent': [], 'run_agent_step': [], 'parse_agent_output': [], '_done': []}\n",
            "accepted_events: [('init_run', 'StartEvent'), ('setup_agent', 'AgentInput'), ('run_agent_step', 'AgentSetup'), ('parse_agent_output', 'AgentOutput'), ('init_run', 'StartEvent'), ('setup_agent', 'AgentInput'), ('run_agent_step', 'AgentSetup'), ('parse_agent_output', 'AgentOutput'), ('init_run', 'StartEvent'), ('setup_agent', 'AgentInput'), ('run_agent_step', 'AgentSetup'), ('parse_agent_output', 'AgentOutput')]\n",
            "broker_log: ['{\"__is_pydantic\": true, \"value\": {\"_data\": {\"user_msg\": \"Hi, my name is Laurie!\", \"chat_history\": null, \"memory\": null}}, \"qualified_name\": \"llama_index.core.workflow.events.StartEvent\"}', '{\"__is_pydantic\": true, \"value\": {\"input\": [{\"role\": \"user\", \"additional_kwargs\": {}, \"blocks\": [{\"block_type\": \"text\", \"text\": \"Hi, my name is Laurie!\"}]}], \"current_agent_name\": \"Agent\"}, \"qualified_name\": \"llama_index.core.agent.workflow.workflow_events.AgentInput\"}', '{\"__is_pydantic\": true, \"value\": {\"input\": [{\"role\": \"system\", \"additional_kwargs\": {}, \"blocks\": [{\"block_type\": \"text\", \"text\": \"You are an agent that can perform basic mathematical operations using tools.\"}]}, {\"role\": \"user\", \"additional_kwargs\": {}, \"blocks\": [{\"block_type\": \"text\", \"text\": \"Hi, my name is Laurie!\"}]}], \"current_agent_name\": \"Agent\"}, \"qualified_name\": \"llama_index.core.agent.workflow.workflow_events.AgentSetup\"}', '{\"__is_pydantic\": true, \"value\": {\"response\": {\"role\": \"assistant\", \"additional_kwargs\": {}, \"blocks\": [{\"block_type\": \"text\", \"text\": \"Hello Laurie! How can I assist you today?\"}]}, \"tool_calls\": [], \"raw\": {\"id\": \"chatcmpl-B8L84w9MlRce9A292jufI4ZnNBulB\", \"choices\": [{\"delta\": {\"content\": null, \"function_call\": null, \"refusal\": null, \"role\": null, \"tool_calls\": null}, \"finish_reason\": \"stop\", \"index\": 0, \"logprobs\": null}], \"created\": 1741327544, \"model\": \"gpt-4o-mini-2024-07-18\", \"object\": \"chat.completion.chunk\", \"service_tier\": \"default\", \"system_fingerprint\": \"fp_06737a9306\", \"usage\": null}, \"current_agent_name\": \"Agent\"}, \"qualified_name\": \"llama_index.core.agent.workflow.workflow_events.AgentOutput\"}', '{\"__is_pydantic\": true, \"value\": {}, \"qualified_name\": \"llama_index.core.workflow.events.StopEvent\"}', '{\"__is_pydantic\": true, \"value\": {\"_data\": {\"user_msg\": \"What\\'s my name?\", \"chat_history\": null, \"memory\": null}}, \"qualified_name\": \"llama_index.core.workflow.events.StartEvent\"}', '{\"__is_pydantic\": true, \"value\": {\"input\": [{\"role\": \"user\", \"additional_kwargs\": {}, \"blocks\": [{\"block_type\": \"text\", \"text\": \"Hi, my name is Laurie!\"}]}, {\"role\": \"assistant\", \"additional_kwargs\": {}, \"blocks\": [{\"block_type\": \"text\", \"text\": \"Hello Laurie! How can I assist you today?\"}]}, {\"role\": \"user\", \"additional_kwargs\": {}, \"blocks\": [{\"block_type\": \"text\", \"text\": \"What\\'s my name?\"}]}], \"current_agent_name\": \"Agent\"}, \"qualified_name\": \"llama_index.core.agent.workflow.workflow_events.AgentInput\"}', '{\"__is_pydantic\": true, \"value\": {\"input\": [{\"role\": \"system\", \"additional_kwargs\": {}, \"blocks\": [{\"block_type\": \"text\", \"text\": \"You are an agent that can perform basic mathematical operations using tools.\"}]}, {\"role\": \"user\", \"additional_kwargs\": {}, \"blocks\": [{\"block_type\": \"text\", \"text\": \"Hi, my name is Laurie!\"}]}, {\"role\": \"assistant\", \"additional_kwargs\": {}, \"blocks\": [{\"block_type\": \"text\", \"text\": \"Hello Laurie! How can I assist you today?\"}]}, {\"role\": \"user\", \"additional_kwargs\": {}, \"blocks\": [{\"block_type\": \"text\", \"text\": \"What\\'s my name?\"}]}], \"current_agent_name\": \"Agent\"}, \"qualified_name\": \"llama_index.core.agent.workflow.workflow_events.AgentSetup\"}', '{\"__is_pydantic\": true, \"value\": {\"response\": {\"role\": \"assistant\", \"additional_kwargs\": {}, \"blocks\": [{\"block_type\": \"text\", \"text\": \"Your name is Laurie! How can I help you today?\"}]}, \"tool_calls\": [], \"raw\": {\"id\": \"chatcmpl-B8L8CJ5kv9x5GQVvO4ci8LEAqUEeS\", \"choices\": [{\"delta\": {\"content\": null, \"function_call\": null, \"refusal\": null, \"role\": null, \"tool_calls\": null}, \"finish_reason\": \"stop\", \"index\": 0, \"logprobs\": null}], \"created\": 1741327552, \"model\": \"gpt-4o-mini-2024-07-18\", \"object\": \"chat.completion.chunk\", \"service_tier\": \"default\", \"system_fingerprint\": \"fp_06737a9306\", \"usage\": null}, \"current_agent_name\": \"Agent\"}, \"qualified_name\": \"llama_index.core.agent.workflow.workflow_events.AgentOutput\"}', '{\"__is_pydantic\": true, \"value\": {}, \"qualified_name\": \"llama_index.core.workflow.events.StopEvent\"}']\n",
            "waiter_id: ed54b8a2-7e27-4ee0-83e5-ee72bed96670\n",
            "is_running: False\n"
          ]
        }
      ]
    }
  ]
}