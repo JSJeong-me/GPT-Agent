{
  "nbformat": 4,
  "nbformat_minor": 0,
  "metadata": {
    "colab": {
      "provenance": [],
      "gpuType": "T4",
      "authorship_tag": "ABX9TyO/0cSNFUo1jBCR2S/pjNjZ",
      "include_colab_link": true
    },
    "kernelspec": {
      "name": "python3",
      "display_name": "Python 3"
    },
    "language_info": {
      "name": "python"
    },
    "accelerator": "GPU"
  },
  "cells": [
    {
      "cell_type": "markdown",
      "metadata": {
        "id": "view-in-github",
        "colab_type": "text"
      },
      "source": [
        "<a href=\"https://colab.research.google.com/github/JSJeong-me/GPT-Agent/blob/main/LlamaIndex/5-Human-in-loop.ipynb\" target=\"_parent\"><img src=\"https://colab.research.google.com/assets/colab-badge.svg\" alt=\"Open In Colab\"/></a>"
      ]
    },
    {
      "cell_type": "code",
      "execution_count": null,
      "metadata": {
        "id": "YZbpWMjEU9G6"
      },
      "outputs": [],
      "source": [
        "# 패키지 설치\n",
        "!pip install llama-index-core llama-index-utils-workflow llama-index-llms-openai llama-parse llama-index-embeddings-openai llama-index-readers-whisper llama-index-tools-yahoo-finance\n",
        "!pip install llama-index-tools-tavily-research"
      ]
    },
    {
      "cell_type": "code",
      "source": [
        "from google.colab import userdata\n",
        "import openai\n",
        "import os\n",
        "\n",
        "os.environ[\"OPENAI_API_KEY\"] = userdata.get('OPENAI_API_KEY')\n",
        "openai.api_key  = os.environ[\"OPENAI_API_KEY\"]\n",
        "os.environ[\"TAVILY_API_KEY\"] = userdata.get('TAVILY_API_KEY')"
      ],
      "metadata": {
        "id": "Xi2PEGjAWxBz"
      },
      "execution_count": 2,
      "outputs": []
    },
    {
      "cell_type": "code",
      "source": [
        "from llama_index.llms.openai import OpenAI\n",
        "from llama_index.core.agent.workflow import AgentWorkflow\n",
        "from llama_index.core.workflow import Context\n",
        "from llama_index.core.workflow import (\n",
        "    InputRequiredEvent,\n",
        "    HumanResponseEvent,\n",
        ")\n",
        "\n",
        "llm = OpenAI(model=\"gpt-4o-mini\")"
      ],
      "metadata": {
        "id": "MIqkoTYrWfQj"
      },
      "execution_count": 3,
      "outputs": []
    },
    {
      "cell_type": "code",
      "source": [
        "# a tool that performs a dangerous task\n",
        "async def dangerous_task(ctx: Context) -> str:\n",
        "    \"\"\"A dangerous task that requires human confirmation.\"\"\"\n",
        "\n",
        "    # emit an event to the external stream to be captured\n",
        "    ctx.write_event_to_stream(\n",
        "        InputRequiredEvent(\n",
        "            prefix=\"Are you sure you want to proceed? \",\n",
        "            user_name=\"Laurie\",\n",
        "        )\n",
        "    )\n",
        "\n",
        "    # wait until we see a HumanResponseEvent\n",
        "    response = await ctx.wait_for_event(\n",
        "        HumanResponseEvent, requirements={\"user_name\": \"Laurie\"}\n",
        "    )\n",
        "\n",
        "    # act on the input from the event\n",
        "    if response.response.strip().lower() == \"yes\":\n",
        "        return \"Dangerous task completed successfully.\"\n",
        "    else:\n",
        "        return \"Dangerous task aborted.\"\n",
        "\n",
        "workflow = AgentWorkflow.from_tools_or_functions(\n",
        "    [dangerous_task],\n",
        "    llm=llm,\n",
        "    system_prompt=\"You are a helpful assistant that can perform dangerous tasks.\",\n",
        ")"
      ],
      "metadata": {
        "id": "l0a_4idGWzUi"
      },
      "execution_count": 4,
      "outputs": []
    },
    {
      "cell_type": "code",
      "source": [
        "async def main():\n",
        "    handler = workflow.run(user_msg=\"I want to proceed with the dangerous task.\")\n",
        "\n",
        "    async for event in handler.stream_events():\n",
        "        # capture InputRequiredEvent\n",
        "        if isinstance(event, InputRequiredEvent):\n",
        "            # capture keyboard input\n",
        "            response = input(event.prefix)\n",
        "            # send our response back\n",
        "            handler.ctx.send_event(\n",
        "                HumanResponseEvent(\n",
        "                    response=response,\n",
        "                    user_name=event.user_name,\n",
        "                )\n",
        "            )\n",
        "\n",
        "    response = await handler\n",
        "    print(str(response))"
      ],
      "metadata": {
        "id": "xU5mpZefW8aD"
      },
      "execution_count": 5,
      "outputs": []
    },
    {
      "cell_type": "code",
      "source": [
        "if __name__ == \"__main__\":\n",
        "    import asyncio\n",
        "    import nest_asyncio  # Import nest_asyncio\n",
        "    nest_asyncio.apply()  # Apply nest_asyncio patch\n",
        "    asyncio.run(main())  # Now you can run your async function"
      ],
      "metadata": {
        "colab": {
          "base_uri": "https://localhost:8080/"
        },
        "id": "RoqtKEMgXdKh",
        "outputId": "86a0b40e-9d4a-4fd9-c4ae-b57fc2e0d1e1"
      },
      "execution_count": 10,
      "outputs": [
        {
          "output_type": "stream",
          "name": "stdout",
          "text": [
            "Are you sure you want to proceed? proceed\n",
            "The dangerous task has been aborted. If you would like to proceed with it, please confirm your decision.\n"
          ]
        }
      ]
    },
    {
      "cell_type": "code",
      "source": [],
      "metadata": {
        "id": "gRKb1zUFWeml"
      },
      "execution_count": null,
      "outputs": []
    }
  ]
}