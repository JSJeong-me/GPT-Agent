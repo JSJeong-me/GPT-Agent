{
  "nbformat": 4,
  "nbformat_minor": 0,
  "metadata": {
    "colab": {
      "provenance": [],
      "gpuType": "T4",
      "authorship_tag": "ABX9TyOdVjoieJMiwGAHzJ5/iEmB",
      "include_colab_link": true
    },
    "kernelspec": {
      "name": "python3",
      "display_name": "Python 3"
    },
    "language_info": {
      "name": "python"
    },
    "accelerator": "GPU"
  },
  "cells": [
    {
      "cell_type": "markdown",
      "metadata": {
        "id": "view-in-github",
        "colab_type": "text"
      },
      "source": [
        "<a href=\"https://colab.research.google.com/github/JSJeong-me/GPT-Agent/blob/main/LlamaIndex/3-State02.ipynb\" target=\"_parent\"><img src=\"https://colab.research.google.com/assets/colab-badge.svg\" alt=\"Open In Colab\"/></a>"
      ]
    },
    {
      "cell_type": "code",
      "source": [
        "!pip install llama-index-core llama-index-utils-workflow llama-index-llms-openai llama-parse llama-index-embeddings-openai llama-index-readers-whisper llama-index-tools-yahoo-finance"
      ],
      "metadata": {
        "id": "6jPOSmIyE_L4"
      },
      "execution_count": null,
      "outputs": []
    },
    {
      "cell_type": "code",
      "source": [
        "from llama_index.llms.openai import OpenAI\n",
        "from llama_index.core.agent.workflow import AgentWorkflow\n",
        "from llama_index.tools.yahoo_finance import YahooFinanceToolSpec\n",
        "from llama_index.core.workflow import Context"
      ],
      "metadata": {
        "id": "QNMGXOFpFKax"
      },
      "execution_count": 2,
      "outputs": []
    },
    {
      "cell_type": "code",
      "source": [
        "from google.colab import userdata\n",
        "import openai\n",
        "import os\n",
        "\n",
        "os.environ[\"OPENAI_API_KEY\"] = userdata.get('OPENAI_API_KEY')\n",
        "openai.api_key  = os.environ[\"OPENAI_API_KEY\"]"
      ],
      "metadata": {
        "id": "ftSX8n6UFl_4"
      },
      "execution_count": 3,
      "outputs": []
    },
    {
      "cell_type": "code",
      "source": [
        "llm = OpenAI(model=\"gpt-4o-mini\")\n",
        "\n",
        "async def set_name(ctx: Context, name: str) -> str:\n",
        "    state = await ctx.get(\"state\")\n",
        "    state[\"name\"] = name\n",
        "    await ctx.set(\"state\", state)\n",
        "    return f\"Name set to {name}\""
      ],
      "metadata": {
        "id": "3k6X9ez3OzxK"
      },
      "execution_count": 4,
      "outputs": []
    },
    {
      "cell_type": "code",
      "source": [
        "workflow = AgentWorkflow.from_tools_or_functions(\n",
        "    [set_name],\n",
        "    llm=llm,\n",
        "    system_prompt=\"You are a helpful assistant that can set a name.\",\n",
        "    initial_state={\"name\": \"unset\"},\n",
        ")"
      ],
      "metadata": {
        "id": "5wwHoUrWPqjh"
      },
      "execution_count": 5,
      "outputs": []
    },
    {
      "cell_type": "code",
      "source": [
        "import asyncio\n",
        "\n",
        "ctx = Context(workflow)\n",
        "\n",
        "# \"What's my name?\" 실행\n",
        "response = await workflow.run(user_msg=\"What's my name?\", ctx=ctx)\n",
        "print(str(response))"
      ],
      "metadata": {
        "colab": {
          "base_uri": "https://localhost:8080/"
        },
        "id": "Bv4hAOe1QDmg",
        "outputId": "9c3b80c8-d6e5-499d-80c7-02017a12596e"
      },
      "execution_count": 6,
      "outputs": [
        {
          "output_type": "stream",
          "name": "stdout",
          "text": [
            "Your name has been set to \"unset.\"\n"
          ]
        }
      ]
    },
    {
      "cell_type": "code",
      "source": [
        "# \"My name is Laurie\" 실행\n",
        "response2 = await workflow.run(user_msg=\"My name is Laurie\", ctx=ctx)\n",
        "print(str(response2))"
      ],
      "metadata": {
        "colab": {
          "base_uri": "https://localhost:8080/"
        },
        "id": "Xv905GVQQFYc",
        "outputId": "ea852867-3412-43ad-bf89-2a896fc10d85"
      },
      "execution_count": 7,
      "outputs": [
        {
          "output_type": "stream",
          "name": "stdout",
          "text": [
            "Your name has been updated to \"Laurie.\"\n"
          ]
        }
      ]
    },
    {
      "cell_type": "code",
      "source": [
        "# state에서 값 직접 가져오기\n",
        "state = await ctx.get(\"state\")\n",
        "print(\"Name as stored in state: \", state[\"name\"])"
      ],
      "metadata": {
        "colab": {
          "base_uri": "https://localhost:8080/"
        },
        "id": "tUrJc43DQINF",
        "outputId": "1d7693c8-0363-4f71-ff76-caadd874f785"
      },
      "execution_count": 8,
      "outputs": [
        {
          "output_type": "stream",
          "name": "stdout",
          "text": [
            "Name as stored in state:  Laurie\n"
          ]
        }
      ]
    },
    {
      "cell_type": "code",
      "source": [
        "# async def main():\n",
        "#     ctx = Context(workflow)\n",
        "\n",
        "#     # check if it knows a name before setting it\n",
        "#     response = await workflow.run(user_msg=\"What's my name?\", ctx=ctx)\n",
        "#     print(str(response))\n",
        "\n",
        "#     # set the name using a tool\n",
        "#     response2 = await workflow.run(user_msg=\"My name is Laurie\", ctx=ctx)\n",
        "#     print(str(response2))\n",
        "\n",
        "#     # retrieve the value from the state directly\n",
        "#     state = await ctx.get(\"state\")\n",
        "#     print(\"Name as stored in state: \",state[\"name\"])\n",
        "\n",
        "# if __name__ == \"__main__\":\n",
        "#     import asyncio\n",
        "#     asyncio.run(main())"
      ],
      "metadata": {
        "id": "Ih4Bi-0APwUJ"
      },
      "execution_count": null,
      "outputs": []
    },
    {
      "cell_type": "code",
      "source": [],
      "metadata": {
        "id": "NQnUm-4AOzkZ"
      },
      "execution_count": null,
      "outputs": []
    }
  ]
}