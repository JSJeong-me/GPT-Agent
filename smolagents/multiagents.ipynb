{
  "cells": [
    {
      "cell_type": "markdown",
      "metadata": {
        "id": "view-in-github",
        "colab_type": "text"
      },
      "source": [
        "<a href=\"https://colab.research.google.com/github/JSJeong-me/GPT-Agent/blob/main/smolagents/multiagents.ipynb\" target=\"_parent\"><img src=\"https://colab.research.google.com/assets/colab-badge.svg\" alt=\"Open In Colab\"/></a>"
      ]
    },
    {
      "cell_type": "code",
      "execution_count": 1,
      "metadata": {
        "id": "CNgH4mS9H6i_",
        "outputId": "4a4568a1-9834-4714-e1db-dc9383512372",
        "colab": {
          "base_uri": "https://localhost:8080/"
        }
      },
      "outputs": [
        {
          "output_type": "stream",
          "name": "stdout",
          "text": [
            "Requirement already satisfied: smolagents in /usr/local/lib/python3.11/dist-packages (1.14.0)\n",
            "Requirement already satisfied: huggingface-hub>=0.28.0 in /usr/local/lib/python3.11/dist-packages (from smolagents) (0.30.2)\n",
            "Requirement already satisfied: requests>=2.32.3 in /usr/local/lib/python3.11/dist-packages (from smolagents) (2.32.3)\n",
            "Requirement already satisfied: rich>=13.9.4 in /usr/local/lib/python3.11/dist-packages (from smolagents) (13.9.4)\n",
            "Requirement already satisfied: jinja2>=3.1.4 in /usr/local/lib/python3.11/dist-packages (from smolagents) (3.1.6)\n",
            "Requirement already satisfied: pillow>=11.0.0 in /usr/local/lib/python3.11/dist-packages (from smolagents) (11.2.1)\n",
            "Requirement already satisfied: markdownify>=0.14.1 in /usr/local/lib/python3.11/dist-packages (from smolagents) (1.1.0)\n",
            "Requirement already satisfied: duckduckgo-search>=6.3.7 in /usr/local/lib/python3.11/dist-packages (from smolagents) (8.0.1)\n",
            "Requirement already satisfied: python-dotenv in /usr/local/lib/python3.11/dist-packages (from smolagents) (1.1.0)\n",
            "Requirement already satisfied: click>=8.1.8 in /usr/local/lib/python3.11/dist-packages (from duckduckgo-search>=6.3.7->smolagents) (8.1.8)\n",
            "Requirement already satisfied: primp>=0.15.0 in /usr/local/lib/python3.11/dist-packages (from duckduckgo-search>=6.3.7->smolagents) (0.15.0)\n",
            "Requirement already satisfied: lxml>=5.3.0 in /usr/local/lib/python3.11/dist-packages (from duckduckgo-search>=6.3.7->smolagents) (5.4.0)\n",
            "Requirement already satisfied: filelock in /usr/local/lib/python3.11/dist-packages (from huggingface-hub>=0.28.0->smolagents) (3.18.0)\n",
            "Requirement already satisfied: fsspec>=2023.5.0 in /usr/local/lib/python3.11/dist-packages (from huggingface-hub>=0.28.0->smolagents) (2025.3.2)\n",
            "Requirement already satisfied: packaging>=20.9 in /usr/local/lib/python3.11/dist-packages (from huggingface-hub>=0.28.0->smolagents) (24.2)\n",
            "Requirement already satisfied: pyyaml>=5.1 in /usr/local/lib/python3.11/dist-packages (from huggingface-hub>=0.28.0->smolagents) (6.0.2)\n",
            "Requirement already satisfied: tqdm>=4.42.1 in /usr/local/lib/python3.11/dist-packages (from huggingface-hub>=0.28.0->smolagents) (4.67.1)\n",
            "Requirement already satisfied: typing-extensions>=3.7.4.3 in /usr/local/lib/python3.11/dist-packages (from huggingface-hub>=0.28.0->smolagents) (4.13.2)\n",
            "Requirement already satisfied: MarkupSafe>=2.0 in /usr/local/lib/python3.11/dist-packages (from jinja2>=3.1.4->smolagents) (3.0.2)\n",
            "Requirement already satisfied: beautifulsoup4<5,>=4.9 in /usr/local/lib/python3.11/dist-packages (from markdownify>=0.14.1->smolagents) (4.13.4)\n",
            "Requirement already satisfied: six<2,>=1.15 in /usr/local/lib/python3.11/dist-packages (from markdownify>=0.14.1->smolagents) (1.17.0)\n",
            "Requirement already satisfied: charset-normalizer<4,>=2 in /usr/local/lib/python3.11/dist-packages (from requests>=2.32.3->smolagents) (3.4.1)\n",
            "Requirement already satisfied: idna<4,>=2.5 in /usr/local/lib/python3.11/dist-packages (from requests>=2.32.3->smolagents) (3.10)\n",
            "Requirement already satisfied: urllib3<3,>=1.21.1 in /usr/local/lib/python3.11/dist-packages (from requests>=2.32.3->smolagents) (2.4.0)\n",
            "Requirement already satisfied: certifi>=2017.4.17 in /usr/local/lib/python3.11/dist-packages (from requests>=2.32.3->smolagents) (2025.4.26)\n",
            "Requirement already satisfied: markdown-it-py>=2.2.0 in /usr/local/lib/python3.11/dist-packages (from rich>=13.9.4->smolagents) (3.0.0)\n",
            "Requirement already satisfied: pygments<3.0.0,>=2.13.0 in /usr/local/lib/python3.11/dist-packages (from rich>=13.9.4->smolagents) (2.19.1)\n",
            "Requirement already satisfied: soupsieve>1.2 in /usr/local/lib/python3.11/dist-packages (from beautifulsoup4<5,>=4.9->markdownify>=0.14.1->smolagents) (2.7)\n",
            "Requirement already satisfied: mdurl~=0.1 in /usr/local/lib/python3.11/dist-packages (from markdown-it-py>=2.2.0->rich>=13.9.4->smolagents) (0.1.2)\n"
          ]
        }
      ],
      "source": [
        "# Installation\n",
        "! pip install smolagents\n",
        "# To install from source instead of the last release, comment the command above and uncomment the following one.\n",
        "# ! pip install git+https://github.com/huggingface/smolagents.git"
      ]
    },
    {
      "cell_type": "markdown",
      "metadata": {
        "id": "0CsQuWEwH6jC"
      },
      "source": [
        "# Orchestrate a multi-agent system 🤖🤝🤖"
      ]
    },
    {
      "cell_type": "markdown",
      "metadata": {
        "id": "WH-nTjkkH6jD"
      },
      "source": [
        "In this notebook we will make a **multi-agent web browser: an agentic system with several agents collaborating to solve problems using the web!**\n",
        "\n",
        "It will be a simple hierarchy:\n",
        "\n",
        "```\n",
        "              +----------------+\n",
        "              | Manager agent  |\n",
        "              +----------------+\n",
        "                       |\n",
        "        _______________|______________\n",
        "       |                              |\n",
        "Code Interpreter            +------------------+\n",
        "    tool                    | Web Search agent |\n",
        "                            +------------------+\n",
        "                               |            |\n",
        "                        Web Search tool     |\n",
        "                                   Visit webpage tool\n",
        "```\n",
        "Let's set up this system.\n",
        "\n",
        "Run the line below to install the required dependencies:"
      ]
    },
    {
      "cell_type": "code",
      "execution_count": 2,
      "metadata": {
        "id": "4frBzuvgH6jE",
        "outputId": "c5f263de-d9c6-4be4-8a02-05a10678139b",
        "colab": {
          "base_uri": "https://localhost:8080/"
        }
      },
      "outputs": [
        {
          "output_type": "stream",
          "name": "stdout",
          "text": [
            "\u001b[33mWARNING: smolagents 1.14.0 does not provide the extra 'toolkit'\u001b[0m\u001b[33m\n",
            "\u001b[0m"
          ]
        }
      ],
      "source": [
        "!pip install markdownify smolagents[toolkit] --upgrade -q"
      ]
    },
    {
      "cell_type": "markdown",
      "metadata": {
        "id": "cJ7MS5veH6jE"
      },
      "source": [
        "Let's login to HF in order to call Inference Providers:"
      ]
    },
    {
      "cell_type": "code",
      "execution_count": null,
      "metadata": {
        "id": "aET1fL_MH6jF"
      },
      "outputs": [],
      "source": [
        "from huggingface_hub import login\n",
        "\n",
        "login()"
      ]
    },
    {
      "cell_type": "markdown",
      "metadata": {
        "id": "kg9K_2DVH6jF"
      },
      "source": [
        "⚡️ Our agent will be powered by [Qwen/Qwen2.5-Coder-32B-Instruct](https://huggingface.co/Qwen/Qwen2.5-Coder-32B-Instruct) using `InferenceClientModel` class that uses HF's Inference API: the Inference API allows to quickly and easily run any OS model.\n",
        "\n",
        "_Note:_ The Inference API hosts models based on various criteria, and deployed models may be updated or replaced without prior notice. Learn more about it [here](https://huggingface.co/docs/api-inference/supported-models)."
      ]
    },
    {
      "cell_type": "code",
      "execution_count": 4,
      "metadata": {
        "id": "604CU4yiH6jF"
      },
      "outputs": [],
      "source": [
        "# model_id = \"Qwen/Qwen3-235B-A22B\"  # Qwen/Qwen3-235B-A22B Qwen/Qwen2.5-Coder-32B-Instruct"
      ]
    },
    {
      "cell_type": "code",
      "source": [
        "model_id = \"meta-llama/Llama-3.3-70B-Instruct\" # meta-llama/Llama-3.3-70B-Instruct meta-llama/Llama-3.1-8B-Instruct"
      ],
      "metadata": {
        "id": "GSu7mft-Ky-p"
      },
      "execution_count": 5,
      "outputs": []
    },
    {
      "cell_type": "markdown",
      "metadata": {
        "id": "c305xqzvH6jG"
      },
      "source": [
        "## 🔍 Create a web search tool"
      ]
    },
    {
      "cell_type": "markdown",
      "metadata": {
        "id": "ESJfzNcUH6jG"
      },
      "source": [
        "For web browsing, we can already use our pre-existing [`DuckDuckGoSearchTool`](https://github.com/huggingface/smolagents/blob/main/src/smolagents/default_tools.py#L151-L176) tool to provide a Google search equivalent.\n",
        "\n",
        "But then we will also need to be able to peak into the page found by the `DuckDuckGoSearchTool`.\n",
        "To do so, we could import the library's built-in `VisitWebpageTool`, but we will build it again to see how it's done.\n",
        "\n",
        "So let's create our `VisitWebpageTool` tool from scratch using `markdownify`."
      ]
    },
    {
      "cell_type": "code",
      "execution_count": 6,
      "metadata": {
        "id": "MEtqKX4KH6jG"
      },
      "outputs": [],
      "source": [
        "import re\n",
        "import requests\n",
        "from markdownify import markdownify\n",
        "from requests.exceptions import RequestException\n",
        "from smolagents import tool\n",
        "\n",
        "\n",
        "@tool\n",
        "def visit_webpage(url: str) -> str:\n",
        "    \"\"\"Visits a webpage at the given URL and returns its content as a markdown string.\n",
        "\n",
        "    Args:\n",
        "        url: The URL of the webpage to visit.\n",
        "\n",
        "    Returns:\n",
        "        The content of the webpage converted to Markdown, or an error message if the request fails.\n",
        "    \"\"\"\n",
        "    try:\n",
        "        # Send a GET request to the URL\n",
        "        response = requests.get(url)\n",
        "        response.raise_for_status()  # Raise an exception for bad status codes\n",
        "\n",
        "        # Convert the HTML content to Markdown\n",
        "        markdown_content = markdownify(response.text).strip()\n",
        "\n",
        "        # Remove multiple line breaks\n",
        "        markdown_content = re.sub(r\"\\n{3,}\", \"\\n\\n\", markdown_content)\n",
        "\n",
        "        return markdown_content\n",
        "\n",
        "    except RequestException as e:\n",
        "        return f\"Error fetching the webpage: {str(e)}\"\n",
        "    except Exception as e:\n",
        "        return f\"An unexpected error occurred: {str(e)}\""
      ]
    },
    {
      "cell_type": "markdown",
      "metadata": {
        "id": "bkInBuOwH6jH"
      },
      "source": [
        "Ok, now let's initialize and test our tool!"
      ]
    },
    {
      "cell_type": "code",
      "execution_count": 7,
      "metadata": {
        "id": "1PD6gYwCH6jH",
        "outputId": "8f7d0cc0-6132-4918-a51b-4304b2259f92",
        "colab": {
          "base_uri": "https://localhost:8080/"
        }
      },
      "outputs": [
        {
          "output_type": "stream",
          "name": "stdout",
          "text": [
            "Hugging Face - Wikipedia\n",
            "\n",
            "[Jump to content](#bodyContent)\n",
            "\n",
            "Main menu\n",
            "\n",
            "Main menu\n",
            "\n",
            "move to sidebar\n",
            "hide\n",
            "\n",
            "Navigation\n",
            "\n",
            "* [Main page](/wiki/Main_Page \"Visit the main page [z]\")\n",
            "* [Contents](/wiki/Wikipedia:Contents \"Guides to browsing Wikipedia\")\n",
            "* [Current events](/wiki/Portal:Current_events \"Articles related to current events\")\n",
            "* [Random article](/wiki/Special:Random \"Visit a randomly selected article [x]\")\n",
            "* [About Wikipedia](/wiki/Wikipedia:About \"Learn about Wikipedia and how it works\")\n",
            "* [Conta\n"
          ]
        }
      ],
      "source": [
        "print(visit_webpage(\"https://en.wikipedia.org/wiki/Hugging_Face\")[:500])"
      ]
    },
    {
      "cell_type": "markdown",
      "metadata": {
        "id": "UDh8L4nxH6jH"
      },
      "source": [
        "## Build our multi-agent system 🤖🤝🤖"
      ]
    },
    {
      "cell_type": "markdown",
      "metadata": {
        "id": "9RG--lzNH6jH"
      },
      "source": [
        "Now that we have all the tools `search` and `visit_webpage`, we can use them to create the web agent.\n",
        "\n",
        "Which configuration to choose for this agent?\n",
        "- Web browsing is a single-timeline task that does not require parallel tool calls, so JSON tool calling works well for that. We thus choose a `ToolCallingAgent`.\n",
        "- Also, since sometimes web search requires exploring many pages before finding the correct answer, we prefer to increase the number of `max_steps` to 10."
      ]
    },
    {
      "cell_type": "code",
      "execution_count": 8,
      "metadata": {
        "id": "9YOXWekhH6jH"
      },
      "outputs": [],
      "source": [
        "from smolagents import (\n",
        "    CodeAgent,\n",
        "    ToolCallingAgent,\n",
        "    InferenceClientModel,\n",
        "    DuckDuckGoSearchTool,\n",
        "    LiteLLMModel,\n",
        ")\n",
        "\n",
        "model = InferenceClientModel(model_id=model_id)\n",
        "\n",
        "web_agent = ToolCallingAgent(\n",
        "    tools=[DuckDuckGoSearchTool(), visit_webpage],\n",
        "    model=model,\n",
        "    max_steps=10,\n",
        "    name=\"web_search_agent\",\n",
        "    description=\"Runs web searches for you.\",\n",
        ")"
      ]
    },
    {
      "cell_type": "markdown",
      "metadata": {
        "id": "k__TuNX9H6jI"
      },
      "source": [
        "Note that we gave this agent attributes `name` and `description`, mandatory attributes to make this agent callable by its manager agent.\n",
        "\n",
        "Then we create a manager agent, and upon initialization we pass our managed agent to it in its `managed_agents` argument.\n",
        "\n",
        "Since this agent is the one tasked with the planning and thinking, advanced reasoning will be beneficial, so a `CodeAgent` will be the best choice.\n",
        "\n",
        "Also, we want to ask a question that involves the current year and does additional data calculations: so let us add `additional_authorized_imports=[\"time\", \"numpy\", \"pandas\"]`, just in case the agent needs these packages."
      ]
    },
    {
      "cell_type": "code",
      "execution_count": 9,
      "metadata": {
        "id": "j3jZXnqEH6jI"
      },
      "outputs": [],
      "source": [
        "manager_agent = CodeAgent(\n",
        "    tools=[],\n",
        "    model=model,\n",
        "    managed_agents=[web_agent],\n",
        "    additional_authorized_imports=[\"time\", \"numpy\", \"pandas\"],\n",
        ")"
      ]
    },
    {
      "cell_type": "markdown",
      "metadata": {
        "id": "suTisx4rH6jI"
      },
      "source": [
        "That's all! Now let's run our system! We select a question that requires both some calculation and research:"
      ]
    },
    {
      "cell_type": "code",
      "execution_count": null,
      "metadata": {
        "id": "qgQ1vVVDH6jI"
      },
      "outputs": [],
      "source": [
        "answer = manager_agent.run(\"If LLM training continues to scale up at the current rhythm until 2030, what would be the electric power in GW required to power the biggest training runs by 2030? What would that correspond to, compared to some countries? Please provide a source for any numbers used.\")"
      ]
    },
    {
      "cell_type": "markdown",
      "metadata": {
        "id": "oxzml1A3H6jI"
      },
      "source": [
        "We get this report as the answer:\n",
        "```\n",
        "Based on current growth projections and energy consumption estimates, if LLM trainings continue to scale up at the\n",
        "current rhythm until 2030:\n",
        "\n",
        "1. The electric power required to power the biggest training runs by 2030 would be approximately 303.74 GW, which\n",
        "translates to about 2,660,762 GWh/year.\n",
        "\n",
        "2. Comparing this to countries' electricity consumption:\n",
        "   - It would be equivalent to about 34% of China's total electricity consumption.\n",
        "   - It would exceed the total electricity consumption of India (184%), Russia (267%), and Japan (291%).\n",
        "   - It would be nearly 9 times the electricity consumption of countries like Italy or Mexico.\n",
        "\n",
        "3. Source of numbers:\n",
        "   - The initial estimate of 5 GW for future LLM training comes from AWS CEO Matt Garman.\n",
        "   - The growth projection used a CAGR of 79.80% from market research by Springs.\n",
        "   - Country electricity consumption data is from the U.S. Energy Information Administration, primarily for the year\n",
        "2021.\n",
        "```\n",
        "\n",
        "Seems like we'll need some sizeable powerplants if the [scaling hypothesis](https://gwern.net/scaling-hypothesis) continues to hold true.\n",
        "\n",
        "Our agents managed to efficiently collaborate towards solving the task! ✅\n",
        "\n",
        "💡 You can easily extend this orchestration to more agents: one does the code execution, one the web search, one handles file loadings..."
      ]
    }
  ],
  "metadata": {
    "colab": {
      "provenance": [],
      "gpuType": "T4",
      "include_colab_link": true
    },
    "accelerator": "GPU",
    "language_info": {
      "name": "python"
    },
    "kernelspec": {
      "name": "python3",
      "display_name": "Python 3"
    }
  },
  "nbformat": 4,
  "nbformat_minor": 0
}