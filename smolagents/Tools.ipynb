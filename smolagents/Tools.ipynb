{
  "nbformat": 4,
  "nbformat_minor": 0,
  "metadata": {
    "colab": {
      "provenance": [],
      "gpuType": "T4",
      "authorship_tag": "ABX9TyM3K7w74lQrAgOqmTrtQ9hl",
      "include_colab_link": true
    },
    "kernelspec": {
      "name": "python3",
      "display_name": "Python 3"
    },
    "language_info": {
      "name": "python"
    },
    "accelerator": "GPU"
  },
  "cells": [
    {
      "cell_type": "markdown",
      "metadata": {
        "id": "view-in-github",
        "colab_type": "text"
      },
      "source": [
        "<a href=\"https://colab.research.google.com/github/JSJeong-me/GPT-Agent/blob/main/smolagents/Tools.ipynb\" target=\"_parent\"><img src=\"https://colab.research.google.com/assets/colab-badge.svg\" alt=\"Open In Colab\"/></a>"
      ]
    },
    {
      "cell_type": "code",
      "source": [
        "!pip install smolagents gradio-client"
      ],
      "metadata": {
        "id": "02sAyyA5EUb5"
      },
      "execution_count": null,
      "outputs": []
    },
    {
      "cell_type": "code",
      "execution_count": 2,
      "metadata": {
        "id": "wpxYuylSEIm5"
      },
      "outputs": [],
      "source": [
        "from smolagents import Tool\n",
        "\n",
        "class HFModelDownloadsTool(Tool):\n",
        "    name = \"model_download_counter\"\n",
        "    description = \"\"\"\n",
        "    This is a tool that returns the most downloaded model of a given task on the Hugging Face Hub.\n",
        "    It returns the name of the checkpoint.\"\"\"\n",
        "    inputs = {\n",
        "        \"task\": {\n",
        "            \"type\": \"string\",\n",
        "            \"description\": \"the task category (such as text-classification, depth-estimation, etc)\",\n",
        "        }\n",
        "    }\n",
        "    output_type = \"string\"\n",
        "\n",
        "    def forward(self, task: str):\n",
        "        from huggingface_hub import list_models\n",
        "\n",
        "        model = next(iter(list_models(filter=task, sort=\"downloads\", direction=-1)))\n",
        "        return model.id\n",
        "\n",
        "model_downloads_tool = HFModelDownloadsTool()"
      ]
    },
    {
      "cell_type": "code",
      "source": [
        "# from smolagents import load_tool, CodeAgent\n",
        "\n",
        "# model_download_tool = load_tool(\n",
        "#     \"{your_username}/hf-model-downloads\",\n",
        "#     trust_remote_code=True\n",
        "# )"
      ],
      "metadata": {
        "id": "jNElakZRFLt8"
      },
      "execution_count": null,
      "outputs": []
    },
    {
      "cell_type": "markdown",
      "source": [
        "## Import a Space as a tool"
      ],
      "metadata": {
        "id": "8uwsTCRzFWVf"
      }
    },
    {
      "cell_type": "code",
      "source": [
        "image_generation_tool = Tool.from_space(\n",
        "    \"black-forest-labs/FLUX.1-schnell\",\n",
        "    name=\"image_generator\",\n",
        "    description=\"Generate an image from a prompt\"\n",
        ")\n",
        "\n",
        "image_generation_tool(\"A sunny beach\")"
      ],
      "metadata": {
        "id": "239llIzIEkKN"
      },
      "execution_count": null,
      "outputs": []
    }
  ]
}