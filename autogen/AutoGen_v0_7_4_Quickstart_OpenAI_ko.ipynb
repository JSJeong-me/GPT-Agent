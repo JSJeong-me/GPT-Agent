{
  "cells": [
    {
      "cell_type": "markdown",
      "metadata": {
        "id": "view-in-github",
        "colab_type": "text"
      },
      "source": [
        "<a href=\"https://colab.research.google.com/github/JSJeong-me/GPT-Agent/blob/main/autogen/AutoGen_v0_7_4_Quickstart_OpenAI_ko.ipynb\" target=\"_parent\"><img src=\"https://colab.research.google.com/assets/colab-badge.svg\" alt=\"Open In Colab\"/></a>"
      ]
    },
    {
      "cell_type": "markdown",
      "metadata": {
        "id": "jWuypjLAkz4q"
      },
      "source": [
        "# AutoGen v0.7.4 Quickstart (OpenAI 버전 · Colab 실습)\n",
        "\n",
        "이 노트북은 Microsoft AutoGen v0.7.4의 **AgentChat Quickstart**를 OpenAI 모델 기반으로 한글 실습 예제로 재작성한 것입니다.\n",
        "\n",
        "## 목표\n",
        "- OpenAI GPT 모델(`gpt-4o`, `gpt-4o-mini` 등)을 사용하는 **AssistantAgent** 구성\n",
        "- 파이썬 함수를 도구(Tool)로 등록하여 에이전트가 직접 호출\n",
        "- `.run_stream()`을 활용한 실시간 스트리밍 응답 확인\n",
        "- Colab에서 한글 환경으로 실습"
      ],
      "id": "jWuypjLAkz4q"
    },
    {
      "cell_type": "code",
      "execution_count": 1,
      "metadata": {
        "colab": {
          "base_uri": "https://localhost:8080/"
        },
        "id": "weZx1dC6kz4s",
        "outputId": "3471ca35-c15a-4be7-967c-f7cc51d62703"
      },
      "outputs": [
        {
          "output_type": "stream",
          "name": "stdout",
          "text": [
            "\u001b[2K   \u001b[90m━━━━━━━━━━━━━━━━━━━━━━━━━━━━━━━━━━━━━━━━\u001b[0m \u001b[32m119.1/119.1 kB\u001b[0m \u001b[31m10.9 MB/s\u001b[0m eta \u001b[36m0:00:00\u001b[0m\n",
            "\u001b[2K   \u001b[90m━━━━━━━━━━━━━━━━━━━━━━━━━━━━━━━━━━━━━━━━\u001b[0m \u001b[32m101.6/101.6 kB\u001b[0m \u001b[31m9.8 MB/s\u001b[0m eta \u001b[36m0:00:00\u001b[0m\n",
            "\u001b[2K   \u001b[90m━━━━━━━━━━━━━━━━━━━━━━━━━━━━━━━━━━━━━━━━\u001b[0m \u001b[32m328.9/328.9 kB\u001b[0m \u001b[31m33.6 MB/s\u001b[0m eta \u001b[36m0:00:00\u001b[0m\n",
            "\u001b[?25h"
          ]
        }
      ],
      "source": [
        "# 0) 필수 라이브러리 설치\n",
        "!pip install -q \"autogen-agentchat\" \"autogen-ext[openai]\" nest_asyncio\n",
        "import nest_asyncio\n",
        "nest_asyncio.apply()\n"
      ],
      "id": "weZx1dC6kz4s"
    },
    {
      "cell_type": "markdown",
      "metadata": {
        "id": "ZMkRCjRUkz4t"
      },
      "source": [
        "## 1. OpenAI API 키 설정\n",
        "- OpenAI 모델을 사용하기 위해 **OPENAI_API_KEY** 환경 변수를 설정해야 합니다.\n",
        "- Colab에서는 아래 셀에서 직접 입력하거나, **런타임 > 환경 변수** 메뉴를 사용하세요."
      ],
      "id": "ZMkRCjRUkz4t"
    },
    {
      "cell_type": "code",
      "execution_count": 2,
      "metadata": {
        "id": "FFnwSF_Ekz4t"
      },
      "outputs": [],
      "source": [
        "from google.colab import userdata\n",
        "import openai\n",
        "import os\n",
        "\n",
        "os.environ[\"OPENAI_API_KEY\"] = userdata.get('OPENAI_API_KEY')\n",
        "openai.api_key  = os.environ[\"OPENAI_API_KEY\"]"
      ],
      "id": "FFnwSF_Ekz4t"
    },
    {
      "cell_type": "markdown",
      "metadata": {
        "id": "Lw2kiF1Fkz4u"
      },
      "source": [
        "## 2. 모델 클라이언트 생성\n",
        "- OpenAI의 ChatCompletionClient를 사용하여 모델 클라이언트를 생성합니다.\n",
        "- 기본값은 `gpt-4o-mini`이지만 필요에 따라 변경 가능합니다."
      ],
      "id": "Lw2kiF1Fkz4u"
    },
    {
      "cell_type": "code",
      "execution_count": 3,
      "metadata": {
        "colab": {
          "base_uri": "https://localhost:8080/"
        },
        "id": "vnFKZ45xkz4u",
        "outputId": "14c23262-17a2-4782-9150-f589caaff7c6"
      },
      "outputs": [
        {
          "output_type": "stream",
          "name": "stdout",
          "text": [
            "✅ OpenAI 모델 클라이언트 초기화 완료\n"
          ]
        }
      ],
      "source": [
        "from autogen_ext.models.openai import OpenAIChatCompletionClient\n",
        "\n",
        "model_client = OpenAIChatCompletionClient(\n",
        "    model=\"gpt-4o-mini\"  # gpt-4o, gpt-4.1, gpt-4o-mini 등 교체 가능\n",
        ")\n",
        "print(\"✅ OpenAI 모델 클라이언트 초기화 완료\")"
      ],
      "id": "vnFKZ45xkz4u"
    },
    {
      "cell_type": "markdown",
      "metadata": {
        "id": "JvleqNbvkz4v"
      },
      "source": [
        "## 3. 도구(Tool) 정의\n",
        "- 에이전트가 호출할 수 있는 함수를 등록합니다.\n",
        "- AutoGen은 **파라미터 타입힌트**를 활용해 자동으로 LLM 함수콜을 매핑합니다."
      ],
      "id": "JvleqNbvkz4v"
    },
    {
      "cell_type": "code",
      "execution_count": 4,
      "metadata": {
        "colab": {
          "base_uri": "https://localhost:8080/"
        },
        "id": "0ZEZ93jokz4w",
        "outputId": "7e3c786d-8d93-40bd-b1e4-1fad9ffb874e"
      },
      "outputs": [
        {
          "output_type": "stream",
          "name": "stdout",
          "text": [
            "현재 서울의 날씨는 맑고 25도입니다.\n"
          ]
        }
      ],
      "source": [
        "async def get_weather(city: str) -> str:\n",
        "    \"\"\"도시명을 입력받아 날씨 정보를 반환합니다.\"\"\"\n",
        "    return f\"현재 {city}의 날씨는 맑고 25도입니다.\"\n",
        "\n",
        "print(await get_weather(\"서울\"))"
      ],
      "id": "0ZEZ93jokz4w"
    },
    {
      "cell_type": "markdown",
      "metadata": {
        "id": "CCGG6ftPkz4x"
      },
      "source": [
        "## 4. AssistantAgent 생성\n",
        "- OpenAI 모델 클라이언트와 툴을 등록하여 에이전트를 구성합니다.\n",
        "- `reflect_on_tool_use=True` 설정 시, 도구 사용 후 자체 점검 단계가 추가됩니다.\n",
        "- `model_client_stream=True` 설정으로 실시간 스트리밍 응답을 지원합니다."
      ],
      "id": "CCGG6ftPkz4x"
    },
    {
      "cell_type": "code",
      "execution_count": 5,
      "metadata": {
        "colab": {
          "base_uri": "https://localhost:8080/"
        },
        "id": "X8LK4r8ikz4x",
        "outputId": "f65a38ee-bf44-4b75-a8c0-6532fb3c5c03"
      },
      "outputs": [
        {
          "output_type": "stream",
          "name": "stdout",
          "text": [
            "✅ AssistantAgent 초기화 완료\n"
          ]
        }
      ],
      "source": [
        "from autogen_agentchat.agents import AssistantAgent\n",
        "\n",
        "agent = AssistantAgent(\n",
        "    name=\"weather_agent\",\n",
        "    model_client=model_client,\n",
        "    tools=[get_weather],\n",
        "    system_message=\"You are a helpful assistant.\",\n",
        "    reflect_on_tool_use=True,\n",
        "    model_client_stream=True,\n",
        ")\n",
        "print(\"✅ AssistantAgent 초기화 완료\")"
      ],
      "id": "X8LK4r8ikz4x"
    },
    {
      "cell_type": "markdown",
      "metadata": {
        "id": "WKcz995-kz4y"
      },
      "source": [
        "## 5. 스트리밍 실행\n",
        "- `.run_stream()` 메서드를 사용해 에이전트의 답변을 실시간으로 확인할 수 있습니다.\n",
        "- `Console` UI를 사용하면 함수 호출 → 실행 결과 → 최종 답변 과정을 쉽게 추적할 수 있습니다."
      ],
      "id": "WKcz995-kz4y"
    },
    {
      "cell_type": "code",
      "execution_count": 6,
      "metadata": {
        "colab": {
          "base_uri": "https://localhost:8080/"
        },
        "id": "P4All9-Skz4y",
        "outputId": "0709fa22-0d99-49d0-9290-d594108e20e5"
      },
      "outputs": [
        {
          "output_type": "stream",
          "name": "stdout",
          "text": [
            "---------- TextMessage (user) ----------\n",
            "뉴욕의 현재 날씨를 알려줘\n",
            "---------- ToolCallRequestEvent (weather_agent) ----------\n",
            "[FunctionCall(id='call_xwA0k8fZkYHtWg78F41ZYrxd', arguments='{\"city\":\"New York\"}', name='get_weather')]\n",
            "---------- ToolCallExecutionEvent (weather_agent) ----------\n",
            "[FunctionExecutionResult(content='현재 New York의 날씨는 맑고 25도입니다.', name='get_weather', call_id='call_xwA0k8fZkYHtWg78F41ZYrxd', is_error=False)]\n",
            "---------- ModelClientStreamingChunkEvent (weather_agent) ----------\n",
            "현재 뉴욕의 날씨는 맑고 기온은 25도입니다.\n"
          ]
        }
      ],
      "source": [
        "import asyncio\n",
        "from autogen_agentchat.ui import Console\n",
        "\n",
        "async def main():\n",
        "    await Console(agent.run_stream(task=\"뉴욕의 현재 날씨를 알려줘\"))\n",
        "    await model_client.close()\n",
        "\n",
        "await main()"
      ],
      "id": "P4All9-Skz4y"
    },
    {
      "cell_type": "markdown",
      "metadata": {
        "id": "QgmTHtt5kz4y"
      },
      "source": [
        "## 6. 실습 과제\n",
        "1) **새로운 도구 추가**: `get_weather` 외에 다른 함수를 만들어 추가해보세요. (예: 환율 조회, 계산기)\n",
        "2) **프롬프트 가드레일 적용**: 시스템 메시지를 수정하여 에이전트의 답변 방식을 제어해보세요.\n",
        "3) **다중 도구 실습**: 여러 함수를 등록하고 LLM이 자동으로 선택하도록 설정해보세요.\n",
        "4) **스트리밍 분석**: `Console` 출력 로그를 통해 함수 호출 및 결과 과정을 분석해보세요."
      ],
      "id": "QgmTHtt5kz4y"
    },
    {
      "cell_type": "markdown",
      "metadata": {
        "id": "EGWm7opzkz4z"
      },
      "source": [
        "## 7. 참고 링크\n",
        "- [AutoGen AgentChat Quickstart 공식 문서](https://microsoft.github.io/autogen/stable/user-guide/agentchat-user-guide/quickstart.html)\n",
        "- [AutoGen GitHub 저장소](https://github.com/microsoft/autogen)\n",
        "- [OpenAI API 키 발급](https://platform.openai.com/account/api-keys)\n"
      ],
      "id": "EGWm7opzkz4z"
    }
  ],
  "metadata": {
    "kernelspec": {
      "display_name": "Python 3",
      "name": "python3"
    },
    "language_info": {
      "name": "python",
      "version": "3.10"
    },
    "colab": {
      "provenance": [],
      "gpuType": "T4",
      "include_colab_link": true
    },
    "accelerator": "GPU"
  },
  "nbformat": 4,
  "nbformat_minor": 5
}