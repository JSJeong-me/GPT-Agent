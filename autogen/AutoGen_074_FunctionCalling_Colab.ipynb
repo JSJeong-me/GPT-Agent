{
  "cells": [
    {
      "cell_type": "markdown",
      "metadata": {
        "id": "view-in-github",
        "colab_type": "text"
      },
      "source": [
        "<a href=\"https://colab.research.google.com/github/JSJeong-me/GPT-Agent/blob/main/autogen/AutoGen_074_FunctionCalling_Colab.ipynb\" target=\"_parent\"><img src=\"https://colab.research.google.com/assets/colab-badge.svg\" alt=\"Open In Colab\"/></a>"
      ]
    },
    {
      "cell_type": "markdown",
      "metadata": {
        "id": "UCsIIF01-ZlP"
      },
      "source": [
        "# 🧪 OpenAI Function Calling with AutoGen **0.7.4** — Colab Lab\n",
        "\n",
        "이 노트북은 **AutoGen 0.7.4 (stable)** 에서 **OpenAI Function Calling**을 사용하는 방법을 실습합니다.  \n",
        "구성: 설치 → 버전 확인 → API Key 설정 → **FunctionTool** 데모 → **다중툴/반복호출** → **BDI 팀 실습** → 과제"
      ],
      "id": "UCsIIF01-ZlP"
    },
    {
      "cell_type": "markdown",
      "metadata": {
        "id": "2OXOsezy-ZlQ"
      },
      "source": [
        "> **주의:** 본 노트북은 교육 목적 예제입니다. 외부 API 요금/정책을 확인하고 사용하세요.  \n",
        "> GPU 불필요. OpenAI API Key 필요."
      ],
      "id": "2OXOsezy-ZlQ"
    },
    {
      "cell_type": "markdown",
      "metadata": {
        "id": "ImJmxlOO-ZlR"
      },
      "source": [
        "## 1) 설치 — AutoGen 0.7.4 고정"
      ],
      "id": "ImJmxlOO-ZlR"
    },
    {
      "cell_type": "code",
      "metadata": {
        "colab": {
          "base_uri": "https://localhost:8080/"
        },
        "id": "Bb0xYXWk-ZlR",
        "outputId": "7ac062e0-a206-4080-db5b-013dd37725c1"
      },
      "execution_count": 1,
      "outputs": [
        {
          "output_type": "stream",
          "name": "stdout",
          "text": [
            "\u001b[?25l   \u001b[90m━━━━━━━━━━━━━━━━━━━━━━━━━━━━━━━━━━━━━━━━\u001b[0m \u001b[32m0.0/1.8 MB\u001b[0m \u001b[31m?\u001b[0m eta \u001b[36m-:--:--\u001b[0m\r\u001b[2K   \u001b[91m━━━━━━━━━━━━━━━━\u001b[0m\u001b[90m╺\u001b[0m\u001b[90m━━━━━━━━━━━━━━━━━━━━━━━\u001b[0m \u001b[32m0.7/1.8 MB\u001b[0m \u001b[31m21.3 MB/s\u001b[0m eta \u001b[36m0:00:01\u001b[0m\r\u001b[2K   \u001b[90m━━━━━━━━━━━━━━━━━━━━━━━━━━━━━━━━━━━━━━━━\u001b[0m \u001b[32m1.8/1.8 MB\u001b[0m \u001b[31m30.6 MB/s\u001b[0m eta \u001b[36m0:00:00\u001b[0m\n",
            "\u001b[?25h"
          ]
        }
      ],
      "source": [
        "%pip -q install --upgrade pip\n",
        "%pip -q install \"autogen-agentchat==0.7.4\" \"autogen-core==0.7.4\" \"autogen-ext[openai]==0.7.4\""
      ],
      "id": "Bb0xYXWk-ZlR"
    },
    {
      "cell_type": "markdown",
      "metadata": {
        "id": "rrZe4zhL-ZlT"
      },
      "source": [
        "## 2) 버전 확인"
      ],
      "id": "rrZe4zhL-ZlT"
    },
    {
      "cell_type": "code",
      "metadata": {
        "colab": {
          "base_uri": "https://localhost:8080/"
        },
        "id": "0IJ1_FYs-ZlT",
        "outputId": "dae629c0-ceef-4791-ef12-aa67ce2bdab6"
      },
      "execution_count": 2,
      "outputs": [
        {
          "output_type": "stream",
          "name": "stderr",
          "text": [
            "/tmp/ipython-input-3950987313.py:1: DeprecationWarning: pkg_resources is deprecated as an API. See https://setuptools.pypa.io/en/latest/pkg_resources.html\n",
            "  import pkg_resources, sys, platform\n"
          ]
        },
        {
          "output_type": "stream",
          "name": "stdout",
          "text": [
            "Python: 3.12.11 (main, Jun  4 2025, 08:56:18) [GCC 11.4.0]\n",
            "Platform: Linux-6.1.123+-x86_64-with-glibc2.35\n",
            "autogen-agentchat 0.7.4\n",
            "autogen-core 0.7.4\n",
            "autogen-ext 0.7.4\n"
          ]
        }
      ],
      "source": [
        "import pkg_resources, sys, platform\n",
        "pkgs = [\"autogen-agentchat\", \"autogen-core\", \"autogen-ext\"]\n",
        "print(\"Python:\", sys.version)\n",
        "print(\"Platform:\", platform.platform())\n",
        "for p in pkgs:\n",
        "    try:\n",
        "        print(p, pkg_resources.get_distribution(p).version)\n",
        "    except Exception as e:\n",
        "        print(p, \"not found:\", e)"
      ],
      "id": "0IJ1_FYs-ZlT"
    },
    {
      "cell_type": "markdown",
      "metadata": {
        "id": "ijGV2riK-ZlT"
      },
      "source": [
        "## 3) OpenAI API Key 설정"
      ],
      "id": "ijGV2riK-ZlT"
    },
    {
      "cell_type": "code",
      "metadata": {
        "id": "uAl2gCDI-ZlU"
      },
      "execution_count": 6,
      "outputs": [],
      "source": [
        "from google.colab import userdata\n",
        "import openai\n",
        "import os\n",
        "\n",
        "os.environ[\"OPENAI_API_KEY\"] = userdata.get('OPENAI_API_KEY')\n",
        "openai.api_key  = os.environ[\"OPENAI_API_KEY\"]"
      ],
      "id": "uAl2gCDI-ZlU"
    },
    {
      "cell_type": "markdown",
      "metadata": {
        "id": "5Evy6vma-ZlU"
      },
      "source": [
        "## 4) Function Calling 기본 — 단일 함수 도구"
      ],
      "id": "5Evy6vma-ZlU"
    },
    {
      "cell_type": "markdown",
      "metadata": {
        "id": "myzfv3O--ZlU"
      },
      "source": [
        "여기서는 **FunctionTool**로 날씨 조회 함수를 등록하고, 모델이 **도구 호출을 스스로 선택**하도록 합니다.  \n",
        "함수는 학습용으로 **모의 응답**을 반환합니다."
      ],
      "id": "myzfv3O--ZlU"
    },
    {
      "cell_type": "code",
      "metadata": {
        "colab": {
          "base_uri": "https://localhost:8080/"
        },
        "id": "NUQwOO9H-ZlV",
        "outputId": "6389e7a4-3d98-46ea-9d88-00d326a5a18b"
      },
      "execution_count": 14,
      "outputs": [
        {
          "output_type": "stream",
          "name": "stdout",
          "text": [
            "{'location': '서울', 'date': '2025-09-10', 'forecast': '맑음', 'high': '28', 'low': '18'}\n"
          ]
        }
      ],
      "source": [
        "import asyncio\n",
        "from typing import Dict\n",
        "from autogen_core.tools import FunctionTool\n",
        "from autogen_ext.models.openai import OpenAIChatCompletionClient\n",
        "from autogen_agentchat.agents import AssistantAgent\n",
        "from autogen_agentchat.messages import TextMessage\n",
        "\n",
        "\n",
        "def get_weather(location: str, date: str) -> Dict[str, str]:\n",
        "    '''학습용 모의 날씨 함수: 실제 API 대신 고정 응답'''\n",
        "    table = {\n",
        "        \"서울\": {\"forecast\": \"맑음\", \"high\": \"28\", \"low\": \"18\"},\n",
        "        \"부산\": {\"forecast\": \"구름많음\", \"high\": \"27\", \"low\": \"21\"},\n",
        "    }\n",
        "    info = table.get(location, {\"forecast\": \"알 수 없음\", \"high\": \"-\", \"low\": \"-\"})\n",
        "    return {\"location\": location, \"date\": date, **info}\n",
        "\n",
        "# Corrected instantiation of FunctionTool\n",
        "weather_tool = FunctionTool(\n",
        "    name=\"get_weather\",\n",
        "    func=get_weather,\n",
        "    description=\"지정한 위치(location)와 날짜(date)에 대한 간단한 날씨 정보를 반환합니다.\",\n",
        "    # Removed the 'sig' parameter as it's not expected\n",
        ")\n",
        "\n",
        "\n",
        "model_client = OpenAIChatCompletionClient(model=\"gpt-4o-mini\")\n",
        "\n",
        "assistant = AssistantAgent(\n",
        "    \"WeatherAssistant\",\n",
        "    model_client=model_client,\n",
        "    tools=[weather_tool],\n",
        "    system_message=(\n",
        "        \"You are a weather assistant. If helpful, call the tool to fetch weather.\"\n",
        "        \" 답변은 한국어로.\"\n",
        "    ),\n",
        ")\n",
        "\n",
        "\n",
        "async def demo_weather():\n",
        "    user_prompt = \"서울의 2025-09-10 날씨 알려줘. 최고/최저 포함.\"\n",
        "    # Corrected instantiation of TextMessage and added cancellation_token\n",
        "    response = await assistant.on_messages([TextMessage(content=user_prompt, role=\"user\", source=\"user_input\")], cancellation_token=None)\n",
        "    # Access and print the content from the chat_message\n",
        "    if response and response.chat_message and hasattr(response.chat_message, 'content'):\n",
        "        print(response.chat_message.content)\n",
        "\n",
        "\n",
        "await asyncio.wait_for(demo_weather(), timeout=60)"
      ],
      "id": "NUQwOO9H-ZlV"
    },
    {
      "cell_type": "markdown",
      "metadata": {
        "id": "Cy5r_dhg-ZlV"
      },
      "source": [
        "## 5) 여러 함수 도구 + 반복 호출(멀티스텝)"
      ],
      "id": "Cy5r_dhg-ZlV"
    },
    {
      "cell_type": "markdown",
      "metadata": {
        "id": "dlglFt3m-ZlV"
      },
      "source": [
        "AutoGen 0.7.4에서는 에이전트가 필요 시 **연속적으로 도구를 호출**하는 플로우를 구성할 수 있습니다.  \n",
        "여기서는 `moving_average`, `volatility` 두 도구를 등록하고 모델이 **먼저 통계를 계산 → 결과를 종합**하도록 유도합니다."
      ],
      "id": "dlglFt3m-ZlV"
    },
    {
      "cell_type": "code",
      "metadata": {
        "colab": {
          "base_uri": "https://localhost:8080/"
        },
        "id": "JtAB5dRF-ZlW",
        "outputId": "c81ab872-7bc4-4135-bf88-0df99c2e182d"
      },
      "execution_count": 19,
      "outputs": [
        {
          "output_type": "stream",
          "name": "stdout",
          "text": [
            "{'ma': 111.33333333333333, 'n': 3}\n",
            "{'vol': 4.621620386834038, 'n': 8}\n"
          ]
        }
      ],
      "source": [
        "import statistics\n",
        "from typing import List, Dict\n",
        "from autogen_core.tools import FunctionTool\n",
        "from autogen_agentchat.agents import AssistantAgent\n",
        "from autogen_ext.models.openai import OpenAIChatCompletionClient\n",
        "from autogen_agentchat.messages import TextMessage\n",
        "\n",
        "\n",
        "def moving_average(prices: List[float], window: int) -> Dict[str, float]:\n",
        "    '''단순 이동평균'''\n",
        "    if window < 1 or window > len(prices):\n",
        "        raise ValueError(\"window must be between 1 and len(prices)\")\n",
        "    ma = sum(prices[-window:]) / window\n",
        "    return {\"ma\": ma, \"n\": window}\n",
        "\n",
        "\n",
        "def volatility(prices: List[float]) -> Dict[str, float]:\n",
        "    '''표준편차 기반 단순 변동성'''\n",
        "    if len(prices) < 2:\n",
        "        return {\"vol\": 0.0, \"n\": len(prices)}\n",
        "    return {\"vol\": float(statistics.pstdev(prices)), \"n\": len(prices)}\n",
        "\n",
        "\n",
        "ma_tool = FunctionTool(name=\"moving_average\", func=moving_average, description=\"주가의 단순 이동평균을 계산합니다.\")\n",
        "vol_tool = FunctionTool(name=\"volatility\", func=volatility, description=\"가격 리스트의 변동성(표준편차)을 계산합니다.\")\n",
        "\n",
        "model_client = OpenAIChatCompletionClient(model=\"gpt-4.1-mini\")\n",
        "\n",
        "quant = AssistantAgent(\n",
        "    \"QuantAnalyst\",\n",
        "    model_client=model_client,\n",
        "    tools=[ma_tool, vol_tool],\n",
        "    system_message=(\n",
        "        \"You are a quantitative analyst. Decide if you need to call moving_average or volatility, \"\n",
        "        \"possibly multiple times, then synthesize a concise Korean recommendation.\"\n",
        "    ),\n",
        ")\n",
        "\n",
        "\n",
        "async def demo_tools_loop():\n",
        "    prices = [101, 103, 102, 105, 110, 108, 111, 115]\n",
        "    user_prompt = (\n",
        "        f\"가격 데이터 {prices} 기반으로 단기(window=3) 이동평균과 변동성을 파악하고, \"\n",
        "        f\"리스크를 고려한 투자 의견을 2문장으로 제시해.\"\n",
        "    )\n",
        "    response = await quant.on_messages([TextMessage(content=user_prompt, role=\"user\", source=\"user_input\")], cancellation_token=None)\n",
        "    # Access and print the content from the chat_message\n",
        "    if response and response.chat_message and hasattr(response.chat_message, 'content'):\n",
        "        print(response.chat_message.content)\n",
        "\n",
        "\n",
        "await asyncio.wait_for(demo_tools_loop(), timeout=60)"
      ],
      "id": "JtAB5dRF-ZlW"
    },
    {
      "cell_type": "markdown",
      "metadata": {
        "id": "B4jOIu3g-ZlW"
      },
      "source": [
        "**Belief → Desire → Intention** 역할을 나눠 팀을 구성합니다.  \n",
        "- `Belief`: 데이터/사실 요약(필요 시 도구 호출)  \n",
        "- `Desire`: SMART 목표 수립  \n",
        "- `Intention`: 실행 계획 표(메트릭 포함)  \n",
        "여기서는 `moving_average`, `volatility` 같은 정량 도구를 Belief가 활용할 수 있게 등록합니다."
      ],
      "id": "B4jOIu3g-ZlW"
    },
    {
      "cell_type": "markdown",
      "metadata": {
        "id": "ofz1-NP3-ZlX"
      },
      "source": [
        "## 7) 문제 해결 (Troubleshooting)"
      ],
      "id": "ofz1-NP3-ZlX"
    },
    {
      "cell_type": "markdown",
      "metadata": {
        "id": "AJFiDOQk-ZlX"
      },
      "source": [
        "- **ImportError / ModuleNotFoundError**: 런타임 재시작 후 다시 실행하세요. 버전은 **정확히 0.7.4**인지 확인.  \n",
        "- **인증 오류**: `OPENAI_API_KEY`가 올바른지, 결제/쿼터 상태를 확인.  \n",
        "- **응답 지연**: 도구 호출이 연쇄적으로 발생하면 시간이 소요됩니다. 셀의 `timeout` 값을 늘리세요.  \n",
        "- **도구 인자 스키마 불일치**: 함수 시그니처와 입력 JSON 타입을 점검하세요."
      ],
      "id": "AJFiDOQk-ZlX"
    },
    {
      "cell_type": "markdown",
      "metadata": {
        "id": "eohrQOt6-ZlX"
      },
      "source": [
        "## 8) 과제"
      ],
      "id": "eohrQOt6-ZlX"
    },
    {
      "cell_type": "markdown",
      "metadata": {
        "id": "BAZtYSND-ZlY"
      },
      "source": [
        "1) `get_weather`를 실제 외부 API로 교체하고(예: Open-Meteo), 도구 호출 결과를 **BDI 팀**에서 활용하도록 확장하세요.  \n",
        "2) `RiskOfficer` 에이전트를 추가하여 Intention 결과에 리스크 완화 액션(모니터링 임계값, 헤지 룰)을 병합하세요.  \n",
        "3) `RedisMemory` 또는 파일 기반 캐시를 붙여, 동일 입력에 대한 **재사용/가속**을 구현하세요."
      ],
      "id": "BAZtYSND-ZlY"
    }
  ],
  "metadata": {
    "colab": {
      "provenance": [],
      "gpuType": "T4",
      "include_colab_link": true
    },
    "kernelspec": {
      "display_name": "Python 3",
      "name": "python3"
    },
    "language_info": {
      "name": "python",
      "version": "3.11"
    },
    "accelerator": "GPU"
  },
  "nbformat": 4,
  "nbformat_minor": 5
}