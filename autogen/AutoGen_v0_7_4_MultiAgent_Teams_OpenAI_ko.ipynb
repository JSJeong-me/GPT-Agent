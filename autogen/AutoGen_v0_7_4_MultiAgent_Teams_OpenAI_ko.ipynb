{
  "cells": [
    {
      "cell_type": "markdown",
      "metadata": {
        "id": "view-in-github",
        "colab_type": "text"
      },
      "source": [
        "<a href=\"https://colab.research.google.com/github/JSJeong-me/GPT-Agent/blob/main/autogen/AutoGen_v0_7_4_MultiAgent_Teams_OpenAI_ko.ipynb\" target=\"_parent\"><img src=\"https://colab.research.google.com/assets/colab-badge.svg\" alt=\"Open In Colab\"/></a>"
      ]
    },
    {
      "cell_type": "markdown",
      "metadata": {
        "id": "5EBL4Yzinu2r"
      },
      "source": [
        "# AutoGen v0.7.4 — Multi‑Agent Teams (OpenAI 버전 · Colab 실습)\n",
        "\n",
        "이 노트북은 **AutoGen AgentChat Teams 튜토리얼**을 바탕으로, OpenAI API를 사용해\n",
        "**멀티에이전트 팀(RoundRobin/Selector)**을 구성·실행·관찰하는 한국어 실습입니다.\n",
        "\n",
        "## 학습 목표\n",
        "- Team 개념 이해 및 팀 프리셋(RoundRobin/Selector) 실습\n",
        "- 종료 조건(termination)과 세션 **reset/resume** 운용\n",
        "- `Console(...run_stream)`으로 스트리밍 관찰 디버깅\n"
      ],
      "id": "5EBL4Yzinu2r"
    },
    {
      "cell_type": "code",
      "execution_count": 1,
      "metadata": {
        "colab": {
          "base_uri": "https://localhost:8080/"
        },
        "id": "PMZvur6Wnu2u",
        "outputId": "c271f1db-96a6-46e2-f160-a2bff36fb149"
      },
      "outputs": [
        {
          "output_type": "stream",
          "name": "stdout",
          "text": [
            "\u001b[?25l   \u001b[90m━━━━━━━━━━━━━━━━━━━━━━━━━━━━━━━━━━━━━━━━\u001b[0m \u001b[32m0.0/119.1 kB\u001b[0m \u001b[31m?\u001b[0m eta \u001b[36m-:--:--\u001b[0m\r\u001b[2K   \u001b[90m━━━━━━━━━━━━━━━━━━━━━━━━━━━━━━━━━━━━━━━━\u001b[0m \u001b[32m119.1/119.1 kB\u001b[0m \u001b[31m4.9 MB/s\u001b[0m eta \u001b[36m0:00:00\u001b[0m\n",
            "\u001b[?25h\u001b[?25l   \u001b[90m━━━━━━━━━━━━━━━━━━━━━━━━━━━━━━━━━━━━━━━━\u001b[0m \u001b[32m0.0/101.6 kB\u001b[0m \u001b[31m?\u001b[0m eta \u001b[36m-:--:--\u001b[0m\r\u001b[2K   \u001b[90m━━━━━━━━━━━━━━━━━━━━━━━━━━━━━━━━━━━━━━━━\u001b[0m \u001b[32m101.6/101.6 kB\u001b[0m \u001b[31m10.0 MB/s\u001b[0m eta \u001b[36m0:00:00\u001b[0m\n",
            "\u001b[?25h\u001b[?25l   \u001b[90m━━━━━━━━━━━━━━━━━━━━━━━━━━━━━━━━━━━━━━━━\u001b[0m \u001b[32m0.0/328.9 kB\u001b[0m \u001b[31m?\u001b[0m eta \u001b[36m-:--:--\u001b[0m\r\u001b[2K   \u001b[90m━━━━━━━━━━━━━━━━━━━━━━━━━━━━━━━━━━━━━━━━\u001b[0m \u001b[32m328.9/328.9 kB\u001b[0m \u001b[31m20.3 MB/s\u001b[0m eta \u001b[36m0:00:00\u001b[0m\n",
            "\u001b[?25h"
          ]
        }
      ],
      "source": [
        "# 0) 설치\n",
        "!pip -q install \"autogen-agentchat\" \"autogen-ext[openai]\" nest_asyncio"
      ],
      "id": "PMZvur6Wnu2u"
    },
    {
      "cell_type": "code",
      "source": [
        "!pip install --upgrade autogen-agentchat"
      ],
      "metadata": {
        "id": "yEdxus5EoeZx"
      },
      "id": "yEdxus5EoeZx",
      "execution_count": null,
      "outputs": []
    },
    {
      "cell_type": "code",
      "source": [
        "import autogen_agentchat\n",
        "print(autogen_agentchat.__version__)"
      ],
      "metadata": {
        "colab": {
          "base_uri": "https://localhost:8080/"
        },
        "id": "QPnTJwBYonbb",
        "outputId": "68c6a7ec-77b2-49cc-f3dc-b90a1acc063d"
      },
      "id": "QPnTJwBYonbb",
      "execution_count": 10,
      "outputs": [
        {
          "output_type": "stream",
          "name": "stdout",
          "text": [
            "0.7.4\n"
          ]
        }
      ]
    },
    {
      "cell_type": "markdown",
      "metadata": {
        "id": "eN4AhKmFnu2v"
      },
      "source": [
        "## 1. 환경 변수 설정 — OpenAI API 키\n",
        "- 반드시 `OPENAI_API_KEY`가 있어야 합니다.\n",
        "- Colab에서는 아래 셀에 직접 키를 넣거나, 런타임 → 환경 변수 메뉴를 사용하세요."
      ],
      "id": "eN4AhKmFnu2v"
    },
    {
      "cell_type": "code",
      "execution_count": 2,
      "metadata": {
        "id": "zR0HpO6Nnu2w"
      },
      "outputs": [],
      "source": [
        "from google.colab import userdata\n",
        "import openai\n",
        "import os\n",
        "\n",
        "os.environ[\"OPENAI_API_KEY\"] = userdata.get('OPENAI_API_KEY')\n",
        "openai.api_key  = os.environ[\"OPENAI_API_KEY\"]"
      ],
      "id": "zR0HpO6Nnu2w"
    },
    {
      "cell_type": "markdown",
      "metadata": {
        "id": "dif6inkJnu2w"
      },
      "source": [
        "## 2. 모델 클라이언트 만들기 (OpenAI)\n",
        "- `OpenAIChatCompletionClient`로 모델 접근\n",
        "- 기본 모델은 `gpt-4o-mini` (필요시 `gpt-4o` 등으로 변경)\n"
      ],
      "id": "dif6inkJnu2w"
    },
    {
      "cell_type": "code",
      "execution_count": 3,
      "metadata": {
        "colab": {
          "base_uri": "https://localhost:8080/"
        },
        "id": "lMuq9TxCnu2x",
        "outputId": "e0a5a9c5-7af2-4489-9841-169919ac7e69"
      },
      "outputs": [
        {
          "output_type": "stream",
          "name": "stdout",
          "text": [
            "✅ OpenAI 모델 클라이언트 초기화 완료\n"
          ]
        }
      ],
      "source": [
        "from autogen_ext.models.openai import OpenAIChatCompletionClient\n",
        "\n",
        "model_client = OpenAIChatCompletionClient(\n",
        "    model=\"gpt-4o-mini\",   # gpt-4o, gpt-4.1 등으로 교체 가능\n",
        ")\n",
        "print(\"✅ OpenAI 모델 클라이언트 초기화 완료\")"
      ],
      "id": "lMuq9TxCnu2x"
    },
    {
      "cell_type": "markdown",
      "metadata": {
        "id": "Lnq0YtLZnu2x"
      },
      "source": [
        "## 3. RoundRobin 팀 — 생성자(Creator) + 비평가(Critic)\n",
        "두 명의 AssistantAgent가 **라운드로빈**으로 번갈아 발화합니다.\n",
        "- Creator: 해결안을 단계별로 작성(한국어)\n",
        "- Critic: 정확성·명료성 검토 → **만족 시 'APPROVE' 포함**\n",
        "- `TextMentionTermination(\"APPROVE\")`로 종료 조건 설정\n",
        "- `Console(...run_stream)`으로 스트리밍 관찰\n"
      ],
      "id": "Lnq0YtLZnu2x"
    },
    {
      "cell_type": "code",
      "source": [
        "import asyncio\n",
        "\n",
        "from autogen_agentchat.agents import AssistantAgent\n",
        "from autogen_agentchat.base import TaskResult\n",
        "from autogen_agentchat.conditions import ExternalTermination, TextMentionTermination\n",
        "from autogen_agentchat.teams import RoundRobinGroupChat\n",
        "from autogen_agentchat.ui import Console\n",
        "from autogen_core import CancellationToken\n",
        "from autogen_ext.models.openai import OpenAIChatCompletionClient\n",
        "\n",
        "# Create an OpenAI model client.\n",
        "model_client = OpenAIChatCompletionClient(\n",
        "    model=\"gpt-4o-2024-08-06\",\n",
        "    # api_key=\"sk-...\", # Optional if you have an OPENAI_API_KEY env variable set.\n",
        ")\n",
        "\n",
        "# Create the primary agent.\n",
        "primary_agent = AssistantAgent(\n",
        "    \"primary\",\n",
        "    model_client=model_client,\n",
        "    system_message=\"You are a helpful AI assistant.\",\n",
        ")\n",
        "\n",
        "# Create the critic agent.\n",
        "critic_agent = AssistantAgent(\n",
        "    \"critic\",\n",
        "    model_client=model_client,\n",
        "    system_message=\"Provide constructive feedback. Respond with 'APPROVE' to when your feedbacks are addressed.\",\n",
        ")\n",
        "\n",
        "# Define a termination condition that stops the task if the critic approves.\n",
        "text_termination = TextMentionTermination(\"APPROVE\")\n",
        "\n",
        "# Create a team with the primary and critic agents.\n",
        "team = RoundRobinGroupChat([primary_agent, critic_agent], termination_condition=text_termination)"
      ],
      "metadata": {
        "id": "ors7nLWQpQHF"
      },
      "id": "ors7nLWQpQHF",
      "execution_count": 12,
      "outputs": []
    },
    {
      "cell_type": "code",
      "source": [
        "# Use `asyncio.run(...)` when running in a script.\n",
        "result = await team.run(task=\"가을에 대한 짧은 시를 써 보세요.\") # Write a short poem about the fall season.\n",
        "print(result)"
      ],
      "metadata": {
        "colab": {
          "base_uri": "https://localhost:8080/"
        },
        "id": "43QWt8avpbBF",
        "outputId": "b99359ca-1570-41f8-9166-c99ad2235501"
      },
      "id": "43QWt8avpbBF",
      "execution_count": 13,
      "outputs": [
        {
          "output_type": "stream",
          "name": "stdout",
          "text": [
            "messages=[TextMessage(id='9fd1b34b-aa9d-412f-b104-606ea12d89d6', source='user', models_usage=None, metadata={}, created_at=datetime.datetime(2025, 9, 8, 0, 7, 0, 749891, tzinfo=datetime.timezone.utc), content='Write a short poem about the fall season.', type='TextMessage'), TextMessage(id='0bd9439f-e8c8-4507-b3a3-03ccbed18904', source='primary', models_usage=RequestUsage(prompt_tokens=28, completion_tokens=110), metadata={}, created_at=datetime.datetime(2025, 9, 8, 0, 7, 4, 310250, tzinfo=datetime.timezone.utc), content=\"Golden leaves cascade from trees,  \\nWhispering tales in the crisp breeze.  \\nPumpkin scents and cider's bite,  \\nCloak the earth in cozy light.  \\n\\nSweaters wrap against the chill,  \\nAs twilight paints the world so still.  \\nSmoky skies and early dusk,  \\nNature's sigh as summer's husk.  \\n\\nFields of amber, skies of slate,  \\nAutumn's dance—a fleeting fate.  \\nA tapestry of red and gold,  \\nIn fall's embrace, the heart consoled.  \", type='TextMessage'), TextMessage(id='7b00c4ae-8d7f-4590-81ed-bcb4f773a50a', source='critic', models_usage=RequestUsage(prompt_tokens=156, completion_tokens=213), metadata={}, created_at=datetime.datetime(2025, 9, 8, 0, 7, 10, 46343, tzinfo=datetime.timezone.utc), content=\"Your poem beautifully captures the essence of the fall season with vivid imagery and soothing rhythm. Here are a few suggestions to enhance it further:\\n\\n1. **Imagery**: The imagery is lovely, but you could consider adding a touch more sensory detail to immerse the reader fully in the scene. For example, incorporating sound or touch could add depth.\\n\\n2. **Flow and Structure**: The poem flows nicely. Ensure consistency in the meter to maintain the rhythm throughout. Slight adjustments in syllable count in some lines might help enhance the overall flow.\\n\\n3. **Language Variation**: While the words you've chosen are evocative, experimenting with more varied language or less common adjectives could give some lines an unexpected twist that might delight the reader even more.\\n\\n4. **Theme Exploration**: You hint at nature's transition beautifully. If you wish, you could expand on the emotional journey or broader themes like reflection or change to add another layer of meaning.\\n\\nOverall, it's a delightful poem that conjures the serenity and beauty of the fall season. Keep up the great work!\", type='TextMessage'), TextMessage(id='af466993-57fa-43ec-a597-d13431b1b56b', source='primary', models_usage=RequestUsage(prompt_tokens=361, completion_tokens=137), metadata={}, created_at=datetime.datetime(2025, 9, 8, 0, 7, 12, 367416, tzinfo=datetime.timezone.utc), content=\"Thank you for your thoughtful feedback! Based on your suggestions, I've made some revisions to the poem:\\n\\nCrimson leaves dance in the breeze,  \\nWhispering softly through the trees.  \\nPumpkin scents and cider’s bite,  \\nWrap the world in autumn light.  \\n\\nSweaters hug against the chill,  \\nAs twilight settles, calm and still.  \\nCrunching footsteps, amber glow,  \\nNature sighs as cool winds blow.  \\n\\nFields of gold and skies of slate,  \\nAutumn's touch—a fleeting fate.  \\nA tapestry both bold and bright,  \\nIn fall's embrace, hearts find respite.  \\n\\nI hope this version captures the fall season even more vividly!\", type='TextMessage'), TextMessage(id='bc0b071b-fc0a-487b-bc70-68b3425835b2', source='critic', models_usage=RequestUsage(prompt_tokens=516, completion_tokens=200), metadata={}, created_at=datetime.datetime(2025, 9, 8, 0, 7, 17, 93282, tzinfo=datetime.timezone.utc), content='This revised version of your poem beautifully incorporates the feedback and amplifies the sensory experience of the fall season. Here\\'s a brief overview of the improvements:\\n\\n1. **Enhanced Imagery**: You\\'ve successfully added more sensory details, like \"crunching footsteps,\" which help engage the reader\\'s senses beyond sight and smell.\\n\\n2. **Improved Flow**: The adjustments made to the structure enhance the rhythm and flow, making it even more lyrical and smooth to read.\\n\\n3. **Language Variation**: The changes to word choice, such as \"crimson\" and \"tapestry both bold and bright,\" add a fresh and vivid touch to the imagery.\\n\\n4. **Expanded Themes**: The subtle emphasis on the emotional comfort found in fall, with phrases like \"hearts find respite,\" enriches the thematic depth of the poem.\\n\\nOverall, your revisions have added a new layer of vibrancy and emotional resonance to the poem. It beautifully captures the essence of autumn. Well done! APPROVE', type='TextMessage')] stop_reason=\"Text 'APPROVE' mentioned\"\n"
          ]
        }
      ]
    },
    {
      "cell_type": "code",
      "source": [
        "# When running inside a script, use a async main function and call it from `asyncio.run(...)`.\n",
        "await team.reset()  # Reset the team for a new task.\n",
        "async for message in team.run_stream(task=\"가을에 대한 짧은 시를 써 보세요.\"):  # type: ignore\n",
        "    if isinstance(message, TaskResult):\n",
        "        print(\"Stop Reason:\", message.stop_reason)\n",
        "    else:\n",
        "        print(message)"
      ],
      "metadata": {
        "colab": {
          "base_uri": "https://localhost:8080/"
        },
        "id": "SyKxRDDfp9Ac",
        "outputId": "a436865d-046b-44c5-c033-d04739f09fee"
      },
      "id": "SyKxRDDfp9Ac",
      "execution_count": 15,
      "outputs": [
        {
          "output_type": "stream",
          "name": "stdout",
          "text": [
            "id='5fbe3bfa-170f-4c7c-903d-3139343a31b9' source='user' models_usage=None metadata={} created_at=datetime.datetime(2025, 9, 8, 0, 9, 32, 561852, tzinfo=datetime.timezone.utc) content='가을에 대한 짧은 시를 써 보세요.' type='TextMessage'\n",
            "id='20af138f-35d8-4ba6-9952-820139c9da61' source='primary' models_usage=RequestUsage(prompt_tokens=33, completion_tokens=55) metadata={} created_at=datetime.datetime(2025, 9, 8, 0, 9, 34, 228546, tzinfo=datetime.timezone.utc) content='붉은 잎이 춤추는 길,  \\n서늘한 바람 속에 속삭임이 있어,  \\n낙엽은 바닥에 깔린 곡선,  \\n가을은 조용히 이야기를 전하네.' type='TextMessage'\n",
            "id='6322b66a-5cb0-4b6e-8f92-6b0fafeb4cca' source='critic' models_usage=RequestUsage(prompt_tokens=106, completion_tokens=178) metadata={} created_at=datetime.datetime(2025, 9, 8, 0, 9, 38, 625640, tzinfo=datetime.timezone.utc) content='시의 분위기와 계절의 특징을 잘 표현하셨습니다. 가을의 감성과 자연의 변화를 느낄 수 있습니다. 하지만 \\'조용히 이야기를 전하네\\'라는 표현이 다소 추상적으로 느껴질 수 있습니다. \\'이야기\\' 대신 좀 더 구체적인 이미지를 사용하면 시각적 상상이 더 풍부해질 것 같습니다. 예를 들어 가을이 들려주는 이야기가 무엇인지 간단한 한 문장을 추가해보는 건 어떨까요? \\n\\n예시:  \\n\"가을은 조용히 이야기를 전하네,  \\n지난 여름의 추억을 속삭여주네.\"  \\n\\n이렇게 하면 독자가 더욱 공감하고 깊이 있게 다가갈 수 있을 것 같습니다. \\n\\n피드백을 반영해 주시면 좋겠습니다!' type='TextMessage'\n",
            "id='9018a066-9eb0-44c4-9713-807d2c8ebfd4' source='primary' models_usage=RequestUsage(prompt_tokens=276, completion_tokens=117) metadata={} created_at=datetime.datetime(2025, 9, 8, 0, 9, 41, 10068, tzinfo=datetime.timezone.utc) content='귀중한 피드백 감사합니다. 제안해 주신 내용을 반영하여 시를 수정해보았습니다.\\n\\n붉은 잎이 춤추는 길,  \\n서늘한 바람 속에 속삭임이 있어,  \\n낙엽은 바닥에 깔린 곡선,  \\n가을은 조용히 이야기를 전하네,  \\n지난 여름의 추억을 속삭여주네.\\n\\n이렇게 수정된 형태로 가을의 감성과 이야기를 더욱 구체적으로 표현해 보았습니다. 감사합니다!' type='TextMessage'\n",
            "id='b31bf51e-1713-4bf7-9418-604f6a8ef6ec' source='critic' models_usage=RequestUsage(prompt_tokens=411, completion_tokens=90) metadata={} created_at=datetime.datetime(2025, 9, 8, 0, 9, 42, 709155, tzinfo=datetime.timezone.utc) content=\"수정된 시에서 가을의 감성과 이야기가 더욱 구체적으로 전달되고 있어 좋습니다. '지난 여름의 추억을 속삭여주네'라는 구절이 전체 시의 분위기를 더욱 깊이 있게 만들어주네요. 독자들이 가을의 풍경 속에서 지난 계절의 기억을 떠올리게 하는 부분이 인상적입니다. 잘하셨습니다! \\n\\nAPPROVE\" type='TextMessage'\n",
            "Stop Reason: Text 'APPROVE' mentioned\n"
          ]
        }
      ]
    },
    {
      "cell_type": "markdown",
      "metadata": {
        "id": "ozyg3fZAnu2y"
      },
      "source": [
        "## 4. 팀 상태 관리 — reset / resume\n",
        "- **reset()**: 이전 작업과 무관한 새 작업 전, 팀 상태 초기화\n",
        "- **resume**: 같은 팀으로 `run_stream()`을 **다시 호출**하면 직전 이후 발화자부터 이어감\n",
        "- 아래 셀은 RoundRobin 팀으로 **두 작업을 연속 실행**해봅니다."
      ],
      "id": "ozyg3fZAnu2y"
    },
    {
      "cell_type": "code",
      "source": [
        "# Create a new team with an external termination condition.\n",
        "external_termination = ExternalTermination()\n",
        "team = RoundRobinGroupChat(\n",
        "    [primary_agent, critic_agent],\n",
        "    termination_condition=external_termination | text_termination,  # Use the bitwise OR operator to combine conditions.\n",
        ")\n",
        "\n",
        "# Run the team in a background task.\n",
        "run = asyncio.create_task(Console(team.run_stream(task=\"Write a short poem about the fall season.\")))\n",
        "\n",
        "# Wait for some time.\n",
        "await asyncio.sleep(0.1)\n",
        "\n",
        "# Stop the team.\n",
        "external_termination.set()\n",
        "\n",
        "# Wait for the team to finish.\n",
        "await run"
      ],
      "metadata": {
        "colab": {
          "base_uri": "https://localhost:8080/"
        },
        "id": "skCkGQp9qZC8",
        "outputId": "835585fb-a9de-48c3-9abe-85c16224ff86"
      },
      "id": "skCkGQp9qZC8",
      "execution_count": 16,
      "outputs": [
        {
          "output_type": "stream",
          "name": "stdout",
          "text": [
            "---------- TextMessage (user) ----------\n",
            "Write a short poem about the fall season.\n",
            "---------- TextMessage (primary) ----------\n",
            "Golden leaves in crisp air dance,  \n",
            "Whispering secrets at a glance.  \n",
            "Under the trees, a carpet of gold,  \n",
            "Stories of autumn quietly unfold.\n"
          ]
        },
        {
          "output_type": "execute_result",
          "data": {
            "text/plain": [
              "TaskResult(messages=[TextMessage(id='174a32be-b719-45d4-9a73-636fe10b6686', source='user', models_usage=None, metadata={}, created_at=datetime.datetime(2025, 9, 8, 0, 11, 14, 155549, tzinfo=datetime.timezone.utc), content='Write a short poem about the fall season.', type='TextMessage'), TextMessage(id='aac2ea47-da13-4f48-8c97-198b485099e3', source='primary', models_usage=RequestUsage(prompt_tokens=411, completion_tokens=33), metadata={}, created_at=datetime.datetime(2025, 9, 8, 0, 11, 15, 654778, tzinfo=datetime.timezone.utc), content='Golden leaves in crisp air dance,  \\nWhispering secrets at a glance.  \\nUnder the trees, a carpet of gold,  \\nStories of autumn quietly unfold.', type='TextMessage')], stop_reason='External termination requested')"
            ]
          },
          "metadata": {},
          "execution_count": 16
        }
      ]
    },
    {
      "cell_type": "markdown",
      "metadata": {
        "id": "rN1sSDQ5nu2z"
      },
      "source": [
        "## 5. Selector 팀 — 발화자 선택\n",
        "여러 전문가 에이전트 중 **LLM이 다음 발화자**를 고르는 패턴입니다.\n",
        "- Planner: 계획 수립(번호 목록)\n",
        "- Researcher: 웹·지식 요약(불릿)\n",
        "- Coder: 파이썬 코드만 출력(필요 시)\n",
        "- 사용 예: 복합 문제에서 **누가 말해야 하는지**를 LLM이 선택하도록 함"
      ],
      "id": "rN1sSDQ5nu2z"
    },
    {
      "cell_type": "code",
      "execution_count": null,
      "metadata": {
        "id": "2InveKexnu2z"
      },
      "outputs": [],
      "source": [
        "from autogen_agentchat.teams import SelectorGroupChat\n",
        "\n",
        "planner = AssistantAgent(\n",
        "    name=\"planner\",\n",
        "    system_message=\"한국어로 단계별 계획을 번호 목록으로 제시하세요.\",\n",
        "    model_client=model_client,\n",
        "    model_client_stream=True,\n",
        ")\n",
        "researcher = AssistantAgent(\n",
        "    name=\"researcher\",\n",
        "    system_message=\"핵심 지식을 한국어 불릿 포인트로 요약하세요. (가정/한계 명시)\",\n",
        "    model_client=model_client,\n",
        "    model_client_stream=True,\n",
        ")\n",
        "coder = AssistantAgent(\n",
        "    name=\"coder\",\n",
        "    system_message=\"파이썬 코드만 출력하세요. 불필요한 설명은 하지 마세요.\",\n",
        "    model_client=model_client,\n",
        "    model_client_stream=True,\n",
        ")\n",
        "\n",
        "team_sel = SelectorGroupChat([planner, researcher, coder], model_client=model_client) # Added model_client\n",
        "\n",
        "async def demo_selector():\n",
        "    task = (\n",
        "        \"웹에서 파이썬 웹스크래핑 학습 경로를 요약하고, 예제 코드(BeautifulSoup)를 간단히 제시.\\n\"\n",
        "        \"가정과 한계도 명시.\"\n",
        "    )\n",
        "    await Console(team_sel.run_stream(task=task))\n",
        "\n",
        "await demo_selector()"
      ],
      "id": "2InveKexnu2z"
    },
    {
      "cell_type": "markdown",
      "metadata": {
        "id": "djt-1bN7nu20"
      },
      "source": [
        "## 6. 실습 과제\n",
        "1) **종료 조건 변경**: `TextMentionTermination(\"DONE\")`으로 바꿔 동작 비교\n",
        "2) **전문가 추가**: Selector 팀에 \"테스터\" 에이전트를 추가하여 코드 검증 규칙을 부여\n",
        "3) **다중 도구 연계**: 특정 에이전트에 간단한 도구(예: 계산기 함수)를 연결해 함수 호출 흐름 관찰\n",
        "4) **팀 재사용**: 같은 팀 인스턴스를 재사용하여 **여러 작업**을 연속 실행하고 reset/resume 패턴 숙달\n"
      ],
      "id": "djt-1bN7nu20"
    },
    {
      "cell_type": "markdown",
      "metadata": {
        "id": "XCujkYuRnu20"
      },
      "source": [
        "## 7. 참고\n",
        "- AgentChat Teams 튜토리얼: MagenticOne/Swarm 등 고급 팀 패턴\n",
        "- 스트리밍 디버깅은 실전에서 **필수** — 함수 호출/반환, 종료 타이밍을 확인하세요.\n",
        "- 무한 루프 방지: **종료 조건 + 최대 턴** 정책을 병행하세요.\n"
      ],
      "id": "XCujkYuRnu20"
    }
  ],
  "metadata": {
    "kernelspec": {
      "display_name": "Python 3",
      "name": "python3"
    },
    "language_info": {
      "name": "python",
      "version": "3.10"
    },
    "colab": {
      "provenance": [],
      "gpuType": "T4",
      "include_colab_link": true
    },
    "accelerator": "GPU"
  },
  "nbformat": 4,
  "nbformat_minor": 5
}