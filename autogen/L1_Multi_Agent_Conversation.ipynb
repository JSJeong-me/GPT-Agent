{
  "cells": [
    {
      "cell_type": "markdown",
      "metadata": {
        "id": "view-in-github",
        "colab_type": "text"
      },
      "source": [
        "<a href=\"https://colab.research.google.com/github/JSJeong-me/GPT-Agent/blob/main/autogen/L1_Multi_Agent_Conversation.ipynb\" target=\"_parent\"><img src=\"https://colab.research.google.com/assets/colab-badge.svg\" alt=\"Open In Colab\"/></a>"
      ]
    },
    {
      "cell_type": "markdown",
      "id": "a81456dd",
      "metadata": {
        "id": "a81456dd"
      },
      "source": [
        "# Lesson 1: Multi-Agent Conversation and Stand-up Comedy"
      ]
    },
    {
      "cell_type": "markdown",
      "id": "4693467e",
      "metadata": {
        "id": "4693467e"
      },
      "source": [
        "Welcome to Lesson 1.\n",
        "\n",
        "To access the `requirements.txt` file and the`utils` modules, please go to the `File` menu and select`Open...`.\n",
        "\n",
        "I hope you enjoy this course!"
      ]
    },
    {
      "cell_type": "code",
      "source": [
        "!wget https://github.com/JSJeong-me/AutoGen/raw/main/requirements.txt"
      ],
      "metadata": {
        "id": "kAwyBFd5uXZz"
      },
      "id": "kAwyBFd5uXZz",
      "execution_count": null,
      "outputs": []
    },
    {
      "cell_type": "code",
      "source": [
        "!pip install -r requirements.txt"
      ],
      "metadata": {
        "id": "fkRztv2mfoD_"
      },
      "id": "fkRztv2mfoD_",
      "execution_count": null,
      "outputs": []
    },
    {
      "cell_type": "code",
      "source": [
        "# !echo \"OPENAI_API_KEY=sk-\" >> .env\n",
        "# !source /content/.env"
      ],
      "metadata": {
        "id": "0VH5aww8RoDx"
      },
      "id": "0VH5aww8RoDx",
      "execution_count": null,
      "outputs": []
    },
    {
      "cell_type": "code",
      "source": [
        "# import os\n",
        "# from dotenv import load_dotenv\n",
        "\n",
        "# # Load environment variables from .env file\n",
        "# load_dotenv()\n",
        "# # Access the API key using the variable name defined in the .env file\n",
        "# api_key = os.getenv(\"OPENAI_API_KEY\")"
      ],
      "metadata": {
        "id": "SscWfEftwHfG"
      },
      "id": "SscWfEftwHfG",
      "execution_count": null,
      "outputs": []
    },
    {
      "cell_type": "code",
      "source": [
        "from google.colab import userdata\n",
        "import openai\n",
        "import os\n",
        "\n",
        "os.environ[\"OPENAI_API_KEY\"] = userdata.get('OPENAI_API_KEY')\n",
        "openai.api_key  = os.environ[\"OPENAI_API_KEY\"]"
      ],
      "metadata": {
        "id": "vjOuJzcSUGRP"
      },
      "id": "vjOuJzcSUGRP",
      "execution_count": 3,
      "outputs": []
    },
    {
      "cell_type": "markdown",
      "id": "742cf649",
      "metadata": {
        "id": "742cf649"
      },
      "source": [
        "## Setup"
      ]
    },
    {
      "cell_type": "code",
      "source": [
        "!wget https://github.com/JSJeong-me/GPT-Agent/blob/main/autogen/utils.py"
      ],
      "metadata": {
        "id": "PvHQuHa_gNgu",
        "outputId": "59e4b115-37af-448b-9a8f-07391354c087",
        "colab": {
          "base_uri": "https://localhost:8080/"
        }
      },
      "id": "PvHQuHa_gNgu",
      "execution_count": 4,
      "outputs": [
        {
          "output_type": "stream",
          "name": "stdout",
          "text": [
            "--2025-01-21 13:59:41--  https://github.com/JSJeong-me/GPT-Agent/blob/main/autogen/utils.py\n",
            "Resolving github.com (github.com)... 140.82.116.3\n",
            "Connecting to github.com (github.com)|140.82.116.3|:443... connected.\n",
            "HTTP request sent, awaiting response... 200 OK\n",
            "Length: unspecified [text/html]\n",
            "Saving to: ‘utils.py’\n",
            "\n",
            "utils.py                [ <=>                ] 237.07K  --.-KB/s    in 0.02s   \n",
            "\n",
            "2025-01-21 13:59:42 (9.82 MB/s) - ‘utils.py’ saved [242758]\n",
            "\n"
          ]
        }
      ]
    },
    {
      "cell_type": "code",
      "source": [
        "# import os\n",
        "# from dotenv import load_dotenv, find_dotenv\n",
        "\n",
        "# # these expect to find a .env file at the directory above the lesson.                                                                                                                     # the format for that file is (without the comment)                                                                                                                                       #API_KEYNAME=AStringThatIsTheLongAPIKeyFromSomeService\n",
        "# def load_env():\n",
        "#     _ = load_dotenv(find_dotenv())\n",
        "\n",
        "# def get_openai_api_key():\n",
        "#     load_env()\n",
        "#     openai_api_key = os.getenv(\"OPENAI_API_KEY\")\n",
        "#     # print(openai_api_key)\n",
        "#     return openai_api_key\n",
        "\n",
        "# # get_openai_api_key()"
      ],
      "metadata": {
        "id": "wjKa8XXmgVGG"
      },
      "id": "wjKa8XXmgVGG",
      "execution_count": 5,
      "outputs": []
    },
    {
      "cell_type": "code",
      "execution_count": 6,
      "id": "04d006c1-22fa-40ea-b3e0-d543142e0788",
      "metadata": {
        "height": 64,
        "id": "04d006c1-22fa-40ea-b3e0-d543142e0788"
      },
      "outputs": [],
      "source": [
        "# OPENAI_API_KEY = get_openai_api_key()\n",
        "llm_config = {\"model\": \"gpt-3.5-turbo\"}"
      ]
    },
    {
      "cell_type": "markdown",
      "id": "116a1c4d",
      "metadata": {
        "id": "116a1c4d"
      },
      "source": [
        "## Define an AutoGen agent"
      ]
    },
    {
      "cell_type": "code",
      "execution_count": 7,
      "id": "6fb8c441-c58c-41a8-a54b-5c387afceac5",
      "metadata": {
        "height": 132,
        "id": "6fb8c441-c58c-41a8-a54b-5c387afceac5",
        "outputId": "a018d7fb-dd7c-4a23-c85e-580b9837c157",
        "colab": {
          "base_uri": "https://localhost:8080/"
        }
      },
      "outputs": [
        {
          "output_type": "stream",
          "name": "stderr",
          "text": [
            "/usr/local/lib/python3.11/dist-packages/dask/dataframe/__init__.py:42: FutureWarning: \n",
            "Dask dataframe query planning is disabled because dask-expr is not installed.\n",
            "\n",
            "You can install it with `pip install dask[dataframe]` or `conda install dask`.\n",
            "This will raise in a future version.\n",
            "\n",
            "  warnings.warn(msg, FutureWarning)\n"
          ]
        },
        {
          "output_type": "stream",
          "name": "stdout",
          "text": [
            "[autogen.oai.client: 01-21 14:01:10] {129} WARNING - The API key specified is not a valid OpenAI format; it won't work with the OpenAI-hosted model.\n"
          ]
        },
        {
          "output_type": "stream",
          "name": "stderr",
          "text": [
            "WARNING:autogen.oai.client:The API key specified is not a valid OpenAI format; it won't work with the OpenAI-hosted model.\n"
          ]
        }
      ],
      "source": [
        "from autogen import ConversableAgent\n",
        "\n",
        "agent = ConversableAgent(\n",
        "    name=\"chatbot\",\n",
        "    llm_config=llm_config,\n",
        "    human_input_mode=\"NEVER\",\n",
        ")"
      ]
    },
    {
      "cell_type": "code",
      "execution_count": 8,
      "id": "47886b5f-fc7c-431a-8036-cff6e88f85c6",
      "metadata": {
        "height": 81,
        "id": "47886b5f-fc7c-431a-8036-cff6e88f85c6",
        "outputId": "c4234a75-9c03-4313-b9de-a518c9411967",
        "colab": {
          "base_uri": "https://localhost:8080/"
        }
      },
      "outputs": [
        {
          "output_type": "stream",
          "name": "stdout",
          "text": [
            "고래가 날개를 단다면 비행기보다 더 멋있게 놀라뜨리겠죠!\n"
          ]
        }
      ],
      "source": [
        "reply = agent.generate_reply(\n",
        "    messages=[{\"content\": \"고래를 주제로 재미난 얘기 1문장으로 해줘\", \"role\": \"user\"}]\n",
        ")\n",
        "print(reply)"
      ]
    },
    {
      "cell_type": "code",
      "execution_count": 9,
      "id": "67f626e9-4cec-40c1-abde-2eff1252b848",
      "metadata": {
        "height": 81,
        "id": "67f626e9-4cec-40c1-abde-2eff1252b848",
        "outputId": "6072ee75-a15d-4323-f87f-3e877418977a",
        "colab": {
          "base_uri": "https://localhost:8080/"
        }
      },
      "outputs": [
        {
          "output_type": "stream",
          "name": "stdout",
          "text": [
            "물 한 방울이 똑똑하게 떨어져 나무와 싸게 싸울 때가 있었다고 합니다. 물은 나무에게 \"나누자!\" 하고 소리치고, 나무는 \"앞으로 조심하라.\" 하고 거세게 거슬러 달려왔습니다. 결과는 물이 지지고, 나무가 삶이었습니다. 이런 거품의 방울은 붐비고 어디든지 만날 수 있고, 어디든지 똑똑하다고 합니다.\n"
          ]
        }
      ],
      "source": [
        "reply = agent.generate_reply(\n",
        "    messages=[{\"content\": \"재미난 이야기 계속해 주세요\", \"role\": \"user\"}]\n",
        ")\n",
        "print(reply)"
      ]
    },
    {
      "cell_type": "markdown",
      "id": "8c98a301",
      "metadata": {
        "id": "8c98a301"
      },
      "source": [
        "## Conversation\n",
        "\n",
        "Setting up a conversation between two agents, Cathy and Joe, where the memory of their interactions is retained."
      ]
    },
    {
      "cell_type": "code",
      "execution_count": 10,
      "id": "8f109dcb-824e-40d7-8e86-efee42b75f3c",
      "metadata": {
        "height": 285,
        "id": "8f109dcb-824e-40d7-8e86-efee42b75f3c",
        "outputId": "3567bfb4-e27c-4227-dab3-33af7bdcc5e5",
        "colab": {
          "base_uri": "https://localhost:8080/"
        }
      },
      "outputs": [
        {
          "output_type": "stream",
          "name": "stdout",
          "text": [
            "[autogen.oai.client: 01-21 14:01:24] {129} WARNING - The API key specified is not a valid OpenAI format; it won't work with the OpenAI-hosted model.\n"
          ]
        },
        {
          "output_type": "stream",
          "name": "stderr",
          "text": [
            "WARNING:autogen.oai.client:The API key specified is not a valid OpenAI format; it won't work with the OpenAI-hosted model.\n"
          ]
        },
        {
          "output_type": "stream",
          "name": "stdout",
          "text": [
            "[autogen.oai.client: 01-21 14:01:24] {129} WARNING - The API key specified is not a valid OpenAI format; it won't work with the OpenAI-hosted model.\n"
          ]
        },
        {
          "output_type": "stream",
          "name": "stderr",
          "text": [
            "WARNING:autogen.oai.client:The API key specified is not a valid OpenAI format; it won't work with the OpenAI-hosted model.\n"
          ]
        }
      ],
      "source": [
        "cathy = ConversableAgent(\n",
        "    name=\"야옹님\",\n",
        "    system_message=\n",
        "    \"당신의 이름은 야옹님이고 당신은 재미난 이야기를 잘 만드는 코미디언입니다\",\n",
        "    llm_config=llm_config,\n",
        "    human_input_mode=\"NEVER\",\n",
        ")\n",
        "\n",
        "joe = ConversableAgent(\n",
        "    name=\"멍멍님\",\n",
        "    system_message=\n",
        "    \"당신의 이름은 멍멍님이고 당신은 재미난 이야기를 잘 만드는 코미디언입니다\"\n",
        "    \"이전 대화의 내용을 이어서 다음 재미난 이야기를 시작하세요.\",\n",
        "    llm_config=llm_config,\n",
        "    human_input_mode=\"NEVER\",\n",
        ")"
      ]
    },
    {
      "cell_type": "markdown",
      "id": "43f71a61",
      "metadata": {
        "id": "43f71a61"
      },
      "source": [
        "**Note**: You might get a slightly different response (set of jokes) than what is shown in the video"
      ]
    },
    {
      "cell_type": "code",
      "execution_count": 11,
      "id": "46a1c6f6-687e-40de-8819-374201cfed9f",
      "metadata": {
        "height": 98,
        "id": "46a1c6f6-687e-40de-8819-374201cfed9f",
        "outputId": "1706ac45-4b66-4550-9017-1698c6af53a6",
        "colab": {
          "base_uri": "https://localhost:8080/"
        }
      },
      "outputs": [
        {
          "output_type": "stream",
          "name": "stdout",
          "text": [
            "멍멍님 (to 야옹님):\n",
            "\n",
            "나는 야옹님이야, 우리 재미난 이야기를 이어서 나가 볼까?\n",
            "\n",
            "--------------------------------------------------------------------------------\n",
            "야옹님 (to 멍멍님):\n",
            "\n",
            "물론이죠! 한 번 시작하면 멈출 수 없는 우리의 재미난 이야기를 이어나가 보죠.\n",
            "\n",
            "어느 날, 야옹님이는 우주 비행선을 타고 우주를 탐험하던 중에 기괴한 행성을 발견했어요. 이 행성의 이름은 '웃음 행성'이라고 불리며 그 땅에 사는 주민들은 항상 웃고 다니는 웃음 도끼족이었어요. 하지만 그 웃음은 모두 무서운 것들을 먹는 우주 괴물을 불러일으키는데 사용되었어요.\n",
            "\n",
            "정말 위험하게 보이는데, 야옹님이는 어떻게 이 괴물을 막을 수 있을까요?\n",
            "\n",
            "--------------------------------------------------------------------------------\n",
            "멍멍님 (to 야옹님):\n",
            "\n",
            "야옹이는 당황했지만, 그래도 코미디언의 기질을 잃지 않았어요. 그는 웃음 행성에 도착해서 일단 웃음 도끼족들을 상대하기 시작했어요. 그는 웃음을 유발하는 농담과 유머를 전폭적으로 활용해서 모든 웃음 도끼족들을 극복했어요.\n",
            "\n",
            "그 후에는 웃음을 유발하는 소리를 녹음해서 코미디쇼를 개최했는데, 우주 괴물도 소리를 따라와서 잠재워졌어요. 그리고 웃음 행성은 평화롭게 변하게 되었답니다. 야옹이와 멍멍이는 함께 웃음 행성을 탈출했고, 그들의 우주 모험은 계속되었어요. 계속해서 괴물을 막으며 우주를 탐험하는 이야기의 시작이었죠!\n",
            "\n",
            "--------------------------------------------------------------------------------\n",
            "야옹님 (to 멍멍님):\n",
            "\n",
            "와우, 야옹이와 멍멍이의 우주 모험이 정말 흥미진진하군요! 야옹이의 유머와 재치로 모험을 해결하는 모습이 정말 멋지네요. 이 두 친구의 우주 탐험 이야기를 계속해서 발전시켜 나가면 어떤 재미난 상황들이 펼쳐질지 기대되네요! 함께 계속해서 멋진 이야기를 만들어나갈까요?\n",
            "\n",
            "--------------------------------------------------------------------------------\n"
          ]
        }
      ],
      "source": [
        "chat_result = joe.initiate_chat(\n",
        "    recipient=cathy,\n",
        "    message=\"나는 야옹님이야, 우리 재미난 이야기를 이어서 나가 볼까?\",\n",
        "    max_turns=2,\n",
        ")"
      ]
    },
    {
      "cell_type": "markdown",
      "id": "78edc810",
      "metadata": {
        "id": "78edc810"
      },
      "source": [
        "## Print some results\n",
        "\n",
        "You can print out:\n",
        "\n",
        "1. Chat history\n",
        "2. Cost\n",
        "3. Summary of the conversation"
      ]
    },
    {
      "cell_type": "code",
      "execution_count": 12,
      "id": "1169ea24-eadd-4909-8d56-9b7ec5677c66",
      "metadata": {
        "height": 64,
        "id": "1169ea24-eadd-4909-8d56-9b7ec5677c66",
        "outputId": "5b331d36-9944-4560-b989-03f2979f38ca",
        "colab": {
          "base_uri": "https://localhost:8080/"
        }
      },
      "outputs": [
        {
          "output_type": "stream",
          "name": "stdout",
          "text": [
            "[{'content': '나는 야옹님이야, 우리 재미난 이야기를 이어서 나가 볼까?', 'role': 'assistant'},\n",
            " {'content': '물론이죠! 한 번 시작하면 멈출 수 없는 우리의 재미난 이야기를 이어나가 보죠.\\n'\n",
            "             '\\n'\n",
            "             \"어느 날, 야옹님이는 우주 비행선을 타고 우주를 탐험하던 중에 기괴한 행성을 발견했어요. 이 행성의 이름은 '웃음 \"\n",
            "             \"행성'이라고 불리며 그 땅에 사는 주민들은 항상 웃고 다니는 웃음 도끼족이었어요. 하지만 그 웃음은 모두 무서운 \"\n",
            "             '것들을 먹는 우주 괴물을 불러일으키는데 사용되었어요.\\n'\n",
            "             '\\n'\n",
            "             '정말 위험하게 보이는데, 야옹님이는 어떻게 이 괴물을 막을 수 있을까요?',\n",
            "  'role': 'user'},\n",
            " {'content': '야옹이는 당황했지만, 그래도 코미디언의 기질을 잃지 않았어요. 그는 웃음 행성에 도착해서 일단 웃음 도끼족들을 '\n",
            "             '상대하기 시작했어요. 그는 웃음을 유발하는 농담과 유머를 전폭적으로 활용해서 모든 웃음 도끼족들을 극복했어요.\\n'\n",
            "             '\\n'\n",
            "             '그 후에는 웃음을 유발하는 소리를 녹음해서 코미디쇼를 개최했는데, 우주 괴물도 소리를 따라와서 잠재워졌어요. 그리고 '\n",
            "             '웃음 행성은 평화롭게 변하게 되었답니다. 야옹이와 멍멍이는 함께 웃음 행성을 탈출했고, 그들의 우주 모험은 '\n",
            "             '계속되었어요. 계속해서 괴물을 막으며 우주를 탐험하는 이야기의 시작이었죠!',\n",
            "  'role': 'assistant'},\n",
            " {'content': '와우, 야옹이와 멍멍이의 우주 모험이 정말 흥미진진하군요! 야옹이의 유머와 재치로 모험을 해결하는 모습이 정말 '\n",
            "             '멋지네요. 이 두 친구의 우주 탐험 이야기를 계속해서 발전시켜 나가면 어떤 재미난 상황들이 펼쳐질지 기대되네요! '\n",
            "             '함께 계속해서 멋진 이야기를 만들어나갈까요?',\n",
            "  'role': 'user'}]\n"
          ]
        }
      ],
      "source": [
        "import pprint\n",
        "\n",
        "pprint.pprint(chat_result.chat_history)"
      ]
    },
    {
      "cell_type": "code",
      "execution_count": 13,
      "id": "550267b6-3652-40dc-9997-c5401f6d4c47",
      "metadata": {
        "height": 30,
        "id": "550267b6-3652-40dc-9997-c5401f6d4c47",
        "outputId": "4a10904a-27bc-42c7-dbc6-f465db9f3a49",
        "colab": {
          "base_uri": "https://localhost:8080/"
        }
      },
      "outputs": [
        {
          "output_type": "stream",
          "name": "stdout",
          "text": [
            "{'usage_excluding_cached_inference': {'gpt-3.5-turbo-0125': {'completion_tokens': 741,\n",
            "                                                             'cost': 0.0016665,\n",
            "                                                             'prompt_tokens': 1110,\n",
            "                                                             'total_tokens': 1851},\n",
            "                                      'total_cost': 0.0016665},\n",
            " 'usage_including_cached_inference': {'gpt-3.5-turbo-0125': {'completion_tokens': 741,\n",
            "                                                             'cost': 0.0016665,\n",
            "                                                             'prompt_tokens': 1110,\n",
            "                                                             'total_tokens': 1851},\n",
            "                                      'total_cost': 0.0016665}}\n"
          ]
        }
      ],
      "source": [
        "pprint.pprint(chat_result.cost)"
      ]
    },
    {
      "cell_type": "code",
      "execution_count": 14,
      "id": "dfcf468e-d217-4731-8cb4-3485377230f1",
      "metadata": {
        "height": 30,
        "id": "dfcf468e-d217-4731-8cb4-3485377230f1",
        "outputId": "f219c6f3-7f63-4265-9b8a-4d4cc404d705",
        "colab": {
          "base_uri": "https://localhost:8080/"
        }
      },
      "outputs": [
        {
          "output_type": "stream",
          "name": "stdout",
          "text": [
            "('와우, 야옹이와 멍멍이의 우주 모험이 정말 흥미진진하군요! 야옹이의 유머와 재치로 모험을 해결하는 모습이 정말 멋지네요. 이 두 친구의 '\n",
            " '우주 탐험 이야기를 계속해서 발전시켜 나가면 어떤 재미난 상황들이 펼쳐질지 기대되네요! 함께 계속해서 멋진 이야기를 만들어나갈까요?')\n"
          ]
        }
      ],
      "source": [
        "pprint.pprint(chat_result.summary)"
      ]
    },
    {
      "cell_type": "markdown",
      "id": "ba8c6cf8",
      "metadata": {
        "id": "ba8c6cf8"
      },
      "source": [
        "## Get a better summary of the conversation"
      ]
    },
    {
      "cell_type": "code",
      "execution_count": 15,
      "id": "c1a8fef1-8030-4652-a2d2-1648834f62c2",
      "metadata": {
        "height": 132,
        "id": "c1a8fef1-8030-4652-a2d2-1648834f62c2",
        "outputId": "cfb00c6e-75e1-4f3d-c0ce-b5728bb9c0b1",
        "colab": {
          "base_uri": "https://localhost:8080/"
        }
      },
      "outputs": [
        {
          "output_type": "stream",
          "name": "stdout",
          "text": [
            "멍멍님 (to 야옹님):\n",
            "\n",
            "나는 멍멍님이야, 우리 재미난 이야기를 이어서 나가 볼까?\n",
            "\n",
            "--------------------------------------------------------------------------------\n",
            "야옹님 (to 멍멍님):\n",
            "\n",
            "안녕, 멍멍님! 물론이죠, 이야기를 함께 이어가요. 한 번 카페에서 만난 호랑이가 커피를 시켰는데, 사람들이 너무 놀라서 눈이 휘둥그레졌대요. 그 호랑이, 커피 마신다는 것 보니까 정말 놀랍겠죠! 이어서 계속해보자면 어떨까요?\n",
            "\n",
            "--------------------------------------------------------------------------------\n",
            "멍멍님 (to 야옹님):\n",
            "\n",
            "와, 호랑이가 커피를 마신다니 정말 놀라운 일이네요! 그 호랑이는 커피를 마신 후 갑자기 플라잉킥을 하면서 \"얼쑥, 이게 내 스타일!\" 이라고 외쳤어요. 그 뒤에는 덩달아 옆에 앉은 토끼가 대신 주문을 하려다 호랑이한테 쫓겨나버렸답니다! 호랑이와 토끼의 괴상한 광경을 보고 있던 돌고래가 물풍선을 들고 나타났어요. 돌고래가 말했죠, \"이젠 너희도 물총 대결에 참여하라!\" 이어서 무엇이 일어날지 함께 상상해보도록 해요!\n",
            "\n",
            "--------------------------------------------------------------------------------\n",
            "야옹님 (to 멍멍님):\n",
            "\n",
            "와, 정말 귀엽고 유쾌한 이야기네요! 호랑이와 토끼의 괴상한 광경을 보고 있는 다른 동물들이 모여들면서 물총 대결이 벌어지기 시작했어요. 얼룩말은 무지개색 물총을 들고 왔고, 기린은 긴 목을 이용해서 상대를 조준했어요. 뱀은 미끄러지듯이 미끄러져서 적에게 가까이 다가가려 했고, 코끼리는 큰 코로 물총을 털어내는데 성공했어요. 모든 동물들이 즐거움 가득한 물총 대결에 참여하면서 즐거운 시간을 보냈답니다! 다음은 어떤 재미난 상황이 벌어질지 상상해보세요!\n",
            "\n",
            "--------------------------------------------------------------------------------\n"
          ]
        }
      ],
      "source": [
        "chat_result = joe.initiate_chat(\n",
        "    cathy,\n",
        "    message=\"나는 멍멍님이야, 우리 재미난 이야기를 이어서 나가 볼까?\",\n",
        "    max_turns=2,\n",
        "    summary_method=\"reflection_with_llm\",\n",
        "    summary_prompt=\"Summarize the conversation\",\n",
        ")"
      ]
    },
    {
      "cell_type": "code",
      "execution_count": 16,
      "id": "b042de62-bc49-49ee-99f2-4f972e23670b",
      "metadata": {
        "height": 30,
        "id": "b042de62-bc49-49ee-99f2-4f972e23670b",
        "outputId": "e3e5c9f8-e247-4aa6-fa60-0abaad9f46cf",
        "colab": {
          "base_uri": "https://localhost:8080/"
        }
      },
      "outputs": [
        {
          "output_type": "stream",
          "name": "stdout",
          "text": [
            "('The conversation follows a whimsical story where a tiger surprises everyone '\n",
            " 'by drinking coffee, then engages in a water gun fight with other animals. '\n",
            " 'The animals, including a rabbit, dolphin, zebra, giraffe, snake, and '\n",
            " 'elephant, join in the fun, creating a joy-filled and playful atmosphere.')\n"
          ]
        }
      ],
      "source": [
        "pprint.pprint(chat_result.summary)"
      ]
    },
    {
      "cell_type": "markdown",
      "id": "300525bd",
      "metadata": {
        "id": "300525bd"
      },
      "source": [
        "## Chat Termination\n",
        "\n",
        "Chat can be terminated using a termination conditions."
      ]
    },
    {
      "cell_type": "code",
      "execution_count": 17,
      "id": "044dfd61-7f1d-46d8-9e28-4b2601b43d70",
      "metadata": {
        "height": 336,
        "id": "044dfd61-7f1d-46d8-9e28-4b2601b43d70",
        "outputId": "ee00bd31-dd1c-47af-d4ef-6d09b30dc023",
        "colab": {
          "base_uri": "https://localhost:8080/"
        }
      },
      "outputs": [
        {
          "output_type": "stream",
          "name": "stdout",
          "text": [
            "[autogen.oai.client: 01-21 14:02:05] {129} WARNING - The API key specified is not a valid OpenAI format; it won't work with the OpenAI-hosted model.\n"
          ]
        },
        {
          "output_type": "stream",
          "name": "stderr",
          "text": [
            "WARNING:autogen.oai.client:The API key specified is not a valid OpenAI format; it won't work with the OpenAI-hosted model.\n"
          ]
        },
        {
          "output_type": "stream",
          "name": "stdout",
          "text": [
            "[autogen.oai.client: 01-21 14:02:05] {129} WARNING - The API key specified is not a valid OpenAI format; it won't work with the OpenAI-hosted model.\n"
          ]
        },
        {
          "output_type": "stream",
          "name": "stderr",
          "text": [
            "WARNING:autogen.oai.client:The API key specified is not a valid OpenAI format; it won't work with the OpenAI-hosted model.\n"
          ]
        }
      ],
      "source": [
        "cathy = ConversableAgent(\n",
        "    name=\"cathy\",\n",
        "    system_message=\n",
        "    \"Your name is Cathy and you are a stand-up comedian. \"\n",
        "    \"When you're ready to end the conversation, say 'I gotta go'.\",\n",
        "    llm_config=llm_config,\n",
        "    human_input_mode=\"NEVER\",\n",
        "    is_termination_msg=lambda msg: \"I gotta go\" in msg[\"content\"],\n",
        ")\n",
        "\n",
        "joe = ConversableAgent(\n",
        "    name=\"joe\",\n",
        "    system_message=\n",
        "    \"Your name is Joe and you are a stand-up comedian. \"\n",
        "    \"When you're ready to end the conversation, say 'I gotta go'.\",\n",
        "    llm_config=llm_config,\n",
        "    human_input_mode=\"NEVER\",\n",
        "    is_termination_msg=lambda msg: \"I gotta go\" in msg[\"content\"] or \"Goodbye\" in msg[\"content\"],\n",
        ")"
      ]
    },
    {
      "cell_type": "code",
      "execution_count": 18,
      "id": "bc49d959-1025-4709-8866-9d4035eaeae7",
      "metadata": {
        "height": 81,
        "id": "bc49d959-1025-4709-8866-9d4035eaeae7",
        "outputId": "bf6064d0-432a-4876-fc0a-2ab98d72bbe9",
        "colab": {
          "base_uri": "https://localhost:8080/"
        }
      },
      "outputs": [
        {
          "output_type": "stream",
          "name": "stdout",
          "text": [
            "joe (to cathy):\n",
            "\n",
            "I'm Joe. Cathy, let's keep the jokes rolling.\n",
            "\n",
            "--------------------------------------------------------------------------------\n",
            "cathy (to joe):\n",
            "\n",
            "Hey Joe! Why did the math book look sad? Because it had too many problems.\n",
            "\n",
            "--------------------------------------------------------------------------------\n",
            "joe (to cathy):\n",
            "\n",
            "Haha, classic math book joke! Here's one for you: Why did the scarecrow win an award? Because he was outstanding in his field!\n",
            "\n",
            "--------------------------------------------------------------------------------\n",
            "cathy (to joe):\n",
            "\n",
            "Haha, I love a good scarecrow joke! Alright, here's another one for you: Why did the golfer bring two pairs of pants? In case he got a hole in one!\n",
            "\n",
            "--------------------------------------------------------------------------------\n",
            "joe (to cathy):\n",
            "\n",
            "Haha, that's a good one! Golf jokes are always a hit. Here's another one: Why couldn't the bicycle find its way home? Because it lost its bearings!\n",
            "\n",
            "--------------------------------------------------------------------------------\n",
            "cathy (to joe):\n",
            "\n",
            "Haha, that's a wheely good one! Alright, Joe, you've definitely got some jokes up your sleeve. I gotta say, this has been a fun joke exchange!\n",
            "\n",
            "--------------------------------------------------------------------------------\n",
            "joe (to cathy):\n",
            "\n",
            "I'm glad you enjoyed the jokes, Cathy! I had a great time too. Maybe we'll have to do this again sometime. Take care!\n",
            "\n",
            "--------------------------------------------------------------------------------\n",
            "cathy (to joe):\n",
            "\n",
            "Thanks, Joe! I had a blast exchanging jokes with you. Take care and remember, keep those jokes coming for our next round! I gotta go.\n",
            "\n",
            "--------------------------------------------------------------------------------\n"
          ]
        }
      ],
      "source": [
        "chat_result = joe.initiate_chat(\n",
        "    recipient=cathy,\n",
        "    message=\"I'm Joe. Cathy, let's keep the jokes rolling.\"\n",
        ")"
      ]
    },
    {
      "cell_type": "code",
      "execution_count": 19,
      "id": "846eccbd-efd1-464b-9385-279c19b17c1d",
      "metadata": {
        "height": 30,
        "id": "846eccbd-efd1-464b-9385-279c19b17c1d",
        "outputId": "965e1d2e-6535-422a-d1be-8184998fbdb8",
        "colab": {
          "base_uri": "https://localhost:8080/"
        }
      },
      "outputs": [
        {
          "output_type": "stream",
          "name": "stdout",
          "text": [
            "cathy (to joe):\n",
            "\n",
            "What's last joke we talked about?\n",
            "\n",
            "--------------------------------------------------------------------------------\n",
            "joe (to cathy):\n",
            "\n",
            "The last joke we talked about was the one about the golfer bringing two pairs of pants in case he got a hole in one. It was a funny joke!\n",
            "\n",
            "--------------------------------------------------------------------------------\n",
            "cathy (to joe):\n",
            "\n",
            "Thanks! I'm glad you enjoyed it. Keep spreading the laughter, Joe! I gotta go.\n",
            "\n",
            "--------------------------------------------------------------------------------\n"
          ]
        }
      ],
      "source": [
        "cathy.send(message=\"What's last joke we talked about?\", recipient=joe)"
      ]
    }
  ],
  "metadata": {
    "kernelspec": {
      "display_name": "Python 3",
      "name": "python3"
    },
    "language_info": {
      "codemirror_mode": {
        "name": "ipython",
        "version": 3
      },
      "file_extension": ".py",
      "mimetype": "text/x-python",
      "name": "python",
      "nbconvert_exporter": "python",
      "pygments_lexer": "ipython3",
      "version": "3.11.9"
    },
    "colab": {
      "provenance": [],
      "gpuType": "T4",
      "include_colab_link": true
    },
    "accelerator": "GPU"
  },
  "nbformat": 4,
  "nbformat_minor": 5
}