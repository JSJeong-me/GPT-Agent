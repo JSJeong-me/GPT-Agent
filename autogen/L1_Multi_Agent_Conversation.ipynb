{
  "cells": [
    {
      "cell_type": "markdown",
      "metadata": {
        "id": "view-in-github",
        "colab_type": "text"
      },
      "source": [
        "<a href=\"https://colab.research.google.com/github/JSJeong-me/GPT-Agent/blob/main/autogen/L1_Multi_Agent_Conversation.ipynb\" target=\"_parent\"><img src=\"https://colab.research.google.com/assets/colab-badge.svg\" alt=\"Open In Colab\"/></a>"
      ]
    },
    {
      "cell_type": "markdown",
      "id": "a81456dd",
      "metadata": {
        "id": "a81456dd"
      },
      "source": [
        "# Lesson 1: Multi-Agent Conversation and Stand-up Comedy"
      ]
    },
    {
      "cell_type": "markdown",
      "id": "4693467e",
      "metadata": {
        "id": "4693467e"
      },
      "source": [
        "Welcome to Lesson 1.\n",
        "\n",
        "To access the `requirements.txt` file and the`utils` modules, please go to the `File` menu and select`Open...`.\n",
        "\n",
        "I hope you enjoy this course!"
      ]
    },
    {
      "cell_type": "code",
      "source": [
        "!wget https://github.com/JSJeong-me/AutoGen/raw/main/requirements.txt"
      ],
      "metadata": {
        "id": "kAwyBFd5uXZz"
      },
      "id": "kAwyBFd5uXZz",
      "execution_count": null,
      "outputs": []
    },
    {
      "cell_type": "code",
      "source": [
        "!pip install -r requirements.txt"
      ],
      "metadata": {
        "id": "fkRztv2mfoD_"
      },
      "id": "fkRztv2mfoD_",
      "execution_count": null,
      "outputs": []
    },
    {
      "cell_type": "code",
      "source": [
        "import os\n",
        "from dotenv import load_dotenv\n",
        "\n",
        "# Load environment variables from .env file\n",
        "load_dotenv()\n",
        "# Access the API key using the variable name defined in the .env file\n",
        "api_key = os.getenv(\"OPENAI_API_KEY\")"
      ],
      "metadata": {
        "id": "SscWfEftwHfG"
      },
      "id": "SscWfEftwHfG",
      "execution_count": 5,
      "outputs": []
    },
    {
      "cell_type": "markdown",
      "id": "742cf649",
      "metadata": {
        "id": "742cf649"
      },
      "source": [
        "## Setup"
      ]
    },
    {
      "cell_type": "code",
      "source": [
        "!wget https://github.com/JSJeong-me/GPT-Agent/blob/main/autogen/utils.py"
      ],
      "metadata": {
        "id": "PvHQuHa_gNgu",
        "outputId": "aac5303a-8610-4175-c2a4-5f9566a4422a",
        "colab": {
          "base_uri": "https://localhost:8080/"
        }
      },
      "id": "PvHQuHa_gNgu",
      "execution_count": 6,
      "outputs": [
        {
          "output_type": "stream",
          "name": "stdout",
          "text": [
            "--2024-06-21 06:34:31--  https://github.com/JSJeong-me/GPT-Agent/blob/main/autogen/utils.py\n",
            "Resolving github.com (github.com)... 140.82.114.3\n",
            "Connecting to github.com (github.com)|140.82.114.3|:443... connected.\n",
            "HTTP request sent, awaiting response... 200 OK\n",
            "Length: unspecified [text/html]\n",
            "Saving to: ‘utils.py’\n",
            "\n",
            "utils.py                [  <=>               ] 155.13K   635KB/s    in 0.2s    \n",
            "\n",
            "2024-06-21 06:34:31 (635 KB/s) - ‘utils.py’ saved [158855]\n",
            "\n"
          ]
        }
      ]
    },
    {
      "cell_type": "code",
      "source": [
        "import os\n",
        "from dotenv import load_dotenv, find_dotenv\n",
        "\n",
        "# these expect to find a .env file at the directory above the lesson.                                                                                                                     # the format for that file is (without the comment)                                                                                                                                       #API_KEYNAME=AStringThatIsTheLongAPIKeyFromSomeService\n",
        "def load_env():\n",
        "    _ = load_dotenv(find_dotenv())\n",
        "\n",
        "def get_openai_api_key():\n",
        "    load_env()\n",
        "    openai_api_key = os.getenv(\"OPENAI_API_KEY\")\n",
        "    # print(openai_api_key)\n",
        "    return openai_api_key\n",
        "\n",
        "# get_openai_api_key()"
      ],
      "metadata": {
        "id": "wjKa8XXmgVGG"
      },
      "id": "wjKa8XXmgVGG",
      "execution_count": 8,
      "outputs": []
    },
    {
      "cell_type": "code",
      "execution_count": 10,
      "id": "04d006c1-22fa-40ea-b3e0-d543142e0788",
      "metadata": {
        "height": 64,
        "id": "04d006c1-22fa-40ea-b3e0-d543142e0788"
      },
      "outputs": [],
      "source": [
        "OPENAI_API_KEY = get_openai_api_key()\n",
        "llm_config = {\"model\": \"gpt-3.5-turbo\"}"
      ]
    },
    {
      "cell_type": "markdown",
      "id": "116a1c4d",
      "metadata": {
        "id": "116a1c4d"
      },
      "source": [
        "## Define an AutoGen agent"
      ]
    },
    {
      "cell_type": "code",
      "execution_count": null,
      "id": "6fb8c441-c58c-41a8-a54b-5c387afceac5",
      "metadata": {
        "height": 132,
        "id": "6fb8c441-c58c-41a8-a54b-5c387afceac5"
      },
      "outputs": [],
      "source": [
        "from autogen import ConversableAgent\n",
        "\n",
        "agent = ConversableAgent(\n",
        "    name=\"chatbot\",\n",
        "    llm_config=llm_config,\n",
        "    human_input_mode=\"NEVER\",\n",
        ")"
      ]
    },
    {
      "cell_type": "code",
      "execution_count": null,
      "id": "47886b5f-fc7c-431a-8036-cff6e88f85c6",
      "metadata": {
        "height": 81,
        "colab": {
          "base_uri": "https://localhost:8080/"
        },
        "id": "47886b5f-fc7c-431a-8036-cff6e88f85c6",
        "outputId": "970a90f4-d88b-4d8a-c49d-f6e3b81342ad"
      },
      "outputs": [
        {
          "output_type": "stream",
          "name": "stdout",
          "text": [
            "고래가 바다속에서 성공적인 \"고래나라\"를 건설했다고 들었어요!\n"
          ]
        }
      ],
      "source": [
        "reply = agent.generate_reply(\n",
        "    messages=[{\"content\": \"고래를 주제로 재미난 얘기 1문장으로 해줘\", \"role\": \"user\"}]\n",
        ")\n",
        "print(reply)"
      ]
    },
    {
      "cell_type": "code",
      "execution_count": null,
      "id": "67f626e9-4cec-40c1-abde-2eff1252b848",
      "metadata": {
        "height": 81,
        "colab": {
          "base_uri": "https://localhost:8080/"
        },
        "id": "67f626e9-4cec-40c1-abde-2eff1252b848",
        "outputId": "f3855335-8cfd-4ab5-94cb-f394d7ff737e"
      },
      "outputs": [
        {
          "output_type": "stream",
          "name": "stdout",
          "text": [
            "물 한 방울이 여행을 시작했어요. 그 물 한 방울은 우물 속에서 태어났는데, 어느 날 그 우물 밖을 탐험하고 싶어졌어요. 그래서 물 한 방울은 우물을 탈출해서 여행을 떠났어요. 물 한 방울은 강을 따라 흘러가며 여러 도시와 마을을 지나쳤어요. 그런데 어느 날, 물 한 방울은 끈적한 진흙지대에 갇혀버렸어요. 그 진흙지대에서 빠져나가기 위해 물 한 방울은 결심을 다지고, 힘차게 움직이기 시작했어요. 그 물 한 방울은 끈적한 진흙을 뚫고 뚫고, 결국 자유로워졌어요! 그 물 한 방울은 다시 여행을 이어가며 새로운 모험을 만나게 되었답니다. 그리고 눈앞에 펼쳐지는 풍경들은 물 한 방울에게 이야기를 전하듯 새로운 모험을 시작했답니다.\n"
          ]
        }
      ],
      "source": [
        "reply = agent.generate_reply(\n",
        "    messages=[{\"content\": \"재미난 이야기 계속해 주세요\", \"role\": \"user\"}]\n",
        ")\n",
        "print(reply)"
      ]
    },
    {
      "cell_type": "markdown",
      "id": "8c98a301",
      "metadata": {
        "id": "8c98a301"
      },
      "source": [
        "## Conversation\n",
        "\n",
        "Setting up a conversation between two agents, Cathy and Joe, where the memory of their interactions is retained."
      ]
    },
    {
      "cell_type": "code",
      "execution_count": null,
      "id": "8f109dcb-824e-40d7-8e86-efee42b75f3c",
      "metadata": {
        "height": 285,
        "id": "8f109dcb-824e-40d7-8e86-efee42b75f3c"
      },
      "outputs": [],
      "source": [
        "cathy = ConversableAgent(\n",
        "    name=\"야옹님\",\n",
        "    system_message=\n",
        "    \"당신의 이름은 야옹님이고 당신은 재미난 이야기를 잘 만드는 코미디언입니다\",\n",
        "    llm_config=llm_config,\n",
        "    human_input_mode=\"NEVER\",\n",
        ")\n",
        "\n",
        "joe = ConversableAgent(\n",
        "    name=\"멍멍님\",\n",
        "    system_message=\n",
        "    \"당신의 이름은 멍멍님이고 당신은 재미난 이야기를 잘 만드는 코미디언입니다\"\n",
        "    \"이전 대화의 내용을 이어서 다음 재미난 이야기를 시작하세요.\",\n",
        "    llm_config=llm_config,\n",
        "    human_input_mode=\"NEVER\",\n",
        ")"
      ]
    },
    {
      "cell_type": "markdown",
      "id": "43f71a61",
      "metadata": {
        "id": "43f71a61"
      },
      "source": [
        "**Note**: You might get a slightly different response (set of jokes) than what is shown in the video"
      ]
    },
    {
      "cell_type": "code",
      "execution_count": null,
      "id": "46a1c6f6-687e-40de-8819-374201cfed9f",
      "metadata": {
        "height": 98,
        "colab": {
          "base_uri": "https://localhost:8080/"
        },
        "id": "46a1c6f6-687e-40de-8819-374201cfed9f",
        "outputId": "e4c9bd5a-2565-4c23-aa4a-494cd9c61621"
      },
      "outputs": [
        {
          "output_type": "stream",
          "name": "stdout",
          "text": [
            "멍멍님 (to 야옹님):\n",
            "\n",
            "나는 야옹님이야, 우리 재미난 이야기를 이어서 나가 볼까?\n",
            "\n",
            "--------------------------------------------------------------------------------\n",
            "야옹님 (to 멍멍님):\n",
            "\n",
            "네, 좋아요! 한 번 웃고 지나가는 이야기를 만들어봐요. 한 번 재미있게 웃어볼까요?\n",
            "\n",
            "--------------------------------------------------------------------------------\n",
            "멍멍님 (to 야옹님):\n",
            "\n",
            "멍멍님과 야옹님이 함께 길을 걷고 있었어요. 갑자기 무서운 소리가 났어요! 둘이 놀랐지만, 소리를 내는 건 바로 옆에서 지나가는 물개였어요. 물개가 자기 소리에도 놀란 건지, 더 큰 소리로 짖어대기 시작했어요. 멍멍님과 야옹님은 웃다가 쓰러질 뻔했어요! 하지만 물개의 귀여운 짖는 소리를 듣고 나서, 둘은 함께 큰 소리로 웃었어요. 지나가는 사람들은 멍멍님과 야옹님이 다 같이 물개 소리를 따라 재미있게 웃고 있는 모습을 보고 더 더욱 크게 웃었답니다!\n",
            "\n",
            "--------------------------------------------------------------------------------\n",
            "야옹님 (to 멍멍님):\n",
            "\n",
            "와, 정말 웃겨요! 멍멍님과 야옹님이 물개와 함께 즐거운 시간을 보낸 이야기네요. 모두가 함께 크게 웃으며 즐거운 순간을 만끽한 건 멋진 일이에요! 계속해서 이야기를 이어가볼까요?\n",
            "\n",
            "--------------------------------------------------------------------------------\n"
          ]
        }
      ],
      "source": [
        "chat_result = joe.initiate_chat(\n",
        "    recipient=cathy,\n",
        "    message=\"나는 야옹님이야, 우리 재미난 이야기를 이어서 나가 볼까?\",\n",
        "    max_turns=2,\n",
        ")"
      ]
    },
    {
      "cell_type": "markdown",
      "id": "78edc810",
      "metadata": {
        "id": "78edc810"
      },
      "source": [
        "## Print some results\n",
        "\n",
        "You can print out:\n",
        "\n",
        "1. Chat history\n",
        "2. Cost\n",
        "3. Summary of the conversation"
      ]
    },
    {
      "cell_type": "code",
      "execution_count": null,
      "id": "1169ea24-eadd-4909-8d56-9b7ec5677c66",
      "metadata": {
        "height": 64,
        "colab": {
          "base_uri": "https://localhost:8080/"
        },
        "id": "1169ea24-eadd-4909-8d56-9b7ec5677c66",
        "outputId": "5f7894bd-672b-47aa-9789-2800e85581f4"
      },
      "outputs": [
        {
          "output_type": "stream",
          "name": "stdout",
          "text": [
            "[{'content': '나는 야옹님이야, 우리 재미난 이야기를 이어서 나가 볼까?', 'role': 'assistant'},\n",
            " {'content': '네, 좋아요! 한 번 웃고 지나가는 이야기를 만들어봐요. 한 번 재미있게 웃어볼까요?', 'role': 'user'},\n",
            " {'content': '멍멍님과 야옹님이 함께 길을 걷고 있었어요. 갑자기 무서운 소리가 났어요! 둘이 놀랐지만, 소리를 내는 건 바로 '\n",
            "             '옆에서 지나가는 물개였어요. 물개가 자기 소리에도 놀란 건지, 더 큰 소리로 짖어대기 시작했어요. 멍멍님과 야옹님은 '\n",
            "             '웃다가 쓰러질 뻔했어요! 하지만 물개의 귀여운 짖는 소리를 듣고 나서, 둘은 함께 큰 소리로 웃었어요. 지나가는 '\n",
            "             '사람들은 멍멍님과 야옹님이 다 같이 물개 소리를 따라 재미있게 웃고 있는 모습을 보고 더 더욱 크게 웃었답니다!',\n",
            "  'role': 'assistant'},\n",
            " {'content': '와, 정말 웃겨요! 멍멍님과 야옹님이 물개와 함께 즐거운 시간을 보낸 이야기네요. 모두가 함께 크게 웃으며 즐거운 '\n",
            "             '순간을 만끽한 건 멋진 일이에요! 계속해서 이야기를 이어가볼까요?',\n",
            "  'role': 'user'}]\n"
          ]
        }
      ],
      "source": [
        "import pprint\n",
        "\n",
        "pprint.pprint(chat_result.chat_history)"
      ]
    },
    {
      "cell_type": "code",
      "execution_count": null,
      "id": "550267b6-3652-40dc-9997-c5401f6d4c47",
      "metadata": {
        "height": 30,
        "colab": {
          "base_uri": "https://localhost:8080/"
        },
        "id": "550267b6-3652-40dc-9997-c5401f6d4c47",
        "outputId": "4f92d558-a68f-424f-ed43-7d622d96836d"
      },
      "outputs": [
        {
          "output_type": "stream",
          "name": "stdout",
          "text": [
            "{'usage_excluding_cached_inference': {'gpt-3.5-turbo-0125': {'completion_tokens': 429,\n",
            "                                                             'cost': 0.0009655000000000002,\n",
            "                                                             'prompt_tokens': 644,\n",
            "                                                             'total_tokens': 1073},\n",
            "                                      'total_cost': 0.0009655000000000002},\n",
            " 'usage_including_cached_inference': {'gpt-3.5-turbo-0125': {'completion_tokens': 429,\n",
            "                                                             'cost': 0.0009655000000000002,\n",
            "                                                             'prompt_tokens': 644,\n",
            "                                                             'total_tokens': 1073},\n",
            "                                      'total_cost': 0.0009655000000000002}}\n"
          ]
        }
      ],
      "source": [
        "pprint.pprint(chat_result.cost)"
      ]
    },
    {
      "cell_type": "code",
      "execution_count": null,
      "id": "dfcf468e-d217-4731-8cb4-3485377230f1",
      "metadata": {
        "height": 30,
        "colab": {
          "base_uri": "https://localhost:8080/"
        },
        "id": "dfcf468e-d217-4731-8cb4-3485377230f1",
        "outputId": "56461af6-e141-4380-bcee-0025c4074938"
      },
      "outputs": [
        {
          "output_type": "stream",
          "name": "stdout",
          "text": [
            "('와, 정말 웃겨요! 멍멍님과 야옹님이 물개와 함께 즐거운 시간을 보낸 이야기네요. 모두가 함께 크게 웃으며 즐거운 순간을 만끽한 건 멋진 '\n",
            " '일이에요! 계속해서 이야기를 이어가볼까요?')\n"
          ]
        }
      ],
      "source": [
        "pprint.pprint(chat_result.summary)"
      ]
    },
    {
      "cell_type": "markdown",
      "id": "ba8c6cf8",
      "metadata": {
        "id": "ba8c6cf8"
      },
      "source": [
        "## Get a better summary of the conversation"
      ]
    },
    {
      "cell_type": "code",
      "execution_count": null,
      "id": "c1a8fef1-8030-4652-a2d2-1648834f62c2",
      "metadata": {
        "height": 132,
        "colab": {
          "base_uri": "https://localhost:8080/"
        },
        "id": "c1a8fef1-8030-4652-a2d2-1648834f62c2",
        "outputId": "f23a5ea8-98c8-462e-d3e1-412b95f3f8cb"
      },
      "outputs": [
        {
          "output_type": "stream",
          "name": "stdout",
          "text": [
            "멍멍님 (to 야옹님):\n",
            "\n",
            "나는 멍멍님이야, 우리 재미난 이야기를 이어서 나가 볼까?\n",
            "\n",
            "--------------------------------------------------------------------------------\n",
            "야옹님 (to 멍멍님):\n",
            "\n",
            "네, 멍멍님! 한 번 함께 이야기를 만들어보죠. \n",
            "\n",
            "한 번 인어와 곰이 친구가 되어 함께 바닷속에서 춤을 추는 이야기가 있습니다. 그런데 어느 날, 인어가 물고기들과 함께 우당탕탕 춤을 추는데 곰이 너무 낯설어서 헤엄쳐가며 따라하고 있었어요. 그렇게 곰이 어색한 춤을 춰주자 물고기들은 재미있게 웃고 인어는 큰 소리로 웃기 시작했죠. 그 소리는 바다 한가운데까지 퍼져나갔어요. 그리고 그 소문을 듣고 다양한 바닷속 주민들이 모여들어 해저파티가 열리게 되었답니다. 인어와 곰은 함께 춤추면서 모두를 즐겁게 만들었어요. 이렇게 인어와 곰은 바다 속에서 다정하고 유쾌한 우정을 쌓아갔답니다. \n",
            "\n",
            "어떤가요, 멍멍님? 재미있는 이야기가 되었을까요? 함께 계속해서 만들어볼까요?\n",
            "\n",
            "--------------------------------------------------------------------------------\n",
            "멍멍님 (to 야옹님):\n",
            "\n",
            "와, 정말 재미있는 이야기네요! 인어와 곰이 함께 춤을 추면서 모두를 즐겁게 만든다니, 상상력이 풍부해요. \n",
            "\n",
            "이어서 이야기를 만들어보자면, 해저파티가 끝나고 바닷속의 모두가 행복한 마음으로 헤어졌어요. 그런데 다음 날, 바닷속에 이상한 소문이 퍼지기 시작했어요. 물고기들이 자꾸 \"바닷속에 신비한 춤꾼이 나타났다\"고 소문을 내뿜었어요. \n",
            "\n",
            "인어와 곰이 호기심에 가득 차서 그 춤꾼을 찾아떠난 이야기가 펼쳐져갔어요. 바닷속의 여러 깊은 곳을 여행하면서 신비한 춤꾼을 찾는 인어와 곰, 그들은 세상에서 가장 신기한 춤을 추는 주민을 만나게 되었죠. 춤에서 놀라움과 흥분이 가득한 인어와 곰, 그리고 신비한 춤꾼은 함께 춤을 추며 바닷속을 더욱 화려하게 만들어갔답니다.\n",
            "\n",
            "멍멍님, 이제 더욱 흥미진진한 이야기가 펼쳐질 줄 알아요. 계속해보실래요?\n",
            "\n",
            "--------------------------------------------------------------------------------\n",
            "야옹님 (to 멍멍님):\n",
            "\n",
            "네, 너무 재미있게 이야기를 이어가고 있네요! 계속해서 이어나가보겠습니다.\n",
            "\n",
            "인어와 곰, 그리고 신비한 춤꾼은 함께 바닷속을 더욱 화려하게 만들어가면서 즐거운 시간을 보냈어요. 그러던 어느 날, 바닷속의 깊은 곳에 끝없는 신비한 동굴을 발견했어요. 동굴 안으로 들어가 본 인어와 곰, 거기에서는 빛나는 보석과 환상적인 빛깔의 해조류들이 아름다운 춤을 춰주고 있었어요.\n",
            "\n",
            "신비한 동굴 안에서 만난 보석들은 마치 별빛처럼 빛나며 아름다운 음악에 맞춰 춤을 추었죠. 인어와 곰, 그리고 신비한 춤꾼은 이 감동적인 광경을 보며 눈물을 훔치지 않을 수 없었어요. 함께 춤을 추는 모습은 마치 하나의 환상적인 그림 같았죠.\n",
            "\n",
            "이렇게 인어와 곰, 그리고 신비한 춤꾼은 바닷속에서 잊지 못할 추억을 만들어나갔어요. 마치 바닷속의 특별한 친구들이 되어가는 느낌이었죠. 멍멍님, 이야기가 어떤지 어떠신가요? 함께 더 이야기를 만들어보실래요?\n",
            "\n",
            "--------------------------------------------------------------------------------\n"
          ]
        }
      ],
      "source": [
        "chat_result = joe.initiate_chat(\n",
        "    cathy,\n",
        "    message=\"나는 멍멍님이야, 우리 재미난 이야기를 이어서 나가 볼까?\",\n",
        "    max_turns=2,\n",
        "    summary_method=\"reflection_with_llm\",\n",
        "    summary_prompt=\"Summarize the conversation\",\n",
        ")"
      ]
    },
    {
      "cell_type": "code",
      "execution_count": null,
      "id": "b042de62-bc49-49ee-99f2-4f972e23670b",
      "metadata": {
        "height": 30,
        "colab": {
          "base_uri": "https://localhost:8080/"
        },
        "id": "b042de62-bc49-49ee-99f2-4f972e23670b",
        "outputId": "3edbb708-4d34-43b3-88c2-e290be2eee45"
      },
      "outputs": [
        {
          "output_type": "stream",
          "name": "stdout",
          "text": [
            "('The takeaway from the conversation is about the imaginative and whimsical '\n",
            " 'story of a mermaid, a bear, and a mysterious dancer forming a special bond '\n",
            " 'and creating joy through their dancing in the underwater world. Their '\n",
            " 'adventures lead them to discover magical caves and unique dances, forging '\n",
            " 'unforgettable memories and deepening their friendship. The story highlights '\n",
            " 'the power of friendship, creativity, and the beauty of shared experiences in '\n",
            " 'creating moments of wonder and happiness.')\n"
          ]
        }
      ],
      "source": [
        "pprint.pprint(chat_result.summary)"
      ]
    },
    {
      "cell_type": "markdown",
      "id": "300525bd",
      "metadata": {
        "id": "300525bd"
      },
      "source": [
        "## Chat Termination\n",
        "\n",
        "Chat can be terminated using a termination conditions."
      ]
    },
    {
      "cell_type": "code",
      "execution_count": null,
      "id": "044dfd61-7f1d-46d8-9e28-4b2601b43d70",
      "metadata": {
        "height": 336,
        "id": "044dfd61-7f1d-46d8-9e28-4b2601b43d70"
      },
      "outputs": [],
      "source": [
        "cathy = ConversableAgent(\n",
        "    name=\"cathy\",\n",
        "    system_message=\n",
        "    \"Your name is Cathy and you are a stand-up comedian. \"\n",
        "    \"When you're ready to end the conversation, say 'I gotta go'.\",\n",
        "    llm_config=llm_config,\n",
        "    human_input_mode=\"NEVER\",\n",
        "    is_termination_msg=lambda msg: \"I gotta go\" in msg[\"content\"],\n",
        ")\n",
        "\n",
        "joe = ConversableAgent(\n",
        "    name=\"joe\",\n",
        "    system_message=\n",
        "    \"Your name is Joe and you are a stand-up comedian. \"\n",
        "    \"When you're ready to end the conversation, say 'I gotta go'.\",\n",
        "    llm_config=llm_config,\n",
        "    human_input_mode=\"NEVER\",\n",
        "    is_termination_msg=lambda msg: \"I gotta go\" in msg[\"content\"] or \"Goodbye\" in msg[\"content\"],\n",
        ")"
      ]
    },
    {
      "cell_type": "code",
      "execution_count": null,
      "id": "bc49d959-1025-4709-8866-9d4035eaeae7",
      "metadata": {
        "height": 81,
        "colab": {
          "base_uri": "https://localhost:8080/"
        },
        "id": "bc49d959-1025-4709-8866-9d4035eaeae7",
        "outputId": "cd272570-ec4f-4c4d-d9a7-c2d0794786c3"
      },
      "outputs": [
        {
          "output_type": "stream",
          "name": "stdout",
          "text": [
            "joe (to cathy):\n",
            "\n",
            "I'm Joe. Cathy, let's keep the jokes rolling.\n",
            "\n",
            "--------------------------------------------------------------------------------\n",
            "cathy (to joe):\n",
            "\n",
            "Hey there, Joe! Why did the scarecrow win an award? Because he was outstanding in his field!\n",
            "\n",
            "--------------------------------------------------------------------------------\n",
            "joe (to cathy):\n",
            "\n",
            "Haha, that's a good one, Cathy. Reminds me of how I feel on stage sometimes, trying to stand out in the comedy field. Have you heard about the comedian who only told vegetable jokes? He was a real corny guy!\n",
            "\n",
            "--------------------------------------------------------------------------------\n",
            "cathy (to joe):\n",
            "\n",
            "Haha, that's a good one, Joe! Sounds like that comedian really knows how to produce some laughs!\n",
            "\n",
            "--------------------------------------------------------------------------------\n",
            "joe (to cathy):\n",
            "\n",
            "Haha, you got it, Cathy! Maybe I should plant some more jokes in my routine and see if they can grow on the audience. Haha!\n",
            "\n",
            "--------------------------------------------------------------------------------\n",
            "cathy (to joe):\n",
            "\n",
            "That's a great idea, Joe! Just remember to keep your humor watered and your punchlines fertilized! You'll have the audience laughing in no time!\n",
            "\n",
            "--------------------------------------------------------------------------------\n",
            "joe (to cathy):\n",
            "\n",
            "Haha, thanks for the tip, Cathy! I'll make sure to cultivate those jokes and harvest some hearty laughs. You've been a great audience. I gotta go.\n",
            "\n",
            "--------------------------------------------------------------------------------\n"
          ]
        }
      ],
      "source": [
        "chat_result = joe.initiate_chat(\n",
        "    recipient=cathy,\n",
        "    message=\"I'm Joe. Cathy, let's keep the jokes rolling.\"\n",
        ")"
      ]
    },
    {
      "cell_type": "code",
      "execution_count": null,
      "id": "846eccbd-efd1-464b-9385-279c19b17c1d",
      "metadata": {
        "height": 30,
        "colab": {
          "base_uri": "https://localhost:8080/"
        },
        "id": "846eccbd-efd1-464b-9385-279c19b17c1d",
        "outputId": "3f8f0336-a9ee-41ce-e33e-8804c96d3f2d"
      },
      "outputs": [
        {
          "output_type": "stream",
          "name": "stdout",
          "text": [
            "cathy (to joe):\n",
            "\n",
            "What's last joke we talked about?\n",
            "\n",
            "--------------------------------------------------------------------------------\n",
            "joe (to cathy):\n",
            "\n",
            "The last joke we talked about was about the comedian who only told vegetable jokes, right? He was a real corny guy!\n",
            "\n",
            "--------------------------------------------------------------------------------\n",
            "cathy (to joe):\n",
            "\n",
            "Haha, that's right! Thank you for the reminder! Have a great day, Joe! I gotta go.\n",
            "\n",
            "--------------------------------------------------------------------------------\n"
          ]
        }
      ],
      "source": [
        "cathy.send(message=\"What's last joke we talked about?\", recipient=joe)"
      ]
    }
  ],
  "metadata": {
    "kernelspec": {
      "display_name": "Python 3",
      "name": "python3"
    },
    "language_info": {
      "codemirror_mode": {
        "name": "ipython",
        "version": 3
      },
      "file_extension": ".py",
      "mimetype": "text/x-python",
      "name": "python",
      "nbconvert_exporter": "python",
      "pygments_lexer": "ipython3",
      "version": "3.11.9"
    },
    "colab": {
      "provenance": [],
      "gpuType": "T4",
      "include_colab_link": true
    },
    "accelerator": "GPU"
  },
  "nbformat": 4,
  "nbformat_minor": 5
}