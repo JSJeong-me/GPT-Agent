{
  "nbformat": 4,
  "nbformat_minor": 0,
  "metadata": {
    "colab": {
      "provenance": [],
      "gpuType": "T4",
      "authorship_tag": "ABX9TyP/KqoSh7z9tjJbhKf9Oydd",
      "include_colab_link": true
    },
    "kernelspec": {
      "name": "python3",
      "display_name": "Python 3"
    },
    "language_info": {
      "name": "python"
    },
    "accelerator": "GPU"
  },
  "cells": [
    {
      "cell_type": "markdown",
      "metadata": {
        "id": "view-in-github",
        "colab_type": "text"
      },
      "source": [
        "<a href=\"https://colab.research.google.com/github/JSJeong-me/GPT-Agent/blob/main/Multi-Agent/ChatDev.ipynb\" target=\"_parent\"><img src=\"https://colab.research.google.com/assets/colab-badge.svg\" alt=\"Open In Colab\"/></a>"
      ]
    },
    {
      "cell_type": "code",
      "execution_count": 1,
      "metadata": {
        "colab": {
          "base_uri": "https://localhost:8080/"
        },
        "id": "UfflQUhTQwy3",
        "outputId": "98e1f821-3b3f-41c2-95f4-a70350c7734e"
      },
      "outputs": [
        {
          "output_type": "stream",
          "name": "stdout",
          "text": [
            "Cloning into 'ChatDev'...\n",
            "remote: Enumerating objects: 7085, done.\u001b[K\n",
            "remote: Counting objects: 100% (27/27), done.\u001b[K\n",
            "remote: Compressing objects: 100% (25/25), done.\u001b[K\n",
            "remote: Total 7085 (delta 7), reused 2 (delta 2), pack-reused 7058 (from 4)\u001b[K\n",
            "Receiving objects: 100% (7085/7085), 237.66 MiB | 15.41 MiB/s, done.\n",
            "Resolving deltas: 100% (1354/1354), done.\n",
            "Updating files: 100% (1142/1142), done.\n"
          ]
        }
      ],
      "source": [
        "!git clone https://github.com/OpenBMB/ChatDev.git"
      ]
    },
    {
      "cell_type": "code",
      "source": [
        "%cd ChatDev\n",
        "!pip install -r requirements.txt"
      ],
      "metadata": {
        "id": "69rfS7uiQ98_"
      },
      "execution_count": null,
      "outputs": []
    },
    {
      "cell_type": "code",
      "source": [
        "from google.colab import userdata\n",
        "import os\n",
        "\n",
        "# userdata.get('OPENAI_API_KEY')\n",
        "os.environ[\"OPENAI_API_KEY\"] = userdata.get('OPENAI_API_KEY')\n",
        "openai_api_key = os.getenv(\"OPENAI_API_KEY\")"
      ],
      "metadata": {
        "id": "AZMefxXTReXS"
      },
      "execution_count": 1,
      "outputs": []
    },
    {
      "cell_type": "code",
      "source": [
        "%cd ChatDev"
      ],
      "metadata": {
        "colab": {
          "base_uri": "https://localhost:8080/"
        },
        "id": "iDVc4Ok-Sy0D",
        "outputId": "3af01c7e-0d0b-466a-b471-1fbd722c0fd3"
      },
      "execution_count": 3,
      "outputs": [
        {
          "output_type": "stream",
          "name": "stdout",
          "text": [
            "/content/ChatDev\n"
          ]
        }
      ]
    },
    {
      "cell_type": "code",
      "source": [
        "!python run.py --task \"[Fibonacci numbers]\" --name \"[Fibonacci]\""
      ],
      "metadata": {
        "colab": {
          "base_uri": "https://localhost:8080/"
        },
        "id": "qesS2GHpR2g-",
        "outputId": "649d4efb-9e26-4821-b429-1c00254d7d17"
      },
      "execution_count": 7,
      "outputs": [
        {
          "output_type": "stream",
          "name": "stdout",
          "text": [
            "Traceback (most recent call last):\n",
            "  File \"/content/ChatDev/run.py\", line 24, in <module>\n",
            "    from chatdev.chat_chain import ChatChain\n",
            "  File \"/content/ChatDev/chatdev/chat_chain.py\", line 14, in <module>\n",
            "    from camel.web_spider import modal_trans\n",
            "  File \"/content/ChatDev/camel/web_spider.py\", line 18, in <module>\n",
            "    client = openai.OpenAI(\n",
            "             ^^^^^^^^^^^^^^\n",
            "  File \"/usr/local/lib/python3.11/dist-packages/openai/_client.py\", line 123, in __init__\n",
            "    super().__init__(\n",
            "  File \"/usr/local/lib/python3.11/dist-packages/openai/_base_client.py\", line 847, in __init__\n",
            "    self._client = http_client or SyncHttpxClientWrapper(\n",
            "                                  ^^^^^^^^^^^^^^^^^^^^^^^\n",
            "  File \"/usr/local/lib/python3.11/dist-packages/openai/_base_client.py\", line 745, in __init__\n",
            "    super().__init__(**kwargs)\n",
            "TypeError: Client.__init__() got an unexpected keyword argument 'proxies'\n"
          ]
        }
      ]
    }
  ]
}