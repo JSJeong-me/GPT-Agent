{
  "nbformat": 4,
  "nbformat_minor": 0,
  "metadata": {
    "colab": {
      "provenance": [],
      "authorship_tag": "ABX9TyOfAw6rDb39iL/vnEiu+akM",
      "include_colab_link": true
    },
    "kernelspec": {
      "name": "python3",
      "display_name": "Python 3"
    },
    "language_info": {
      "name": "python"
    }
  },
  "cells": [
    {
      "cell_type": "markdown",
      "metadata": {
        "id": "view-in-github",
        "colab_type": "text"
      },
      "source": [
        "<a href=\"https://colab.research.google.com/github/JSJeong-me/GPT-Agent/blob/main/Reasoning/BDI-Analysis-05.ipynb\" target=\"_parent\"><img src=\"https://colab.research.google.com/assets/colab-badge.svg\" alt=\"Open In Colab\"/></a>"
      ]
    },
    {
      "cell_type": "code",
      "source": [
        "import sys\n",
        "\n",
        "# Google Colab 환경에서 실행 중인지 확인\n",
        "if 'google.colab' in sys.modules:\n",
        "    # debconf를 Noninteractive 모드로 설정\n",
        "    !echo 'debconf debconf/frontend select Noninteractive' | \\\n",
        "    debconf-set-selections\n",
        "\n",
        "    # fonts-nanum 패키지를 설치\n",
        "    !sudo apt-get -qq -y install fonts-nanum\n",
        "\n",
        "    # Matplotlib의 폰트 매니저 가져오기\n",
        "    import matplotlib.font_manager as fm\n",
        "\n",
        "    # 나눔 폰트의 시스템 경로 찾기\n",
        "    font_files = fm.findSystemFonts(fontpaths=['/usr/share/fonts/truetype/nanum'])\n",
        "\n",
        "    # 찾은 각 나눔 폰트를 Matplotlib 폰트 매니저에 추가\n",
        "    for fpath in font_files:\n",
        "        fm.fontManager.addfont(fpath)"
      ],
      "metadata": {
        "id": "3ZszPG5tLL3C",
        "outputId": "6dd0bae7-4a15-4330-c41d-dbe2086430d9",
        "colab": {
          "base_uri": "https://localhost:8080/"
        }
      },
      "execution_count": 1,
      "outputs": [
        {
          "output_type": "stream",
          "name": "stdout",
          "text": [
            "Selecting previously unselected package fonts-nanum.\n",
            "(Reading database ... 124926 files and directories currently installed.)\n",
            "Preparing to unpack .../fonts-nanum_20200506-1_all.deb ...\n",
            "Unpacking fonts-nanum (20200506-1) ...\n",
            "Setting up fonts-nanum (20200506-1) ...\n",
            "Processing triggers for fontconfig (2.13.1-4.2ubuntu5) ...\n"
          ]
        }
      ]
    },
    {
      "cell_type": "code",
      "source": [
        "import matplotlib.pyplot as plt\n",
        "import matplotlib.font_manager as fm\n",
        "\n",
        "# 한글 폰트 설정 (예: 나눔고딕)\n",
        "plt.rcParams['font.family'] = 'NanumGothic'\n",
        "plt.rcParams['axes.unicode_minus'] = False  # 마이너스 기호 깨짐 방지"
      ],
      "metadata": {
        "id": "1fDBrEq5LRjw"
      },
      "execution_count": 2,
      "outputs": []
    },
    {
      "cell_type": "code",
      "source": [
        "import matplotlib.pyplot as plt\n",
        "\n",
        "# 각 항목의 점수 (1: 매우 나쁨, 10: 매우 좋음)\n",
        "# 예시:\n",
        "# - Belief (내부 위기 인식): 내부 위협을 과대평가하는 등 논란의 여지가 있어 낮은 점수로 평가 (예: 4)\n",
        "# - Desire (국가·헌정 질서 수호 욕구): 표면상 국민과 헌정을 위한 욕구이지만, 정치적 계산이 엿보여 중간 수준 (예: 5)\n",
        "# - Intention (실제 실행 의도): 과감한 비상조치 후 신속한 해제를 보인 점 등 실행 의도에 대해 부정적 평가 (예: 3)\n",
        "scores = {\n",
        "    \"Belief\": 4,\n",
        "    \"Desire\": 5,\n",
        "    \"Intention\": 3\n",
        "}\n",
        "\n",
        "# 항목과 점수를 분리\n",
        "categories = list(scores.keys())\n",
        "values = list(scores.values())\n",
        "\n",
        "# 시각화 설정\n",
        "plt.figure(figsize=(8, 5))\n",
        "bars = plt.bar(categories, values, color=['skyblue', 'salmon', 'lightgreen'])\n",
        "\n",
        "# y축 범위 설정 (1~10 점 척도)\n",
        "plt.ylim(0, 11)\n",
        "plt.title(\"윤석열 대통령의 Belief, Desire, Intention 평가\")\n",
        "plt.xlabel(\"항목\")\n",
        "plt.ylabel(\"평가 점수 (1: 나쁨, 10: 좋음)\")\n",
        "\n",
        "# 각 막대 위에 점수 표시\n",
        "for bar in bars:\n",
        "    height = bar.get_height()\n",
        "    plt.text(\n",
        "        bar.get_x() + bar.get_width() / 2,\n",
        "        height + 0.3,\n",
        "        f'{height}',\n",
        "        ha='center',\n",
        "        va='bottom'\n",
        "    )\n",
        "\n",
        "plt.show()\n"
      ],
      "metadata": {
        "id": "UsYKaY5d9LJa",
        "outputId": "bee60f99-9d31-4996-cac1-d94c957bbf51",
        "colab": {
          "base_uri": "https://localhost:8080/",
          "height": 484
        }
      },
      "execution_count": 3,
      "outputs": [
        {
          "output_type": "display_data",
          "data": {
            "text/plain": [
              "<Figure size 800x500 with 1 Axes>"
            ],
            "image/png": "[encoded data removed]"
          },
          "metadata": {}
        }
      ]
    }
  ]
}