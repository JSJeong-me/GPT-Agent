{
  "nbformat": 4,
  "nbformat_minor": 0,
  "metadata": {
    "colab": {
      "provenance": [],
      "authorship_tag": "ABX9TyNTze36p3tcpdcWoVbXfeLv",
      "include_colab_link": true
    },
    "kernelspec": {
      "name": "python3",
      "display_name": "Python 3"
    },
    "language_info": {
      "name": "python"
    }
  },
  "cells": [
    {
      "cell_type": "markdown",
      "metadata": {
        "id": "view-in-github",
        "colab_type": "text"
      },
      "source": [
        "<a href=\"https://colab.research.google.com/github/JSJeong-me/GPT-Agent/blob/main/MCP/OpenAI-Tools.ipynb\" target=\"_parent\"><img src=\"https://colab.research.google.com/assets/colab-badge.svg\" alt=\"Open In Colab\"/></a>"
      ]
    },
    {
      "cell_type": "code",
      "source": [
        "from google.colab import userdata\n",
        "import openai\n",
        "import os\n",
        "\n",
        "os.environ[\"OPENAI_API_KEY\"] = userdata.get('OPENAI_API_KEY')\n",
        "openai.api_key  = os.environ[\"OPENAI_API_KEY\"]"
      ],
      "metadata": {
        "id": "xztAbHhmDPtw"
      },
      "execution_count": 1,
      "outputs": []
    },
    {
      "cell_type": "code",
      "source": [
        "from openai import OpenAI\n",
        "client = OpenAI()\n",
        "\n",
        "response = client.responses.create(\n",
        "    model=\"gpt-5\",\n",
        "    tools=[{\"type\": \"web_search\"}],\n",
        "    input=\"현재 시간 KRX: KOSPI 지수는?\"\n",
        ")\n",
        "\n",
        "print(response.output_text)"
      ],
      "metadata": {
        "id": "O5dU76QuDbhl",
        "outputId": "f7cac0ac-1105-4156-f86f-80f2958a562a",
        "colab": {
          "base_uri": "https://localhost:8080/"
        }
      },
      "execution_count": 3,
      "outputs": [
        {
          "output_type": "stream",
          "name": "stdout",
          "text": [
            "지금 KRX 기준 KOSPI 지수: 3,205.12 (+4.29, +0.13%). ([krx.co.kr](https://www.krx.co.kr/main/main.jsp?utm_source=openai))\n",
            "\n",
            "참고: 웹에 표시되는 수치는 약 20분 지연될 수 있습니다. ([krx.co.kr](https://www.krx.co.kr/contents/GLB/05/0502/0502040200/GLB0502040200.jsp?utm_source=openai))\n"
          ]
        }
      ]
    }
  ]
}