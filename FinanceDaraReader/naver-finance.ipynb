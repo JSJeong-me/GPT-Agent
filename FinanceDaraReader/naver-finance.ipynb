{
  "cells": [
    {
      "cell_type": "markdown",
      "metadata": {
        "id": "view-in-github",
        "colab_type": "text"
      },
      "source": [
        "<a href=\"https://colab.research.google.com/github/JSJeong-me/GPT-Agent/blob/main/FinanceDaraReader/naver-finance.ipynb\" target=\"_parent\"><img src=\"https://colab.research.google.com/assets/colab-badge.svg\" alt=\"Open In Colab\"/></a>"
      ]
    },
    {
      "cell_type": "markdown",
      "metadata": {
        "id": "oj4nOn3aw9z_"
      },
      "source": [
        "# 파이썬을 이용한 네이버(증권) 주식 정보 크롤링 가이드\n",
        "\n",
        "## 📌 대상 사이트\n",
        "- 네이버 증권: [https://finance.naver.com/sise/sise_market_sum.naver](https://finance.naver.com/sise/sise_market_sum.naver)\n",
        "\n",
        "---\n",
        "\n",
        "## 📌 간단 실습 설명\n",
        "1. 여러 HTTP 요청\n",
        "2. 차단 방지\n",
        "3. 기본 URL과 파라미터 설정\n",
        "4. 사용자 입력\n",
        "5. 데이터 저장을 위한 리스트와 시작 시간 기록\n",
        "6. 페이지별 데이터 수집 반복문\n",
        "7. 데이터프레임 생성 및 전처리\n",
        "8. 데이터 엑셀 파일로 저장 및 서식 적용\n",
        "9. 최종 결과 출력\n",
        "10. GUI 만들기\n",
        "\n",
        "---\n",
        "\n",
        "## 📌 데이터 요청 분석 방법\n",
        "1. 네이버 증권으로 이동 / 국내증시 / 시가총액\n",
        "2. 시가총액(억), PER(배), ROE(%), 외국인비율, 부채총계(억), 매출액증가율 선택 및 적용\n",
        "3. **F12**를 눌러 개발자 도구 실행\n",
        "4. 수집할 CSS 선택자 확인\n",
        "\n",
        "---"
      ]
    },
    {
      "cell_type": "markdown",
      "metadata": {
        "id": "0P0W1Wo_w90B"
      },
      "source": [
        "## ✅ 필요한 도구 준비하기\n",
        "---\n",
        "### 💡 설명\n",
        "#### requests: 인터넷에서 정보를 가져오는 도구\n",
        "#### BeautifulSoup: 웹페이지에서 원하는 정보만 골라내는 도구\n",
        "#### pandas: 데이터를 표 형태로 정리하는 도구\n",
        "#### time: 시간을 측정하고 대기하는 도구\n",
        "#### HTTPAdapter, Retry: 인터넷 연결이 불안정할 때 재시도하는 도구"
      ]
    },
    {
      "cell_type": "code",
      "execution_count": 1,
      "metadata": {
        "id": "X6Xk645Dw90C",
        "outputId": "6f0b4fab-162a-476f-9796-df9095727663",
        "colab": {
          "base_uri": "https://localhost:8080/"
        }
      },
      "outputs": [
        {
          "output_type": "stream",
          "name": "stdout",
          "text": [
            "Requirement already satisfied: requests in /usr/local/lib/python3.11/dist-packages (2.32.3)\n",
            "Requirement already satisfied: beautifulsoup4 in /usr/local/lib/python3.11/dist-packages (4.13.4)\n",
            "Requirement already satisfied: pandas in /usr/local/lib/python3.11/dist-packages (2.2.2)\n",
            "\u001b[31mERROR: Could not find a version that satisfies the requirement time (from versions: none)\u001b[0m\u001b[31m\n",
            "\u001b[0m\u001b[31mERROR: No matching distribution found for time\u001b[0m\u001b[31m\n",
            "\u001b[0m"
          ]
        }
      ],
      "source": [
        "!pip install requests beautifulsoup4 pandas time"
      ]
    },
    {
      "cell_type": "code",
      "execution_count": 2,
      "metadata": {
        "id": "HkkwLwlTw90C"
      },
      "outputs": [],
      "source": [
        "import requests\n",
        "from bs4 import BeautifulSoup\n",
        "import pandas as pd\n",
        "import time\n",
        "from requests.adapters import HTTPAdapter\n",
        "from urllib3.util.retry import Retry"
      ]
    },
    {
      "cell_type": "markdown",
      "metadata": {
        "id": "OZxCpXC7w90D"
      },
      "source": [
        "## ✅ 안정적인 연결 설정하기\n",
        "---\n",
        "### 💡 설명\n",
        "#### 이 부분은 네이버 금융 사이트에 안정적으로 접속하기 위한 설정입니다:\n",
        "#### 세션 설정: 같은 웹사이트에 여러 번 접속할 때 효율적으로 연결하는 방법\n",
        "#### 재시도 설정: 연결이 실패하면 최대 5번까지 다시 시도\n",
        "#### 헤더 설정: 일반 웹브라우저처럼 보이게 하여 차단되지 않도록 함 (마치 가면을 쓰는 것과 같음)"
      ]
    },
    {
      "cell_type": "code",
      "execution_count": 3,
      "metadata": {
        "id": "UxbK8_Ttw90D"
      },
      "outputs": [],
      "source": [
        "session = requests.Session()\n",
        "retries = Retry(total=5, backoff_factor=1, status_forcelist=[502, 503, 504])\n",
        "session.mount('https://', HTTPAdapter(max_retries=retries))\n",
        "\n",
        "headers = {\n",
        "    'User-Agent': 'Mozilla/5.0 (Windows NT 10.0; Win64; x64) AppleWebKit/537.36 (KHTML, like Gecko) Chrome/91.0.4472.124 Safari/537.36'\n",
        "}"
      ]
    },
    {
      "cell_type": "markdown",
      "metadata": {
        "id": "_EXr4-KUw90D"
      },
      "source": [
        "## ✅ 사용자 입력 받기\n",
        "---\n",
        "### 💡 설명\n",
        "#### 이 부분은 사용자에게 몇 페이지의 주식 정보를 수집할지 물어보는 부분입니다:\n",
        "#### 빈 리스트 data는 수집한 정보를 담을 그릇\n",
        "#### start_time은 작업 시작 시간을 기록하여 나중에 총 소요 시간을 계산\n"
      ]
    },
    {
      "cell_type": "code",
      "execution_count": 4,
      "metadata": {
        "id": "_tKnx_U1w90E",
        "outputId": "1a4e53a8-7c53-4e89-c064-25fdade0fbf7",
        "colab": {
          "base_uri": "https://localhost:8080/"
        }
      },
      "outputs": [
        {
          "name": "stdout",
          "output_type": "stream",
          "text": [
            "수집할 페이지의 수를 입력해 주세요세요3\n"
          ]
        }
      ],
      "source": [
        "pages = int(input(\"수집할 페이지의 수를 입력해 주세요세요\"))\n",
        "\n",
        "data = []\n",
        "start_time = time.time()"
      ]
    },
    {
      "cell_type": "markdown",
      "metadata": {
        "id": "-43f6nMiw90E"
      },
      "source": [
        "## ✅ 데이터 수집 과정\n",
        "---\n",
        "### 💡 설명\n",
        "#### url: 네이버 금융 사이트 주소와 원하는 정보 항목을 지정\n",
        "####    ㄴfieldIds: 수집할 항목들 (시가총액, 부채총계, 매출증가율, 외국인비율, PER, ROE)    \n",
        "#### response: 웹사이트에서 받아온 응답\n",
        "#### timeout=10: 10초 안에 응답이 없으면 다시 시도\n",
        "#### raise_for_status(): 오류가 발생하면 알려줌"
      ]
    },
    {
      "cell_type": "code",
      "source": [
        "for page in range(1, pages+1):\n",
        "    try:\n",
        "        url = f\"https://finance.naver.com/sise/field_submit.naver?menu=market_sum&returnUrl=http://finance.naver.com/sise/sise_market_sum.naver?page={page}&fieldIds=market_sum&fieldIds=debt_total&fieldIds=sales_increasing_rate&fieldIds=frgn_rate&fieldIds=per&fieldIds=roe\"\n",
        "        # 효율적인 URL 구성 및 요청\n",
        "        response = session.get(\n",
        "            url,\n",
        "            headers=headers,\n",
        "            timeout=10\n",
        "        )\n",
        "        response.raise_for_status()\n",
        "\n",
        "        # Add the rest of your try block code here,\n",
        "        # including the BeautifulSoup parsing and data extraction\n",
        "\n",
        "    except Exception as e:\n",
        "        print(f\"페이지 {page} 처리 중 오류 발생: {str(e)}\")\n",
        "        continue"
      ],
      "metadata": {
        "id": "YxyyaCBbyEN_"
      },
      "execution_count": 13,
      "outputs": []
    },
    {
      "cell_type": "markdown",
      "metadata": {
        "id": "afJx4BS0w90F"
      },
      "source": [
        "#### 차이점 비교해보기"
      ]
    },
    {
      "cell_type": "code",
      "execution_count": 14,
      "metadata": {
        "id": "35NA80oOw90F",
        "outputId": "5ac765f5-e8c1-40f1-c65d-43bbf042cbaf",
        "colab": {
          "base_uri": "https://localhost:8080/",
          "height": 54
        }
      },
      "outputs": [
        {
          "output_type": "execute_result",
          "data": {
            "text/plain": [
              "'https://finance.naver.com/sise/field_submit.naver?menu=market_sum&returnUrl=http://finance.naver.com/sise/sise_market_sum.naver?page=2&fieldIds=market_sum&fieldIds=debt_total&fieldIds=sales_increasing_rate'"
            ],
            "application/vnd.google.colaboratory.intrinsic+json": {
              "type": "string"
            }
          },
          "metadata": {},
          "execution_count": 14
        }
      ],
      "source": [
        "\"https://finance.naver.com/sise/field_submit.naver?menu=market_sum&returnUrl=http://finance.naver.com/sise/sise_market_sum.naver?page=1&fieldIds=market_sum&fieldIds=debt_total&fieldIds=sales_increasing_rate&fieldIds=frgn_rate&fieldIds=per&fieldIds=roe\"\n",
        "\"https://finance.naver.com/sise/field_submit.naver?menu=market_sum&returnUrl=http://finance.naver.com/sise/sise_market_sum.naver?page=2&fieldIds=market_sum&fieldIds=debt_total&fieldIds=sales_increasing_rate&fieldIds=frgn_rate&fieldIds=per&fieldIds=roe\"\n",
        "\"https://finance.naver.com/sise/field_submit.naver?menu=market_sum&returnUrl=http://finance.naver.com/sise/sise_market_sum.naver?page=2&fieldIds=market_sum&fieldIds=debt_total&fieldIds=sales_increasing_rate\""
      ]
    },
    {
      "cell_type": "markdown",
      "metadata": {
        "id": "Ar3wH5Z7w90F"
      },
      "source": [
        "## ✅ 웹페이지에서 정보 추출하기\n",
        "---\n",
        "### 💡 설명\n",
        "#### 이 부분은 웹페이지에서 원하는 정보만 골라내는 과정입니다:\n",
        "#### BeautifulSoup: 웹페이지의 내용을 분석하는 도구   \n",
        "#### soup.select: 표(table)에서 주식 정보가 있는 행(tr)들을 선택\n",
        "#### 각 행에서 필요한 정보를 추출:\n",
        "#### ㄴname: 종목명 (2번째 열)\n",
        "#### ㄴmarket_sum: 시가총액 (7번째 열)\n",
        "#### ㄴdebt_total: 부채총계 (8번째 열)\n",
        "#### ㄴsales_increasing_rate: 매출증가율 (9번째 열)\n",
        "#### ㄴfrgn_rate: 외국인비율 (10번째 열)\n",
        "#### ㄴper: PER (주가수익비율) (11번째 열)\n",
        "#### ㄴroe: ROE (자기자본이익률) (12번째 열)"
      ]
    },
    {
      "cell_type": "code",
      "execution_count": 15,
      "metadata": {
        "id": "h_MQ4mIGw90F"
      },
      "outputs": [],
      "source": [
        "soup = BeautifulSoup(response.content, 'html.parser')\n",
        "trs = soup.select(\"#contentarea > div.box_type_l >table.type_2 > tbody > tr[onmouseover='mouseOver(this)']\")\n",
        "\n",
        "for tr in trs:\n",
        "    name = tr.select_one('td:nth-child(2)').text\n",
        "    market_sum = tr.select_one('td:nth-child(7)').text\n",
        "    debt_total = tr.select_one('td:nth-child(8)').text\n",
        "    sales_increasing_rate = tr.select_one('td:nth-child(9)').text\n",
        "    frgn_rate = tr.select_one('td:nth-child(10)').text\n",
        "    per = tr.select_one('td:nth-child(11)').text\n",
        "    roe = tr.select_one('td:nth-child(12)').text"
      ]
    },
    {
      "cell_type": "code",
      "execution_count": 19,
      "metadata": {
        "id": "klMDj0aaw90F"
      },
      "outputs": [],
      "source": [
        "#contentarea > div.box_type_l > table.type_2 > tbody > tr:nth-child(2)\n",
        "#contentarea > div.box_type_l > table.type_2 > tbody > tr:nth-child(2) > td:nth-child(7)\n",
        "\n",
        "#contentarea > div.box_type_l > table.type_2 > tbody > tr:nth-child(2)\n",
        "#contentarea > div.box_type_l >table.type_2 > tbody > tr[onmouseover='mouseOver(this)']\n",
        "#contentarea > div.box_type_l > table.type_2 > tbody > tr:nth-child(2) > td:nth-child(7)\n",
        "#contentarea > div.box_type_l > table.type_2 > tbody > tr:nth-child(2) > td:nth-child(8)\n",
        "#contentarea > div.box_type_l > table.type_2 > tbody > tr:nth-child(2)\n",
        "#contentarea > div.box_type_l > table.type_2 > tbody > tr:nth-child(2) > td:nth-child(7)\n",
        "\n",
        "#contentarea > div.box_type_l > table.type_2 > tbody > tr:nth-child(2)\n",
        "#contentarea > div.box_type_l >table.type_2 > tbody > tr[onmouseover='mouseOver(this)']\n",
        "#contentarea > div.box_type_l > table.type_2 > tbody > tr:nth-child(2) > td:nth-child(7)\n",
        "#contentarea > div.box_type_l > table.type_2 > tbody > tr:nth-child(2) > td:nth-child(8)\n",
        "# There are no syntax errors in this code.\n",
        "\n",
        "# “#contentarea > div.box_type_l > table.type_2 > tbody > tr[onmouseover='mouseOver(this)']”는 onmouseover 속성의 값이 \"mouseOver(this)\"인 tr 요소를 선택합니다.\n",
        "\n",
        "# 페이지 구조상 두 번째 tr 요소에만 onmouseover 속성이 지정되어 있다면,\n",
        "# 두 선택자는 자연스럽게 같은 요소를 가리키게 됩니다.\n",
        "# 이렇게 하면, 위치에 기반한 선택과 이벤트나 인터랙션을\n",
        "# 위해 속성에 기반한 선택을 동시에 활용할 수 있습니다.\n",
        "# 두 선택자는 자연스럽게 같은 요소를 가리키게 됩니다.\n",
        "# 이렇게 하면, 위치에 기반한 선택과 이벤트나 인터랙션을\n",
        "# 위해 속성에 기반한 선택을 동시에 활용할 수 있습니다."
      ]
    },
    {
      "cell_type": "markdown",
      "metadata": {
        "id": "iNSZO8Dew90G"
      },
      "source": [
        "## ✅ 데이터 전처리 및 저장\n",
        "---\n",
        "### 💡 설명\n",
        "#### 이 부분은 수집한 데이터를 정리하는 과정입니다:\n",
        "#### if market_sum != 'N/A' and ...: 모든 정보가 있는 종목만 선택 ('N/A'는 정보 없음을 의미)   \n",
        "#### replace(',', ''): 숫자에서 쉼표(,) 제거 (예: '1,000' → '1000') -> 이 작업을 하지 않으면 숫자를 텍스트로 인식해버림.\n",
        "#### float(): 문자열을 숫자로 변환\n",
        "#### print(): 수집한 정보를 화면에 출력\n",
        "#### data.append(): 수집한 정보를 리스트에 추가"
      ]
    },
    {
      "cell_type": "code",
      "execution_count": 20,
      "metadata": {
        "id": "nIcFRqvPw90G",
        "outputId": "0186c4a2-033c-48ba-834f-6249827e4e70",
        "colab": {
          "base_uri": "https://localhost:8080/"
        }
      },
      "outputs": [
        {
          "output_type": "stream",
          "name": "stdout",
          "text": [
            "롯데쇼핑 22433.0 219694.0 -3.91 8.01 -2.18 -7.75\n"
          ]
        }
      ],
      "source": [
        "if market_sum != 'N/A' and debt_total != 'N/A' and sales_increasing_rate != 'N/A' and frgn_rate != 'N/A' and per != 'N/A' and roe != 'N/A':\n",
        "    market_sum = float(market_sum.replace(',', ''))\n",
        "    debt_total = float(debt_total.replace(',', ''))\n",
        "    sales_increasing_rate = float(sales_increasing_rate.replace(',', ''))\n",
        "    frgn_rate = float(frgn_rate.replace(',', ''))\n",
        "    per = float(per.replace(',', ''))\n",
        "    roe = float(roe.replace(',', ''))\n",
        "    print(name, market_sum, debt_total, sales_increasing_rate, frgn_rate, per, roe)\n",
        "    # 엑셀 추가\n",
        "    data.append([name, market_sum, debt_total, sales_increasing_rate, frgn_rate, per, roe])"
      ]
    },
    {
      "cell_type": "markdown",
      "metadata": {
        "id": "EYKu5S6ww90G"
      },
      "source": [
        "## ✅ 서버 부하 방지 및 오류 처리\n",
        "---\n",
        "### 💡 설명\n",
        "#### 이 부분은 안정적인 데이터 수집을 위한 설정입니다:\n",
        "#### time.sleep(1.5): 1.5초 동안 대기 (너무 빠르게 요청하면 차단될 수 있음)\n",
        "#### except Exception as e: 오류가 발생해도 프로그램이 중단되지 않고 계속 실행\n",
        "#### continue: 오류가 발생해도 다음 페이지로 넘어감"
      ]
    },
    {
      "cell_type": "code",
      "execution_count": 35,
      "metadata": {
        "id": "6pwfAPdGw90G",
        "outputId": "fa030682-c604-4b09-cc3b-484920385b54",
        "colab": {
          "base_uri": "https://localhost:8080/",
          "height": 110
        }
      },
      "outputs": [
        {
          "output_type": "error",
          "ename": "SyntaxError",
          "evalue": "expected 'except' or 'finally' block (<ipython-input-35-287caf49189b>, line 8)",
          "traceback": [
            "\u001b[0;36m  File \u001b[0;32m\"<ipython-input-35-287caf49189b>\"\u001b[0;36m, line \u001b[0;32m8\u001b[0m\n\u001b[0;31m    try:\u001b[0m\n\u001b[0m    ^\u001b[0m\n\u001b[0;31mSyntaxError\u001b[0m\u001b[0;31m:\u001b[0m expected 'except' or 'finally' block\n"
          ]
        }
      ],
      "source": [
        "# time.sleep(1.5)\n",
        "\n",
        "try:\n",
        "    time.sleep(1.5)\n",
        "\n",
        "except Exception as e:\n",
        "  print(f\"페이지 {page} 처리 중 오류 발생: {str(e)}\")\n",
        "  # continue"
      ]
    },
    {
      "cell_type": "markdown",
      "metadata": {
        "id": "XmrpDwXuw90G"
      },
      "source": [
        "## ✅ 데이터프레임 생성 및 엑셀 저장\n",
        "---\n",
        "### 💡 설명\n",
        "#### 이 부분은 수집한 데이터를 엑셀 파일로 저장하는 과정입니다:\n",
        "#### pd.DataFrame: 수집한 데이터를 표 형태로 변환\n",
        "#### columns=[\"종목명\", ...]: 각 열의 이름 지정\n",
        "#### dropna(): 빈 값이 있는 행 제거\n",
        "#### timestamp: 현재 날짜와 시간을 파일명에 포함 (예: 'stock_data_20240320_153045.xlsx')\n",
        "#### pd.ExcelWriter: 엑셀 파일 생성\n",
        "#### df.to_excel: 데이터프레임을 엑셀 파일로 저장\n",
        "#### number_format: 숫자 형식 설정 (소수점 두 자리까지 표시)"
      ]
    },
    {
      "cell_type": "code",
      "source": [
        "!pip install xlsxwriter"
      ],
      "metadata": {
        "id": "LK9nGznRzdb1",
        "outputId": "732325a1-69fb-4ce7-9d2d-5912d1041e9b",
        "colab": {
          "base_uri": "https://localhost:8080/"
        }
      },
      "execution_count": 37,
      "outputs": [
        {
          "output_type": "stream",
          "name": "stdout",
          "text": [
            "Collecting xlsxwriter\n",
            "  Downloading XlsxWriter-3.2.3-py3-none-any.whl.metadata (2.7 kB)\n",
            "Downloading XlsxWriter-3.2.3-py3-none-any.whl (169 kB)\n",
            "\u001b[?25l   \u001b[90m━━━━━━━━━━━━━━━━━━━━━━━━━━━━━━━━━━━━━━━━\u001b[0m \u001b[32m0.0/169.4 kB\u001b[0m \u001b[31m?\u001b[0m eta \u001b[36m-:--:--\u001b[0m\r\u001b[2K   \u001b[91m━━━━━━━━━━━━━━━━━━━━━━━━━━━━━━━━━\u001b[0m\u001b[91m╸\u001b[0m\u001b[90m━━━━━━\u001b[0m \u001b[32m143.4/169.4 kB\u001b[0m \u001b[31m4.0 MB/s\u001b[0m eta \u001b[36m0:00:01\u001b[0m\r\u001b[2K   \u001b[90m━━━━━━━━━━━━━━━━━━━━━━━━━━━━━━━━━━━━━━━━\u001b[0m \u001b[32m169.4/169.4 kB\u001b[0m \u001b[31m3.4 MB/s\u001b[0m eta \u001b[36m0:00:00\u001b[0m\n",
            "\u001b[?25hInstalling collected packages: xlsxwriter\n",
            "Successfully installed xlsxwriter-3.2.3\n"
          ]
        }
      ]
    },
    {
      "cell_type": "code",
      "execution_count": 38,
      "metadata": {
        "id": "dFMfhqH9w90H"
      },
      "outputs": [],
      "source": [
        "df = pd.DataFrame(data, columns=[\"종목명\", \"시가총액\", \"부채총계\", \"매출증가율\", \"외국인비율\", \"PER\", \"ROE\"]).dropna()\n",
        "\n",
        "timestamp = time.strftime(\"%Y%m%d_%H%M%S\")\n",
        "with pd.ExcelWriter(f'stock_data_{timestamp}.xlsx', engine='xlsxwriter') as writer:\n",
        "    df.to_excel(writer, index=False)\n",
        "    workbook = writer.book\n",
        "    worksheet = writer.sheets['Sheet1']\n",
        "    number_format = workbook.add_format({'num_format': '#,##0.00'})\n",
        "    worksheet.set_column('B:E', 15, number_format)"
      ]
    },
    {
      "cell_type": "markdown",
      "metadata": {
        "id": "Y1XX8EBow90H"
      },
      "source": [
        "## ✅ 작업 완료 메시지\n",
        "---\n",
        "### 💡 설명\n",
        "#### 이 부분은 작업이 완료되었음을 알려주는 메시지입니다:\n",
        "#### len(df): 수집한 종목 수\n",
        "#### time.time()-start_time: 작업에 소요된 시간 (초)"
      ]
    },
    {
      "cell_type": "code",
      "execution_count": 39,
      "metadata": {
        "id": "BKOnFiOSw90H",
        "outputId": "8e320370-899d-400a-e512-4c8c031bf54e",
        "colab": {
          "base_uri": "https://localhost:8080/"
        }
      },
      "outputs": [
        {
          "output_type": "stream",
          "name": "stdout",
          "text": [
            "총 1개 데이터 수집 완료 | 소요 시간: 618.94초\n"
          ]
        }
      ],
      "source": [
        "print(f\"총 {len(df)}개 데이터 수집 완료 | 소요 시간: {time.time()-start_time:.2f}초\")"
      ]
    },
    {
      "cell_type": "markdown",
      "metadata": {
        "id": "LzIE4h_8w90H"
      },
      "source": [
        "## ✅ 최종 코드\n",
        "---\n"
      ]
    },
    {
      "cell_type": "code",
      "execution_count": 40,
      "metadata": {
        "id": "qc9Qqt8bw90H",
        "outputId": "d8d67081-1009-4b54-eddd-2678e33653e5",
        "colab": {
          "base_uri": "https://localhost:8080/"
        }
      },
      "outputs": [
        {
          "output_type": "stream",
          "name": "stdout",
          "text": [
            "수집할 페이지의 수를 입력해 주세요1\n",
            "삼성전자 3421551.0 1123399.0 16.2 49.64 11.2 9.03\n",
            "SK하이닉스 1583405.0 459395.0 102.02 54.41 6.1 31.06\n",
            "삼성바이오로직스 735939.0 64316.0 23.08 12.86 57.52 10.45\n",
            "LG에너지솔루션 675090.0 293402.0 -24.08 4.03 -58.0 -4.93\n",
            "KB금융 424617.0 6980304.0 9.77 75.49 8.49 8.86\n",
            "한화에어로스페이스 399653.0 319726.0 42.47 45.06 17.09 53.94\n",
            "현대차 380849.0 2195225.0 7.73 35.53 4.05 12.43\n",
            "HD현대중공업 379949.0 136865.0 21.08 10.58 43.32 11.39\n",
            "셀트리온 356994.0 34752.0 63.45 21.5 71.52 2.46\n",
            "기아 356315.0 369156.0 7.66 38.47 3.82 19.09\n",
            "신한지주 297009.0 6809432.0 6.26 58.59 6.85 8.11\n",
            "NAVER 293901.0 111670.0 11.03 48.44 16.2 7.9\n",
            "두산에너빌리티 273199.0 146537.0 -7.71 26.25 -268.24 1.52\n",
            "삼성물산 268223.0 247319.0 0.5 27.07 12.6 6.83\n",
            "한화오션 235325.0 129805.0 45.46 12.65 33.97 11.52\n",
            "현대모비스 232488.0 204787.0 -3.41 41.86 5.51 9.35\n",
            "HD한국조선해양 231782.0 225633.0 19.92 32.48 15.67 11.16\n",
            "HMM 231146.0 59930.0 39.27 7.79 4.45 15.35\n",
            "삼성생명 217600.0 2794809.0 9.21 21.71 10.33 6.18\n",
            "하나금융지주 212119.0 5942706.0 17.1 67.23 5.79 9.11\n",
            "메리츠금융지주 205036.0 1046482.0 -20.47 15.85 9.57 23.44\n",
            "POSCO홀딩스 198690.0 419538.0 -5.76 29.0 23.87 2.0\n",
            "삼성화재 195777.0 716673.0 8.8 55.52 10.38 13.11\n",
            "한국전력 190342.0 2054450.0 5.87 19.05 3.62 9.22\n",
            "카카오 183752.0 118301.0 4.16 29.16 120.23 0.56\n",
            "크래프톤 176104.0 10903.0 41.83 42.26 13.27 21.1\n",
            "현대로템 170371.0 32763.0 22.0 32.05 33.47 21.85\n",
            "SK스퀘어 165278.0 23356.0 169.41 52.34 3.36 21.7\n",
            "고려아연 159415.0 71969.0 24.2 12.0 64.71 2.28\n",
            "KT&G 151846.0 45668.0 0.79 43.33 14.01 12.66\n",
            "우리금융지주 150746.0 4898581.0 11.03 45.19 4.9 9.39\n",
            "삼성중공업 148544.0 134452.0 23.64 31.83 101.69 1.77\n",
            "LG화학 140267.0 458623.0 -11.46 29.97 -16.63 -2.11\n",
            "HD현대일렉트릭 137700.0 22880.0 22.92 32.79 24.52 39.34\n",
            "SK이노베이션 137291.0 708812.0 -3.33 13.46 -4.49 -9.65\n",
            "SK 131012.0 1346902.0 -3.19 23.48 14.71 -5.64\n",
            "기업은행 125993.0 4379887.0 13.3 13.97 4.76 8.06\n",
            "KT 125633.0 238834.0 0.21 49.0 19.85 2.85\n",
            "삼성SDI 118550.0 190301.0 -22.6 30.13 118.0 3.13\n",
            "하이브 117042.0 19654.0 3.56 18.2 223.73 0.31\n",
            "LG전자 116681.0 404179.0 6.64 29.57 18.64 1.81\n",
            "LG 116366.0 35066.0 -3.62 35.01 14.64 2.16\n",
            "카카오뱅크 113046.0 562652.0 18.11 17.38 25.68 6.95\n",
            "SK텔레콤 112765.0 186876.0 1.89 39.72 8.94 10.83\n",
            "삼성에스디에스 102758.0 35329.0 4.15 19.22 13.56 8.42\n",
            "한진칼 101812.0 8940.0 5.96 20.62 22.35 16.75\n",
            "미래에셋증권 100889.0 1249133.0 9.22 13.66 14.39 7.94\n",
            "LIG넥스원 99440.0 48878.0 41.92 31.72 40.53 19.59\n",
            "HD현대 95029.0 474816.0 10.49 21.58 18.1 6.36\n",
            "총 49개 데이터 수집 완료 | 소요 시간: 3.90초\n"
          ]
        }
      ],
      "source": [
        "import requests\n",
        "from bs4 import BeautifulSoup\n",
        "import pandas as pd\n",
        "import time\n",
        "from requests.adapters import HTTPAdapter\n",
        "from urllib3.util.retry import Retry\n",
        "\n",
        "# 세션 설정으로 성능 향상 및 안정성 확보\n",
        "session = requests.Session()\n",
        "retries = Retry(total=5, backoff_factor=1, status_forcelist=[502, 503, 504])\n",
        "session.mount('https://', HTTPAdapter(max_retries=retries))\n",
        "\n",
        "# 웹 크롤링 차단 방지를 위한 헤더 설정\n",
        "headers = {\n",
        "    'User-Agent': 'Mozilla/5.0 (Windows NT 10.0; Win64; x64) AppleWebKit/537.36 (KHTML, like Gecko) Chrome/91.0.4472.124 Safari/537.36'\n",
        "}\n",
        "\n",
        "# 사용자 입력 받기\n",
        "pages = int(input(\"수집할 페이지의 수를 입력해 주세요\"))\n",
        "\n",
        "data = []\n",
        "start_time = time.time()\n",
        "\n",
        "#만약 내가 원하는 체크항목이 있다면, f12를 누르고 체크칸에 value 값을 찾아서fieldIds에 넣어준다.\n",
        "for page in range(1, pages+1):\n",
        "    try:\n",
        "        url = f\"https://finance.naver.com/sise/field_submit.naver?menu=market_sum&returnUrl=http://finance.naver.com/sise/sise_market_sum.naver?page={page}&fieldIds=market_sum&fieldIds=debt_total&fieldIds=sales_increasing_rate&fieldIds=frgn_rate&fieldIds=per&fieldIds=roe\"\n",
        "        # 효율적인 URL 구성 및 요청\n",
        "        response = session.get(\n",
        "            url,\n",
        "            headers=headers,\n",
        "            timeout=10\n",
        "        )\n",
        "        response.raise_for_status()\n",
        "\n",
        "\n",
        "        soup = BeautifulSoup(response.content, 'html.parser')\n",
        "        trs = soup.select(\"#contentarea > div.box_type_l >table.type_2 > tbody > tr[onmouseover='mouseOver(this)']\")\n",
        "\n",
        "        for tr in trs:\n",
        "            name = tr.select_one('td:nth-child(2)').text\n",
        "            market_sum = tr.select_one('td:nth-child(7)').text\n",
        "            debt_total = tr.select_one('td:nth-child(8)').text\n",
        "            sales_increasing_rate = tr.select_one('td:nth-child(9)').text\n",
        "            frgn_rate = tr.select_one('td:nth-child(10)').text\n",
        "            per = tr.select_one('td:nth-child(11)').text\n",
        "            roe = tr.select_one('td:nth-child(12)').text\n",
        "\n",
        "            # 데이터 전처리 - 'N/A' 값이 아닌 경우만 처리\n",
        "            if market_sum != 'N/A' and debt_total != 'N/A' and sales_increasing_rate != 'N/A' and frgn_rate != 'N/A' and per != 'N/A' and roe != 'N/A':\n",
        "                market_sum = float(market_sum.replace(',', ''))\n",
        "                debt_total = float(debt_total.replace(',', ''))\n",
        "                sales_increasing_rate = float(sales_increasing_rate.replace(',', ''))\n",
        "                frgn_rate = float(frgn_rate.replace(',', ''))\n",
        "                per = float(per.replace(',', ''))\n",
        "                roe = float(roe.replace(',', ''))\n",
        "                print(name, market_sum, debt_total, sales_increasing_rate, frgn_rate, per, roe)\n",
        "                # 엑셀 추가\n",
        "                data.append([name, market_sum, debt_total, sales_increasing_rate, frgn_rate, per, roe])\n",
        "\n",
        "        # 요청 간격 추가로 서버 부하 방지\n",
        "        time.sleep(1.5)\n",
        "\n",
        "    except Exception as e:\n",
        "        print(f\"페이지 {page} 처리 중 오류 발생: {str(e)}\")\n",
        "        continue\n",
        "\n",
        "# 데이터프레임 처리\n",
        "df = pd.DataFrame(data, columns=[\"종목명\", \"시가총액(억)\", \"부채총계(억)\", \"매출증가율\", \"외국인비율\", \"PER(배)\", \"ROE(%)\"]).dropna()\n",
        "\n",
        "\n",
        "# 파일 저장 최적화\n",
        "timestamp = time.strftime(\"%Y%m%d_%H%M%S\")\n",
        "with pd.ExcelWriter(f'stock_data_{timestamp}.xlsx', engine='xlsxwriter') as writer:\n",
        "    df.to_excel(writer, index=False)\n",
        "    # 엑셀 서식 자동 적용\n",
        "    workbook = writer.book\n",
        "    worksheet = writer.sheets['Sheet1']\n",
        "    number_format = workbook.add_format({'num_format': '#,##0.00'})\n",
        "    worksheet.set_column('B:E', 15, number_format)\n",
        "\n",
        "print(f\"총 {len(df)}개 데이터 수집 완료 | 소요 시간: {time.time()-start_time:.2f}초\")\n"
      ]
    },
    {
      "cell_type": "markdown",
      "metadata": {
        "id": "zn1MWCGkw90I"
      },
      "source": [
        "## 저는 다른 항목을 선택하고 싶어요!"
      ]
    },
    {
      "cell_type": "code",
      "execution_count": 41,
      "metadata": {
        "id": "Xa69pB-Fw90I",
        "outputId": "0a1eb6ba-6543-4a8b-f6f0-0eadb54186c3",
        "colab": {
          "base_uri": "https://localhost:8080/"
        }
      },
      "outputs": [
        {
          "output_type": "stream",
          "name": "stdout",
          "text": [
            "수집할 페이지의 수를 입력해 주세요세요1\n",
            "삼성전자 19390304.0 57700.0\n",
            "SK하이닉스 4997967.0 217500.0\n",
            "삼성바이오로직스 78581.0 1033000.0\n",
            "LG에너지솔루션 214348.0 288000.0\n",
            "KB금융 2292671.0 107900.0\n",
            "한화에어로스페이스 213653.0 843000.0\n",
            "삼성전자우 1686067.0 47450.0\n",
            "현대차 577325.0 186000.0\n",
            "HD현대중공업 250762.0 428000.0\n",
            "셀트리온 468416.0 160400.0\n",
            "기아 851750.0 89500.0\n",
            "신한지주 2500648.0 59700.0\n",
            "NAVER 817069.0 185500.0\n",
            "두산에너빌리티 11387783.0 42650.0\n",
            "삼성물산 807743.0 157800.0\n",
            "한화오션 1957149.0 76700.0\n",
            "현대모비스 204704.0 249500.0\n",
            "HD한국조선해양 369838.0 327000.0\n",
            "HMM 2651013.0 22500.0\n",
            "삼성생명 694148.0 108500.0\n",
            "하나금융지주 1734080.0 74500.0\n",
            "메리츠금융지주 313877.0 113900.0\n",
            "POSCO홀딩스 331807.0 245000.0\n",
            "삼성화재 152127.0 425000.0\n",
            "한국전력 4036843.0 29600.0\n",
            "카카오 3838475.0 41550.0\n",
            "크래프톤 163369.0 367000.0\n",
            "현대로템 1001543.0 156000.0\n",
            "SK스퀘어 780909.0 124700.0\n",
            "고려아연 28116.0 767000.0\n",
            "KT&G 376601.0 124400.0\n",
            "우리금융지주 4745709.0 20250.0\n",
            "삼성중공업 9351134.0 16870.0\n",
            "LG화학 281974.0 198700.0\n",
            "HD현대일렉트릭 235743.0 381500.0\n",
            "SK이노베이션 377011.0 90800.0\n",
            "SK 885037.0 180600.0\n",
            "기업은행 1742846.0 15800.0\n",
            "KT 310425.0 49850.0\n",
            "삼성SDI 503464.0 172400.0\n",
            "하이브 231183.0 280500.0\n",
            "LG전자 535683.0 71300.0\n",
            "LG 592876.0 73800.0\n",
            "카카오뱅크 606488.0 23700.0\n",
            "SK텔레콤 1108985.0 52500.0\n",
            "삼성에스디에스 150383.0 132800.0\n",
            "한진칼 325112.0 152400.0\n",
            "미래에셋증권 12638701.0 17680.0\n",
            "LIG넥스원 124487.0 452000.0\n",
            "HD현대 905742.0 120000.0\n",
            "총 50개 데이터 수집 완료 | 소요 시간: 3.19초\n"
          ]
        }
      ],
      "source": [
        "import requests\n",
        "from bs4 import BeautifulSoup\n",
        "import pandas as pd\n",
        "import time\n",
        "from requests.adapters import HTTPAdapter\n",
        "from urllib3.util.retry import Retry\n",
        "\n",
        "# 세션 설정으로 성능 향상 및 안정성 확보\n",
        "session = requests.Session()\n",
        "retries = Retry(total=5, backoff_factor=1, status_forcelist=[502, 503, 504])\n",
        "session.mount('https://', HTTPAdapter(max_retries=retries))\n",
        "\n",
        "# 웹 크롤링 차단 방지를 위한 헤더 설정\n",
        "headers = {\n",
        "    'User-Agent': 'Mozilla/5.0 (Windows NT 10.0; Win64; x64) AppleWebKit/537.36 (KHTML, like Gecko) Chrome/91.0.4472.124 Safari/537.36'\n",
        "}\n",
        "\n",
        "# 사용자 입력 받기\n",
        "pages = int(input(\"수집할 페이지의 수를 입력해 주세요세요\"))\n",
        "\n",
        "data = []\n",
        "start_time = time.time()\n",
        "\n",
        "#만약 내가 원하는 체크항목이 있다면, f12를 누르고 체크칸에 value 값을 찾아서fieldIds에 넣어준다.\n",
        "for page in range(1, pages+1):\n",
        "    try:\n",
        "        url = f\"https://finance.naver.com/sise/field_submit.naver?menu=market_sum&returnUrl=http://finance.naver.com/sise/sise_market_sum.naver?page=1&fieldIds=quant&fieldIds=ask_buy\"\n",
        "        # 효율적인 URL 구성 및 요청\n",
        "        response = session.get(\n",
        "            url,\n",
        "            headers=headers,\n",
        "            timeout=10\n",
        "        )\n",
        "        response.raise_for_status()\n",
        "\n",
        "        soup = BeautifulSoup(response.content, 'html.parser')\n",
        "        trs = soup.select(\"#contentarea > div.box_type_l >table.type_2 > tbody > tr[onmouseover='mouseOver(this)']\")\n",
        "\n",
        "        for tr in trs:\n",
        "            name = tr.select_one('td:nth-child(2)').text\n",
        "            quant = tr.select_one('td:nth-child(7)').text\n",
        "            ask_buy = tr.select_one('td:nth-child(8)').text\n",
        "\n",
        "\n",
        "            # 데이터 전처리 - 'N/A' 값이 아닌 경우만 처리\n",
        "            if quant != 'N/A' and ask_buy != 'N/A':\n",
        "                quant = float(quant.replace(',', ''))\n",
        "                ask_buy = float(ask_buy.replace(',', ''))\n",
        "                print(name, quant, ask_buy)\n",
        "                # 엑셀 추가\n",
        "                data.append([name, quant, ask_buy])\n",
        "\n",
        "        # 요청 간격 추가로 서버 부하 방지\n",
        "        time.sleep(1.5)\n",
        "\n",
        "    except Exception as e:\n",
        "        print(f\"페이지 {page} 처리 중 오류 발생: {str(e)}\")\n",
        "        continue\n",
        "\n",
        "# 데이터프레임 처리\n",
        "df = pd.DataFrame(data, columns=[\"종목명\", \"거래량\", \"매수호가\"]).dropna()\n",
        "\n",
        "\n",
        "# 파일 저장 최적화\n",
        "timestamp = time.strftime(\"%Y%m%d_%H%M%S\")\n",
        "with pd.ExcelWriter(f'stock_data_{timestamp}.xlsx', engine='xlsxwriter') as writer:\n",
        "    df.to_excel(writer, index=False)\n",
        "    # 엑셀 서식 자동 적용\n",
        "    workbook = writer.book\n",
        "    worksheet = writer.sheets['Sheet1']\n",
        "    number_format = workbook.add_format({'num_format': '#,##0.00'})\n",
        "    worksheet.set_column('B:E', 15, number_format)\n",
        "\n",
        "print(f\"총 {len(df)}개 데이터 수집 완료 | 소요 시간: {time.time()-start_time:.2f}초\")\n"
      ]
    },
    {
      "cell_type": "markdown",
      "metadata": {
        "id": "VJowEigjw90J"
      },
      "source": [
        "## ✅ GUI 만들기\n",
        "---\n",
        "#### \"(전체 코드 선택 후, Ctrl+k) 이 코드를 꼼꼼하게 읽고, pyside6를 활용하여 GUI를 만들어줘.\""
      ]
    },
    {
      "cell_type": "code",
      "execution_count": null,
      "metadata": {
        "id": "ZEBR4Ob0w90J"
      },
      "outputs": [],
      "source": [
        "import sys\n",
        "import requests\n",
        "from bs4 import BeautifulSoup\n",
        "import pandas as pd\n",
        "import time\n",
        "from requests.adapters import HTTPAdapter\n",
        "from urllib3.util.retry import Retry\n",
        "from PySide6.QtWidgets import (QApplication, QMainWindow, QWidget, QVBoxLayout,\n",
        "                              QHBoxLayout, QLabel, QLineEdit, QPushButton,\n",
        "                              QProgressBar, QTableWidget, QTableWidgetItem,\n",
        "                              QHeaderView, QMessageBox, QFileDialog)\n",
        "from PySide6.QtCore import Qt, QThread, Signal\n",
        "\n",
        "# 웹 크롤링 작업을 위한 스레드 클래스\n",
        "class CrawlerThread(QThread):\n",
        "    \"\"\"\n",
        "    백그라운드에서 웹 크롤링을 수행하는 스레드 클래스\n",
        "    GUI가 멈추지 않도록 별도 스레드로 실행\n",
        "    \"\"\"\n",
        "    # 시그널 정의\n",
        "    progress_signal = Signal(int)  # 진행 상황 업데이트\n",
        "    data_signal = Signal(list)     # 수집된 데이터 전달\n",
        "    error_signal = Signal(str)     # 오류 메시지 전달\n",
        "    finished_signal = Signal(int, float)  # 완료 시그널 (데이터 수, 소요 시간)\n",
        "\n",
        "    def __init__(self, pages):\n",
        "        super().__init__()\n",
        "        self.pages = pages\n",
        "\n",
        "    def run(self):\n",
        "        # 세션 설정으로 성능 향상 및 안정성 확보\n",
        "        session = requests.Session()\n",
        "        retries = Retry(total=5, backoff_factor=1, status_forcelist=[502, 503, 504])\n",
        "        session.mount('https://', HTTPAdapter(max_retries=retries))\n",
        "\n",
        "        # 웹 크롤링 차단 방지를 위한 헤더 설정\n",
        "        headers = {\n",
        "            'User-Agent': 'Mozilla/5.0 (Windows NT 10.0; Win64; x64) AppleWebKit/537.36 (KHTML, like Gecko) Chrome/91.0.4472.124 Safari/537.36'\n",
        "        }\n",
        "\n",
        "        data = []\n",
        "        start_time = time.time()\n",
        "\n",
        "        for page in range(1, self.pages+1):\n",
        "            try:\n",
        "                url = f\"https://finance.naver.com/sise/field_submit.naver?menu=market_sum&returnUrl=http://finance.naver.com/sise/sise_market_sum.naver?page={page}&fieldIds=market_sum&fieldIds=debt_total&fieldIds=sales_increasing_rate&fieldIds=frgn_rate&fieldIds=per&fieldIds=roe\"\n",
        "                # 효율적인 URL 구성 및 요청\n",
        "                response = session.get(\n",
        "                    url,\n",
        "                    headers=headers,\n",
        "                    timeout=10\n",
        "                )\n",
        "                response.raise_for_status()\n",
        "\n",
        "                soup = BeautifulSoup(response.content, 'html.parser')\n",
        "                trs = soup.select(\"#contentarea > div.box_type_l >table.type_2 > tbody > tr[onmouseover='mouseOver(this)']\")\n",
        "\n",
        "                for tr in trs:\n",
        "                    name = tr.select_one('td:nth-child(2)').text\n",
        "                    market_sum = tr.select_one('td:nth-child(7)').text\n",
        "                    debt_total = tr.select_one('td:nth-child(8)').text\n",
        "                    sales_increasing_rate = tr.select_one('td:nth-child(9)').text\n",
        "                    frgn_rate = tr.select_one('td:nth-child(10)').text\n",
        "                    per = tr.select_one('td:nth-child(11)').text\n",
        "                    roe = tr.select_one('td:nth-child(12)').text\n",
        "\n",
        "                    # 데이터 전처리 - 'N/A' 값이 아닌 경우만 처리\n",
        "                    if market_sum != 'N/A' and debt_total != 'N/A' and sales_increasing_rate != 'N/A' and frgn_rate != 'N/A' and per != 'N/A' and roe != 'N/A':\n",
        "                        market_sum = float(market_sum.replace(',', ''))\n",
        "                        debt_total = float(debt_total.replace(',', ''))\n",
        "                        sales_increasing_rate = float(sales_increasing_rate.replace(',', ''))\n",
        "                        frgn_rate = float(frgn_rate.replace(',', ''))\n",
        "                        per = float(per.replace(',', ''))\n",
        "                        roe = float(roe.replace(',', ''))\n",
        "                        # 데이터 추가\n",
        "                        data.append([name, market_sum, debt_total, sales_increasing_rate, frgn_rate, per, roe])\n",
        "\n",
        "                # 진행 상황 업데이트\n",
        "                progress = int((page / self.pages) * 100)\n",
        "                self.progress_signal.emit(progress)\n",
        "\n",
        "                # 요청 간격 추가로 서버 부하 방지\n",
        "                time.sleep(1.5)\n",
        "\n",
        "            except Exception as e:\n",
        "                self.error_signal.emit(f\"페이지 {page} 처리 중 오류 발생: {str(e)}\")\n",
        "                continue\n",
        "\n",
        "        # 수집 완료 후 데이터 전송\n",
        "        self.data_signal.emit(data)\n",
        "        self.finished_signal.emit(len(data), time.time() - start_time)\n",
        "\n",
        "\n",
        "class StockCrawlerApp(QMainWindow):\n",
        "    \"\"\"\n",
        "    주식 데이터 크롤링 및 분석을 위한 메인 GUI 애플리케이션\n",
        "    \"\"\"\n",
        "    def __init__(self):\n",
        "        super().__init__()\n",
        "        self.df = None  # 데이터프레임 저장 변수\n",
        "        self.initUI()\n",
        "\n",
        "    def initUI(self):\n",
        "        # 메인 윈도우 설정\n",
        "        self.setWindowTitle('주식 데이터 수집기')\n",
        "        self.setGeometry(100, 100, 1000, 600)\n",
        "\n",
        "        # 중앙 위젯 및 레이아웃 설정\n",
        "        central_widget = QWidget()\n",
        "        self.setCentralWidget(central_widget)\n",
        "        main_layout = QVBoxLayout(central_widget)\n",
        "\n",
        "        # 입력 영역 레이아웃\n",
        "        input_layout = QHBoxLayout()\n",
        "\n",
        "        # 페이지 수 입력\n",
        "        input_layout.addWidget(QLabel('수집할 페이지 수:'))\n",
        "        self.page_input = QLineEdit('1')\n",
        "        self.page_input.setFixedWidth(100)\n",
        "        input_layout.addWidget(self.page_input)\n",
        "\n",
        "        # 수집 버튼\n",
        "        self.crawl_button = QPushButton('데이터 수집 시작')\n",
        "        self.crawl_button.clicked.connect(self.start_crawling)\n",
        "        input_layout.addWidget(self.crawl_button)\n",
        "\n",
        "        # 저장 버튼\n",
        "        self.save_button = QPushButton('엑셀로 저장')\n",
        "        self.save_button.clicked.connect(self.save_to_excel)\n",
        "        self.save_button.setEnabled(False)  # 초기에는 비활성화\n",
        "        input_layout.addWidget(self.save_button)\n",
        "\n",
        "        input_layout.addStretch()\n",
        "        main_layout.addLayout(input_layout)\n",
        "\n",
        "        # 진행 상황 표시\n",
        "        progress_layout = QHBoxLayout()\n",
        "        progress_layout.addWidget(QLabel('진행 상황:'))\n",
        "        self.progress_bar = QProgressBar()\n",
        "        progress_layout.addWidget(self.progress_bar)\n",
        "        main_layout.addLayout(progress_layout)\n",
        "\n",
        "        # 상태 메시지\n",
        "        self.status_label = QLabel('준비됨')\n",
        "        main_layout.addWidget(self.status_label)\n",
        "\n",
        "        # 데이터 테이블\n",
        "        self.table = QTableWidget()\n",
        "        self.table.setColumnCount(7)\n",
        "        self.table.setHorizontalHeaderLabels([\"종목명\", \"시가총액(억)\", \"부채총계(억)\",\n",
        "                                             \"매출증가율\", \"외국인비율\", \"PER(배)\", \"ROE(%)\"])\n",
        "        self.table.horizontalHeader().setSectionResizeMode(QHeaderView.Stretch)\n",
        "        main_layout.addWidget(self.table)\n",
        "\n",
        "    def start_crawling(self):\n",
        "        \"\"\"크롤링 작업 시작\"\"\"\n",
        "        try:\n",
        "            pages = int(self.page_input.text())\n",
        "            if pages <= 0:\n",
        "                QMessageBox.warning(self, '입력 오류', '페이지 수는 1 이상이어야 합니다.')\n",
        "                return\n",
        "\n",
        "            # UI 상태 업데이트\n",
        "            self.crawl_button.setEnabled(False)\n",
        "            self.save_button.setEnabled(False)\n",
        "            self.progress_bar.setValue(0)\n",
        "            self.status_label.setText('데이터 수집 중...')\n",
        "            self.table.setRowCount(0)\n",
        "\n",
        "            # 크롤링 스레드 시작\n",
        "            self.crawler_thread = CrawlerThread(pages)\n",
        "            self.crawler_thread.progress_signal.connect(self.update_progress)\n",
        "            self.crawler_thread.data_signal.connect(self.display_data)\n",
        "            self.crawler_thread.error_signal.connect(self.show_error)\n",
        "            self.crawler_thread.finished_signal.connect(self.crawling_finished)\n",
        "            self.crawler_thread.start()\n",
        "\n",
        "        except ValueError:\n",
        "            QMessageBox.warning(self, '입력 오류', '유효한 페이지 수를 입력하세요.')\n",
        "\n",
        "    def update_progress(self, value):\n",
        "        \"\"\"진행 상황 업데이트\"\"\"\n",
        "        self.progress_bar.setValue(value)\n",
        "\n",
        "    def display_data(self, data):\n",
        "        \"\"\"수집된 데이터 테이블에 표시\"\"\"\n",
        "        # 데이터프레임 생성\n",
        "        self.df = pd.DataFrame(data, columns=[\"종목명\", \"시가총액(억)\", \"부채총계(억)\",\n",
        "                                             \"매출증가율\", \"외국인비율\", \"PER(배)\", \"ROE(%)\"])\n",
        "\n",
        "        # 테이블에 데이터 표시\n",
        "        self.table.setRowCount(len(data))\n",
        "        for row_idx, row_data in enumerate(data):\n",
        "            for col_idx, cell_data in enumerate(row_data):\n",
        "                item = QTableWidgetItem()\n",
        "                # 숫자 데이터는 오른쪽 정렬, 문자열은 왼쪽 정렬\n",
        "                if col_idx == 0:  # 종목명\n",
        "                    item.setText(str(cell_data))\n",
        "                    item.setTextAlignment(Qt.AlignLeft | Qt.AlignVCenter)\n",
        "                else:  # 숫자 데이터\n",
        "                    item.setText(f\"{cell_data:,.2f}\")\n",
        "                    item.setTextAlignment(Qt.AlignRight | Qt.AlignVCenter)\n",
        "                self.table.setItem(row_idx, col_idx, item)\n",
        "\n",
        "    def show_error(self, error_msg):\n",
        "        \"\"\"오류 메시지 표시\"\"\"\n",
        "        self.status_label.setText(f\"오류: {error_msg}\")\n",
        "\n",
        "    def crawling_finished(self, data_count, elapsed_time):\n",
        "        \"\"\"크롤링 작업 완료 처리\"\"\"\n",
        "        self.crawl_button.setEnabled(True)\n",
        "        self.save_button.setEnabled(True)\n",
        "        self.status_label.setText(f\"총 {data_count}개 데이터 수집 완료 | 소요 시간: {elapsed_time:.2f}초\")\n",
        "\n",
        "    def save_to_excel(self):\n",
        "        \"\"\"데이터를 엑셀 파일로 저장\"\"\"\n",
        "        if self.df is None or self.df.empty:\n",
        "            QMessageBox.warning(self, '저장 오류', '저장할 데이터가 없습니다.')\n",
        "            return\n",
        "\n",
        "        # 파일 저장 다이얼로그\n",
        "        timestamp = time.strftime(\"%Y%m%d_%H%M%S\")\n",
        "        default_filename = f'stock_data_{timestamp}.xlsx'\n",
        "        file_path, _ = QFileDialog.getSaveFileName(\n",
        "            self, '엑셀 파일 저장', default_filename, 'Excel Files (*.xlsx)')\n",
        "\n",
        "        if file_path:\n",
        "            try:\n",
        "                # 엑셀 파일 저장\n",
        "                with pd.ExcelWriter(file_path, engine='xlsxwriter') as writer:\n",
        "                    self.df.to_excel(writer, index=False)\n",
        "                    # 엑셀 서식 자동 적용\n",
        "                    workbook = writer.book\n",
        "                    worksheet = writer.sheets['Sheet1']\n",
        "                    number_format = workbook.add_format({'num_format': '#,##0.00'})\n",
        "                    worksheet.set_column('B:G', 15, number_format)\n",
        "\n",
        "                QMessageBox.information(self, '저장 완료', f'데이터가 성공적으로 저장되었습니다.\\n{file_path}')\n",
        "            except Exception as e:\n",
        "                QMessageBox.critical(self, '저장 오류', f'파일 저장 중 오류가 발생했습니다: {str(e)}')\n",
        "\n",
        "\n",
        "if __name__ == '__main__':\n",
        "    app = QApplication(sys.argv)\n",
        "    window = StockCrawlerApp()\n",
        "    window.show()\n",
        "    sys.exit(app.exec())\n"
      ]
    },
    {
      "cell_type": "markdown",
      "metadata": {
        "id": "SQuz4AyRw90K"
      },
      "source": [
        "# 시가총액 분석 시 효과적으로 활용할 항목 및 상세 분석법\n",
        "\n",
        "## 1. 시가총액(억)\n",
        "- **정의**: 기업의 전체 주식 수에 현재 주가를 곱한 값으로 기업의 전체 시장가치를 나타냄.\n",
        "- **활용법**:\n",
        "  - 기업의 규모와 시장 영향력을 평가할 수 있으며, 산업 내 경쟁사와의 상대적 비교를 통해 안정성을 판단함.\n",
        "  - 규모가 클수록 안정적이지만, 성장률은 다소 낮을 수 있음.\n",
        "\n",
        "## 2. 외국인비율\n",
        "- **정의**: 기업 주식을 보유한 외국인 투자자의 비율.\n",
        "- **활용법**:\n",
        "  - 외국인 투자자의 관심도와 신뢰도를 파악하여 글로벌 시장에서의 기업 평가를 판단.\n",
        "  - 외국인 비율 증가 시 주가 상승 가능성을 예측할 수 있으며, 급격한 변동은 리스크 신호일 수 있음.\n",
        "\n",
        "## 3. PER(배)\n",
        "- **정의**: 주가수익비율로, 현재 주가가 주당 순이익(EPS)에 비해 몇 배인지를 나타냄.\n",
        "- **활용법**:\n",
        "  - 기업이 고평가 또는 저평가되어 있는지를 판단하는 지표.\n",
        "  - 산업 평균 PER과 비교해 기업의 상대적 가치 평가를 수행할 수 있음.\n",
        "\n",
        "## 4. ROE(%)\n",
        "- **정의**: 자기자본이익률로 자기자본 대비 순이익 비율.\n",
        "- **활용법**:\n",
        "  - 기업의 경영 효율성과 수익성을 평가하여 투자 수익의 지속가능성을 판단.\n",
        "  - ROE가 높은 기업은 일반적으로 자본 효율성이 뛰어나며 장기적으로 주가가 안정적으로 상승할 가능성이 높음.\n",
        "\n",
        "## 5. 부채총계(억)\n",
        "- **정의**: 기업이 가지고 있는 모든 부채의 총합.\n",
        "- **활용법**:\n",
        "  - 기업의 재무 안정성과 부실 가능성을 분석하는 주요 지표.\n",
        "  - 부채 비율이 높으면 경기 침체 시 기업의 재무 상태가 빠르게 악화될 수 있어 리스크 관리에 필수적.\n",
        "\n",
        "## 6. 매출액증가율\n",
        "- **정의**: 전년 대비 매출 증가율.\n",
        "- **활용법**:\n",
        "  - 기업의 성장 잠재력과 시장 경쟁력을 직접적으로 반영.\n",
        "  - 꾸준한 매출 성장률은 장기적으로 기업 가치 상승을 의미하며, 투자자에게 긍정적인 지표.\n",
        "\n",
        "---\n",
        "\n",
        "## 추가적인 심층 분석법\n",
        "\n",
        "### 시가총액 대비 거래대금 비율\n",
        "- 거래대금이 높으면 유동성이 좋고, 가격 변동성도 큼.\n",
        "- 단기 매매나 주가 상승 가능성을 평가할 때 유용.\n",
        "\n",
        "### 자산총계 대비 부채총계 비율(부채비율)\n",
        "- 부채비율이 낮으면 재무 안정성이 높고, 장기적인 투자에 유리.\n",
        "- 부채비율이 높으면 재무 위험이 증가하므로 투자 시 유의.\n",
        "\n",
        "### 당기순이익과 주당순이익(EPS)\n",
        "- 기업의 실제 수익 창출 능력을 평가.\n",
        "- 꾸준히 증가하는 기업은 장기적으로 투자 가치가 높음.\n",
        "\n",
        "---\n",
        "\n",
        "## 추가 활용할 수 있는 분석 지표 및 방법\n",
        "- **ROE 및 ROA** 분석으로 자본 효율성을 평가.\n",
        "- **주당순이익(EPS)** 성장률을 통한 기업의 실질적 수익성 분석.\n",
        "- 산업별 평균 지표와의 비교 분석을 통해 상대적인 평가.\n",
        "\n",
        "---\n",
        "\n",
        "## 심화 분석을 위한 질문\n",
        "- 외국인 투자자의 순매수 추이를 이용하여 주가 움직임을 예측할 수 있는 분석 방법 탐색.\n",
        "- 매출액증가율과 PER을 동시에 고려하여 기업의 성장성과 가치 평가를 통합적으로 판단할 수 있는 방법 연구.\n",
        "\n"
      ]
    }
  ],
  "metadata": {
    "kernelspec": {
      "display_name": "base",
      "language": "python",
      "name": "python3"
    },
    "language_info": {
      "codemirror_mode": {
        "name": "ipython",
        "version": 3
      },
      "file_extension": ".py",
      "mimetype": "text/x-python",
      "name": "python",
      "nbconvert_exporter": "python",
      "pygments_lexer": "ipython3",
      "version": "3.11.11"
    },
    "colab": {
      "provenance": [],
      "include_colab_link": true
    }
  },
  "nbformat": 4,
  "nbformat_minor": 0
}