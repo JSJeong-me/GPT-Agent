{
  "nbformat": 4,
  "nbformat_minor": 0,
  "metadata": {
    "colab": {
      "provenance": [],
      "gpuType": "T4",
      "authorship_tag": "ABX9TyNEc2CQ2VxhrvxWQQol7Syy",
      "include_colab_link": true
    },
    "kernelspec": {
      "name": "python3",
      "display_name": "Python 3"
    },
    "language_info": {
      "name": "python"
    },
    "accelerator": "GPU"
  },
  "cells": [
    {
      "cell_type": "markdown",
      "metadata": {
        "id": "view-in-github",
        "colab_type": "text"
      },
      "source": [
        "<a href=\"https://colab.research.google.com/github/JSJeong-me/GPT-Agent/blob/main/01-WikiTools.ipynb\" target=\"_parent\"><img src=\"https://colab.research.google.com/assets/colab-badge.svg\" alt=\"Open In Colab\"/></a>"
      ]
    },
    {
      "cell_type": "code",
      "source": [
        "!echo \"OPENAI_API_KEY=sk-\" >> .env\n",
        "!source /content/.env"
      ],
      "metadata": {
        "id": "4Y6pG7JR8SAo"
      },
      "execution_count": null,
      "outputs": []
    },
    {
      "cell_type": "code",
      "source": [
        "!pip install python-dotenv"
      ],
      "metadata": {
        "id": "Qfs6iPKZQrP5"
      },
      "execution_count": null,
      "outputs": []
    },
    {
      "cell_type": "code",
      "source": [
        "import os\n",
        "from dotenv import load_dotenv\n",
        "\n",
        "# Load environment variables from .env file\n",
        "load_dotenv()\n",
        "# Access the API key using the variable name defined in the .env file\n",
        "api_key = os.getenv(\"OPENAI_API_KEY\")"
      ],
      "metadata": {
        "id": "ZrKYrDrFQtZy"
      },
      "execution_count": 1,
      "outputs": []
    },
    {
      "cell_type": "code",
      "source": [
        "!pip install langchain langchain[llms] langchain_core langchain_community"
      ],
      "metadata": {
        "id": "oUjS4BMyQyt4"
      },
      "execution_count": null,
      "outputs": []
    },
    {
      "cell_type": "code",
      "source": [
        "!pip install wikipedia"
      ],
      "metadata": {
        "id": "lTxxxjPYRxDa"
      },
      "execution_count": null,
      "outputs": []
    },
    {
      "cell_type": "code",
      "source": [
        "from langchain_core.pydantic_v1 import BaseModel, Field\n",
        "from langchain_community.tools import WikipediaQueryRun\n",
        "from langchain_community.utilities import WikipediaAPIWrapper\n",
        "\n",
        "\n",
        "class WikiInputs(BaseModel):\n",
        "    \"\"\"Inputs to the wikipedia tool.\"\"\"\n",
        "\n",
        "    query: str = Field(\n",
        "        description=\"query to look up in Wikipedia, should be 3 or less words\"\n",
        "    )"
      ],
      "metadata": {
        "id": "JF3I9sVVQwwg"
      },
      "execution_count": 3,
      "outputs": []
    },
    {
      "cell_type": "markdown",
      "source": [
        "### https://python.langchain.com/v0.1/docs/modules/tools/"
      ],
      "metadata": {
        "id": "494cfPWmXNzo"
      }
    },
    {
      "cell_type": "code",
      "source": [
        "api_wrapper = WikipediaAPIWrapper(top_k_results=1, doc_content_chars_max=1024, lang='en')\n",
        "tool = WikipediaQueryRun(api_wrapper=api_wrapper)"
      ],
      "metadata": {
        "id": "9b6ApXtKRpio"
      },
      "execution_count": 4,
      "outputs": []
    },
    {
      "cell_type": "code",
      "source": [
        "tool = WikipediaQueryRun(\n",
        "    name=\"wiki-tool\",\n",
        "    description=\"look up things in wikipedia\",\n",
        "    args_schema=WikiInputs,\n",
        "    api_wrapper=api_wrapper,\n",
        "    return_direct=True,\n",
        ")"
      ],
      "metadata": {
        "id": "QvVElA3gROv3"
      },
      "execution_count": 5,
      "outputs": []
    },
    {
      "cell_type": "code",
      "source": [
        "tool.run(\"OMG song lyrics\")"
      ],
      "metadata": {
        "colab": {
          "base_uri": "https://localhost:8080/",
          "height": 145
        },
        "id": "n7xYS7-PR97K",
        "outputId": "4cb24997-6269-4c1c-e8d2-5b16862dba2d"
      },
      "execution_count": 6,
      "outputs": [
        {
          "output_type": "execute_result",
          "data": {
            "text/plain": [
              "'Page: OMG (NewJeans song)\\nSummary: \"OMG\" is a song by the South Korean idol girl group NewJeans from their single album of the same name (2023). ADOR, a division of Hybe Corporation, released \"OMG\" for download and streaming on January 2, 2023. Park Jin-su produced the track and composed it with Ylva Dimberg and David Dawood. The lyrics, written by Dimberg, Gigi, and NewJeans member Hanni, were inspired by high school dramas and explore themes of young love, dedication, and one-sided affection. It blends R&B, hip hop, and pop, featuring hip-hop percussion, trap rhythms, and a UK garage-inflected groove. The song includes plucked staccato synth chords, skittering cowbells, and layered vocal harmonies and percussion.  \\nBuoyed by its viral success on the video-sharing platform TikTok, \"OMG\" peaked at number 10 on the Billboard Global 200, number seven on the Billboard Japan Hot 100, and number two on the South Korean Circle Digital Chart. It peaked at number one in Singapore and on Billboard\\'s Hits of the World '"
            ],
            "application/vnd.google.colaboratory.intrinsic+json": {
              "type": "string"
            }
          },
          "metadata": {},
          "execution_count": 6
        }
      ]
    },
    {
      "cell_type": "code",
      "source": [
        "tool.run({\"query\": \"Newjeans\"})"
      ],
      "metadata": {
        "colab": {
          "base_uri": "https://localhost:8080/",
          "height": 145
        },
        "id": "XZcpoEEGWA_y",
        "outputId": "10c0701a-273d-49a5-a89a-b261bfafcabe"
      },
      "execution_count": 7,
      "outputs": [
        {
          "output_type": "execute_result",
          "data": {
            "text/plain": [
              "'Page: NewJeans\\nSummary: NewJeans (Korean: 뉴진스; RR: Nyujinseu) is a South Korean girl group formed by ADOR. The group is composed of five members: Minji, Hanni, Danielle, Haerin, and Hyein. They are known for their girl next door image and musical stylings reminiscent of the 1990s and 2000s.\\nNewJeans debuted on July 22, 2022, with the single \"Attention\", their first number-one song on South Korea\\'s Circle Digital Chart. It was followed shortly afterwards by two other singles, \"Hype Boy\" and \"Cookie\", with the former becoming the longest-running song on the Billboard Global 200 by a K-pop female act. The singles were all featured on their eponymous debut extended play (EP), released in August 2022. In January 2023, they released their first single album, OMG, to commercial success. It was accompanied by two singles, \"Ditto\" and \"OMG\". \"Ditto\" gained widespread popularity, becoming the longest-running number-one song on the Circle Digital Chart and the group\\'s first entry on both the Billboard Hot 100 and the UK'"
            ],
            "application/vnd.google.colaboratory.intrinsic+json": {
              "type": "string"
            }
          },
          "metadata": {},
          "execution_count": 7
        }
      ]
    },
    {
      "cell_type": "code",
      "source": [
        "tool.args"
      ],
      "metadata": {
        "colab": {
          "base_uri": "https://localhost:8080/"
        },
        "id": "tDEoZNpZSA-U",
        "outputId": "a2847d5b-dc2d-4585-9796-c6fc3aeadcc3"
      },
      "execution_count": 8,
      "outputs": [
        {
          "output_type": "execute_result",
          "data": {
            "text/plain": [
              "{'query': {'title': 'Query',\n",
              "  'description': 'query to look up in Wikipedia, should be 3 or less words',\n",
              "  'type': 'string'}}"
            ]
          },
          "metadata": {},
          "execution_count": 8
        }
      ]
    }
  ]
}