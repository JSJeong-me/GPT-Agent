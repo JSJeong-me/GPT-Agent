{
  "nbformat": 4,
  "nbformat_minor": 0,
  "metadata": {
    "colab": {
      "provenance": [],
      "gpuType": "T4",
      "authorship_tag": "ABX9TyMO/77eLzdI0hA6Rjh6f+7J",
      "include_colab_link": true
    },
    "kernelspec": {
      "name": "python3",
      "display_name": "Python 3"
    },
    "language_info": {
      "name": "python"
    },
    "accelerator": "GPU"
  },
  "cells": [
    {
      "cell_type": "markdown",
      "metadata": {
        "id": "view-in-github",
        "colab_type": "text"
      },
      "source": [
        "<a href=\"https://colab.research.google.com/github/JSJeong-me/GPT-Agent/blob/main/10-GFinance-Agent.ipynb\" target=\"_parent\"><img src=\"https://colab.research.google.com/assets/colab-badge.svg\" alt=\"Open In Colab\"/></a>"
      ]
    },
    {
      "cell_type": "code",
      "source": [
        "!echo \"OPENAI_API_KEY=sk-\" >> .env\n",
        "#@markdown https://serpapi.com/manage-api-key\n",
        "#@markdown 구글 검색하기 위해서 필요 (월 100회 무료)\n",
        "!echo \"SERPAPI_API_KEY=6ce\" >> .env\n"
      ],
      "metadata": {
        "id": "UYFEQPSx9LgN"
      },
      "execution_count": 1,
      "outputs": []
    },
    {
      "cell_type": "code",
      "source": [
        "!pip install python-dotenv"
      ],
      "metadata": {
        "colab": {
          "base_uri": "https://localhost:8080/"
        },
        "id": "Qfs6iPKZQrP5",
        "outputId": "f725dfb5-46aa-478c-f06d-14145b70ca14"
      },
      "execution_count": 2,
      "outputs": [
        {
          "output_type": "stream",
          "name": "stdout",
          "text": [
            "Collecting python-dotenv\n",
            "  Downloading python_dotenv-1.0.1-py3-none-any.whl (19 kB)\n",
            "Installing collected packages: python-dotenv\n",
            "Successfully installed python-dotenv-1.0.1\n"
          ]
        }
      ]
    },
    {
      "cell_type": "code",
      "source": [
        "import os\n",
        "from dotenv import load_dotenv\n",
        "\n",
        "# Load environment variables from .env file\n",
        "load_dotenv()\n",
        "# Access the API key using the variable name defined in the .env file\n",
        "api_key = os.getenv(\"OPENAI_API_KEY\")\n",
        "serpapi_key = os.getenv(\"SERPAPI_API_KEY\")"
      ],
      "metadata": {
        "id": "ZrKYrDrFQtZy"
      },
      "execution_count": 3,
      "outputs": []
    },
    {
      "cell_type": "code",
      "source": [],
      "metadata": {
        "id": "60c3Mw3bXLmF"
      },
      "execution_count": null,
      "outputs": []
    },
    {
      "cell_type": "code",
      "source": [
        "!pip install --upgrade --quiet  google-search-results"
      ],
      "metadata": {
        "id": "-XXEzH6V-FKe",
        "outputId": "2a39750b-bdee-4012-bd25-2bab66be67ad",
        "colab": {
          "base_uri": "https://localhost:8080/"
        }
      },
      "execution_count": 4,
      "outputs": [
        {
          "output_type": "stream",
          "name": "stdout",
          "text": [
            "  Preparing metadata (setup.py) ... \u001b[?25l\u001b[?25hdone\n",
            "  Building wheel for google-search-results (setup.py) ... \u001b[?25l\u001b[?25hdone\n"
          ]
        }
      ]
    },
    {
      "cell_type": "code",
      "source": [
        "!pip install openai langchain_openai langchain[llms] langchain_core langchain_community"
      ],
      "metadata": {
        "id": "oUjS4BMyQyt4"
      },
      "execution_count": null,
      "outputs": []
    },
    {
      "cell_type": "code",
      "source": [
        "import os\n",
        "\n",
        "from langchain_community.tools.google_finance import GoogleFinanceQueryRun\n",
        "from langchain_community.utilities.google_finance import GoogleFinanceAPIWrapper\n",
        "\n",
        "\n",
        "tool = GoogleFinanceQueryRun(api_wrapper=GoogleFinanceAPIWrapper())"
      ],
      "metadata": {
        "id": "voPwyOcxj2mN"
      },
      "execution_count": 6,
      "outputs": []
    },
    {
      "cell_type": "code",
      "source": [
        "tool.run(\"Nvidia\")"
      ],
      "metadata": {
        "colab": {
          "base_uri": "https://localhost:8080/",
          "height": 54
        },
        "id": "uDz4as3dkA3L",
        "outputId": "ac6fb1a6-66c8-4f55-f7c0-980b1b18c784"
      },
      "execution_count": 7,
      "outputs": [
        {
          "output_type": "execute_result",
          "data": {
            "text/plain": [
              "'\\nQuery: Nvidia\\nstock: NVDA:NASDAQ\\nprice: $120.89\\npercentage: 90.01\\nmovement: Down\\nus: price = 38798.99, movement = Down\\neurope: price = 18431.09, movement = Down\\nasia: price = 39038.16, movement = Up\\n'"
            ],
            "application/vnd.google.colaboratory.intrinsic+json": {
              "type": "string"
            }
          },
          "metadata": {},
          "execution_count": 7
        }
      ]
    },
    {
      "cell_type": "code",
      "source": [
        "tool.run({\"query\": \"Nvidia\"})"
      ],
      "metadata": {
        "colab": {
          "base_uri": "https://localhost:8080/",
          "height": 54
        },
        "id": "QUTXt_Wvlfyo",
        "outputId": "a1d2fab9-9da7-49fd-ff61-225c382a975d"
      },
      "execution_count": 8,
      "outputs": [
        {
          "output_type": "execute_result",
          "data": {
            "text/plain": [
              "'\\nQuery: Nvidia\\nstock: NVDA:NASDAQ\\nprice: $120.89\\npercentage: 90.01\\nmovement: Down\\nus: price = 38798.99, movement = Down\\neurope: price = 18431.09, movement = Down\\nasia: price = 39038.16, movement = Up\\n'"
            ],
            "application/vnd.google.colaboratory.intrinsic+json": {
              "type": "string"
            }
          },
          "metadata": {},
          "execution_count": 8
        }
      ]
    },
    {
      "cell_type": "markdown",
      "source": [
        "### Agent"
      ],
      "metadata": {
        "id": "TRJzFATqlpOp"
      }
    },
    {
      "cell_type": "markdown",
      "source": [
        "### Prompt\n"
      ],
      "metadata": {
        "id": "dmaGW6ncl07p"
      }
    },
    {
      "cell_type": "markdown",
      "source": [
        "### API Wrapper\n",
        "https://api.python.langchain.com/en/latest/utilities/langchain_community.utilities.google_finance.GoogleFinanceAPIWrapper.html"
      ],
      "metadata": {
        "id": "tVTi0i6-m2-k"
      }
    },
    {
      "cell_type": "code",
      "source": [
        "from langchain.agents import AgentType, initialize_agent, load_tools\n",
        "from langchain_openai import OpenAI\n",
        "\n",
        "# Access the API key using the variable name defined in the .env file\n",
        "# api_key = os.getenv(\"OPENAI_API_KEY\")\n",
        "# serpapi_key = os.getenv(\"SERPAPI_API_KEY\")\n",
        "os.environ[\"SERP_API_KEY\"] = \"\"\n",
        "# 디버깅: API 키 출력\n",
        "# print(\"OPENAI_API_KEY:\", api_key)\n",
        "# print(\"SERP_API_KEY:\", serpapi_key)\n",
        "\n",
        "llm = OpenAI(openai_api_key=api_key)\n",
        "tools = load_tools([\"google-scholar\", \"google-finance\"], llm=llm)\n",
        "agent = initialize_agent(\n",
        "    tools, llm, agent=AgentType.ZERO_SHOT_REACT_DESCRIPTION, verbose=True\n",
        ")"
      ],
      "metadata": {
        "id": "w4Jg6GhaoHRp"
      },
      "execution_count": null,
      "outputs": []
    },
    {
      "cell_type": "code",
      "source": [
        "agent.run(\"Forcast Nvidia's stock in this week\")"
      ],
      "metadata": {
        "colab": {
          "base_uri": "https://localhost:8080/",
          "height": 1000
        },
        "id": "LQjM4COKpqav",
        "outputId": "32d4e97b-442f-4bcb-d40b-6f35c3cc916f"
      },
      "execution_count": 12,
      "outputs": [
        {
          "output_type": "stream",
          "name": "stderr",
          "text": [
            "/usr/local/lib/python3.10/dist-packages/langchain_core/_api/deprecation.py:119: LangChainDeprecationWarning: The method `Chain.run` was deprecated in langchain 0.1.0 and will be removed in 0.3.0. Use invoke instead.\n",
            "  warn_deprecated(\n"
          ]
        },
        {
          "output_type": "stream",
          "name": "stdout",
          "text": [
            "\n",
            "\n",
            "\u001b[1m> Entering new AgentExecutor chain...\u001b[0m\n",
            "\u001b[32;1m\u001b[1;3m You should always think about what tools are available to help you find information on Nvidia's stock\n",
            "Action: google_finance\n",
            "Action Input: Nvidia stock\u001b[0m\n",
            "Observation: \u001b[33;1m\u001b[1;3m\n",
            "Query: Nvidia stock\n",
            "No summary information\n",
            "us: price = 38798.99, movement = Down\n",
            "europe: price = 18408.13, movement = Down\n",
            "asia: price = 39038.16, movement = Up\n",
            "\u001b[0m\n",
            "Thought:\u001b[32;1m\u001b[1;3m You should also consider the time frame of the forecasted stock\n",
            "Action: google_finance\n",
            "Action Input: Nvidia stock\u001b[0m\n",
            "Observation: \u001b[33;1m\u001b[1;3m\n",
            "Query: Nvidia stock\n",
            "No summary information\n",
            "us: price = 38798.99, movement = Down\n",
            "europe: price = 18408.13, movement = Down\n",
            "asia: price = 39038.16, movement = Up\n",
            "\u001b[0m\n",
            "Thought:\u001b[32;1m\u001b[1;3m You can also use historical data to help with your forecast\n",
            "Action: google_finance\n",
            "Action Input: Nvidia stock historical data\u001b[0m\n",
            "Observation: \u001b[33;1m\u001b[1;3m\n",
            "Query: Nvidia stock historical data\n",
            "No summary information\n",
            "us: price = 38798.99, movement = Down\n",
            "europe: price = 18407.81, movement = Down\n",
            "asia: price = 39038.16, movement = Up\n",
            "\u001b[0m\n",
            "Thought:\u001b[32;1m\u001b[1;3m You can also look at expert analysis and predictions \n",
            "Action: google_scholar\n",
            "Action Input: Nvidia stock predictions\u001b[0m\n",
            "Observation: \u001b[36;1m\u001b[1;3mTitle: Nvidia's Stock Returns Prediction Using Machine Learning Techniques for Time Series Forecasting Problem\n",
            "Authors: M Chlebus,M Woźniak\n",
            "Summary: M Chlebus, M Dyczko, M Woźniak - Central European Economic …, 2021 - sciendo.com\n",
            "Total-Citations: 8\n",
            "\n",
            "Title: NVIDIA Stock Price Prediction by Machine Learning\n",
            "Authors: \n",
            "Summary: J Tan - Highlights in Business, Economics and Management, 2024 - drpress.org\n",
            "Total-Citations: \n",
            "\n",
            "Title: Predicting NVIDIA's Next-Day Stock Price: A Comparative Analysis of LSTM, MLP, ARIMA, and ARIMA-GARCH Models\n",
            "Authors: C Yan\n",
            "Summary: Y Xing, C Yan, CC Xie - arXiv preprint arXiv:2405.08284, 2024 - arxiv.org\n",
            "Total-Citations: 1\n",
            "\n",
            "Title: The Research of NVIDIA Stock Price Prediction Based on LSTM And ARIMA Model\n",
            "Authors: \n",
            "Summary: Z Yang, Z Wang - Highlights in Business, Economics and Management, 2024 - drpress.org\n",
            "Total-Citations: \n",
            "\n",
            "Title: MACHINE LEARNING-BASED NVIDIA STOCK PRICE PREDICTION USING AUTOTS\n",
            "Authors: R Shamim,T Agarwal\n",
            "Summary: R Shamim, T Agarwal - CONNECTING - researchgate.net\n",
            "Total-Citations: \n",
            "\n",
            "Title: Stock Market Predictions Using Machine Learning\n",
            "Authors: \n",
            "Summary: HKS Surayagari - 2021 - search.proquest.com\n",
            "Total-Citations: \n",
            "\n",
            "Title: Stock Data Analysis of Competing Companies in Competitive Market: The Case of NVIDIA Corporation\n",
            "Authors: \n",
            "Summary: L Qi - Highlights in Science, Engineering and Technology, 2024 - drpress.org\n",
            "Total-Citations: \n",
            "\n",
            "Title: Benchmarking TPU and GPU for Stock Price Forecasting Using LSTM Model Development\n",
            "Authors: TO Kehinde,SH Chung\n",
            "Summary: TO Kehinde, SH Chung, FTS Chan - Science and Information Conference, 2023 - Springer\n",
            "Total-Citations: 1\n",
            "\n",
            "Title: Stock price analysis with deep-learning models\n",
            "Authors: N Pérez,D Benítez\n",
            "Summary: J Arosemena, N Pérez, D Benítez… - … on Applications of …, 2021 - ieeexplore.ieee.org\n",
            "Total-Citations: 4\n",
            "\n",
            "Title: CUDA parallel computing framework for stock market prediction using K-means clustering\n",
            "Authors: \n",
            "Summary: S Kumari, N Patil, P Nankar… - … Conference on Smart …, 2020 - ieeexplore.ieee.org\n",
            "Total-Citations: 5\u001b[0m\n",
            "Thought:\u001b[32;1m\u001b[1;3m After reviewing multiple research papers, it seems that using machine learning techniques such as LSTM and ARIMA models can help with predicting Nvidia's stock price.\n",
            "Final Answer: The final answer is that using historical data and machine learning techniques, such as LSTM and ARIMA models, can help with predicting Nvidia's stock price.\u001b[0m\n",
            "\n",
            "\u001b[1m> Finished chain.\u001b[0m\n"
          ]
        },
        {
          "output_type": "execute_result",
          "data": {
            "text/plain": [
              "\"The final answer is that using historical data and machine learning techniques, such as LSTM and ARIMA models, can help with predicting Nvidia's stock price.\""
            ],
            "application/vnd.google.colaboratory.intrinsic+json": {
              "type": "string"
            }
          },
          "metadata": {},
          "execution_count": 12
        }
      ]
    }
  ]
}