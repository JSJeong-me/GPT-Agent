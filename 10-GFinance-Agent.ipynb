{
  "nbformat": 4,
  "nbformat_minor": 0,
  "metadata": {
    "colab": {
      "provenance": [],
      "gpuType": "T4",
      "authorship_tag": "ABX9TyMpTTc7KnCj4fe9US4B6aLp",
      "include_colab_link": true
    },
    "kernelspec": {
      "name": "python3",
      "display_name": "Python 3"
    },
    "language_info": {
      "name": "python"
    },
    "accelerator": "GPU"
  },
  "cells": [
    {
      "cell_type": "markdown",
      "metadata": {
        "id": "view-in-github",
        "colab_type": "text"
      },
      "source": [
        "<a href=\"https://colab.research.google.com/github/JSJeong-me/GPT-Agent/blob/main/10-GFinance-Agent.ipynb\" target=\"_parent\"><img src=\"https://colab.research.google.com/assets/colab-badge.svg\" alt=\"Open In Colab\"/></a>"
      ]
    },
    {
      "cell_type": "code",
      "execution_count": null,
      "metadata": {
        "id": "NqdZCkAzQVa8"
      },
      "outputs": [],
      "source": [
        "!wget --no-check-certificate 'https://docs.google.com/uc?export=download&id=11_nDjppPKD6TOB3Zb1RpiAMafKmbc_c5'  -O ./.env"
      ]
    },
    {
      "cell_type": "code",
      "source": [
        "!pip install python-dotenv"
      ],
      "metadata": {
        "colab": {
          "base_uri": "https://localhost:8080/"
        },
        "id": "Qfs6iPKZQrP5",
        "outputId": "4af0a720-f386-4144-b4e2-2907d8d179f6"
      },
      "execution_count": 2,
      "outputs": [
        {
          "output_type": "stream",
          "name": "stdout",
          "text": [
            "Collecting python-dotenv\n",
            "  Downloading python_dotenv-1.0.1-py3-none-any.whl (19 kB)\n",
            "Installing collected packages: python-dotenv\n",
            "Successfully installed python-dotenv-1.0.1\n"
          ]
        }
      ]
    },
    {
      "cell_type": "code",
      "source": [
        "import os\n",
        "from dotenv import load_dotenv\n",
        "\n",
        "# Load environment variables from .env file\n",
        "load_dotenv()\n",
        "# Access the API key using the variable name defined in the .env file\n",
        "api_key = os.getenv(\"OPENAI_API_KEY\")"
      ],
      "metadata": {
        "id": "ZrKYrDrFQtZy"
      },
      "execution_count": 6,
      "outputs": []
    },
    {
      "cell_type": "code",
      "source": [
        "!pip install openai langchain_openai langchain[llms] langchain_core langchain_community"
      ],
      "metadata": {
        "id": "oUjS4BMyQyt4"
      },
      "execution_count": null,
      "outputs": []
    },
    {
      "cell_type": "code",
      "source": [
        "!pip install --upgrade --quiet  google-search-results"
      ],
      "metadata": {
        "id": "ZjKGy9uQjpar"
      },
      "execution_count": 1,
      "outputs": []
    },
    {
      "cell_type": "code",
      "source": [
        "import os\n",
        "\n",
        "from langchain_community.tools.google_finance import GoogleFinanceQueryRun\n",
        "from langchain_community.utilities.google_finance import GoogleFinanceAPIWrapper\n",
        "\n",
        "os.environ[\"SERPAPI_API_KEY\"] = \"6c2c8915539df8ed1c950c53854a2f1806ac205cecebbb6aaeb4ac39426cecd6\"\n",
        "tool = GoogleFinanceQueryRun(api_wrapper=GoogleFinanceAPIWrapper())"
      ],
      "metadata": {
        "id": "voPwyOcxj2mN"
      },
      "execution_count": 8,
      "outputs": []
    },
    {
      "cell_type": "code",
      "source": [
        "tool.run(\"Nvidia\")"
      ],
      "metadata": {
        "colab": {
          "base_uri": "https://localhost:8080/",
          "height": 54
        },
        "id": "uDz4as3dkA3L",
        "outputId": "a60c6157-7e55-4c35-eb4d-751a31c14214"
      },
      "execution_count": 3,
      "outputs": [
        {
          "output_type": "execute_result",
          "data": {
            "text/plain": [
              "'\\nQuery: Nvidia\\nstock: NVDA:NASDAQ\\nprice: $1,064.69\\npercentage: 2.57\\nmovement: Up\\nus: price = 39069.59, movement = Up\\neurope: price = 18774.71, movement = Up\\nasia: price = 38900.02, movement = Up\\n'"
            ],
            "application/vnd.google.colaboratory.intrinsic+json": {
              "type": "string"
            }
          },
          "metadata": {},
          "execution_count": 3
        }
      ]
    },
    {
      "cell_type": "code",
      "source": [
        "tool.run({\"query\": \"Nvidia\"})"
      ],
      "metadata": {
        "id": "QUTXt_Wvlfyo",
        "outputId": "892dda0b-8d90-4ba2-f486-d1193f240d54",
        "colab": {
          "base_uri": "https://localhost:8080/",
          "height": 54
        }
      },
      "execution_count": 4,
      "outputs": [
        {
          "output_type": "execute_result",
          "data": {
            "text/plain": [
              "'\\nQuery: Nvidia\\nstock: NVDA:NASDAQ\\nprice: $1,064.69\\npercentage: 2.57\\nmovement: Up\\nus: price = 39069.59, movement = Up\\neurope: price = 18774.71, movement = Up\\nasia: price = 38900.02, movement = Up\\n'"
            ],
            "application/vnd.google.colaboratory.intrinsic+json": {
              "type": "string"
            }
          },
          "metadata": {},
          "execution_count": 4
        }
      ]
    },
    {
      "cell_type": "markdown",
      "source": [
        "### Agent"
      ],
      "metadata": {
        "id": "TRJzFATqlpOp"
      }
    },
    {
      "cell_type": "markdown",
      "source": [
        "### Prompt\n"
      ],
      "metadata": {
        "id": "dmaGW6ncl07p"
      }
    },
    {
      "cell_type": "markdown",
      "source": [
        "### API Wrapper\n",
        "https://api.python.langchain.com/en/latest/utilities/langchain_community.utilities.google_finance.GoogleFinanceAPIWrapper.html"
      ],
      "metadata": {
        "id": "tVTi0i6-m2-k"
      }
    },
    {
      "cell_type": "code",
      "source": [
        "from langchain.agents import AgentType, initialize_agent, load_tools\n",
        "from langchain_openai import OpenAI\n",
        "\n",
        "# os.environ[\"OPENAI_API_KEY\"] = \"\"\n",
        "os.environ[\"SERP_API_KEY\"] = \"6c2c8915539df8ed1c950c53854a2f1806ac205cecebbb6aaeb4ac39426cecd6\"\n",
        "llm = OpenAI()\n",
        "tools = load_tools([\"google-scholar\", \"google-finance\"], llm=llm)\n",
        "agent = initialize_agent(\n",
        "    tools, llm, agent=AgentType.ZERO_SHOT_REACT_DESCRIPTION, verbose=True\n",
        ")"
      ],
      "metadata": {
        "id": "w4Jg6GhaoHRp"
      },
      "execution_count": 12,
      "outputs": []
    },
    {
      "cell_type": "code",
      "source": [
        "agent.run(\"Forcast Nvidia's stock in this week\")"
      ],
      "metadata": {
        "id": "LQjM4COKpqav",
        "outputId": "f599113d-861c-41a6-fabb-6471866c88d1",
        "colab": {
          "base_uri": "https://localhost:8080/",
          "height": 1000
        }
      },
      "execution_count": 13,
      "outputs": [
        {
          "output_type": "stream",
          "name": "stdout",
          "text": [
            "\n",
            "\n",
            "\u001b[1m> Entering new AgentExecutor chain...\u001b[0m\n",
            "\u001b[32;1m\u001b[1;3m I will need to research and analyze Nvidia's stock performance\n",
            "Action: google_finance\n",
            "Action Input: Nvidia stock\u001b[0m\n",
            "Observation: \u001b[33;1m\u001b[1;3m\n",
            "Query: Nvidia stock\n",
            "No summary information\n",
            "europe: price = 18774.71, movement = Up\n",
            "asia: price = 38875.28, movement = Down\n",
            "\u001b[0m\n",
            "Thought:\u001b[32;1m\u001b[1;3m I should also look at recent news articles about Nvidia\n",
            "Action: google_news\n",
            "Action Input: Nvidia\u001b[0m\n",
            "Observation: google_news is not a valid tool, try one of [google_scholar, google_finance].\n",
            "Thought:\u001b[32;1m\u001b[1;3m I will try using google_scholar instead\n",
            "Action: google_scholar\n",
            "Action Input: Nvidia stock performance\u001b[0m\n",
            "Observation: \u001b[36;1m\u001b[1;3mTitle: Nvidia's Stock Returns Prediction Using Machine Learning Techniques for Time Series Forecasting Problem\n",
            "Authors: M Chlebus,M Woźniak\n",
            "Summary: M Chlebus, M Dyczko, M Woźniak - Central European Economic …, 2021 - sciendo.com\n",
            "Total-Citations: 7\n",
            "\n",
            "Title: Predicting NVIDIA's Next-Day Stock Price: A Comparative Analysis of LSTM, MLP, ARIMA, and ARIMA-GARCH Models\n",
            "Authors: C Yan\n",
            "Summary: Y Xing, C Yan, CC Xie - arXiv preprint arXiv:2405.08284, 2024 - arxiv.org\n",
            "Total-Citations: 1\n",
            "\n",
            "Title: NVIDIA Stock Price Prediction by Machine Learning\n",
            "Authors: \n",
            "Summary: J Tan - Highlights in Business, Economics and Management, 2024 - drpress.org\n",
            "Total-Citations: \n",
            "\n",
            "Title: MACHINE LEARNING-BASED NVIDIA STOCK PRICE PREDICTION USING AUTOTS\n",
            "Authors: R Shamim,T Agarwal\n",
            "Summary: R Shamim, T Agarwal - CONNECTING - researchgate.net\n",
            "Total-Citations: \n",
            "\n",
            "Title: Stock Data Analysis of Competing Companies in Competitive Market: The Case of NVIDIA Corporation\n",
            "Authors: \n",
            "Summary: L Qi - Highlights in Science, Engineering and Technology, 2024 - drpress.org\n",
            "Total-Citations: \n",
            "\n",
            "Title: Research on Nvidia Investment Strategies and Analysis\n",
            "Authors: \n",
            "Summary: S Chen - Highlights in Business, Economics and Management, 2024 - drpress.org\n",
            "Total-Citations: \n",
            "\n",
            "Title: The Research of NVIDIA Stock Price Prediction Based on LSTM And ARIMA Model\n",
            "Authors: \n",
            "Summary: Z Yang, Z Wang - Highlights in Business, Economics and Management, 2024 - drpress.org\n",
            "Total-Citations: \n",
            "\n",
            "Title: A high performance computing for AOM stock trading order matching using GPU\n",
            "Authors: \n",
            "Summary: K Rungraung, P Uthayopas - 2013 International Computer …, 2013 - ieeexplore.ieee.org\n",
            "Total-Citations: 3\n",
            "\n",
            "Title: StockWatch: After $50 M from Nvidia, Investors Bullish on Recursion: Avrobio soars on layoffs and strategic review; Theseus plunges after halting development of lead …\n",
            "Authors: \n",
            "Summary: A Philippidis - GEN Edge, 2023 - liebertpub.com\n",
            "Total-Citations: \n",
            "\n",
            "Title: High-performance quasi-monte carlo financial simulation: FPGA vs. GPP vs. GPU\n",
            "Authors: X Tian,K Benkrid\n",
            "Summary: X Tian, K Benkrid - … on Reconfigurable Technology and Systems (TRETS …, 2010 - dl.acm.org\n",
            "Total-Citations: 82\u001b[0m\n",
            "Thought:\u001b[32;1m\u001b[1;3m Based on the number of citations and the relevance of the articles, it seems that using machine learning techniques to predict Nvidia's stock performance may yield the most accurate results.\n",
            "Final Answer: It is difficult to predict the exact stock performance of Nvidia in a week, but using machine learning techniques to analyze and forecast their stock may provide the most accurate results. There is also potential to use FPGA, GPP, and GPU technology to improve financial simulations for companies like Nvidia.\u001b[0m\n",
            "\n",
            "\u001b[1m> Finished chain.\u001b[0m\n"
          ]
        },
        {
          "output_type": "execute_result",
          "data": {
            "text/plain": [
              "'It is difficult to predict the exact stock performance of Nvidia in a week, but using machine learning techniques to analyze and forecast their stock may provide the most accurate results. There is also potential to use FPGA, GPP, and GPU technology to improve financial simulations for companies like Nvidia.'"
            ],
            "application/vnd.google.colaboratory.intrinsic+json": {
              "type": "string"
            }
          },
          "metadata": {},
          "execution_count": 13
        }
      ]
    }
  ]
}