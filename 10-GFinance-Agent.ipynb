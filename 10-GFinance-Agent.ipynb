{
  "nbformat": 4,
  "nbformat_minor": 0,
  "metadata": {
    "colab": {
      "provenance": [],
      "gpuType": "T4",
      "authorship_tag": "ABX9TyNFTSFeop//sd+FiNPwhlc9",
      "include_colab_link": true
    },
    "kernelspec": {
      "name": "python3",
      "display_name": "Python 3"
    },
    "language_info": {
      "name": "python"
    },
    "accelerator": "GPU"
  },
  "cells": [
    {
      "cell_type": "markdown",
      "metadata": {
        "id": "view-in-github",
        "colab_type": "text"
      },
      "source": [
        "<a href=\"https://colab.research.google.com/github/JSJeong-me/GPT-Agent/blob/main/10-GFinance-Agent.ipynb\" target=\"_parent\"><img src=\"https://colab.research.google.com/assets/colab-badge.svg\" alt=\"Open In Colab\"/></a>"
      ]
    },
    {
      "cell_type": "code",
      "source": [
        "!echo \"OPENAI_API_KEY=\" >> .env\n",
        "#@markdown https://serpapi.com/manage-api-key\n",
        "#@markdown 구글 검색하기 위해서 필요 (월 100회 무료)\n",
        "!echo \"SERPAPI_API_KEY=\" >> .env\n",
        "!source /content/.env"
      ],
      "metadata": {
        "id": "UYFEQPSx9LgN"
      },
      "execution_count": 10,
      "outputs": []
    },
    {
      "cell_type": "code",
      "source": [
        "!pip install python-dotenv"
      ],
      "metadata": {
        "colab": {
          "base_uri": "https://localhost:8080/"
        },
        "id": "Qfs6iPKZQrP5",
        "outputId": "7a9dbb47-7f5d-42f9-a1b2-3f523f707f01"
      },
      "execution_count": 2,
      "outputs": [
        {
          "output_type": "stream",
          "name": "stdout",
          "text": [
            "Collecting python-dotenv\n",
            "  Downloading python_dotenv-1.0.1-py3-none-any.whl (19 kB)\n",
            "Installing collected packages: python-dotenv\n",
            "Successfully installed python-dotenv-1.0.1\n"
          ]
        }
      ]
    },
    {
      "cell_type": "code",
      "source": [
        "import os\n",
        "from dotenv import load_dotenv\n",
        "\n",
        "# Load environment variables from .env file\n",
        "load_dotenv()\n",
        "# Access the API key using the variable name defined in the .env file\n",
        "api_key = os.getenv(\"OPENAI_API_KEY\")\n",
        "serpapi_key = os.getenv(\"SERPAPI_API_KEY\")"
      ],
      "metadata": {
        "id": "ZrKYrDrFQtZy"
      },
      "execution_count": 14,
      "outputs": []
    },
    {
      "cell_type": "code",
      "source": [
        "!pip install --upgrade --quiet  google-search-results"
      ],
      "metadata": {
        "id": "-XXEzH6V-FKe",
        "outputId": "4a75a7a2-b0a3-4300-c9c3-2d2ca29f168f",
        "colab": {
          "base_uri": "https://localhost:8080/"
        }
      },
      "execution_count": 4,
      "outputs": [
        {
          "output_type": "stream",
          "name": "stdout",
          "text": [
            "  Preparing metadata (setup.py) ... \u001b[?25l\u001b[?25hdone\n",
            "  Building wheel for google-search-results (setup.py) ... \u001b[?25l\u001b[?25hdone\n"
          ]
        }
      ]
    },
    {
      "cell_type": "code",
      "source": [
        "!pip install openai langchain_openai langchain[llms] langchain_core langchain_community"
      ],
      "metadata": {
        "id": "oUjS4BMyQyt4"
      },
      "execution_count": null,
      "outputs": []
    },
    {
      "cell_type": "code",
      "source": [
        "import os\n",
        "\n",
        "from langchain_community.tools.google_finance import GoogleFinanceQueryRun\n",
        "from langchain_community.utilities.google_finance import GoogleFinanceAPIWrapper\n",
        "\n",
        "\n",
        "tool = GoogleFinanceQueryRun(api_wrapper=GoogleFinanceAPIWrapper())"
      ],
      "metadata": {
        "id": "voPwyOcxj2mN"
      },
      "execution_count": 15,
      "outputs": []
    },
    {
      "cell_type": "code",
      "source": [
        "tool.run(\"Nvidia\")"
      ],
      "metadata": {
        "colab": {
          "base_uri": "https://localhost:8080/",
          "height": 54
        },
        "id": "uDz4as3dkA3L",
        "outputId": "27f21d59-3fa6-4112-b4da-469f6f36a5b5"
      },
      "execution_count": 16,
      "outputs": [
        {
          "output_type": "execute_result",
          "data": {
            "text/plain": [
              "'\\nQuery: Nvidia\\nstock: NVDA:NASDAQ\\nprice: $1,140.59\\npercentage: 7.13\\nmovement: Up\\nus: price = 38852.86, movement = Down\\neurope: price = 18677.87, movement = Down\\nasia: price = 38541.95, movement = Down\\n'"
            ],
            "application/vnd.google.colaboratory.intrinsic+json": {
              "type": "string"
            }
          },
          "metadata": {},
          "execution_count": 16
        }
      ]
    },
    {
      "cell_type": "code",
      "source": [
        "tool.run({\"query\": \"Nvidia\"})"
      ],
      "metadata": {
        "colab": {
          "base_uri": "https://localhost:8080/",
          "height": 54
        },
        "id": "QUTXt_Wvlfyo",
        "outputId": "4f2a4336-a625-4acf-fda7-f2c7df5e21dc"
      },
      "execution_count": 17,
      "outputs": [
        {
          "output_type": "execute_result",
          "data": {
            "text/plain": [
              "'\\nQuery: Nvidia\\nstock: NVDA:NASDAQ\\nprice: $1,140.59\\npercentage: 7.13\\nmovement: Up\\nus: price = 38852.86, movement = Down\\neurope: price = 18677.87, movement = Down\\nasia: price = 38541.95, movement = Down\\n'"
            ],
            "application/vnd.google.colaboratory.intrinsic+json": {
              "type": "string"
            }
          },
          "metadata": {},
          "execution_count": 17
        }
      ]
    },
    {
      "cell_type": "markdown",
      "source": [
        "### Agent"
      ],
      "metadata": {
        "id": "TRJzFATqlpOp"
      }
    },
    {
      "cell_type": "markdown",
      "source": [
        "### Prompt\n"
      ],
      "metadata": {
        "id": "dmaGW6ncl07p"
      }
    },
    {
      "cell_type": "markdown",
      "source": [
        "### API Wrapper\n",
        "https://api.python.langchain.com/en/latest/utilities/langchain_community.utilities.google_finance.GoogleFinanceAPIWrapper.html"
      ],
      "metadata": {
        "id": "tVTi0i6-m2-k"
      }
    },
    {
      "cell_type": "code",
      "source": [
        "from langchain.agents import AgentType, initialize_agent, load_tools\n",
        "from langchain_openai import OpenAI\n",
        "\n",
        "# os.environ[\"OPENAI_API_KEY\"] = \"\"\n",
        "os.environ[\"SERP_API_KEY\"] = \"\"\n",
        "llm = OpenAI()\n",
        "tools = load_tools([\"google-scholar\", \"google-finance\"], llm=llm)\n",
        "agent = initialize_agent(\n",
        "    tools, llm, agent=AgentType.ZERO_SHOT_REACT_DESCRIPTION, verbose=True\n",
        ")"
      ],
      "metadata": {
        "id": "w4Jg6GhaoHRp",
        "outputId": "f88ac9df-a510-4eeb-e546-42d942a0253f",
        "colab": {
          "base_uri": "https://localhost:8080/"
        }
      },
      "execution_count": 19,
      "outputs": [
        {
          "output_type": "stream",
          "name": "stderr",
          "text": [
            "/usr/local/lib/python3.10/dist-packages/langchain_core/_api/deprecation.py:119: LangChainDeprecationWarning: The function `initialize_agent` was deprecated in LangChain 0.1.0 and will be removed in 0.3.0. Use Use new agent constructor methods like create_react_agent, create_json_agent, create_structured_chat_agent, etc. instead.\n",
            "  warn_deprecated(\n"
          ]
        }
      ]
    },
    {
      "cell_type": "code",
      "source": [
        "agent.run(\"Forcast Nvidia's stock in this week\")"
      ],
      "metadata": {
        "colab": {
          "base_uri": "https://localhost:8080/",
          "height": 1000
        },
        "id": "LQjM4COKpqav",
        "outputId": "e288fd89-d510-4a7d-ca42-7bb0e007f556"
      },
      "execution_count": 20,
      "outputs": [
        {
          "output_type": "stream",
          "name": "stderr",
          "text": [
            "/usr/local/lib/python3.10/dist-packages/langchain_core/_api/deprecation.py:119: LangChainDeprecationWarning: The method `Chain.run` was deprecated in langchain 0.1.0 and will be removed in 0.3.0. Use invoke instead.\n",
            "  warn_deprecated(\n"
          ]
        },
        {
          "output_type": "stream",
          "name": "stdout",
          "text": [
            "\n",
            "\n",
            "\u001b[1m> Entering new AgentExecutor chain...\u001b[0m\n",
            "\u001b[32;1m\u001b[1;3m I need to find information about Nvidia's stock\n",
            "Action: google_finance\n",
            "Action Input: Nvidia stock\u001b[0m\n",
            "Observation: \u001b[33;1m\u001b[1;3m\n",
            "Query: Nvidia stock\n",
            "No summary information\n",
            "us: price = 38852.86, movement = Down\n",
            "europe: price = 18677.87, movement = Down\n",
            "asia: price = 38528.09, movement = Down\n",
            "\u001b[0m\n",
            "Thought:\u001b[32;1m\u001b[1;3m I need to find forecast information about Nvidia's stock\n",
            "Action: google_finance\n",
            "Action Input: Nvidia stock forecast\u001b[0m\n",
            "Observation: \u001b[33;1m\u001b[1;3m\n",
            "Query: Nvidia stock forecast\n",
            "No summary information\n",
            "us: price = 38852.86, movement = Down\n",
            "europe: price = 18677.87, movement = Down\n",
            "asia: price = 38528.09, movement = Down\n",
            "\u001b[0m\n",
            "Thought:\u001b[32;1m\u001b[1;3m I should also check Google Scholar for any research on Nvidia's stock\n",
            "Action: google_scholar\n",
            "Action Input: Nvidia stock\u001b[0m\n",
            "Observation: \u001b[36;1m\u001b[1;3mTitle: Predicting NVIDIA's Next-Day Stock Price: A Comparative Analysis of LSTM, MLP, ARIMA, and ARIMA-GARCH Models\n",
            "Authors: C Yan\n",
            "Summary: Y Xing, C Yan, CC Xie - arXiv preprint arXiv:2405.08284, 2024 - arxiv.org\n",
            "Total-Citations: 1\n",
            "\n",
            "Title: Nvidia's Stock Returns Prediction Using Machine Learning Techniques for Time Series Forecasting Problem\n",
            "Authors: M Chlebus,M Woźniak\n",
            "Summary: M Chlebus, M Dyczko, M Woźniak - Central European Economic …, 2021 - sciendo.com\n",
            "Total-Citations: 8\n",
            "\n",
            "Title: StockWatch: After $50 M from Nvidia, Investors Bullish on Recursion: Avrobio soars on layoffs and strategic review; Theseus plunges after halting development of lead …\n",
            "Authors: \n",
            "Summary: A Philippidis - GEN Edge, 2023 - liebertpub.com\n",
            "Total-Citations: \n",
            "\n",
            "Title: MACHINE LEARNING-BASED NVIDIA STOCK PRICE PREDICTION USING AUTOTS\n",
            "Authors: R Shamim,T Agarwal\n",
            "Summary: R Shamim, T Agarwal - CONNECTING - researchgate.net\n",
            "Total-Citations: \n",
            "\n",
            "Title: NVIDIA Stock Price Prediction by Machine Learning\n",
            "Authors: \n",
            "Summary: J Tan - Highlights in Business, Economics and Management, 2024 - drpress.org\n",
            "Total-Citations: \n",
            "\n",
            "Title: Nvidia, Spotify Lead Five Stocks Near Buy Points.\n",
            "Authors: \n",
            "Summary: J Graham - Investor's Business Daily, 2024 - go.gale.com\n",
            "Total-Citations: \n",
            "\n",
            "Title: Stock Data Analysis of Competing Companies in Competitive Market: The Case of NVIDIA Corporation\n",
            "Authors: \n",
            "Summary: L Qi - Highlights in Science, Engineering and Technology, 2024 - drpress.org\n",
            "Total-Citations: \n",
            "\n",
            "Title: StockWatch: Nvidia Shares Leap Again after Reporting Record Revenues: Results lend credence to Goldman Sachs analyst's boast that the AI giant trades 'the most …\n",
            "Authors: \n",
            "Summary: A Philippidis - GEN Edge, 2024 - liebertpub.com\n",
            "Total-Citations: \n",
            "\n",
            "Title: StockWatch: Nvidia Jumps 24% on Recursion, Amgen AI Partnerships: Prime Medicine tumbles 20% on analyst downgrade tied to gene editing question: Are …\n",
            "Authors: \n",
            "Summary: A Philippidis - GEN Edge, 2024 - liebertpub.com\n",
            "Total-Citations: \n",
            "\n",
            "Title: Stock price analysis with deep-learning models\n",
            "Authors: N Pérez,D Benítez\n",
            "Summary: J Arosemena, N Pérez, D Benítez… - … on Applications of …, 2021 - ieeexplore.ieee.org\n",
            "Total-Citations: 4\u001b[0m\n",
            "Thought:\u001b[32;1m\u001b[1;3m I should also check Google Scholar for any research on Nvidia's stock forecast\n",
            "Action: google_scholar\n",
            "Action Input: Nvidia stock forecast\u001b[0m\n",
            "Observation: \u001b[36;1m\u001b[1;3mTitle: Nvidia's Stock Returns Prediction Using Machine Learning Techniques for Time Series Forecasting Problem\n",
            "Authors: M Chlebus,M Woźniak\n",
            "Summary: M Chlebus, M Dyczko, M Woźniak - Central European Economic …, 2021 - sciendo.com\n",
            "Total-Citations: 8\n",
            "\n",
            "Title: Predicting NVIDIA's Next-Day Stock Price: A Comparative Analysis of LSTM, MLP, ARIMA, and ARIMA-GARCH Models\n",
            "Authors: C Yan\n",
            "Summary: Y Xing, C Yan, CC Xie - arXiv preprint arXiv:2405.08284, 2024 - arxiv.org\n",
            "Total-Citations: 1\n",
            "\n",
            "Title: NVIDIA Stock Price Prediction by Machine Learning\n",
            "Authors: \n",
            "Summary: J Tan - Highlights in Business, Economics and Management, 2024 - drpress.org\n",
            "Total-Citations: \n",
            "\n",
            "Title: MACHINE LEARNING-BASED NVIDIA STOCK PRICE PREDICTION USING AUTOTS\n",
            "Authors: R Shamim,T Agarwal\n",
            "Summary: R Shamim, T Agarwal - CONNECTING - researchgate.net\n",
            "Total-Citations: \n",
            "\n",
            "Title: The Research of NVIDIA Stock Price Prediction Based on LSTM And ARIMA Model\n",
            "Authors: \n",
            "Summary: Z Yang, Z Wang - Highlights in Business, Economics and Management, 2024 - drpress.org\n",
            "Total-Citations: \n",
            "\n",
            "Title: Stock price analysis with deep-learning models\n",
            "Authors: N Pérez,D Benítez\n",
            "Summary: J Arosemena, N Pérez, D Benítez… - … on Applications of …, 2021 - ieeexplore.ieee.org\n",
            "Total-Citations: 4\n",
            "\n",
            "Title: Benchmarking TPU and GPU for Stock Price Forecasting Using LSTM Model Development\n",
            "Authors: TO Kehinde,SH Chung\n",
            "Summary: TO Kehinde, SH Chung, FTS Chan - Science and Information Conference, 2023 - Springer\n",
            "Total-Citations: 1\n",
            "\n",
            "Title: Stock Market Analysis using Time Series Data Analytics Techniques\n",
            "Authors: K Vengatesan,A Kumar,A Kumar\n",
            "Summary: K Vengatesan, A Kumar, A Kumar… - 2021 International …, 2021 - ieeexplore.ieee.org\n",
            "Total-Citations: 3\n",
            "\n",
            "Title: Enhancing Stock Market Forecasts with Double Deep Q-Network in Volatile Stock Market Environments\n",
            "Authors: G Papageorgiou,C Tjortjis\n",
            "Summary: G Papageorgiou, D Gkaimanis, C Tjortjis - Electronics, 2024 - mdpi.com\n",
            "Total-Citations: \n",
            "\n",
            "Title: CUDA parallel computing framework for stock market prediction using K-means clustering\n",
            "Authors: \n",
            "Summary: S Kumari, N Patil, P Nankar… - … Conference on Smart …, 2020 - ieeexplore.ieee.org\n",
            "Total-Citations: 5\u001b[0m\n",
            "Thought:\u001b[32;1m\u001b[1;3m I now know the final answer\n",
            "Final Answer: Based on the research and analysis from Google Scholar and Google Finance, it is difficult to accurately forecast Nvidia's stock for this week. However, there are multiple studies and models utilizing machine learning techniques that have shown potential for predicting Nvidia's stock in the future. This suggests that further research and development of these models may lead to more accurate forecasts for Nvidia's stock.\u001b[0m\n",
            "\n",
            "\u001b[1m> Finished chain.\u001b[0m\n"
          ]
        },
        {
          "output_type": "execute_result",
          "data": {
            "text/plain": [
              "\"Based on the research and analysis from Google Scholar and Google Finance, it is difficult to accurately forecast Nvidia's stock for this week. However, there are multiple studies and models utilizing machine learning techniques that have shown potential for predicting Nvidia's stock in the future. This suggests that further research and development of these models may lead to more accurate forecasts for Nvidia's stock.\""
            ],
            "application/vnd.google.colaboratory.intrinsic+json": {
              "type": "string"
            }
          },
          "metadata": {},
          "execution_count": 20
        }
      ]
    }
  ]
}