{
  "nbformat": 4,
  "nbformat_minor": 0,
  "metadata": {
    "colab": {
      "provenance": [],
      "authorship_tag": "ABX9TyMbtZheV4u3RMaPYHVo5I7k",
      "include_colab_link": true
    },
    "kernelspec": {
      "name": "python3",
      "display_name": "Python 3"
    },
    "language_info": {
      "name": "python"
    }
  },
  "cells": [
    {
      "cell_type": "markdown",
      "metadata": {
        "id": "view-in-github",
        "colab_type": "text"
      },
      "source": [
        "<a href=\"https://colab.research.google.com/github/JSJeong-me/GPT-Agent/blob/main/OpenAI/00-Naver-Crawling.ipynb\" target=\"_parent\"><img src=\"https://colab.research.google.com/assets/colab-badge.svg\" alt=\"Open In Colab\"/></a>"
      ]
    },
    {
      "cell_type": "code",
      "execution_count": 6,
      "metadata": {
        "id": "lw9gLqHxUebY"
      },
      "outputs": [],
      "source": [
        "# Colab: OpenAI Python SDK 설치\n",
        "!pip -q install --upgrade openai\n",
        "\n",
        "import os, json, re\n",
        "from getpass import getpass\n",
        "from openai import OpenAI\n",
        "\n",
        "# 안전하게 API Key 입력\n",
        "if not os.getenv(\"OPENAI_API_KEY\"):\n",
        "    os.environ[\"OPENAI_API_KEY\"] = getpass(\"Enter your OPENAI_API_KEY: \")\n",
        "\n",
        "client = OpenAI(api_key=os.getenv(\"OPENAI_API_KEY\"))\n",
        "MODEL = \"gpt-4o-mini\"  # Use gpt-4o-mini which supports the search tool"
      ]
    },
    {
      "cell_type": "code",
      "source": [
        "SYSTEM_PROMPT = \"\"\"\\\n",
        "당신은 신뢰성 높은 한국어 웹 리서처입니다.\n",
        "반드시 naver.com(하위 도메인 포함: weather.naver.com 등)의 페이지에서만 사실을 인용하세요.\n",
        "검색어는 한국어로 사용하고, 목표 지역은 '영등포구 여의도동'입니다.\n",
        "원문 페이지에서 '미세먼지(PM10)'와 '초미세먼지(PM2.5)'의 현재 수치와 등급(좋음/보통/나쁨 등), 단위(㎍/㎥), 관측 시각을 추출하세요.\n",
        "가장 구체적인 행정동(여의도동) 기준이 우선이며, 불가하면 '영등포구' 수준을 사용하세요.\n",
        "반드시 아래 JSON 스키마만 출력하세요(추가 텍스트 금지).\n",
        "\n",
        "{\n",
        "  \"pm10_value\": <number or null>,\n",
        "  \"pm10_grade\": \"<string or null>\",\n",
        "  \"pm25_value\": <number or null>,\n",
        "  \"pm25_grade\": \"<string or null>\",\n",
        "  \"unit\": \"<string or null>\",\n",
        "  \"observed_at\": \"<string or null>\",\n",
        "  \"source_url\": \"<string>\",\n",
        "  \"source_title\": \"<string>\"\n",
        "}\n",
        "\n",
        "가능하면 값을 모두 채우되, 원문에 없는 항목은 null로 두세요.\n",
        "\"\"\"\n",
        "\n",
        "USER_PROMPT_TEMPLATE = \"\"\"\\\n",
        "다음을 수행:\n",
        "1) naver.com 도메인에서만 검색/열람.\n",
        "2) '{loc} 미세먼지' 또는 '{loc} 초미세먼지' 등 한국어 쿼리 사용.\n",
        "3) 가장 신뢰되는 네이버 공식/날씨 페이지를 열람하여 현재 수치를 파싱.\n",
        "4) 지정된 JSON만 반환(불필요한 설명 금지).\n",
        "\"\"\"\n",
        "\n",
        "\n",
        "def _strip_fence(text: str) -> str:\n",
        "    \"\"\" ```json ... ``` 같은 코드펜스를 제거 \"\"\"\n",
        "    m = re.match(r\"^\\s*```(?:json)?\\s*([\\s\\S]*?)\\s*```\\s*$\", text.strip(), re.IGNORECASE)\n",
        "    return m.group(1).strip() if m else text.strip()\n",
        "\n",
        "\n",
        "def fetch_air_quality_from_naver(location: str = \"영등포구 여의도동\") -> dict:\n",
        "    \"\"\"Search Preview 모델로 naver.com에서 미세먼지 정보를 JSON으로 수집\"\"\"\n",
        "    resp = client.responses.create(\n",
        "        model=MODEL,\n",
        "        input=[\n",
        "            {\"role\": \"system\", \"content\": SYSTEM_PROMPT},\n",
        "            {\"role\": \"user\", \"content\": USER_PROMPT_TEMPLATE.format(loc=location)},\n",
        "        ],\n",
        "    )\n",
        "\n",
        "    raw = resp.output_text or \"\"\n",
        "    raw = _strip_fence(raw)\n",
        "\n",
        "    # JSON 파싱 시도\n",
        "    try:\n",
        "        data = json.loads(raw)\n",
        "    except json.JSONDecodeError:\n",
        "        data = {\n",
        "            \"pm10_value\": None,\n",
        "            \"pm10_grade\": None,\n",
        "            \"pm25_value\": None,\n",
        "            \"pm25_grade\": None,\n",
        "            \"unit\": None,\n",
        "            \"observed_at\": None,\n",
        "            \"source_url\": None,\n",
        "            \"source_title\": None,\n",
        "            \"_raw\": raw,  # 디버깅용\n",
        "        }\n",
        "\n",
        "    # 스키마 키 보정(누락 키가 있더라도 항상 제공)\n",
        "    for k in [\n",
        "        \"pm10_value\", \"pm10_grade\",\n",
        "        \"pm25_value\", \"pm25_grade\",\n",
        "        \"unit\", \"observed_at\",\n",
        "        \"source_url\", \"source_title\"\n",
        "    ]:\n",
        "        data.setdefault(k, None)\n",
        "\n",
        "    return data\n"
      ],
      "metadata": {
        "id": "EIU2ViMiUiZ-"
      },
      "execution_count": 7,
      "outputs": []
    },
    {
      "cell_type": "code",
      "source": [
        "result = fetch_air_quality_from_naver(\"영등포구 여의도동\")\n",
        "print(json.dumps(result, ensure_ascii=False, indent=2))\n"
      ],
      "metadata": {
        "colab": {
          "base_uri": "https://localhost:8080/"
        },
        "id": "vz19KH_qUxwr",
        "outputId": "1621476a-5335-4af4-f538-330f21e7c5ed"
      },
      "execution_count": 8,
      "outputs": [
        {
          "output_type": "stream",
          "name": "stdout",
          "text": [
            "{\n",
            "  \"pm10_value\": 35,\n",
            "  \"pm10_grade\": \"보통\",\n",
            "  \"pm25_value\": 17,\n",
            "  \"pm25_grade\": \"보통\",\n",
            "  \"unit\": \"㎍/㎥\",\n",
            "  \"observed_at\": \"2023-10-10 10:00\",\n",
            "  \"source_url\": \"https://weather.naver.com/\",\n",
            "  \"source_title\": \"네이버 날씨\"\n",
            "}\n"
          ]
        }
      ]
    }
  ]
}