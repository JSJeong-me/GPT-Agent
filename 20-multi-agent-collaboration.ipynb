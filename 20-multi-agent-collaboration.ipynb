{
  "cells": [
    {
      "cell_type": "markdown",
      "metadata": {
        "id": "view-in-github",
        "colab_type": "text"
      },
      "source": [
        "<a href=\"https://colab.research.google.com/github/JSJeong-me/GPT-Agent/blob/main/20-multi-agent-collaboration.ipynb\" target=\"_parent\"><img src=\"https://colab.research.google.com/assets/colab-badge.svg\" alt=\"Open In Colab\"/></a>"
      ]
    },
    {
      "cell_type": "markdown",
      "id": "39fd1948-b5c3-48c4-b10e-2ae7e8c83334",
      "metadata": {
        "id": "39fd1948-b5c3-48c4-b10e-2ae7e8c83334"
      },
      "source": [
        "# Basic Multi-agent Collaboration\n",
        "\n",
        "A single agent can usually operate effectively using a handful of tools within a single domain, but even using powerful models like `gpt-4`, it can be less effective at using many tools.\n",
        "\n",
        "One way to approach complicated tasks is through a \"divide-and-conquer\" approach: create an specialized agent for each task or domain and route tasks to the correct \"expert\".\n",
        "\n",
        "This notebook (inspired by the paper [AutoGen: Enabling Next-Gen LLM Applications via Multi-Agent Conversation](https://arxiv.org/abs/2308.08155), by Wu, et. al.) shows one way to do this using LangGraph.\n",
        "\n",
        "The resulting graph will look something like the following diagram:\n",
        "\n",
        "![multi_agent diagram](https://github.com/langchain-ai/langgraph/blob/main/examples/multi_agent/img/simple_multi_agent_diagram.png?raw=1)\n",
        "\n",
        "Before we get started, a quick note: this and other multi-agent notebooks are designed to show _how_ you can implement certain design patterns in LangGraph. If the pattern suits your needs, we recommend combining it with some of the other fundamental patterns described elsewhere in the docs for best performance."
      ]
    },
    {
      "cell_type": "code",
      "source": [
        "!pip install python-dotenv"
      ],
      "metadata": {
        "id": "LlgTUcic0tR_"
      },
      "id": "LlgTUcic0tR_",
      "execution_count": null,
      "outputs": []
    },
    {
      "cell_type": "code",
      "source": [
        "import os\n",
        "from dotenv import load_dotenv\n",
        "\n",
        "# Load environment variables from .env file\n",
        "!echo \"OPENAI_API_KEY=sk\" >> .env\n",
        "!echo \"TAVILY_API_KEY=tvly-\" >> .env\n",
        "!echo \"LANGCHAIN_API_KEY=ls_\" >> .env\n",
        "!source /content/.env"
      ],
      "metadata": {
        "id": "4vXm-pCM0qlT"
      },
      "id": "4vXm-pCM0qlT",
      "execution_count": null,
      "outputs": []
    },
    {
      "cell_type": "code",
      "source": [
        "import os\n",
        "from dotenv import load_dotenv\n",
        "\n",
        "# Load environment variables from .env file\n",
        "load_dotenv()\n",
        "# Access the API key using the variable name defined in the .env file\n",
        "api_key = os.getenv(\"OPENAI_API_KEY\")\n",
        "api_key = os.getenv(\"TAVILY_API_KEY\")\n",
        "api_key = os.getenv(\"LANGCHAIN_API_KEY\")"
      ],
      "metadata": {
        "id": "wA15t4BACH8Y"
      },
      "id": "wA15t4BACH8Y",
      "execution_count": 3,
      "outputs": []
    },
    {
      "cell_type": "code",
      "source": [
        "# import os\n",
        "\n",
        "# api_key_openai = os.getenv(\"OPENAI_API_KEY\")\n",
        "# api_key_langchain = os.getenv(\"LANGCHAIN_API_KEY\")\n",
        "\n",
        "# print(f\"OPENAI_API_KEY: {api_key_openai}\")\n",
        "# print(f\"LANGCHAIN_API_KEY: {api_key_langchain}\")"
      ],
      "metadata": {
        "id": "Err5cncI1P6j"
      },
      "id": "Err5cncI1P6j",
      "execution_count": null,
      "outputs": []
    },
    {
      "cell_type": "code",
      "execution_count": 4,
      "id": "0d7b6dcc-c985-46e2-8457-7e6b0298b950",
      "metadata": {
        "id": "0d7b6dcc-c985-46e2-8457-7e6b0298b950"
      },
      "outputs": [],
      "source": [
        "%%capture --no-stderr\n",
        "%pip install -U langchain langchain_openai langsmith pandas langchain_experimental matplotlib langgraph langchain_core"
      ]
    },
    {
      "cell_type": "code",
      "execution_count": 5,
      "id": "743c19df-6da9-4d1e-b2d2-ea40080b9fdc",
      "metadata": {
        "id": "743c19df-6da9-4d1e-b2d2-ea40080b9fdc"
      },
      "outputs": [],
      "source": [
        "import getpass\n",
        "import os\n",
        "\n",
        "\n",
        "def _set_if_undefined(var: str):\n",
        "    if not os.environ.get(var):\n",
        "        os.environ[var] = getpass.getpass(f\"Please provide your {var}\")\n",
        "\n",
        "\n",
        "_set_if_undefined(\"OPENAI_API_KEY\")\n",
        "_set_if_undefined(\"LANGCHAIN_API_KEY\")\n",
        "_set_if_undefined(\"TAVILY_API_KEY\")\n",
        "\n",
        "# Optional, add tracing in LangSmith\n",
        "os.environ[\"LANGCHAIN_TRACING_V2\"] = \"true\"\n",
        "os.environ[\"LANGCHAIN_PROJECT\"] = \"Multi-agent Collaboration\""
      ]
    },
    {
      "cell_type": "markdown",
      "id": "5e4344a7-21df-4d54-90d2-9d19b3416ffb",
      "metadata": {
        "id": "5e4344a7-21df-4d54-90d2-9d19b3416ffb"
      },
      "source": [
        "## Create Agents\n",
        "\n",
        "The following helper functions will help create agents. These agents will then be nodes in the graph.\n",
        "\n",
        "You can skip ahead if you just want to see what the graph looks like."
      ]
    },
    {
      "cell_type": "code",
      "execution_count": 6,
      "id": "4325a10e-38dc-4a98-9004-e1525eaba377",
      "metadata": {
        "id": "4325a10e-38dc-4a98-9004-e1525eaba377"
      },
      "outputs": [],
      "source": [
        "from langchain_core.messages import (\n",
        "    BaseMessage,\n",
        "    ToolMessage,\n",
        "    HumanMessage,\n",
        ")\n",
        "from langchain_core.prompts import ChatPromptTemplate, MessagesPlaceholder\n",
        "from langgraph.graph import END, StateGraph\n",
        "\n",
        "\n",
        "def create_agent(llm, tools, system_message: str):\n",
        "    \"\"\"Create an agent.\"\"\"\n",
        "    prompt = ChatPromptTemplate.from_messages(\n",
        "        [\n",
        "            (\n",
        "                \"system\",\n",
        "                \"You are a helpful AI assistant, collaborating with other assistants.\"\n",
        "                \" Use the provided tools to progress towards answering the question.\"\n",
        "                \" If you are unable to fully answer, that's OK, another assistant with different tools \"\n",
        "                \" will help where you left off. Execute what you can to make progress.\"\n",
        "                \" If you or any of the other assistants have the final answer or deliverable,\"\n",
        "                \" prefix your response with FINAL ANSWER so the team knows to stop.\"\n",
        "                \" You have access to the following tools: {tool_names}.\\n{system_message}\",\n",
        "            ),\n",
        "            MessagesPlaceholder(variable_name=\"messages\"),\n",
        "        ]\n",
        "    )\n",
        "    prompt = prompt.partial(system_message=system_message)\n",
        "    prompt = prompt.partial(tool_names=\", \".join([tool.name for tool in tools]))\n",
        "    return prompt | llm.bind_tools(tools)"
      ]
    },
    {
      "cell_type": "markdown",
      "id": "b4b40de2-5dd4-4d5b-882e-577210723ff4",
      "metadata": {
        "id": "b4b40de2-5dd4-4d5b-882e-577210723ff4"
      },
      "source": [
        "## Define tools\n",
        "\n",
        "We will also define some tools that our agents will use in the future"
      ]
    },
    {
      "cell_type": "code",
      "execution_count": 7,
      "id": "ca076f3b-a729-4ca9-8f91-05c2ba58d610",
      "metadata": {
        "id": "ca076f3b-a729-4ca9-8f91-05c2ba58d610"
      },
      "outputs": [],
      "source": [
        "from langchain_core.tools import tool\n",
        "from typing import Annotated\n",
        "from langchain_experimental.utilities import PythonREPL\n",
        "from langchain_community.tools.tavily_search import TavilySearchResults\n",
        "\n",
        "tavily_tool = TavilySearchResults(max_results=5)\n",
        "\n",
        "# Warning: This executes code locally, which can be unsafe when not sandboxed\n",
        "\n",
        "repl = PythonREPL()\n",
        "\n",
        "\n",
        "@tool\n",
        "def python_repl(\n",
        "    code: Annotated[str, \"The python code to execute to generate your chart.\"]\n",
        "):\n",
        "    \"\"\"Use this to execute python code. If you want to see the output of a value,\n",
        "    you should print it out with `print(...)`. This is visible to the user.\"\"\"\n",
        "    try:\n",
        "        result = repl.run(code)\n",
        "    except BaseException as e:\n",
        "        return f\"Failed to execute. Error: {repr(e)}\"\n",
        "    result_str = f\"Successfully executed:\\n```python\\n{code}\\n```\\nStdout: {result}\"\n",
        "    return (\n",
        "        result_str + \"\\n\\nIf you have completed all tasks, respond with FINAL ANSWER.\"\n",
        "    )"
      ]
    },
    {
      "cell_type": "markdown",
      "id": "f1b54c0c-0b09-408b-abc5-86308929afb6",
      "metadata": {
        "id": "f1b54c0c-0b09-408b-abc5-86308929afb6"
      },
      "source": [
        "## Create graph\n",
        "\n",
        "Now that we've defined our tools and made some helper functions, will create the individual agents below and tell them how to talk to each other using LangGraph."
      ]
    },
    {
      "cell_type": "markdown",
      "id": "0c6a8c3c-86a0-46aa-b970-ab070fb787d9",
      "metadata": {
        "id": "0c6a8c3c-86a0-46aa-b970-ab070fb787d9"
      },
      "source": [
        "### Define State\n",
        "\n",
        "We first define the state of the graph. This will just a list of messages, along with a key to track the most recent sender"
      ]
    },
    {
      "cell_type": "code",
      "execution_count": 8,
      "id": "290c91d4-f6f4-443c-8181-233d39102974",
      "metadata": {
        "id": "290c91d4-f6f4-443c-8181-233d39102974"
      },
      "outputs": [],
      "source": [
        "import operator\n",
        "from typing import Annotated, Sequence, TypedDict\n",
        "\n",
        "from langchain_openai import ChatOpenAI\n",
        "from typing_extensions import TypedDict\n",
        "\n",
        "\n",
        "# This defines the object that is passed between each node\n",
        "# in the graph. We will create different nodes for each agent and tool\n",
        "class AgentState(TypedDict):\n",
        "    messages: Annotated[Sequence[BaseMessage], operator.add]\n",
        "    sender: str"
      ]
    },
    {
      "cell_type": "markdown",
      "id": "911a283e-ea04-40c1-b792-f9e5f7d81203",
      "metadata": {
        "id": "911a283e-ea04-40c1-b792-f9e5f7d81203"
      },
      "source": [
        "### Define Agent Nodes\n",
        "\n",
        "We now need to define the nodes. First, let's define the nodes for the agents."
      ]
    },
    {
      "cell_type": "code",
      "execution_count": 9,
      "id": "71b790ca-9cef-4b22-b469-4b1d5d8424d6",
      "metadata": {
        "id": "71b790ca-9cef-4b22-b469-4b1d5d8424d6"
      },
      "outputs": [],
      "source": [
        "import functools\n",
        "from langchain_core.messages import AIMessage\n",
        "\n",
        "\n",
        "# Helper function to create a node for a given agent\n",
        "def agent_node(state, agent, name):\n",
        "    result = agent.invoke(state)\n",
        "    # We convert the agent output into a format that is suitable to append to the global state\n",
        "    if isinstance(result, ToolMessage):\n",
        "        pass\n",
        "    else:\n",
        "        result = AIMessage(**result.dict(exclude={\"type\", \"name\"}), name=name)\n",
        "    return {\n",
        "        \"messages\": [result],\n",
        "        # Since we have a strict workflow, we can\n",
        "        # track the sender so we know who to pass to next.\n",
        "        \"sender\": name,\n",
        "    }\n",
        "\n",
        "\n",
        "llm = ChatOpenAI(model=\"gpt-4-1106-preview\")\n",
        "\n",
        "# Research agent and node\n",
        "research_agent = create_agent(\n",
        "    llm,\n",
        "    [tavily_tool],\n",
        "    system_message=\"You should provide accurate data for the chart_generator to use.\",\n",
        ")\n",
        "research_node = functools.partial(agent_node, agent=research_agent, name=\"Researcher\")\n",
        "\n",
        "# chart_generator\n",
        "chart_agent = create_agent(\n",
        "    llm,\n",
        "    [python_repl],\n",
        "    system_message=\"Any charts you display will be visible by the user.\",\n",
        ")\n",
        "chart_node = functools.partial(agent_node, agent=chart_agent, name=\"chart_generator\")"
      ]
    },
    {
      "cell_type": "markdown",
      "id": "71c7f1b2-24a3-4340-bcb2-feb22e344fb6",
      "metadata": {
        "id": "71c7f1b2-24a3-4340-bcb2-feb22e344fb6"
      },
      "source": [
        "### Define Tool Node\n",
        "\n",
        "We now define a node to run the tools"
      ]
    },
    {
      "cell_type": "code",
      "execution_count": 10,
      "id": "d9a79c76-5c7c-42f6-91cf-635bc8305804",
      "metadata": {
        "id": "d9a79c76-5c7c-42f6-91cf-635bc8305804"
      },
      "outputs": [],
      "source": [
        "from langgraph.prebuilt import ToolNode\n",
        "\n",
        "tools = [tavily_tool, python_repl]\n",
        "tool_node = ToolNode(tools)"
      ]
    },
    {
      "cell_type": "markdown",
      "id": "bcb30498-dbc4-4b20-980f-da08ebc9da56",
      "metadata": {
        "id": "bcb30498-dbc4-4b20-980f-da08ebc9da56"
      },
      "source": [
        "### Define Edge Logic\n",
        "\n",
        "We can define some of the edge logic that is needed to decide what to do based on results of the agents"
      ]
    },
    {
      "cell_type": "code",
      "execution_count": 11,
      "id": "4f4b4d37-e8a3-4abb-8d42-eaea26016f35",
      "metadata": {
        "id": "4f4b4d37-e8a3-4abb-8d42-eaea26016f35"
      },
      "outputs": [],
      "source": [
        "# Either agent can decide to end\n",
        "from typing import Literal\n",
        "\n",
        "\n",
        "def router(state) -> Literal[\"call_tool\", \"__end__\", \"continue\"]:\n",
        "    # This is the router\n",
        "    messages = state[\"messages\"]\n",
        "    last_message = messages[-1]\n",
        "    if last_message.tool_calls:\n",
        "        # The previous agent is invoking a tool\n",
        "        return \"call_tool\"\n",
        "    if \"FINAL ANSWER\" in last_message.content:\n",
        "        # Any agent decided the work is done\n",
        "        return \"__end__\"\n",
        "    return \"continue\""
      ]
    },
    {
      "cell_type": "markdown",
      "id": "e9359c34-e191-43a2-a3d4-f2dea636dfd2",
      "metadata": {
        "id": "e9359c34-e191-43a2-a3d4-f2dea636dfd2"
      },
      "source": [
        "### Define the Graph\n",
        "\n",
        "We can now put it all together and define the graph!"
      ]
    },
    {
      "cell_type": "code",
      "execution_count": 12,
      "id": "4dce3901-6ad5-4df5-8528-6e865cf96cb0",
      "metadata": {
        "id": "4dce3901-6ad5-4df5-8528-6e865cf96cb0"
      },
      "outputs": [],
      "source": [
        "workflow = StateGraph(AgentState)\n",
        "\n",
        "workflow.add_node(\"Researcher\", research_node)\n",
        "workflow.add_node(\"chart_generator\", chart_node)\n",
        "workflow.add_node(\"call_tool\", tool_node)\n",
        "\n",
        "workflow.add_conditional_edges(\n",
        "    \"Researcher\",\n",
        "    router,\n",
        "    {\"continue\": \"chart_generator\", \"call_tool\": \"call_tool\", \"__end__\": END},\n",
        ")\n",
        "workflow.add_conditional_edges(\n",
        "    \"chart_generator\",\n",
        "    router,\n",
        "    {\"continue\": \"Researcher\", \"call_tool\": \"call_tool\", \"__end__\": END},\n",
        ")\n",
        "\n",
        "workflow.add_conditional_edges(\n",
        "    \"call_tool\",\n",
        "    # Each agent node updates the 'sender' field\n",
        "    # the tool calling node does not, meaning\n",
        "    # this edge will route back to the original agent\n",
        "    # who invoked the tool\n",
        "    lambda x: x[\"sender\"],\n",
        "    {\n",
        "        \"Researcher\": \"Researcher\",\n",
        "        \"chart_generator\": \"chart_generator\",\n",
        "    },\n",
        ")\n",
        "workflow.set_entry_point(\"Researcher\")\n",
        "graph = workflow.compile()"
      ]
    },
    {
      "cell_type": "code",
      "execution_count": 13,
      "id": "97f8e0eb",
      "metadata": {
        "id": "97f8e0eb",
        "outputId": "5975f5ca-7198-4455-9a94-8014d48252c1",
        "colab": {
          "base_uri": "https://localhost:8080/",
          "height": 338
        }
      },
      "outputs": [
        {
          "output_type": "display_data",
          "data": {
            "image/jpeg": "[encoded data removed]",
            "text/plain": [
              "<IPython.core.display.Image object>"
            ]
          },
          "metadata": {}
        }
      ],
      "source": [
        "from IPython.display import Image, display\n",
        "\n",
        "try:\n",
        "    display(Image(graph.get_graph(xray=True).draw_mermaid_png()))\n",
        "except:\n",
        "    # This requires some extra dependencies and is optional\n",
        "    pass"
      ]
    },
    {
      "cell_type": "markdown",
      "id": "8c9447e7-9ab6-43eb-8ae6-9b52f8ba8425",
      "metadata": {
        "id": "8c9447e7-9ab6-43eb-8ae6-9b52f8ba8425"
      },
      "source": [
        "## Invoke\n",
        "\n",
        "With the graph created, you can invoke it! Let's have it chart some stats for us."
      ]
    },
    {
      "cell_type": "code",
      "execution_count": 15,
      "id": "176a99b0-b457-45cf-8901-90facaa852da",
      "metadata": {
        "id": "176a99b0-b457-45cf-8901-90facaa852da",
        "outputId": "9ec273c2-952f-47d6-9c0a-ea9a626d3680",
        "colab": {
          "base_uri": "https://localhost:8080/",
          "height": 886
        }
      },
      "outputs": [
        {
          "output_type": "stream",
          "name": "stdout",
          "text": [
            "{'Researcher': {'messages': [AIMessage(content='', additional_kwargs={'tool_calls': [{'id': 'call_EaTGe6g3WlN98BybkZq7AgkQ', 'function': {'arguments': '{\"query\":\"South Korea birth rate 2018 2019 2020 2021 2022\"}', 'name': 'tavily_search_results_json'}, 'type': 'function'}]}, response_metadata={'token_usage': {'completion_tokens': 36, 'prompt_tokens': 222, 'total_tokens': 258}, 'model_name': 'gpt-4-1106-preview', 'system_fingerprint': None, 'finish_reason': 'tool_calls', 'logprobs': None}, name='Researcher', id='run-102ac81d-8cd7-4d7f-bac4-f07df093e577-0', tool_calls=[{'name': 'tavily_search_results_json', 'args': {'query': 'South Korea birth rate 2018 2019 2020 2021 2022'}, 'id': 'call_EaTGe6g3WlN98BybkZq7AgkQ'}])], 'sender': 'Researcher'}}\n",
            "----\n",
            "{'call_tool': {'messages': [ToolMessage(content='[{\"url\": \"https://www.cnn.com/2022/08/26/asia/south-korea-worlds-lowest-fertility-rate-intl-hnk/index.html\", \"content\": \"In some African countries, where fertility rates are the highest in the world, the figure is 5 or 6.\\\\nSouth Korea reports population drop, with more deaths than births for first time\\\\nTo maintain a stable population, countries need a fertility rate of 2.1 \\\\u2013 anything above that indicates population growth.\\\\n CNN values your feedback\\\\nSouth Korea records world\\\\u2019s lowest fertility rate \\\\u2013 again\\\\nSouth Korea has broken its own record for the world\\\\u2019s lowest fertility rate, according to official figures released Wednesday, as the country struggles to reverse its years-long trend of declining births.\\\\n South Korea\\\\u2019s birth rate has been dropping since 2015, and in 2020 the country recorded more deaths than births for the first time \\\\u2013 meaning the number of inhabitants shrank, in what\\\\u2019s called a \\\\u201cpopulation death cross.\\\\u201d\\\\n The country\\\\u2019s fertility rate, which indicates the average number of children a woman will have in her lifetime, sunk to 0.81 in 2021 \\\\u2013 0.03% lower than the previous year, according to government-run Statistics Korea.\\\\n Meanwhile, South Korea\\\\u2019s population is also getting older, indicating a demographic decline that experts fear will leave the country with too few people of working age to support its burgeoning elderly population \\\\u2013 both by paying taxes and filling jobs in fields such as health care and home assistance.\\\\n\"}, {\"url\": \"https://www.macrotrends.net/global-metrics/countries/KOR/south-korea/birth-rate\", \"content\": \"The birth rate for South Korea in 2023 was 6.769 births per 1000 people, a 1.93% decline from 2022. The birth rate for South Korea in 2022 was 6.902 births per 1000 people, a 1.9% decline from 2021. The birth rate for South Korea in 2021 was 7.036 births per 1000 people, a 1.86% decline from 2020.\"}, {\"url\": \"https://www.rand.org/pubs/commentary/2022/07/south-koreas-extraordinary-fertility-decline.html\", \"content\": \"Related Resources\\\\nCommentary\\\\nWhat the Media Might Have Missed About South Korea\\'s Elections\\\\nMar 10, 2022\\\\nErik Mobrand\\\\nCommentary\\\\nAn Early Look at the Impact of the COVID-19 Pandemic on Demographic Trends\\\\nApr 12, 2021\\\\nEsther M. Friedman, Andrew M. Parker\\\\nJournal Article\\\\nFertility Behaviors in South Korea and Their Association with Ultrasound Prenatal Sex Screening\\\\nMar 14, 2018\\\\nJinkook Lee, James P. Smith\\\\nAbout\\\\nRAND is a research organization that develops solutions to public policy challenges to help make communities throughout the world safer and more secure, healthier and more prosperous. Featured Video: Campus Tour\\\\nPh.D. Student, Pardee RAND Graduate School, and Assistant Policy Researcher, RAND\\\\nAssistant Policy Researcher, RAND, and Ph.D. Student, Pardee RAND Graduate School\\\\nAbout\\\\nSouth Korea\\'s Extraordinary Fertility Decline\\\\ncommentary\\\\n(The RAND Blog)\\\\n Connect\\\\nContact Us\\\\nI am interested in\\\\nFollow\\\\nStay Informed\\\\nSubscribe to the Policy Currents newsletter for RAND insights on the issues that matter most.\\\\n Site-wide navigation\\\\nResearch\\\\nLatest Insights\\\\nPolicy Experts\\\\nCapabilities\\\\nDrawing upon decades of experience, RAND provides research services, systematic analysis, and innovative thinking to a global clientele that includes government agencies, foundations, and private-sector firms.\\\\n Authors\\\\nDaniel Hicks\\\\nJennifer Bouey\\\\n@BoueyHuang\\\\nJessie Wang\\\\nTopics\\\\nStay Informed\\\\nGet updates from RAND delivered straight to your inbox.\\\\n\"}, {\"url\": \"https://www.ncbi.nlm.nih.gov/pmc/articles/PMC9623034/\", \"content\": \"To put the policies into practice, the plan attempts to create a society where: people work together and take care of each other (work-life balance enjoyed by all: realization of a work environment that allows work-parenting, establishment of a work environment that harmonizes with an individual\\\\u2019s life/work-life balance through work style, and facilitation of cultural innovation); there is gender-equal working society (creating a gender-equal workplace, strengthening the relief and prevention of sexual harassment and gender discrimination in employment/improving the quality of jobs in the field of intensive care work for women); there is reinforcement of social responsibility for child care (establishing a dense and high-quality care system, creating an equitable primary care environment for children/improving efficiency through the integrated operation of child care, and improving the efficiency through the integrated operation of child care); there is universal guarantee of children\\\\u2019s basic rights (guaranteeing children\\\\u2019s household income and strengthening livelihood support, ensuring the balanced development and growth of children/strengthening the protection and safety net of children and young people); and there is guarantee of lifetime sexual and reproductive rights (comprehensive protection of sexual and reproductive rights, life-long reproductive health management, and disease prevention or healthy and safe pregnancy and childbirth). The direction of the 4th Plan for Aging Society and Population (2021\\\\u20132025), which is the most recent one, implies the following: 1) change in the basic perspective (focus on improving the quality of life of \\\\u2018individuals,\\\\u2019 balanced approach and practice of investment in family support and social structural innovation); 2) guarantee of enjoyment of individual rights in response to aging in the low fertility society (transition to a society where we work together and care for each other, guarantee basic rights to children, ensure there are comprehensive sexual and reproductive rights, and strengthen the medical support for pregnancy and childbirth along the life cycle); and 3) improvement in the nation and society\\\\u2019s ability to respond to demographic changes (reinforcement of education-training and life-based foundations where everyone\\\\u2019s capabilities can be exercised, innovation towards an integrated society in response to the new normal of demographic change, etc.).\\\\n Table 1\\\\nData collection\\\\nData regarding the total population was collected from the \\\\u201cStatistics Korea Census\\\\u201d of the national statistical portal.2,9,10 This study obtained data regarding the total number of births, CBR, and TFR for 1925\\\\u20131980 from the census report, Statistics Korea\\\\u2019s \\\\u201c2020 Population Trend Survey for 1981\\\\u20132020, provisional results of birth and death statistics,\\\\u201d census of the national statistics portal, and results of the number of population dynamics and the rate of dynamics.1,2,11,12 For the TFR of the OECD, the 2019 OECD Family Database was utilized.3\\\\nDefinition of terms\\\\nEthics statement\\\\nThis study was approved by the Institutional Review Board of Kyung Hee University Hospital at Gangdong and the requirement for informed consent was waived (IRB 2021-11-032).\\\\n According to the 4th plan for the aging society and population (2021), the causes of a low fertility society were: increased labor market disparities and precarious employment, intensifying competition for employment, intensifying competition for education, single-to-late marriage factors, rise in housing prices, increase in housing costs, decrease in consumer spending capacity, gender discrimination in the labor market, difficulties in work-family balance, increase in dual-income, care gap in the care infrastructure system due to an increase in the demand for care (a situation in which working parents have no place to leave their children after childbirth), decrease in the marriage rate, change in the conception of marriage and family, and changes in the composition of family, which is rapidly progressing. In this discussion: 1) using the statistics mentioned above, we examine the changes in the history and events of the relevant past that affected the changes in the birth rate, 2) we review the causes and countermeasures of the low fertility society problem, which is currently emerging as a serious demographic, social, and economic problem in Korea, and 3) we determine the meaning of the statistically predicted estimates up to the year 2065.\"}, {\"url\": \"https://data.worldbank.org/indicator/SP.DYN.TFRT.IN?locations=KR\", \"content\": \"Fertility rate, total (births per woman) - Korea, Rep. ( 1 ) United Nations Population Division. World Population Prospects: 2022 Revision. ( 2 ) Census reports and other statistical publications from national statistical offices, ( 3 ) Eurostat: Demographic Statistics, ( 4 ) United Nations Statistical Division.\"}]', name='tavily_search_results_json', tool_call_id='call_EaTGe6g3WlN98BybkZq7AgkQ')]}}\n",
            "----\n",
            "{'Researcher': {'messages': [AIMessage(content=\"The search results provided information on South Korea's birth rate for some of the requested years. However, the data is not complete for all years from 2018 to 2022. Here's what we have:\\n\\n- The fertility rate in 2021 was 0.81 children per woman.\\n- The birth rate for South Korea in 2023 was 6.769 births per 1000 people, a 1.93% decline from 2022.\\n- The birth rate for South Korea in 2022 was 6.902 births per 1000 people, a 1.9% decline from 2021.\\n- The birth rate for South Korea in 2021 was 7.036 births per 1000 people, a 1.86% decline from 2020.\\n\\nTo complete the task and draw a line graph, we need the birth rate data for 2018, 2019, and 2020. I will make another search to find this missing data.\", additional_kwargs={'tool_calls': [{'id': 'call_dG5qojReIGfYi9aXMNxbtV50', 'function': {'arguments': '{\"query\":\"South Korea birth rate 2018 2019 2020\"}', 'name': 'tavily_search_results_json'}, 'type': 'function'}]}, response_metadata={'token_usage': {'completion_tokens': 237, 'prompt_tokens': 2140, 'total_tokens': 2377}, 'model_name': 'gpt-4-1106-preview', 'system_fingerprint': None, 'finish_reason': 'tool_calls', 'logprobs': None}, name='Researcher', id='run-812c91ea-f77a-43e1-bf92-577dd829c34d-0', tool_calls=[{'name': 'tavily_search_results_json', 'args': {'query': 'South Korea birth rate 2018 2019 2020'}, 'id': 'call_dG5qojReIGfYi9aXMNxbtV50'}])], 'sender': 'Researcher'}}\n",
            "----\n",
            "{'call_tool': {'messages': [ToolMessage(content='[{\"url\": \"https://data.worldbank.org/indicator/SP.DYN.TFRT.IN?locations=KR\", \"content\": \"Fertility rate, total (births per woman) - Korea, Rep. ( 1 ) United Nations Population Division. World Population Prospects: 2022 Revision. ( 2 ) Census reports and other statistical publications from national statistical offices, ( 3 ) Eurostat: Demographic Statistics, ( 4 ) United Nations Statistical Division.\"}, {\"url\": \"https://fred.stlouisfed.org/series/SPDYNCBRTINKOR\", \"content\": \"RELEASE TABLES\\\\nRELATED DATA AND CONTENT\\\\nData Suggestions Based On Your Search\\\\nContent Suggestions\\\\nRelated Categories\\\\nReleases\\\\nTags\\\\nSERVICES\\\\nRESEARCH\\\\nTOOLS\\\\nABOUT\\\\nOUR SITES\\\\nNeed Help?\\\\nSubscribe to the FRED newsletter\\\\nFollow us NOTES\\\\nSource:\\\\nWorld Bank\\\\nRelease:\\\\nWorld Development Indicators\\\\nUnits:\\\\nBirths per 1,000 People,\\\\u00a0Not Seasonally Adjusted\\\\nFrequency:\\\\nAnnual\\\\nCrude birth rate indicates the number of live births occurring during the year, per 1,000 population estimated at midyear. [SPDYNCBRTINKOR],\\\\nretrieved from FRED,\\\\nFederal Reserve Bank of St. Louis;\\\\nhttps://fred.stlouisfed.org/series/SPDYNCBRTINKOR,\\\\nJanuary 5, 2024.\\\\n Federal Reserve Economic Data: Your trusted data source since 1991\\\\nExplore resources provided by the Research Division at the Federal Reserve Bank of St. Louis.\\\\n (SPDYNCBRTINKOR)\\\\nObservation:\\\\nUnits:\\\\nFrequency:\\\\n\"}, {\"url\": \"https://en.wikipedia.org/wiki/Demographics_of_South_Korea\", \"content\": \"With the slowdown in the population growth rate and a rise in the median age (from 18.7 years to 21.8 years between 1960 and 1980), the age structure of the population has begun to resemble the columnar pattern typical of developed countries, rather than the pyramidal pattern found in most parts of the Third World.[14]\\\\nThe decline in the population growth rate and in the proportion of people under fifteen years of age after 1966 reflected the success of official and unofficial birth control programs. Nowadays, most Vietnamese immigrants are either manual labor workers, marriage immigrants, or cooks in Vietnamese cuisines.[45][49]\\\\nFilipinos in South Korea[edit]\\\\nRelationship between Filipinos and South Koreans can be traced back to 1950s during the Korean War.[45] Over 7,500 Filipino soldiers fought on the United Nations\\' side to help South Korea.[45] As of 2019, there were more than 55,000 Filipino immigrants living in South Korea.[45] Population decline in rural regions led to shortage of young people especially young women in those areas [45] and it led many Koreans to marry Filipino brides.[45]\\\\nForeign population[edit]\\\\nThere are 2,245,912 foreign residents in South Korea as of December 2022, the percent of foreigners in South Korea has risen to 4.37%.[50][51] Half of this population was Chinese (849 804), followed by Vietnamese (235 007), Analysts have attributed South Korea\\'s population decline resulting from low birth rates to the country\\'s high economic inequality; including the high cost of living, low wages for an OECD member country, lack of job opportunities, as well as rising housing costs.[10] Many South Koreans have termed their country \\\\\"Hell Joseon\\\\\"[a] as a result, and the last two generations has considered themselves \\\\\"Sampo\\\\\"[b] and \\\\\"N-po\\\\\"[c] respectively.[11][12] South Korea also has the highest suicide rate in the OECD and the wider developed world.[13]\\\\nIn South Korea, a variety of different Asian people had migrated to the Korean Peninsula in past centuries, however few have remained permanently. Gyeonggi Province, which surrounds the capital and contains Incheon, the country\\'s fourth largest city, was the most densely populated province; Gangwon Province in the northeast was the least densely populated province.[14]\\\\nAccording to the government\\'s Economic Planning Board, the population density will be 530 people per square kilometer by 2023, the year the population is expected to stabilize.[14]\\\\nRural areas in South Korea consist of agglomerated villages in river valleys and range from a few houses to several hundred.[22] After 1930, when the Japanese began industrial development on the Korean Peninsula, particularly in the northern provinces adjacent to Manchuria, the urban portion of the population began to grow, reaching 11.6% for all of Korea in 1940.[14]\\\\nBetween 1945 and 1985, the urban population of South Korea grew from 14.5% to 65.4% of the total population.\"}, {\"url\": \"https://www.macrotrends.net/global-metrics/countries/KOR/south-korea/birth-rate\", \"content\": \"Chart and table of the South Korea birth rate from 1950 to 2024. United Nations projections are also included through the year 2100. The current birth rate for South Korea in 2024 is 6.743 births per 1000 people, a 0.38% decline from 2023.; The birth rate for South Korea in 2023 was 6.769 births per 1000 people, a 1.93% decline from 2022.; The birth rate for South Korea in 2022 was 6.902 ...\"}, {\"url\": \"https://www.ncbi.nlm.nih.gov/pmc/articles/PMC9623034/\", \"content\": \"To put the policies into practice, the plan attempts to create a society where: people work together and take care of each other (work-life balance enjoyed by all: realization of a work environment that allows work-parenting, establishment of a work environment that harmonizes with an individual\\\\u2019s life/work-life balance through work style, and facilitation of cultural innovation); there is gender-equal working society (creating a gender-equal workplace, strengthening the relief and prevention of sexual harassment and gender discrimination in employment/improving the quality of jobs in the field of intensive care work for women); there is reinforcement of social responsibility for child care (establishing a dense and high-quality care system, creating an equitable primary care environment for children/improving efficiency through the integrated operation of child care, and improving the efficiency through the integrated operation of child care); there is universal guarantee of children\\\\u2019s basic rights (guaranteeing children\\\\u2019s household income and strengthening livelihood support, ensuring the balanced development and growth of children/strengthening the protection and safety net of children and young people); and there is guarantee of lifetime sexual and reproductive rights (comprehensive protection of sexual and reproductive rights, life-long reproductive health management, and disease prevention or healthy and safe pregnancy and childbirth). The direction of the 4th Plan for Aging Society and Population (2021\\\\u20132025), which is the most recent one, implies the following: 1) change in the basic perspective (focus on improving the quality of life of \\\\u2018individuals,\\\\u2019 balanced approach and practice of investment in family support and social structural innovation); 2) guarantee of enjoyment of individual rights in response to aging in the low fertility society (transition to a society where we work together and care for each other, guarantee basic rights to children, ensure there are comprehensive sexual and reproductive rights, and strengthen the medical support for pregnancy and childbirth along the life cycle); and 3) improvement in the nation and society\\\\u2019s ability to respond to demographic changes (reinforcement of education-training and life-based foundations where everyone\\\\u2019s capabilities can be exercised, innovation towards an integrated society in response to the new normal of demographic change, etc.).\\\\n Table 1\\\\nData collection\\\\nData regarding the total population was collected from the \\\\u201cStatistics Korea Census\\\\u201d of the national statistical portal.2,9,10 This study obtained data regarding the total number of births, CBR, and TFR for 1925\\\\u20131980 from the census report, Statistics Korea\\\\u2019s \\\\u201c2020 Population Trend Survey for 1981\\\\u20132020, provisional results of birth and death statistics,\\\\u201d census of the national statistics portal, and results of the number of population dynamics and the rate of dynamics.1,2,11,12 For the TFR of the OECD, the 2019 OECD Family Database was utilized.3\\\\nDefinition of terms\\\\nEthics statement\\\\nThis study was approved by the Institutional Review Board of Kyung Hee University Hospital at Gangdong and the requirement for informed consent was waived (IRB 2021-11-032).\\\\n According to the 4th plan for the aging society and population (2021), the causes of a low fertility society were: increased labor market disparities and precarious employment, intensifying competition for employment, intensifying competition for education, single-to-late marriage factors, rise in housing prices, increase in housing costs, decrease in consumer spending capacity, gender discrimination in the labor market, difficulties in work-family balance, increase in dual-income, care gap in the care infrastructure system due to an increase in the demand for care (a situation in which working parents have no place to leave their children after childbirth), decrease in the marriage rate, change in the conception of marriage and family, and changes in the composition of family, which is rapidly progressing. In this discussion: 1) using the statistics mentioned above, we examine the changes in the history and events of the relevant past that affected the changes in the birth rate, 2) we review the causes and countermeasures of the low fertility society problem, which is currently emerging as a serious demographic, social, and economic problem in Korea, and 3) we determine the meaning of the statistically predicted estimates up to the year 2065.\"}]', name='tavily_search_results_json', tool_call_id='call_dG5qojReIGfYi9aXMNxbtV50')]}}\n",
            "----\n",
            "{'Researcher': {'messages': [AIMessage(content='The search results did not provide the exact birth rate numbers for South Korea for the years 2018, 2019, and 2020. However, we can use the information provided on the decline rates and the birth rate for 2021 to estimate the birth rates for the missing years. Since we know there was a 1.86% decline from 2020 to 2021, we can calculate the birth rate for 2020 by dividing the 2021 rate by (1 - 0.0186).\\n\\nUsing the birth rate for South Korea in 2021 which was 7.036 births per 1000 people:\\n\\nBirth rate for 2020 = 7.036 / (1 - 0.0186) ≈ 7.171 births per 1000 people.\\n\\nWe can continue this method to estimate the birth rates for 2019 and 2018 if we assume similar decline rates for the preceding years, although the exact decline rates for those years were not provided. However, for a more accurate chart, we would need the exact figures for those years. \\n\\nGiven the lack of precise data for the years 2018 and 2019, I recommend accessing reliable statistical databases such as the World Bank, United Nations, or national statistical offices of South Korea for the complete data set. If you wish to proceed with the estimates, please advise, and I will provide the calculations based on the available data.', response_metadata={'token_usage': {'completion_tokens': 296, 'prompt_tokens': 4498, 'total_tokens': 4794}, 'model_name': 'gpt-4-1106-preview', 'system_fingerprint': None, 'finish_reason': 'stop', 'logprobs': None}, name='Researcher', id='run-da4a0962-9e62-4712-92c5-ad2a44e5255d-0')], 'sender': 'Researcher'}}\n",
            "----\n",
            "{'chart_generator': {'messages': [AIMessage(content='', additional_kwargs={'tool_calls': [{'id': 'call_8IHJCnl37oZHK2gmejgQAcDV', 'function': {'arguments': '{\"code\":\"# Python code to estimate the birth rates for South Korea for the years 2018, 2019, and 2020\\\\n# based on the known birth rate for 2021 and the decline rate from 2020 to 2021.\\\\n\\\\n# Known birth rate for 2021 and the decline rate from 2020 to 2021\\\\nbirth_rate_2021 = 7.036\\\\ndecline_rate_2020_to_2021 = 0.0186\\\\n\\\\n# Estimating the birth rate for 2020\\\\nbirth_rate_2020 = birth_rate_2021 / (1 - decline_rate_2020_to_2021)\\\\n\\\\n# Assuming similar decline rates for the preceding years\\\\n# Estimating the birth rates for 2019 and 2018\\\\nbirth_rate_2019 = birth_rate_2020 / (1 - decline_rate_2020_to_2021)\\\\nbirth_rate_2018 = birth_rate_2019 / (1 - decline_rate_2020_to_2021)\\\\n\\\\nprint(\\'Estimated birth rate for 2020:\\', birth_rate_2020)\\\\nprint(\\'Estimated birth rate for 2019:\\', birth_rate_2019)\\\\nprint(\\'Estimated birth rate for 2018:\\', birth_rate_2018)\"}', 'name': 'python_repl'}, 'type': 'function'}]}, response_metadata={'token_usage': {'completion_tokens': 283, 'prompt_tokens': 4791, 'total_tokens': 5074}, 'model_name': 'gpt-4-1106-preview', 'system_fingerprint': None, 'finish_reason': 'tool_calls', 'logprobs': None}, name='chart_generator', id='run-5d7cb6b1-f45a-456a-8413-722bfe648bc8-0', tool_calls=[{'name': 'python_repl', 'args': {'code': \"# Python code to estimate the birth rates for South Korea for the years 2018, 2019, and 2020\\n# based on the known birth rate for 2021 and the decline rate from 2020 to 2021.\\n\\n# Known birth rate for 2021 and the decline rate from 2020 to 2021\\nbirth_rate_2021 = 7.036\\ndecline_rate_2020_to_2021 = 0.0186\\n\\n# Estimating the birth rate for 2020\\nbirth_rate_2020 = birth_rate_2021 / (1 - decline_rate_2020_to_2021)\\n\\n# Assuming similar decline rates for the preceding years\\n# Estimating the birth rates for 2019 and 2018\\nbirth_rate_2019 = birth_rate_2020 / (1 - decline_rate_2020_to_2021)\\nbirth_rate_2018 = birth_rate_2019 / (1 - decline_rate_2020_to_2021)\\n\\nprint('Estimated birth rate for 2020:', birth_rate_2020)\\nprint('Estimated birth rate for 2019:', birth_rate_2019)\\nprint('Estimated birth rate for 2018:', birth_rate_2018)\"}, 'id': 'call_8IHJCnl37oZHK2gmejgQAcDV'}])], 'sender': 'chart_generator'}}\n",
            "----\n",
            "{'call_tool': {'messages': [ToolMessage(content=\"Successfully executed:\\n```python\\n# Python code to estimate the birth rates for South Korea for the years 2018, 2019, and 2020\\n# based on the known birth rate for 2021 and the decline rate from 2020 to 2021.\\n\\n# Known birth rate for 2021 and the decline rate from 2020 to 2021\\nbirth_rate_2021 = 7.036\\ndecline_rate_2020_to_2021 = 0.0186\\n\\n# Estimating the birth rate for 2020\\nbirth_rate_2020 = birth_rate_2021 / (1 - decline_rate_2020_to_2021)\\n\\n# Assuming similar decline rates for the preceding years\\n# Estimating the birth rates for 2019 and 2018\\nbirth_rate_2019 = birth_rate_2020 / (1 - decline_rate_2020_to_2021)\\nbirth_rate_2018 = birth_rate_2019 / (1 - decline_rate_2020_to_2021)\\n\\nprint('Estimated birth rate for 2020:', birth_rate_2020)\\nprint('Estimated birth rate for 2019:', birth_rate_2019)\\nprint('Estimated birth rate for 2018:', birth_rate_2018)\\n```\\nStdout: Estimated birth rate for 2020: 7.169349908294273\\nEstimated birth rate for 2019: 7.305227132967468\\nEstimated birth rate for 2018: 7.443679573025746\\n\\n\\nIf you have completed all tasks, respond with FINAL ANSWER.\", name='python_repl', tool_call_id='call_8IHJCnl37oZHK2gmejgQAcDV')]}}\n",
            "----\n",
            "{'chart_generator': {'messages': [AIMessage(content='', additional_kwargs={'tool_calls': [{'id': 'call_Mi3C035kyYrICwC20Ezbq2o1', 'function': {'arguments': '{\"code\":\"import matplotlib.pyplot as plt\\\\n\\\\n# Birth rates for South Korea from 2018 to 2022 (2020-2022 are estimated)\\\\nyears = [2018, 2019, 2020, 2021, 2022]\\\\nbirth_rates = [7.4437, 7.3052, 7.1693, 7.036, 6.902]  # Using the estimated values\\\\n\\\\n# Create line graph\\\\nplt.figure(figsize=(10, 5))\\\\nplt.plot(years, birth_rates, marker=\\'o\\')\\\\n\\\\nplt.title(\\'South Korea Birth Rate (2018-2022)\\')\\\\nplt.xlabel(\\'Year\\')\\\\nplt.ylabel(\\'Births per 1000 People\\')\\\\nplt.grid(True)\\\\nplt.xticks(years)\\\\nplt.tight_layout()\\\\n\\\\n# Show the graph\\\\nplt.show()\"}', 'name': 'python_repl'}, 'type': 'function'}]}, response_metadata={'token_usage': {'completion_tokens': 200, 'prompt_tokens': 5420, 'total_tokens': 5620}, 'model_name': 'gpt-4-1106-preview', 'system_fingerprint': None, 'finish_reason': 'tool_calls', 'logprobs': None}, name='chart_generator', id='run-9a221cd6-c9d2-4f3c-8b9f-b0308768856b-0', tool_calls=[{'name': 'python_repl', 'args': {'code': \"import matplotlib.pyplot as plt\\n\\n# Birth rates for South Korea from 2018 to 2022 (2020-2022 are estimated)\\nyears = [2018, 2019, 2020, 2021, 2022]\\nbirth_rates = [7.4437, 7.3052, 7.1693, 7.036, 6.902]  # Using the estimated values\\n\\n# Create line graph\\nplt.figure(figsize=(10, 5))\\nplt.plot(years, birth_rates, marker='o')\\n\\nplt.title('South Korea Birth Rate (2018-2022)')\\nplt.xlabel('Year')\\nplt.ylabel('Births per 1000 People')\\nplt.grid(True)\\nplt.xticks(years)\\nplt.tight_layout()\\n\\n# Show the graph\\nplt.show()\"}, 'id': 'call_Mi3C035kyYrICwC20Ezbq2o1'}])], 'sender': 'chart_generator'}}\n",
            "----\n"
          ]
        },
        {
          "output_type": "display_data",
          "data": {
            "text/plain": [
              "<Figure size 1000x500 with 1 Axes>"
            ],
            "image/png": "[encoded data removed]"
          },
          "metadata": {}
        },
        {
          "output_type": "stream",
          "name": "stdout",
          "text": [
            "{'call_tool': {'messages': [ToolMessage(content=\"Successfully executed:\\n```python\\nimport matplotlib.pyplot as plt\\n\\n# Birth rates for South Korea from 2018 to 2022 (2020-2022 are estimated)\\nyears = [2018, 2019, 2020, 2021, 2022]\\nbirth_rates = [7.4437, 7.3052, 7.1693, 7.036, 6.902]  # Using the estimated values\\n\\n# Create line graph\\nplt.figure(figsize=(10, 5))\\nplt.plot(years, birth_rates, marker='o')\\n\\nplt.title('South Korea Birth Rate (2018-2022)')\\nplt.xlabel('Year')\\nplt.ylabel('Births per 1000 People')\\nplt.grid(True)\\nplt.xticks(years)\\nplt.tight_layout()\\n\\n# Show the graph\\nplt.show()\\n```\\nStdout: \\n\\nIf you have completed all tasks, respond with FINAL ANSWER.\", name='python_repl', tool_call_id='call_Mi3C035kyYrICwC20Ezbq2o1')]}}\n",
            "----\n",
            "{'chart_generator': {'messages': [AIMessage(content='FINAL ANSWER\\n\\nThe line graph has been created using the estimated birth rates for South Korea for the years 2018 to 2022. The graph shows a decline in the birth rates over the five-year period.\\n\\nPlease note that the birth rates for 2020, 2019, and 2018 are estimated based on the known decline rate from 2020 to 2021 and may not be accurate. For the most precise data, it is recommended to consult official statistics from reliable sources.', response_metadata={'token_usage': {'completion_tokens': 103, 'prompt_tokens': 5823, 'total_tokens': 5926}, 'model_name': 'gpt-4-1106-preview', 'system_fingerprint': None, 'finish_reason': 'stop', 'logprobs': None}, name='chart_generator', id='run-fb3b065b-51c0-4dc8-9378-328df12e4afb-0')], 'sender': 'chart_generator'}}\n",
            "----\n"
          ]
        }
      ],
      "source": [
        "events = graph.stream(\n",
        "    {\n",
        "        \"messages\": [\n",
        "            HumanMessage(\n",
        "                content=\"Fetch the Korea's Birth Rate over the past 5 years,\"\n",
        "                \" then draw a line graph of it.\"\n",
        "                \" Once you code it up, finish.\"\n",
        "            )\n",
        "        ],\n",
        "    },\n",
        "    # Maximum number of steps to take in the graph\n",
        "    {\"recursion_limit\": 150},\n",
        ")\n",
        "for s in events:\n",
        "    print(s)\n",
        "    print(\"----\")"
      ]
    },
    {
      "cell_type": "code",
      "execution_count": null,
      "id": "010fc36e-4116-4758-bcac-b02c7dcd405d",
      "metadata": {
        "id": "010fc36e-4116-4758-bcac-b02c7dcd405d"
      },
      "outputs": [],
      "source": []
    }
  ],
  "metadata": {
    "kernelspec": {
      "display_name": "Python 3",
      "name": "python3"
    },
    "language_info": {
      "codemirror_mode": {
        "name": "ipython",
        "version": 3
      },
      "file_extension": ".py",
      "mimetype": "text/x-python",
      "name": "python",
      "nbconvert_exporter": "python",
      "pygments_lexer": "ipython3",
      "version": "3.11.2"
    },
    "colab": {
      "provenance": [],
      "gpuType": "T4",
      "include_colab_link": true
    },
    "accelerator": "GPU"
  },
  "nbformat": 4,
  "nbformat_minor": 5
}